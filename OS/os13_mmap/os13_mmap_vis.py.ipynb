{
 "cells": [
  {
   "cell_type": "markdown",
   "metadata": {
    "deletable": false,
    "editable": false,
    "kernel": "Python 3 (ipykernel)",
    "nbgrader": {
     "cell_type": "markdown",
     "checksum": "0524a1f2c68cd7df4d9f07da5c7f1a57",
     "grade": false,
     "grade_id": "c-001",
     "locked": true,
     "schema_version": 3,
     "solution": false,
     "task": false
    }
   },
   "source": [
    "# 1. 対話的な可視化用"
   ]
  },
  {
   "cell_type": "code",
   "execution_count": null,
   "metadata": {
    "kernel": "Python 3 (ipykernel)",
    "nbgrader": {
     "grade": false,
     "grade_id": "c-002",
     "locked": false,
     "schema_version": 3,
     "solution": false,
     "task": false
    }
   },
   "outputs": [],
   "source": [
    "%matplotlib widget\n",
    "#!/usr/bin/python3\n",
    "import pdb\n",
    "import re\n",
    "import sqlite3\n",
    "import sys\n",
    "import matplotlib.pyplot as plt\n",
    "import numpy as np\n",
    "\n",
    "def process_line(filename, line, exprs, row_exprs, V, K, R):\n",
    "    for e in exprs:\n",
    "        m = e.search(line)\n",
    "        if m:\n",
    "            V.update(m.groupdict())\n",
    "            dK = set(V.keys()).difference(set(K))\n",
    "            K.extend(list(dK))\n",
    "    for r in row_exprs:\n",
    "        if r.search(line):\n",
    "            R.append(V.copy())\n",
    "            break\n",
    "\n",
    "def read_dats(result_dats, exprs, row_exprs):\n",
    "    K = []\n",
    "    R = []\n",
    "    for result_dat in result_dats:\n",
    "        V = {\"file\" : result_dat}\n",
    "        with open(result_dat) as fp:\n",
    "            for line in fp:\n",
    "                process_line(result_dat, line, exprs, row_exprs, V, K, R)\n",
    "    return K, R\n",
    "\n",
    "def sqlite3_val(x):\n",
    "    if x is None:\n",
    "        return None\n",
    "    try:\n",
    "        return int(x)\n",
    "    except ValueError:\n",
    "        pass\n",
    "    try:\n",
    "        return float(x)\n",
    "    except ValueError:\n",
    "        pass\n",
    "    try:\n",
    "        return float(x)\n",
    "    except ValueError:\n",
    "        pass\n",
    "    return x\n",
    "\n",
    "def sql_exec(co, cmd, *args):\n",
    "    #print(cmd)\n",
    "    return co.execute(cmd, *args)\n",
    "\n",
    "def dats_to_db(result_dats, exprs, row_exprs):\n",
    "    K, R = read_dats(result_dats, exprs, row_exprs)\n",
    "    co = sqlite3.connect(\":memory:\")\n",
    "    sql_exec(co, \"create table a({cols})\".format(cols=\",\".join(K)))\n",
    "    insert = (\"insert into a({cols}) values({placeholders})\"\n",
    "              .format(cols=\",\".join(K), placeholders=\",\".join([\"?\"] * len(K))))\n",
    "    for r in R:\n",
    "        sql_exec(co, insert, tuple([sqlite3_val(r.get(k)) for k in K]))\n",
    "    co.commit()\n",
    "    return co\n",
    "\n",
    "def draw(files, exprs, row_exprs, cmds, start=0, end=-1,\n",
    "         xlabel=None, ylabel=None, col_is_x=False):\n",
    "    co = dats_to_db(files, exprs, row_exprs)\n",
    "    fig, ax = plt.subplots()\n",
    "    if xlabel:\n",
    "        plt.xlabel(xlabel)\n",
    "    if ylabel:\n",
    "        plt.ylabel(ylabel)\n",
    "    for cmd,kw in cmds:\n",
    "        res = list(sql_exec(co, cmd))\n",
    "        res = res[start:end]\n",
    "        if len(res) == 0:\n",
    "            continue\n",
    "        if len(res[0]) == 1:\n",
    "            res = list(enumerate(x for x, in res))\n",
    "            if col_is_x:\n",
    "                res = [(y,x) for x,y in res]\n",
    "        x = np.array([x for x,_ in res])\n",
    "        y = np.array([y for _,y in res])\n",
    "        plt.plot(x, y, '-o', **kw)\n",
    "    plt.legend()\n",
    "    plt.show()\n",
    "    co.close()\n",
    "\n",
    "def graph(files, y, start=0, end=-1):\n",
    "    exprs = [\n",
    "        re.compile(r\"(?P<i>\\d+) (?P<t>\\d+\\.\\d+) (?P<minflt>\\d+) (?P<majflt>\\d+) (?P<inblock>\\d+) (?P<oublock>\\d+)\"),\n",
    "    ]\n",
    "    row_exprs = exprs[-1:]\n",
    "    draw(files, exprs, row_exprs,\n",
    "         [('select i,%s from a where file=\"%s\"' % (y, filename),\n",
    "           dict(label=\"%s\" % filename))\n",
    "          for filename in files], # , \"minflt\", \"majflt\"\n",
    "         xlabel=\"i\", ylabel=y, start=start, end=end)\n",
    "\n",
    "if sys.argv[0].endswith(\"read_mmap_vis.py\"):\n",
    "    graph(sys.argv[1:], \"t\")\n"
   ]
  },
  {
   "cell_type": "code",
   "execution_count": null,
   "metadata": {
    "kernel": "Python 3 (ipykernel)",
    "nbgrader": {
     "grade": false,
     "grade_id": "c-003",
     "locked": false,
     "schema_version": 3,
     "solution": false,
     "task": false
    }
   },
   "outputs": [],
   "source": [
    "graph([\"mmap.dat\"], \"t\",)"
   ]
  },
  {
   "cell_type": "code",
   "execution_count": null,
   "metadata": {
    "kernel": "Python 3 (ipykernel)",
    "nbgrader": {
     "grade": false,
     "grade_id": "c-004",
     "locked": false,
     "schema_version": 3,
     "solution": false,
     "task": false
    }
   },
   "outputs": [],
   "source": [
    "graph([\"mmap.dat\"], \"minflt\")"
   ]
  },
  {
   "cell_type": "code",
   "execution_count": null,
   "metadata": {
    "kernel": "Python 3 (ipykernel)",
    "nbgrader": {
     "grade": false,
     "grade_id": "c-005",
     "locked": false,
     "schema_version": 3,
     "solution": false,
     "task": false
    }
   },
   "outputs": [],
   "source": [
    "graph([\"mmap.dat\"], \"majflt\")"
   ]
  },
  {
   "cell_type": "code",
   "execution_count": null,
   "metadata": {
    "kernel": "Python 3 (ipykernel)",
    "nbgrader": {
     "grade": false,
     "grade_id": "c-006",
     "locked": false,
     "schema_version": 3,
     "solution": false,
     "task": false
    }
   },
   "outputs": [],
   "source": [
    "graph([\"mmap.dat\"], \"inblock\")"
   ]
  },
  {
   "cell_type": "code",
   "execution_count": null,
   "metadata": {
    "kernel": "Python 3 (ipykernel)",
    "nbgrader": {
     "grade": false,
     "grade_id": "c-007",
     "locked": false,
     "schema_version": 3,
     "solution": false,
     "task": false
    }
   },
   "outputs": [],
   "source": [
    "graph([\"mmap.dat\", \"read.dat\"], \"t\")"
   ]
  },
  {
   "cell_type": "code",
   "execution_count": null,
   "metadata": {
    "kernel": "Python 3 (ipykernel)",
    "nbgrader": {
     "grade": false,
     "grade_id": "c-008",
     "locked": false,
     "schema_version": 3,
     "solution": false,
     "task": false
    }
   },
   "outputs": [],
   "source": [
    "graph([\"mmap.dat\", \"read.dat\"], \"minflt\")"
   ]
  },
  {
   "cell_type": "code",
   "execution_count": null,
   "metadata": {
    "kernel": "Python 3 (ipykernel)",
    "nbgrader": {
     "grade": false,
     "grade_id": "c-009",
     "locked": false,
     "schema_version": 3,
     "solution": false,
     "task": false
    }
   },
   "outputs": [],
   "source": [
    "graph([\"mmap.dat\", \"read.dat\"], \"majflt\")"
   ]
  },
  {
   "cell_type": "code",
   "execution_count": null,
   "metadata": {
    "kernel": "Python 3 (ipykernel)",
    "nbgrader": {
     "grade": false,
     "grade_id": "c-010",
     "locked": false,
     "schema_version": 3,
     "solution": false,
     "task": false
    }
   },
   "outputs": [],
   "source": [
    "graph([\"mmap.dat\", \"read.dat\"], \"inblock\")"
   ]
  },
  {
   "cell_type": "code",
   "execution_count": null,
   "metadata": {
    "kernel": "Python 3 (ipykernel)",
    "nbgrader": {
     "grade": false,
     "grade_id": "c-011",
     "locked": false,
     "schema_version": 3,
     "solution": false,
     "task": false
    }
   },
   "outputs": [],
   "source": [
    "graph([\"mmap_mem_limit.dat\", \"read_mem_limit.dat\"], \"t\")"
   ]
  }
 ],
 "metadata": {
  "kernelspec": {
   "display_name": "Python 3 (ipykernel)",
   "language": "python",
   "name": "python3"
  },
  "language_info": {
   "codemirror_mode": {
    "name": "ipython",
    "version": 3
   },
   "file_extension": ".py",
   "mimetype": "text/x-python",
   "name": "python",
   "nbconvert_exporter": "python",
   "pygments_lexer": "ipython3",
   "version": "3.8.10"
  }
 },
 "nbformat": 4,
 "nbformat_minor": 4
}
