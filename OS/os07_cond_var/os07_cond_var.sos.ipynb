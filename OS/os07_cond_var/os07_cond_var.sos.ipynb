{
 "cells": [
  {
   "cell_type": "markdown",
   "metadata": {
    "deletable": false,
    "editable": false,
    "kernel": "SoS",
    "nbgrader": {
     "cell_type": "markdown",
     "checksum": "0d370c512fae01994b8093caec8f7e2e",
     "grade": false,
     "grade_id": "c-001",
     "locked": true,
     "schema_version": 3,
     "solution": false,
     "task": false
    }
   },
   "source": [
    "\n",
    "#  オペレーティングシステム 演習 07\n",
    "#  条件変数"
   ]
  },
  {
   "cell_type": "markdown",
   "metadata": {
    "kernel": "SoS",
    "nbgrader": {
     "grade": false,
     "grade_id": "c-002",
     "locked": false,
     "schema_version": 3,
     "solution": false,
     "task": false
    }
   },
   "source": [
    "\n",
    "名前と学生証番号を書け. Enter your name and student ID.\n",
    "\n",
    " * 名前 Name:\n",
    " * 学生証番号 Student ID:\n"
   ]
  },
  {
   "cell_type": "markdown",
   "metadata": {
    "deletable": false,
    "editable": false,
    "kernel": "SoS",
    "nbgrader": {
     "cell_type": "markdown",
     "checksum": "dbab7ed854d485d7ff9deb373a733765",
     "grade": false,
     "grade_id": "c-003",
     "locked": true,
     "schema_version": 3,
     "solution": false,
     "task": false
    }
   },
   "source": [
    "# 1. 条件変数\n",
    "* もう一つの代表的な同期APIは条件変数\n",
    "* 条件変数は汎用的な同期機構であり, つまり, 「待つ(ブロックする)」「起こす」という二つの操作だけを提供する\n",
    "* どういう条件で待つか, 起こすかというのは条件変数を使う方が決める\n",
    "\n",
    "* [pthread_cond_init](https://linux.die.net/man/3/pthread_cond_init)\n",
    "* [pthread_cond_destroy](https://linux.die.net/man/3/pthread_cond_destroy)\n",
    "* [pthread_cond_wait](https://linux.die.net/man/3/pthread_cond_wait)\n",
    "* [pthread_cond_signal](https://linux.die.net/man/3/pthread_cond_signal)\n",
    "* [pthread_cond_broadcast](https://linux.die.net/man/3/pthread_cond_broadcast)\n",
    "\n",
    "* テンプレートは,\n",
    "  * 何かデータ構造を見て, 望む状態_C_になっていなければ待つ\n",
    "  * さらにそのデータ構造を変更して, 必要であれば待っているかもしれない人を起こす\n",
    "というもので, それを以下のようにして実現する\n",
    "\n",
    "```\n",
    "pthread_mutex_lock(m);\n",
    "while (1) {\n",
    "    ...\n",
    "    if (望む状態) break;\n",
    "    pthread_cond_wait(c, m); // ...じゃないので寝る\n",
    "}\n",
    "変更;\n",
    "場合により, pthread_cond_broadcast(c); // またはsignal\n",
    "pthread_mutex_unlock(m);\n",
    "```\n",
    "\n",
    "# 2. 飽和カウンタ\n",
    "* 条件変数を使うもっとも簡単な例題として, 飽和カウンタを作ってみよう\n",
    "* 飽和カウンタは上で作ったcounter_tとほぼ同じAPI (名前は scounter_t としておこう)\n",
    "* 違いは以下\n",
    "  * 初期化時に容量(capacity)を指定する. capacityはカウンタが取りうる値の最大値を意味する\n",
    "  * 加算 (inc)をする際にcapacityを越えそうになったら(つまり元々値がcapacityだったら)条件変数の上でブロックする\n",
    "* API  \n",
    "  * データ型\n",
    "```\n",
    "typedef struct { ... } scounter_t;\n",
    "```\n",
    "  * 0 にする \n",
    "```\n",
    "void scounter_init(scounter_t * c, long capacity);\n",
    "```\n",
    "  * +1 する (返り値: 深い意味はないが, 元の値を返すとする)\n",
    "```\n",
    "long scounter_inc(scounter_t * c);\n",
    "```\n",
    "  * -1 する (返り値: 深い意味はないが, 元の値を返すとする)\n",
    "```\n",
    "long scounter_dec(scounter_t * c);\n",
    "```\n",
    "  * 今の値を返す\n",
    "```\n",
    "long scounter_get(scounter_t * c);\n",
    "```\n",
    "\n",
    "* 以下は capacity を無視した版 (mutex は使っているが条件変数は使っていない)"
   ]
  },
  {
   "cell_type": "code",
   "execution_count": null,
   "metadata": {
    "kernel": "Python 3 (ipykernel)",
    "nbgrader": {
     "grade": false,
     "grade_id": "c-004",
     "locked": false,
     "schema_version": 3,
     "solution": false,
     "task": false
    }
   },
   "outputs": [],
   "source": [
    "%%writefile scounter.c\n",
    "/* 注: このプログラムはOMP_NUM_THREADSを使わずにコマンドラインで受け取った引数でスレッド数を決めている(#pragma omp parallel num_threads(...)) */\n",
    "\n",
    "#include <assert.h>\n",
    "#include <stdio.h>\n",
    "#include <stdlib.h>\n",
    "#include <pthread.h>\n",
    "#include <omp.h>\n",
    "\n",
    "void die(char * msg) {\n",
    "  perror(msg);\n",
    "  exit(1);\n",
    "}\n",
    "\n",
    "double cur_time() {\n",
    "  struct timespec ts[1];\n",
    "  clock_gettime(CLOCK_REALTIME, ts);\n",
    "  return ts->tv_sec + ts->tv_nsec * 1.0e-9;\n",
    "}\n",
    "\n",
    "/* 飽和カウンタ */\n",
    "typedef struct {\n",
    "  long x;\n",
    "  long capacity;\n",
    "  pthread_mutex_t m[1];\n",
    "} scounter_t;\n",
    "\n",
    "/* 初期化(値を0にする) */\n",
    "void scounter_init(scounter_t * s, long capacity) {\n",
    "  s->x = 0;\n",
    "  s->capacity = capacity;\n",
    "  if (pthread_mutex_init(s->m, 0)) {\n",
    "    die(\"pthread_mutex_init\");\n",
    "  }\n",
    "}\n",
    "\n",
    "/* +1 ただしcapacityに達していたら待つ */\n",
    "long scounter_inc(scounter_t * s) {\n",
    "  pthread_mutex_lock(s->m);\n",
    "  long x = s->x;\n",
    "  s->x = x + 1;\n",
    "  pthread_mutex_unlock(s->m);\n",
    "  assert(x < s->capacity);\n",
    "  return x;\n",
    "}\n",
    "\n",
    "/* -1 */\n",
    "long scounter_dec(scounter_t * s) {\n",
    "  pthread_mutex_lock(s->m);\n",
    "  long x = s->x;\n",
    "  s->x = x - 1;\n",
    "  pthread_mutex_unlock(s->m);\n",
    "  return x;\n",
    "}\n",
    "\n",
    "/* 現在の値を返す */\n",
    "long scounter_get(scounter_t * s) {\n",
    "  return s->x;\n",
    "}\n",
    "\n",
    "int main(int argc, char ** argv) {\n",
    "  int i = 1;\n",
    "  /* incを呼ぶスレッド数 */\n",
    "  int n_inc_threads = (argc > i ? atoi(argv[i]) : 3); i++;\n",
    "  /* decを呼ぶスレッド数 */\n",
    "  int n_dec_threads = (argc > i ? atoi(argv[i]) : 2); i++;\n",
    "  /* incとdecが呼ばれる回数(全スレッドの合計) */\n",
    "  long n            = (argc > i ? atol(argv[i]) : 10000); i++;\n",
    "  /* 飽和する値 */\n",
    "  long capacity     = (argc > i ? atol(argv[i]) : 10000); i++;\n",
    "  \n",
    "  scounter_t s[1];\n",
    "  scounter_init(s, capacity);\n",
    "\n",
    "  printf(\"increment threads : %d\\n\", n_inc_threads);\n",
    "  printf(\"decrement threads : %d\\n\", n_dec_threads);\n",
    "  printf(\"increments/decrements : %ld\\n\", n);\n",
    "  printf(\"capacity : %ld\\n\", capacity);\n",
    "  \n",
    "  double t0 = cur_time();\n",
    "#pragma omp parallel num_threads(n_inc_threads + n_dec_threads)\n",
    "  {\n",
    "    int idx = omp_get_thread_num();\n",
    "    if (idx < n_inc_threads) {\n",
    "      /* increment */\n",
    "      long a = n *  idx      / n_inc_threads;\n",
    "      long b = n * (idx + 1) / n_inc_threads;\n",
    "      for (long i = a; i < b; i++) {\n",
    "        long x = scounter_inc(s);\n",
    "        assert(x < capacity);\n",
    "      }\n",
    "    } else {\n",
    "      /* decrement */\n",
    "      idx -= n_dec_threads;\n",
    "      long a = n *  idx      / n_dec_threads;\n",
    "      long b = n * (idx + 1) / n_dec_threads;\n",
    "      for (long i = a; i < b; i++) {\n",
    "        long x = scounter_dec(s);\n",
    "        assert(x <= capacity);\n",
    "      }\n",
    "    }\n",
    "  }\n",
    "  double t1 = cur_time();\n",
    "  printf(\"took %.9f sec\\n\", t1 - t0);\n",
    "  long x = scounter_get(s);\n",
    "  printf(\"%s : value at the end = %ld\\n\", (x == 0? \"OK\" : \"NG\"), x);\n",
    "  return (x == 0 ? 0 : 1);\n",
    "}"
   ]
  },
  {
   "cell_type": "code",
   "execution_count": null,
   "metadata": {
    "kernel": "Bash",
    "nbgrader": {
     "grade": false,
     "grade_id": "c-005",
     "locked": false,
     "schema_version": 3,
     "solution": false,
     "task": false
    }
   },
   "outputs": [],
   "source": [
    "gcc -Wall -fopenmp -o scounter scounter.c"
   ]
  },
  {
   "cell_type": "markdown",
   "metadata": {
    "deletable": false,
    "editable": false,
    "kernel": "SoS",
    "nbgrader": {
     "cell_type": "markdown",
     "checksum": "2c3de9bc849607868b312e19b6d2e3a6",
     "grade": false,
     "grade_id": "c-006",
     "locked": true,
     "schema_version": 3,
     "solution": false,
     "task": false
    }
   },
   "source": [
    "* 実行は以下\n",
    "```\n",
    "./scounter INCするスレッド数 DECするスレッド数 INC(DEC)する回数 CAPACITY\n",
    "```\n",
    "\n",
    "* 例えば以下は 3スレッドがincを呼び, 2スレッドがdecを呼ぶ\n",
    "* inc, decはそれぞれ3スレッド, 2スレッドの合計で, 10000回ずつ呼ばれる\n",
    "* capacityも10000で, inc (dec)の回数と同じにしているので, カウンタは実際には飽和しない"
   ]
  },
  {
   "cell_type": "code",
   "execution_count": null,
   "metadata": {
    "kernel": "Bash",
    "nbgrader": {
     "grade": false,
     "grade_id": "c-007",
     "locked": false,
     "schema_version": 3,
     "solution": false,
     "task": false
    }
   },
   "outputs": [],
   "source": [
    "./scounter 3 2 10000 10000"
   ]
  },
  {
   "cell_type": "markdown",
   "metadata": {
    "deletable": false,
    "editable": false,
    "kernel": "SoS",
    "nbgrader": {
     "cell_type": "markdown",
     "checksum": "f0230407208a27809ba329dc8f9cdbef",
     "grade": false,
     "grade_id": "c-008",
     "locked": true,
     "schema_version": 3,
     "solution": false,
     "task": false
    }
   },
   "source": [
    "* 一方, inc回数 &gt; 容量とすると, ほとんどの場合, 途中でエラーになる"
   ]
  },
  {
   "cell_type": "code",
   "execution_count": null,
   "metadata": {
    "kernel": "Bash",
    "nbgrader": {
     "grade": false,
     "grade_id": "c-009",
     "locked": false,
     "schema_version": 3,
     "solution": false,
     "task": false
    }
   },
   "outputs": [],
   "source": [
    "./scounter 3 2 100000 10000"
   ]
  },
  {
   "cell_type": "markdown",
   "metadata": {
    "deletable": false,
    "editable": false,
    "kernel": "SoS",
    "nbgrader": {
     "cell_type": "markdown",
     "checksum": "1d5dd91c4b3320b1f909da7002a78ae0",
     "grade": false,
     "grade_id": "c-010",
     "locked": true,
     "schema_version": 3,
     "solution": false,
     "task": false
    }
   },
   "source": [
    "* 条件変数を使ってこれを直すのが課題である"
   ]
  },
  {
   "cell_type": "markdown",
   "metadata": {
    "deletable": false,
    "editable": false,
    "kernel": "SoS",
    "nbgrader": {
     "cell_type": "markdown",
     "checksum": "3fc06f576f452b3d333e6c27dd3a69d7",
     "grade": false,
     "grade_id": "c-011",
     "locked": true,
     "schema_version": 3,
     "solution": false,
     "task": false
    }
   },
   "source": [
    "# <font color=\"green\"> Problem 1 :  条件変数を使った飽和カウンタ</font>"
   ]
  },
  {
   "cell_type": "markdown",
   "metadata": {
    "deletable": false,
    "editable": false,
    "kernel": "SoS",
    "nbgrader": {
     "cell_type": "markdown",
     "checksum": "0073df18b78722002a442b874ed77a71",
     "grade": false,
     "grade_id": "c-012",
     "locked": true,
     "schema_version": 3,
     "solution": false,
     "task": false
    }
   },
   "source": [
    "* 下掲のプログラムを変更して, 任意のスレッド数, inc (dec) 回数, capacity で正しく動作するようにせよ\n",
    "* 寝ているスレッドを起こすのに `pthread_cond_broadcast` を使うべきか, `pthread_cond_signal` でもよいか考えよ\n",
    "  * ヒント: 実は後者ではダメ. なかなか気づきにくい落とし穴がある. Terminal + GDBで調査でもしないとなかなか気づかないだろう\n",
    "  * 止まってしまったプログラムをkillする方法は上述したのでそれをマスターしてから実験せよ"
   ]
  },
  {
   "cell_type": "code",
   "execution_count": null,
   "metadata": {
    "deletable": false,
    "kernel": "Python 3 (ipykernel)",
    "nbgrader": {
     "cell_type": "code",
     "checksum": "e89da85d0580c9aab50b6c8bfebd247f",
     "grade": true,
     "grade_id": "p-001",
     "locked": false,
     "points": 1,
     "schema_version": 3,
     "solution": true,
     "task": false
    }
   },
   "outputs": [],
   "source": [
    "\n",
    "%%writefile scounter.c\n",
    "/* 注: このプログラムはOMP_NUM_THREADSを使わずにコマンドラインで受け取った引数でスレッド数を決めている(#pragma omp parallel num_threads(...)) */\n",
    "\n",
    "#include <assert.h>\n",
    "#include <stdio.h>\n",
    "#include <stdlib.h>\n",
    "#include <pthread.h>\n",
    "#include <omp.h>\n",
    "\n",
    "void die(char * msg) {\n",
    "  perror(msg);\n",
    "  exit(1);\n",
    "}\n",
    "\n",
    "double cur_time() {\n",
    "  struct timespec ts[1];\n",
    "  clock_gettime(CLOCK_REALTIME, ts);\n",
    "  return ts->tv_sec + ts->tv_nsec * 1.0e-9;\n",
    "}\n",
    "\n",
    "/* 飽和カウンタ */\n",
    "typedef struct {\n",
    "  long x;\n",
    "  long capacity;\n",
    "  pthread_mutex_t m[1];\n",
    "} scounter_t;\n",
    "\n",
    "/* 初期化(値を0にする) */\n",
    "void scounter_init(scounter_t * s, long capacity) {\n",
    "  s->x = 0;\n",
    "  s->capacity = capacity;\n",
    "  if (pthread_mutex_init(s->m, 0)) {\n",
    "    die(\"pthread_mutex_init\");\n",
    "  }\n",
    "}\n",
    "\n",
    "/* +1 ただしcapacityに達していたら待つ */\n",
    "long scounter_inc(scounter_t * s) {\n",
    "  pthread_mutex_lock(s->m);\n",
    "  long x = s->x;\n",
    "  s->x = x + 1;\n",
    "  pthread_mutex_unlock(s->m);\n",
    "  assert(x < s->capacity);\n",
    "  return x;\n",
    "}\n",
    "\n",
    "/* -1 */\n",
    "long scounter_dec(scounter_t * s) {\n",
    "  pthread_mutex_lock(s->m);\n",
    "  long x = s->x;\n",
    "  s->x = x - 1;\n",
    "  pthread_mutex_unlock(s->m);\n",
    "  return x;\n",
    "}\n",
    "\n",
    "/* 現在の値を返す */\n",
    "long scounter_get(scounter_t * s) {\n",
    "  return s->x;\n",
    "}\n",
    "\n",
    "int main(int argc, char ** argv) {\n",
    "  int i = 1;\n",
    "  /* incを呼ぶスレッド数 */\n",
    "  int n_inc_threads = (argc > i ? atoi(argv[i]) : 3); i++;\n",
    "  /* decを呼ぶスレッド数 */\n",
    "  int n_dec_threads = (argc > i ? atoi(argv[i]) : 2); i++;\n",
    "  /* incとdecが呼ばれる回数(全スレッドの合計) */\n",
    "  long n            = (argc > i ? atol(argv[i]) : 10000); i++;\n",
    "  /* 飽和する値 */\n",
    "  long capacity     = (argc > i ? atol(argv[i]) : 10000); i++;\n",
    "  \n",
    "  scounter_t s[1];\n",
    "  scounter_init(s, capacity);\n",
    "\n",
    "  printf(\"increment threads : %d\\n\", n_inc_threads);\n",
    "  printf(\"decrement threads : %d\\n\", n_dec_threads);\n",
    "  printf(\"increments/decrements : %ld\\n\", n);\n",
    "  printf(\"capacity : %ld\\n\", capacity);\n",
    "  \n",
    "  double t0 = cur_time();\n",
    "#pragma omp parallel num_threads(n_inc_threads + n_dec_threads)\n",
    "  {\n",
    "    int idx = omp_get_thread_num();\n",
    "    if (idx < n_inc_threads) {\n",
    "      /* increment */\n",
    "      long a = n *  idx      / n_inc_threads;\n",
    "      long b = n * (idx + 1) / n_inc_threads;\n",
    "      for (long i = a; i < b; i++) {\n",
    "        long x = scounter_inc(s);\n",
    "        assert(x < capacity);\n",
    "      }\n",
    "    } else {\n",
    "      /* decrement */\n",
    "      idx -= n_dec_threads;\n",
    "      long a = n *  idx      / n_dec_threads;\n",
    "      long b = n * (idx + 1) / n_dec_threads;\n",
    "      for (long i = a; i < b; i++) {\n",
    "        long x = scounter_dec(s);\n",
    "        assert(x <= capacity);\n",
    "      }\n",
    "    }\n",
    "  }\n",
    "  double t1 = cur_time();\n",
    "  printf(\"took %.9f sec\\n\", t1 - t0);\n",
    "  long x = scounter_get(s);\n",
    "  printf(\"%s : value at the end = %ld\\n\", (x == 0? \"OK\" : \"NG\"), x);\n",
    "  return (x == 0 ? 0 : 1);\n",
    "}"
   ]
  },
  {
   "cell_type": "code",
   "execution_count": null,
   "metadata": {
    "deletable": false,
    "kernel": "Bash",
    "nbgrader": {
     "cell_type": "code",
     "checksum": "31271d325e4d2e7595f2d2b63d1bec45",
     "grade": true,
     "grade_id": "p-002",
     "locked": false,
     "points": 1,
     "schema_version": 3,
     "solution": true,
     "task": false
    }
   },
   "outputs": [],
   "source": [
    "\n",
    "gcc -Wall -fopenmp -o scounter scounter.c"
   ]
  },
  {
   "cell_type": "markdown",
   "metadata": {
    "deletable": false,
    "editable": false,
    "kernel": "SoS",
    "nbgrader": {
     "cell_type": "markdown",
     "checksum": "2ad840bf459576876e4593ffdeed8261",
     "grade": false,
     "grade_id": "c-013",
     "locked": true,
     "schema_version": 3,
     "solution": false,
     "task": false
    }
   },
   "source": [
    "* 以下でテストせよ\n",
    "  * テストは, 「単純(超探しやすい)」かつ「バグが発生しやすいケース」で行うのが基本\n",
    "  * 今回の場合, 容量1というケースが最もバグが発生しやすい(見逃されにくい)と思われる\n",
    "\n",
    "* 単純かつバグが発生しやすいケース (うまく動かなければ適宜 100000 を減らして, なるべく小さい数でテストをするのが基本. 本気でデバッグが必要なら terminal を使うことを推奨)"
   ]
  },
  {
   "cell_type": "code",
   "execution_count": null,
   "metadata": {
    "deletable": false,
    "kernel": "Bash",
    "nbgrader": {
     "cell_type": "code",
     "checksum": "6a63884e878fa29680c0ae02a877640c",
     "grade": true,
     "grade_id": "p-003",
     "locked": false,
     "points": 1,
     "schema_version": 3,
     "solution": true,
     "task": false
    }
   },
   "outputs": [],
   "source": [
    "\n",
    "./scounter 1 1 100000 1"
   ]
  },
  {
   "cell_type": "markdown",
   "metadata": {
    "deletable": false,
    "editable": false,
    "kernel": "SoS",
    "nbgrader": {
     "cell_type": "markdown",
     "checksum": "8d0ea65b60de79f5ab65da9ca1378d4a",
     "grade": false,
     "grade_id": "c-014",
     "locked": true,
     "schema_version": 3,
     "solution": false,
     "task": false
    }
   },
   "source": [
    "* まともな容量でのテスト"
   ]
  },
  {
   "cell_type": "code",
   "execution_count": null,
   "metadata": {
    "deletable": false,
    "kernel": "Bash",
    "nbgrader": {
     "cell_type": "code",
     "checksum": "61682b9ca5950d5785671f41b2e71ea3",
     "grade": true,
     "grade_id": "p-004",
     "locked": false,
     "points": 1,
     "schema_version": 3,
     "solution": true,
     "task": false
    }
   },
   "outputs": [],
   "source": [
    "\n",
    "./scounter 1 1 100000 1000"
   ]
  },
  {
   "cell_type": "markdown",
   "metadata": {
    "deletable": false,
    "editable": false,
    "kernel": "SoS",
    "nbgrader": {
     "cell_type": "markdown",
     "checksum": "5c097435b9db947616927dbb4c77d8f0",
     "grade": false,
     "grade_id": "c-015",
     "locked": true,
     "schema_version": 3,
     "solution": false,
     "task": false
    }
   },
   "source": [
    "* 多数のスレッドでのテスト"
   ]
  },
  {
   "cell_type": "code",
   "execution_count": null,
   "metadata": {
    "deletable": false,
    "kernel": "Bash",
    "nbgrader": {
     "cell_type": "code",
     "checksum": "41f67343b3dd5cf34899a28f3bd0d9ab",
     "grade": true,
     "grade_id": "p-005",
     "locked": false,
     "points": 1,
     "schema_version": 3,
     "solution": true,
     "task": false
    }
   },
   "outputs": [],
   "source": [
    "\n",
    "./scounter 10 1 100000 1000"
   ]
  },
  {
   "cell_type": "code",
   "execution_count": null,
   "metadata": {
    "deletable": false,
    "kernel": "Bash",
    "nbgrader": {
     "cell_type": "code",
     "checksum": "a68b7f291b94711e955b942a637509bf",
     "grade": true,
     "grade_id": "p-006",
     "locked": false,
     "points": 1,
     "schema_version": 3,
     "solution": true,
     "task": false
    }
   },
   "outputs": [],
   "source": [
    "\n",
    "./scounter 1 10 100000 1000"
   ]
  },
  {
   "cell_type": "code",
   "execution_count": null,
   "metadata": {
    "deletable": false,
    "kernel": "Bash",
    "nbgrader": {
     "cell_type": "code",
     "checksum": "c056de7b05e45a34a2bc318bfa5ab24b",
     "grade": true,
     "grade_id": "p-007",
     "locked": false,
     "points": 1,
     "schema_version": 3,
     "solution": true,
     "task": false
    }
   },
   "outputs": [],
   "source": [
    "\n",
    "./scounter 10 10 1000000 1000"
   ]
  },
  {
   "cell_type": "markdown",
   "metadata": {
    "deletable": false,
    "editable": false,
    "kernel": "SoS",
    "nbgrader": {
     "cell_type": "markdown",
     "checksum": "31c1f2313223847706d688272891787c",
     "grade": false,
     "grade_id": "c-016",
     "locked": true,
     "schema_version": 3,
     "solution": false,
     "task": false
    }
   },
   "source": [
    "# <font color=\"green\"> Problem 2 :  両側飽和カウンタ</font>"
   ]
  },
  {
   "cell_type": "markdown",
   "metadata": {
    "deletable": false,
    "editable": false,
    "kernel": "SoS",
    "nbgrader": {
     "cell_type": "markdown",
     "checksum": "09e1b0c4f8d6fff0307b29fdf0a5db24",
     "grade": false,
     "grade_id": "c-017",
     "locked": true,
     "schema_version": 3,
     "solution": false,
     "task": false
    }
   },
   "source": [
    "* どうせならカウンタの上限を定めるだけでなく, 下限も定めたい. ここでは0ということにしておこう\n",
    "* つまり, 0のときに dec が行われたらそこでも待つようにする\n",
    "* 下掲のプログラムを変更して, 任意のスレッド数, inc (dec) 回数, capacity で正しく動作するようにせよ\n",
    "* ヒント: decをしようとして値が0だった際に待つための条件変数をもう一つ用意する"
   ]
  },
  {
   "cell_type": "code",
   "execution_count": null,
   "metadata": {
    "deletable": false,
    "kernel": "Python 3 (ipykernel)",
    "nbgrader": {
     "cell_type": "code",
     "checksum": "ce4faf7506b8202cf4bd9f26fb2f7881",
     "grade": true,
     "grade_id": "p-008",
     "locked": false,
     "points": 1,
     "schema_version": 3,
     "solution": true,
     "task": false
    }
   },
   "outputs": [],
   "source": [
    "\n",
    "%%writefile tcounter.c\n",
    "/* 注: このプログラムはOMP_NUM_THREADSを使わずにコマンドラインで受け取った引数でスレッド数を決めている(#pragma omp parallel num_threads(...)) */\n",
    "\n",
    "#include <assert.h>\n",
    "#include <stdio.h>\n",
    "#include <stdlib.h>\n",
    "#include <pthread.h>\n",
    "#include <omp.h>\n",
    "\n",
    "void die(char * msg) {\n",
    "  perror(msg);\n",
    "  exit(1);\n",
    "}\n",
    "\n",
    "double cur_time() {\n",
    "  struct timespec ts[1];\n",
    "  clock_gettime(CLOCK_REALTIME, ts);\n",
    "  return ts->tv_sec + ts->tv_nsec * 1.0e-9;\n",
    "}\n",
    "\n",
    "/* 飽和カウンタ */\n",
    "typedef struct {\n",
    "  long x;\n",
    "  long capacity;\n",
    "  pthread_mutex_t m[1];\n",
    "} scounter_t;\n",
    "\n",
    "/* 初期化(値を0にする) */\n",
    "void scounter_init(scounter_t * s, long capacity) {\n",
    "  s->x = 0;\n",
    "  s->capacity = capacity;\n",
    "  if (pthread_mutex_init(s->m, 0)) {\n",
    "    die(\"pthread_mutex_init\");\n",
    "  }\n",
    "}\n",
    "\n",
    "/* +1 ただしcapacityに達していたら待つ */\n",
    "long scounter_inc(scounter_t * s) {\n",
    "  pthread_mutex_lock(s->m);\n",
    "  long x = s->x;\n",
    "  s->x = x + 1;\n",
    "  pthread_mutex_unlock(s->m);\n",
    "  assert(x < s->capacity);\n",
    "  return x;\n",
    "}\n",
    "\n",
    "/* -1 */\n",
    "long scounter_dec(scounter_t * s) {\n",
    "  pthread_mutex_lock(s->m);\n",
    "  long x = s->x;\n",
    "  s->x = x - 1;\n",
    "  pthread_mutex_unlock(s->m);\n",
    "  return x;\n",
    "}\n",
    "\n",
    "/* 現在の値を返す */\n",
    "long scounter_get(scounter_t * s) {\n",
    "  return s->x;\n",
    "}\n",
    "\n",
    "int main(int argc, char ** argv) {\n",
    "  int i = 1;\n",
    "  /* incを呼ぶスレッド数 */\n",
    "  int n_inc_threads = (argc > i ? atoi(argv[i]) : 3); i++;\n",
    "  /* decを呼ぶスレッド数 */\n",
    "  int n_dec_threads = (argc > i ? atoi(argv[i]) : 2); i++;\n",
    "  /* incとdecが呼ばれる回数(全スレッドの合計) */\n",
    "  long n            = (argc > i ? atol(argv[i]) : 10000); i++;\n",
    "  /* 飽和する値 */\n",
    "  long capacity     = (argc > i ? atol(argv[i]) : 10000); i++;\n",
    "  \n",
    "  scounter_t s[1];\n",
    "  scounter_init(s, capacity);\n",
    "\n",
    "  printf(\"increment threads : %d\\n\", n_inc_threads);\n",
    "  printf(\"decrement threads : %d\\n\", n_dec_threads);\n",
    "  printf(\"increments/decrements : %ld\\n\", n);\n",
    "  printf(\"capacity : %ld\\n\", capacity);\n",
    "  \n",
    "  double t0 = cur_time();\n",
    "#pragma omp parallel num_threads(n_inc_threads + n_dec_threads)\n",
    "  {\n",
    "    int idx = omp_get_thread_num();\n",
    "    if (idx < n_inc_threads) {\n",
    "      /* increment */\n",
    "      long a = n *  idx      / n_inc_threads;\n",
    "      long b = n * (idx + 1) / n_inc_threads;\n",
    "      for (long i = a; i < b; i++) {\n",
    "        long x = scounter_inc(s);\n",
    "        assert(x < capacity);\n",
    "        assert(x >= 0);\n",
    "      }\n",
    "    } else {\n",
    "      /* decrement */\n",
    "      idx -= n_dec_threads;\n",
    "      long a = n *  idx      / n_dec_threads;\n",
    "      long b = n * (idx + 1) / n_dec_threads;\n",
    "      for (long i = a; i < b; i++) {\n",
    "        long x = scounter_dec(s);\n",
    "        assert(x <= capacity);\n",
    "        assert(x > 0);\n",
    "      }\n",
    "    }\n",
    "  }\n",
    "  double t1 = cur_time();\n",
    "  printf(\"took %.9f sec\\n\", t1 - t0);\n",
    "  long x = scounter_get(s);\n",
    "  printf(\"%s : value at the end = %ld\\n\", (x == 0? \"OK\" : \"NG\"), x);\n",
    "  return (x == 0 ? 0 : 1);\n",
    "}"
   ]
  },
  {
   "cell_type": "code",
   "execution_count": null,
   "metadata": {
    "deletable": false,
    "kernel": "Bash",
    "nbgrader": {
     "cell_type": "code",
     "checksum": "5ed4806ec8f400d9db2c2532bfbe6b77",
     "grade": true,
     "grade_id": "p-009",
     "locked": false,
     "points": 1,
     "schema_version": 3,
     "solution": true,
     "task": false
    }
   },
   "outputs": [],
   "source": [
    "\n",
    "gcc -Wall -fopenmp -o tcounter tcounter.c"
   ]
  },
  {
   "cell_type": "code",
   "execution_count": null,
   "metadata": {
    "deletable": false,
    "kernel": "Bash",
    "nbgrader": {
     "cell_type": "code",
     "checksum": "cf45fff423d75e64685d89261171a093",
     "grade": true,
     "grade_id": "p-010",
     "locked": false,
     "points": 1,
     "schema_version": 3,
     "solution": true,
     "task": false
    }
   },
   "outputs": [],
   "source": [
    "\n",
    "./tcounter 1 1 100000 1"
   ]
  },
  {
   "cell_type": "code",
   "execution_count": null,
   "metadata": {
    "deletable": false,
    "kernel": "Bash",
    "nbgrader": {
     "cell_type": "code",
     "checksum": "c6636404d5f5aba0335c6ac9d2c4e06c",
     "grade": true,
     "grade_id": "p-011",
     "locked": false,
     "points": 1,
     "schema_version": 3,
     "solution": true,
     "task": false
    }
   },
   "outputs": [],
   "source": [
    "\n",
    "./tcounter 1 1 100000 1000"
   ]
  },
  {
   "cell_type": "code",
   "execution_count": null,
   "metadata": {
    "deletable": false,
    "kernel": "Bash",
    "nbgrader": {
     "cell_type": "code",
     "checksum": "8af6f9998fec92afdc41f6438db606fa",
     "grade": true,
     "grade_id": "p-012",
     "locked": false,
     "points": 1,
     "schema_version": 3,
     "solution": true,
     "task": false
    }
   },
   "outputs": [],
   "source": [
    "\n",
    "./tcounter 10 1 100000 1000"
   ]
  },
  {
   "cell_type": "code",
   "execution_count": null,
   "metadata": {
    "deletable": false,
    "kernel": "Bash",
    "nbgrader": {
     "cell_type": "code",
     "checksum": "6928de290caedd7dd6c0495665bd939c",
     "grade": true,
     "grade_id": "p-013",
     "locked": false,
     "points": 1,
     "schema_version": 3,
     "solution": true,
     "task": false
    }
   },
   "outputs": [],
   "source": [
    "\n",
    "./tcounter 1 10 100000 1000"
   ]
  },
  {
   "cell_type": "code",
   "execution_count": null,
   "metadata": {
    "deletable": false,
    "kernel": "Bash",
    "nbgrader": {
     "cell_type": "code",
     "checksum": "904196188a5b6494160dca8d12802ced",
     "grade": true,
     "grade_id": "p-014",
     "locked": false,
     "points": 1,
     "schema_version": 3,
     "solution": true,
     "task": false
    }
   },
   "outputs": [],
   "source": [
    "\n",
    "./tcounter 10 10 1000000 1000"
   ]
  },
  {
   "cell_type": "markdown",
   "metadata": {
    "deletable": false,
    "editable": false,
    "kernel": "SoS",
    "nbgrader": {
     "cell_type": "markdown",
     "checksum": "1041150f6268117c8498745f896d6f12",
     "grade": false,
     "grade_id": "c-018",
     "locked": true,
     "schema_version": 3,
     "solution": false,
     "task": false
    }
   },
   "source": [
    "# 3. 有限バッファ\n",
    "* 有限バッファは, 固定長の配列で, スレッド間でデータを受け渡すためのデータ構造\n",
    "* APIは\n",
    "  * bounded_buffer_t bb[1];\n",
    "  * bounded_buffer_init(bb, capacity);\n",
    "  * bounded_buffer_put(bb, x);\n",
    "  * long x = bounded_buffer_get(bb);\n",
    "* capacityは保持できるデータ数(= putされて, まだgetされていないデータ数)\n",
    "* capacity個のデータが既に保持されているときにputされたら, getされるまで待つ\n",
    "* 1個もデータがないときにgetされたら, putされるまで待つ\n",
    "という動作をする\n",
    "\n",
    "以下は未完成版で,\n",
    "* capacity個のデータが既に保持されているときにputされたら, 0を返す(そうでなければ1を返す)\n",
    "* 1個もデータがないときにgetされたら, -1を返す (putするデータ(従ってgetされるデータ)は0以上とする)\n",
    "という動作をする"
   ]
  },
  {
   "cell_type": "code",
   "execution_count": null,
   "metadata": {
    "kernel": "Python 3 (ipykernel)",
    "nbgrader": {
     "grade": false,
     "grade_id": "c-019",
     "locked": false,
     "schema_version": 3,
     "solution": false,
     "task": false
    }
   },
   "outputs": [],
   "source": [
    "%%writefile bbuf.c\n",
    "#include <assert.h>\n",
    "#include <stdio.h>\n",
    "#include <stdlib.h>\n",
    "#include <time.h>\n",
    "#include <unistd.h>\n",
    "#include <omp.h>\n",
    "#include <pthread.h>\n",
    "\n",
    "void die(const char * msg) {\n",
    "  perror(msg); exit(1);\n",
    "}\n",
    "\n",
    "double cur_time() {\n",
    "  struct timespec ts[1];\n",
    "  clock_gettime(CLOCK_REALTIME, ts);\n",
    "  return ts->tv_nsec * 1.0E-9 + ts->tv_sec;\n",
    "}\n",
    "\n",
    "/* 有限バッファ\n",
    "   要素は必ず >= 0 とする */\n",
    "typedef struct {\n",
    "  long n_gets;                  /* getされた回数 */\n",
    "  long n_puts;                  /* putされた回数 */\n",
    "  long capacity;                /* 容量 */\n",
    "  long * a;                     /* 中身(capacity要素の配列) */\n",
    "} bounded_buffer_t;\n",
    "\n",
    "/* 容量 capacity で初期化 */\n",
    "void bounded_buffer_init(bounded_buffer_t * bb, long capacity) {\n",
    "  long * a = (long *)malloc(sizeof(long) * capacity);\n",
    "  if (!a) die(\"malloc\");\n",
    "  bb->a = a;\n",
    "  bb->capacity = capacity;\n",
    "  bb->n_gets = 0;\n",
    "  bb->n_puts = 0;\n",
    "}\n",
    "\n",
    "/* 要素を追加 \n",
    " * 満杯だったら待つようにするのが課題\n",
    " * 以下はそのままだと満杯の場合は0を返す(間違い)\n",
    " */\n",
    "int bounded_buffer_put(bounded_buffer_t * bb, long x) {\n",
    "  long g = bb->n_gets;\n",
    "  long p = bb->n_puts;\n",
    "  long cap = bb->capacity;\n",
    "  assert(x >= 0);\n",
    "  if (p - g >= cap) {\n",
    "    return 0;                   /* NG */\n",
    "  }\n",
    "  bb->a[p % cap] = x;\n",
    "  bb->n_puts = p + 1;\n",
    "  return 1;                     /* OK */\n",
    "}\n",
    "\n",
    "/* 要素を取り出す\n",
    " * 空だったら待つようにするのが課題\n",
    " * 以下はそのままだと空の場合は-1を返す(間違い)\n",
    " */\n",
    "long bounded_buffer_get(bounded_buffer_t * bb) {\n",
    "  long g = bb->n_gets;\n",
    "  long p = bb->n_puts;\n",
    "  long cap = bb->capacity;\n",
    "  if (p - g <= 0) {\n",
    "    return -1;                  /* 空 */\n",
    "  }\n",
    "  long x = bb->a[g % cap];\n",
    "  bb->n_gets = g + 1;\n",
    "  assert(x >= 0);\n",
    "  return x;\n",
    "}\n",
    "\n",
    "int main(int argc, char ** argv) {\n",
    "  long i = 1;\n",
    "  /* putするスレッド数 */\n",
    "  int n_putter_threads = (argc > i ? atoi(argv[i]) : 1); i++;\n",
    "  /* getするスレッド数 */\n",
    "  int n_getter_threads = (argc > i ? atoi(argv[i]) : 1); i++;\n",
    "  /* putとgetの間にbarrierを入れるか? */\n",
    "  int barrier_between_puts_gets = (argc > i ? atoi(argv[i]) : 1); i++;\n",
    "  /* put (get)される回数 */\n",
    "  long n                = (argc > i ? atol(argv[i]) : 1000000); i++;\n",
    "  /* 容量 */\n",
    "  long capacity         = (argc > i ? atol(argv[i]) : 1000); i++;\n",
    "  /* 検証用(validate[x] == 1 iff getでxが取り出された) */\n",
    "  char * validate = (char *)calloc(n, 1);\n",
    "\n",
    "  bounded_buffer_t bb[1];\n",
    "  bounded_buffer_init(bb, capacity);\n",
    "\n",
    "  int nthreads = n_putter_threads + n_getter_threads;\n",
    "  pthread_barrier_t barrier[1];\n",
    "  pthread_barrier_init(barrier, 0, nthreads);\n",
    "\n",
    "  double t0 = cur_time();\n",
    "#pragma omp parallel num_threads(n_putter_threads + n_getter_threads)\n",
    "  {\n",
    "    int idx = omp_get_thread_num();\n",
    "    if (idx < n_putter_threads) {\n",
    "      /* I am a putter thread */\n",
    "      long a = n *  idx      / n_putter_threads;\n",
    "      long b = n * (idx + 1) / n_putter_threads;\n",
    "      /* 0,1,...,n-1 を1つずつput */\n",
    "      for (long x = a; x < b; x++) {\n",
    "        int ok = bounded_buffer_put(bb, x);\n",
    "        assert(ok);\n",
    "      }\n",
    "      if (barrier_between_puts_gets) {\n",
    "        /* putが全員終わってからget */\n",
    "        pthread_barrier_wait(barrier);\n",
    "      }\n",
    "    } else {\n",
    "      /* I am a getter thread */\n",
    "      idx -= n_putter_threads;\n",
    "      long a = n *  idx      / n_getter_threads;\n",
    "      long b = n * (idx + 1) / n_getter_threads;\n",
    "      if (barrier_between_puts_gets) {\n",
    "        /* putが全員終わってからget */\n",
    "        pthread_barrier_wait(barrier);\n",
    "      }\n",
    "      /* 合計n回get */\n",
    "      for (long x = a; x < b; x++) {\n",
    "        long x = bounded_buffer_get(bb);\n",
    "        assert(x >= 0);\n",
    "        assert(x < n);\n",
    "        assert(validate[x] == 0);\n",
    "        validate[x] = 1;\n",
    "      }\n",
    "    }\n",
    "  }\n",
    "  double t1 = cur_time();\n",
    "  printf(\"%f sec\\n\", t1 - t0);\n",
    "  for (long i = 0; i < n; i++) {\n",
    "    assert(validate[i]);\n",
    "  }\n",
    "  printf(\"OK\\n\");\n",
    "  return 0;\n",
    "}"
   ]
  },
  {
   "cell_type": "code",
   "execution_count": null,
   "metadata": {
    "deletable": false,
    "kernel": "Bash",
    "nbgrader": {
     "cell_type": "code",
     "checksum": "4482bd25ad8ce01a5c5a79b61ac5a8e8",
     "grade": true,
     "grade_id": "p-015",
     "locked": false,
     "points": 1,
     "schema_version": 3,
     "solution": true,
     "task": false
    }
   },
   "outputs": [],
   "source": [
    "\n",
    "gcc -Wall -fopenmp -o bbuf bbuf.c"
   ]
  },
  {
   "cell_type": "markdown",
   "metadata": {
    "deletable": false,
    "editable": false,
    "kernel": "SoS",
    "nbgrader": {
     "cell_type": "markdown",
     "checksum": "d533fb424e44293047cc738d85dab7cb",
     "grade": false,
     "grade_id": "c-020",
     "locked": true,
     "schema_version": 3,
     "solution": false,
     "task": false
    }
   },
   "source": [
    "```\n",
    "./bbuf put_threads get_threads sync_between_puts_and_gets n capacity\n",
    "```\n",
    " \n",
    "で起動されると\n",
    " * 容量は capacity のbuffer が作られる\n",
    " * put_threads 個のスレッドが作られ, putする\n",
    " * get_threads 個のスレッドが作られ, getする\n",
    " * sync_between_puts_and_gets == 0 の場合, putするスレッドとgetするスレッドも並行に動く. sync_between_puts_and_gets == 1の場合, putスレッドがすべてのデータをputし終えてからgetスレッドがgetを始める\n",
    " * 合計 n 個のデータが put (get) される\n",
    " \n",
    "与えれた未完成バージョンは以下の条件であれば動作する\n",
    " * put_threads == 1\n",
    " * get_threads == 1\n",
    " * sync_between_puts_and_gets == 1\n",
    " * capacity >= n"
   ]
  },
  {
   "cell_type": "code",
   "execution_count": null,
   "metadata": {
    "deletable": false,
    "kernel": "Bash",
    "nbgrader": {
     "cell_type": "code",
     "checksum": "a78e68fab3d2efdf749727f82c303153",
     "grade": true,
     "grade_id": "p-016",
     "locked": false,
     "points": 1,
     "schema_version": 3,
     "solution": true,
     "task": false
    }
   },
   "outputs": [],
   "source": [
    "\n",
    "./bbuf 1 1 1 1000 1000"
   ]
  },
  {
   "cell_type": "markdown",
   "metadata": {
    "deletable": false,
    "editable": false,
    "kernel": "SoS",
    "nbgrader": {
     "cell_type": "markdown",
     "checksum": "b5ffdcf5eb3786ae63b219a7d5b3777e",
     "grade": false,
     "grade_id": "c-021",
     "locked": true,
     "schema_version": 3,
     "solution": false,
     "task": false
    }
   },
   "source": [
    "以下はどれもエラーになる\n",
    "\n",
    "* putとgetが並行"
   ]
  },
  {
   "cell_type": "code",
   "execution_count": null,
   "metadata": {
    "deletable": false,
    "kernel": "Bash",
    "nbgrader": {
     "cell_type": "code",
     "checksum": "c550790f53c96068afa323ae5807fc60",
     "grade": true,
     "grade_id": "p-017",
     "locked": false,
     "points": 1,
     "schema_version": 3,
     "solution": true,
     "task": false
    }
   },
   "outputs": [],
   "source": [
    "\n",
    "./bbuf 1 1 0 1000 1000"
   ]
  },
  {
   "cell_type": "markdown",
   "metadata": {
    "deletable": false,
    "editable": false,
    "kernel": "SoS",
    "nbgrader": {
     "cell_type": "markdown",
     "checksum": "42768beb608cfc37d6b9c369263bd6ea",
     "grade": false,
     "grade_id": "c-022",
     "locked": true,
     "schema_version": 3,
     "solution": false,
     "task": false
    }
   },
   "source": [
    "* 複数のputが並行"
   ]
  },
  {
   "cell_type": "code",
   "execution_count": null,
   "metadata": {
    "deletable": false,
    "kernel": "Bash",
    "nbgrader": {
     "cell_type": "code",
     "checksum": "bed4a182a1facd8b02064e0185ee2716",
     "grade": true,
     "grade_id": "p-018",
     "locked": false,
     "points": 1,
     "schema_version": 3,
     "solution": true,
     "task": false
    }
   },
   "outputs": [],
   "source": [
    "\n",
    "./bbuf 2 1 1 1000 1000"
   ]
  },
  {
   "cell_type": "markdown",
   "metadata": {
    "deletable": false,
    "editable": false,
    "kernel": "SoS",
    "nbgrader": {
     "cell_type": "markdown",
     "checksum": "3cd870edc9a3d8d0a3c6dd5dbf25ca76",
     "grade": false,
     "grade_id": "c-023",
     "locked": true,
     "schema_version": 3,
     "solution": false,
     "task": false
    }
   },
   "source": [
    "* 複数のgetが並行"
   ]
  },
  {
   "cell_type": "code",
   "execution_count": null,
   "metadata": {
    "deletable": false,
    "kernel": "Bash",
    "nbgrader": {
     "cell_type": "code",
     "checksum": "c0622a1d794af6f204f55611b897b95d",
     "grade": true,
     "grade_id": "p-019",
     "locked": false,
     "points": 1,
     "schema_version": 3,
     "solution": true,
     "task": false
    }
   },
   "outputs": [],
   "source": [
    "\n",
    "./bbuf 1 2 1 1000 1000"
   ]
  },
  {
   "cell_type": "markdown",
   "metadata": {
    "deletable": false,
    "editable": false,
    "kernel": "SoS",
    "nbgrader": {
     "cell_type": "markdown",
     "checksum": "4bcb7a9d047690426776e70f1bdf1a4d",
     "grade": false,
     "grade_id": "c-024",
     "locked": true,
     "schema_version": 3,
     "solution": false,
     "task": false
    }
   },
   "source": [
    "* capacity < n"
   ]
  },
  {
   "cell_type": "code",
   "execution_count": null,
   "metadata": {
    "deletable": false,
    "kernel": "Bash",
    "nbgrader": {
     "cell_type": "code",
     "checksum": "f4df0efb9892d9f05f62e473a3d1b589",
     "grade": true,
     "grade_id": "p-020",
     "locked": false,
     "points": 1,
     "schema_version": 3,
     "solution": true,
     "task": false
    }
   },
   "outputs": [],
   "source": [
    "\n",
    "./bbuf 1 1 1 1000 100"
   ]
  },
  {
   "cell_type": "markdown",
   "metadata": {
    "deletable": false,
    "editable": false,
    "kernel": "SoS",
    "nbgrader": {
     "cell_type": "markdown",
     "checksum": "4652e84375a46e0a3a56f2c93b4c42a3",
     "grade": false,
     "grade_id": "c-025",
     "locked": true,
     "schema_version": 3,
     "solution": false,
     "task": false
    }
   },
   "source": [
    "# <font color=\"green\"> Problem 3 :  有限バッファの実装</font>"
   ]
  },
  {
   "cell_type": "markdown",
   "metadata": {
    "deletable": false,
    "editable": false,
    "kernel": "SoS",
    "nbgrader": {
     "cell_type": "markdown",
     "checksum": "43c9bd87568782b3d08c37bbf916c1dc",
     "grade": false,
     "grade_id": "c-026",
     "locked": true,
     "schema_version": 3,
     "solution": false,
     "task": false
    }
   },
   "source": [
    "* 有限バッファへmutex, 条件変数を導入し, 複数のスレッドが並行に動き, capacity < n であっても正しく動くようにせよ\n",
    "* 構造は, 両側飽和カウンタとよく似ているので参考にせよ"
   ]
  },
  {
   "cell_type": "code",
   "execution_count": null,
   "metadata": {
    "deletable": false,
    "kernel": "Python 3 (ipykernel)",
    "nbgrader": {
     "cell_type": "code",
     "checksum": "d30cee65958aed52efa372b9bd7aee7b",
     "grade": true,
     "grade_id": "p-021",
     "locked": false,
     "points": 1,
     "schema_version": 3,
     "solution": true,
     "task": false
    }
   },
   "outputs": [],
   "source": [
    "\n",
    "%%writefile bbuf.c\n",
    "#include <assert.h>\n",
    "#include <stdio.h>\n",
    "#include <stdlib.h>\n",
    "#include <time.h>\n",
    "#include <unistd.h>\n",
    "#include <omp.h>\n",
    "#include <pthread.h>\n",
    "\n",
    "void die(const char * msg) {\n",
    "  perror(msg); exit(1);\n",
    "}\n",
    "\n",
    "double cur_time() {\n",
    "  struct timespec ts[1];\n",
    "  clock_gettime(CLOCK_REALTIME, ts);\n",
    "  return ts->tv_nsec * 1.0E-9 + ts->tv_sec;\n",
    "}\n",
    "\n",
    "/* 有限バッファ\n",
    "   要素は必ず >= 0 とする */\n",
    "typedef struct {\n",
    "  long n_gets;                  /* getされた回数 */\n",
    "  long n_puts;                  /* putされた回数 */\n",
    "  long capacity;                /* 容量 */\n",
    "  long * a;                     /* 中身(capacity要素の配列) */\n",
    "  pthread_mutex_t m[1];\n",
    "} bounded_buffer_t;\n",
    "\n",
    "/* 容量 capacity で初期化 */\n",
    "void bounded_buffer_init(bounded_buffer_t * bb, long capacity) {\n",
    "  long * a = (long *)malloc(sizeof(long) * capacity);\n",
    "  if (!a) die(\"malloc\");\n",
    "  bb->a = a;\n",
    "  bb->capacity = capacity;\n",
    "  bb->n_gets = 0;\n",
    "  bb->n_puts = 0;\n",
    "  pthread_mutex_init(bb->m, 0);\n",
    "}\n",
    "\n",
    "/* 要素を追加 \n",
    " * 満杯だったら待つようにするのが課題\n",
    " * 以下はそのままだと満杯の場合は0を返す(間違い)\n",
    " */\n",
    "int bounded_buffer_put(bounded_buffer_t * bb, long x) {\n",
    "  long g = bb->n_gets;\n",
    "  long p = bb->n_puts;\n",
    "  long cap = bb->capacity;\n",
    "  assert(x >= 0);\n",
    "  if (p - g >= cap) {\n",
    "    return 0;                   /* NG */\n",
    "  }\n",
    "  bb->a[p % cap] = x;\n",
    "  bb->n_puts = p + 1;\n",
    "  return 1;                     /* OK */\n",
    "}\n",
    "\n",
    "/* 要素を取り出す\n",
    " * 空だったら待つようにするのが課題\n",
    " * 以下はそのままだと空の場合は-1を返す(間違い)\n",
    " */\n",
    "long bounded_buffer_get(bounded_buffer_t * bb) {\n",
    "  long g = bb->n_gets;\n",
    "  long p = bb->n_puts;\n",
    "  long cap = bb->capacity;\n",
    "  if (p - g <= 0) {\n",
    "    return -1;                  /* 空 */\n",
    "  }\n",
    "  long x = bb->a[g % cap];\n",
    "  bb->n_gets = g + 1;\n",
    "  assert(x >= 0);\n",
    "  return x;\n",
    "}\n",
    "\n",
    "int main(int argc, char ** argv) {\n",
    "  long i = 1;\n",
    "  /* putするスレッド数 */\n",
    "  int n_putter_threads = (argc > i ? atoi(argv[i]) : 1); i++;\n",
    "  /* getするスレッド数 */\n",
    "  int n_getter_threads = (argc > i ? atoi(argv[i]) : 1); i++;\n",
    "  /* putとgetの間にbarrierを入れるか? */\n",
    "  int barrier_between_puts_gets = (argc > i ? atoi(argv[i]) : 1); i++;\n",
    "  /* put (get)される回数 */\n",
    "  long n                = (argc > i ? atol(argv[i]) : 1000000); i++;\n",
    "  /* 容量 */\n",
    "  long capacity         = (argc > i ? atol(argv[i]) : 1000); i++;\n",
    "  /* 検証用(validate[x] == 1 iff getでxが取り出された) */\n",
    "  char * validate = (char *)calloc(n, 1);\n",
    "\n",
    "  bounded_buffer_t bb[1];\n",
    "  bounded_buffer_init(bb, capacity);\n",
    "\n",
    "  int nthreads = n_putter_threads + n_getter_threads;\n",
    "  pthread_barrier_t barrier[1];\n",
    "  pthread_barrier_init(barrier, 0, nthreads);\n",
    "\n",
    "  double t0 = cur_time();\n",
    "#pragma omp parallel num_threads(n_putter_threads + n_getter_threads)\n",
    "  {\n",
    "    int idx = omp_get_thread_num();\n",
    "    if (idx < n_putter_threads) {\n",
    "      /* I am a putter thread */\n",
    "      long a = n *  idx      / n_putter_threads;\n",
    "      long b = n * (idx + 1) / n_putter_threads;\n",
    "      /* 0,1,...,n-1 を1つずつput */\n",
    "      for (long x = a; x < b; x++) {\n",
    "        int ok = bounded_buffer_put(bb, x);\n",
    "        assert(ok);\n",
    "      }\n",
    "      if (barrier_between_puts_gets) {\n",
    "        /* putが全員終わってからget */\n",
    "        pthread_barrier_wait(barrier);\n",
    "      }\n",
    "    } else {\n",
    "      /* I am a getter thread */\n",
    "      idx -= n_putter_threads;\n",
    "      long a = n *  idx      / n_getter_threads;\n",
    "      long b = n * (idx + 1) / n_getter_threads;\n",
    "      if (barrier_between_puts_gets) {\n",
    "        /* putが全員終わってからget */\n",
    "        pthread_barrier_wait(barrier);\n",
    "      }\n",
    "      /* 合計n回get */\n",
    "      for (long x = a; x < b; x++) {\n",
    "        long x = bounded_buffer_get(bb);\n",
    "        assert(x >= 0);\n",
    "        assert(x < n);\n",
    "        assert(validate[x] == 0);\n",
    "        validate[x] = 1;\n",
    "      }\n",
    "    }\n",
    "  }\n",
    "  double t1 = cur_time();\n",
    "  printf(\"%f sec\\n\", t1 - t0);\n",
    "  for (long i = 0; i < n; i++) {\n",
    "    assert(validate[i]);\n",
    "  }\n",
    "  printf(\"OK\\n\");\n",
    "  return 0;\n",
    "}"
   ]
  },
  {
   "cell_type": "code",
   "execution_count": null,
   "metadata": {
    "deletable": false,
    "kernel": "Bash",
    "nbgrader": {
     "cell_type": "code",
     "checksum": "4501b2975d78af46eb74072fe68d3d64",
     "grade": true,
     "grade_id": "p-022",
     "locked": false,
     "points": 1,
     "schema_version": 3,
     "solution": true,
     "task": false
    }
   },
   "outputs": [],
   "source": [
    "\n",
    "gcc -Wall -fopenmp -o bbuf bbuf.c"
   ]
  },
  {
   "cell_type": "markdown",
   "metadata": {
    "deletable": false,
    "editable": false,
    "kernel": "SoS",
    "nbgrader": {
     "cell_type": "markdown",
     "checksum": "f96e4a71bfbb0c9c3a07824c1069f329",
     "grade": false,
     "grade_id": "c-027",
     "locked": true,
     "schema_version": 3,
     "solution": false,
     "task": false
    }
   },
   "source": [
    "* 色々なパラメータで実行してみよ"
   ]
  },
  {
   "cell_type": "code",
   "execution_count": null,
   "metadata": {
    "deletable": false,
    "kernel": "Bash",
    "nbgrader": {
     "cell_type": "code",
     "checksum": "737b98493548707dd9bf6c431e9c9a96",
     "grade": true,
     "grade_id": "p-023",
     "locked": false,
     "points": 1,
     "schema_version": 3,
     "solution": true,
     "task": false
    }
   },
   "outputs": [],
   "source": [
    "\n",
    "./bbuf 1 1 1 10 10"
   ]
  },
  {
   "cell_type": "markdown",
   "metadata": {
    "deletable": false,
    "editable": false,
    "kernel": "SoS",
    "nbgrader": {
     "cell_type": "markdown",
     "checksum": "80d47812bfaaa3d85caabb6aa4e1174a",
     "grade": false,
     "grade_id": "c-028",
     "locked": true,
     "schema_version": 3,
     "solution": false,
     "task": false
    }
   },
   "source": [
    "* 以下でテストせよ\n",
    "\n",
    "* putとgetが並行"
   ]
  },
  {
   "cell_type": "code",
   "execution_count": null,
   "metadata": {
    "deletable": false,
    "kernel": "Bash",
    "nbgrader": {
     "cell_type": "code",
     "checksum": "275d2f6c1f80a5353d75271c76596412",
     "grade": true,
     "grade_id": "p-024",
     "locked": false,
     "points": 1,
     "schema_version": 3,
     "solution": true,
     "task": false
    }
   },
   "outputs": [],
   "source": [
    "\n",
    "./bbuf 1 1 0 100000 100"
   ]
  },
  {
   "cell_type": "markdown",
   "metadata": {
    "deletable": false,
    "editable": false,
    "kernel": "SoS",
    "nbgrader": {
     "cell_type": "markdown",
     "checksum": "4d9f8a556b4fd5ac90fa45139081c53d",
     "grade": false,
     "grade_id": "c-029",
     "locked": true,
     "schema_version": 3,
     "solution": false,
     "task": false
    }
   },
   "source": [
    "* 多数のput/getが並行"
   ]
  },
  {
   "cell_type": "code",
   "execution_count": null,
   "metadata": {
    "deletable": false,
    "kernel": "Bash",
    "nbgrader": {
     "cell_type": "code",
     "checksum": "bd9fbb0ba99d3cc9a4baf3cde191611a",
     "grade": true,
     "grade_id": "p-025",
     "locked": false,
     "points": 1,
     "schema_version": 3,
     "solution": true,
     "task": false
    }
   },
   "outputs": [],
   "source": [
    "\n",
    "./bbuf 10 20 0 100000 100"
   ]
  },
  {
   "cell_type": "code",
   "execution_count": null,
   "metadata": {
    "deletable": false,
    "kernel": "Bash",
    "nbgrader": {
     "cell_type": "code",
     "checksum": "8f6cd61209078439800de328ae284453",
     "grade": true,
     "grade_id": "p-026",
     "locked": false,
     "points": 1,
     "schema_version": 3,
     "solution": true,
     "task": false
    }
   },
   "outputs": [],
   "source": [
    "\n",
    "./bbuf 20 10 0 100000 100"
   ]
  },
  {
   "cell_type": "markdown",
   "metadata": {
    "deletable": false,
    "editable": false,
    "kernel": "SoS",
    "nbgrader": {
     "cell_type": "markdown",
     "checksum": "6db8145d8ceb96b4524d7af17c438c35",
     "grade": false,
     "grade_id": "c-030",
     "locked": true,
     "schema_version": 3,
     "solution": false,
     "task": false
    }
   },
   "source": [
    "* 極端にcapacityが少ない"
   ]
  },
  {
   "cell_type": "code",
   "execution_count": null,
   "metadata": {
    "deletable": false,
    "kernel": "Bash",
    "nbgrader": {
     "cell_type": "code",
     "checksum": "15f291e85439c647bcd0248e9edd2964",
     "grade": true,
     "grade_id": "p-027",
     "locked": false,
     "points": 1,
     "schema_version": 3,
     "solution": true,
     "task": false
    }
   },
   "outputs": [],
   "source": [
    "\n",
    "./bbuf 20 30 0 100000 1"
   ]
  },
  {
   "cell_type": "code",
   "execution_count": null,
   "metadata": {
    "deletable": false,
    "kernel": "Bash",
    "nbgrader": {
     "cell_type": "code",
     "checksum": "37aac2ef3cf4edb3f9ce644085a93a50",
     "grade": true,
     "grade_id": "p-028",
     "locked": false,
     "points": 1,
     "schema_version": 3,
     "solution": true,
     "task": false
    }
   },
   "outputs": [],
   "source": [
    "\n",
    "./bbuf 30 20 0 100000 1"
   ]
  }
 ],
 "metadata": {
  "kernelspec": {
   "display_name": "SoS",
   "language": "sos",
   "name": "sos"
  },
  "language_info": {
   "codemirror_mode": "sos",
   "file_extension": ".sos",
   "mimetype": "text/x-sos",
   "name": "sos",
   "nbconvert_exporter": "sos_notebook.converter.SoS_Exporter",
   "pygments_lexer": "sos"
  },
  "sos": {
   "kernels": [
    [
     "Bash",
     "bash",
     "bash",
     "",
     "shell"
    ],
    [
     "C",
     "c_kernel",
     "c",
     "",
     ""
    ],
    [
     "Go",
     "gophernotes",
     "go",
     "",
     ""
    ],
    [
     "Julia 1.4.1",
     "julia-1.4",
     "julia",
     "",
     ""
    ],
    [
     "OCaml default",
     "ocaml-jupyter",
     "OCaml",
     "",
     "text/x-ocaml"
    ],
    [
     "Python 3 (ipykernel)",
     "python3",
     "python3",
     "",
     {
      "name": "ipython",
      "version": 3
     }
    ],
    [
     "Rust",
     "rust",
     "rust",
     "",
     ""
    ]
   ],
   "panel": {
    "displayed": true,
    "height": 0
   },
   "version": "0.23.3"
  }
 },
 "nbformat": 4,
 "nbformat_minor": 4
}
