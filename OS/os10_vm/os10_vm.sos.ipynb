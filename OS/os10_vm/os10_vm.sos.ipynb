{
 "cells": [
  {
   "cell_type": "markdown",
   "metadata": {
    "deletable": false,
    "editable": false,
    "kernel": "SoS",
    "nbgrader": {
     "cell_type": "markdown",
     "checksum": "1f17dcba355c714bcb8ec780ff8d28ac",
     "grade": false,
     "grade_id": "c-001",
     "locked": true,
     "schema_version": 3,
     "solution": false,
     "task": false
    }
   },
   "source": [
    "#  オペレーティングシステム 演習 10\n",
    "#  メモリ管理, ページング"
   ]
  },
  {
   "cell_type": "markdown",
   "metadata": {
    "kernel": "SoS",
    "nbgrader": {
     "grade": false,
     "grade_id": "c-002",
     "locked": false,
     "schema_version": 3,
     "solution": false,
     "task": false
    }
   },
   "source": [
    "名前と学生証番号を書け. Enter your name and student ID.\n",
    "\n",
    " * 名前 Name:\n",
    " * 学生証番号 Student ID:"
   ]
  },
  {
   "cell_type": "markdown",
   "metadata": {
    "deletable": false,
    "editable": false,
    "kernel": "SoS",
    "nbgrader": {
     "cell_type": "markdown",
     "checksum": "a6abc2fbd2d23af8e2e69985de6e90f4",
     "grade": false,
     "grade_id": "c-003",
     "locked": true,
     "schema_version": 3,
     "solution": false,
     "task": false
    }
   },
   "source": [
    "# 1. 仮想記憶の状態を知るためのコマンド\n",
    "## 1-1. free\n",
    "* システムメモリ量"
   ]
  },
  {
   "cell_type": "code",
   "execution_count": null,
   "metadata": {
    "kernel": "Bash",
    "nbgrader": {
     "grade": false,
     "grade_id": "c-004",
     "locked": false,
     "schema_version": 3,
     "solution": false,
     "task": false
    }
   },
   "outputs": [],
   "source": [
    "free"
   ]
  },
  {
   "cell_type": "markdown",
   "metadata": {
    "deletable": false,
    "editable": false,
    "kernel": "SoS",
    "nbgrader": {
     "cell_type": "markdown",
     "checksum": "08d6ef08618726c072803fa78d771272",
     "grade": false,
     "grade_id": "c-005",
     "locked": true,
     "schema_version": 3,
     "solution": false,
     "task": false
    }
   },
   "source": [
    "## 1-2. ps\n",
    "* プロセス一覧が主目的だが, プロセスのメモリ使用量も表示している\n",
    "  * VSZ : Virtual memory size 仮想メモリの使用量\n",
    "  * RSS : Resident Set Size 物理メモリの使用量"
   ]
  },
  {
   "cell_type": "code",
   "execution_count": null,
   "metadata": {
    "kernel": "Bash",
    "nbgrader": {
     "grade": false,
     "grade_id": "c-006",
     "locked": false,
     "schema_version": 3,
     "solution": false,
     "task": false
    }
   },
   "outputs": [],
   "source": [
    "ps auxww | head"
   ]
  },
  {
   "cell_type": "markdown",
   "metadata": {
    "deletable": false,
    "editable": false,
    "kernel": "SoS",
    "nbgrader": {
     "cell_type": "markdown",
     "checksum": "dd09d7f34535b308fd6d2b47e8515286",
     "grade": false,
     "grade_id": "c-007",
     "locked": true,
     "schema_version": 3,
     "solution": false,
     "task": false
    }
   },
   "source": [
    "## 1-3. /usr/bin/time\n",
    "* コマンドの実行にかかった時間を表示するというのが主目的だが実際には, プロセスの種々のリソース使用量(時間, CPU時間, メモリ, etc.)を表示する\n",
    "* 特に\n",
    "  * maxresident 物理メモリ利用量の最大値\n",
    "  * major pagefaults\n",
    "  * minor pagefaults\n",
    "を表示してくれる"
   ]
  },
  {
   "cell_type": "code",
   "execution_count": null,
   "metadata": {
    "kernel": "Bash",
    "nbgrader": {
     "grade": false,
     "grade_id": "c-008",
     "locked": false,
     "schema_version": 3,
     "solution": false,
     "task": false
    }
   },
   "outputs": [],
   "source": [
    "/usr/bin/time ls"
   ]
  },
  {
   "cell_type": "markdown",
   "metadata": {
    "deletable": false,
    "editable": false,
    "kernel": "SoS",
    "nbgrader": {
     "cell_type": "markdown",
     "checksum": "05e3f2b82c8ae4433168048eaa0a0026",
     "grade": false,
     "grade_id": "c-009",
     "locked": true,
     "schema_version": 3,
     "solution": false,
     "task": false
    }
   },
   "source": [
    "* manを見るとわかるがオプション次第で色々なものを表示してくれる\n",
    "* getrsuageというシステムコールのコマンド版\n",
    "\n",
    "## 1-4. top\n",
    "* プロセス一覧が主目的だが, freeと同等の情報も表示している\n",
    "* 端末内での実行が基本\n",
    "\n",
    "```\n",
    "top\n",
    "```\n",
    "\n",
    "## 1-5. vmstat\n",
    "* システム全体の仮想記憶関係のアクティビティ(使用されている物理メモリ量, スワップアウト, スワップインの量など)を継続的に表示してくれる\n",
    "* 以下は1秒毎に表示してくれる\n",
    "* <font color=\"red\">放っておくと終了しないので適当なところで ■ ボタンを押して止める</font>"
   ]
  },
  {
   "cell_type": "code",
   "execution_count": null,
   "metadata": {
    "kernel": "Bash",
    "nbgrader": {
     "grade": false,
     "grade_id": "c-010",
     "locked": false,
     "schema_version": 3,
     "solution": false,
     "task": false
    }
   },
   "outputs": [],
   "source": [
    "vmstat 1"
   ]
  },
  {
   "cell_type": "markdown",
   "metadata": {
    "deletable": false,
    "editable": false,
    "kernel": "SoS",
    "nbgrader": {
     "cell_type": "markdown",
     "checksum": "4e1787d6dc5bb350d05730a9e9c5bf56",
     "grade": false,
     "grade_id": "c-011",
     "locked": true,
     "schema_version": 3,
     "solution": false,
     "task": false
    }
   },
   "source": [
    "# 2. 要求時ページング\n",
    "* OSから割り当てられたメモリ領域は, 割り当てられた時点では物理メモリは割り当てられていない\n",
    "* あるページに初めてアクセスしたときに<font color=\"blue\">ページフォルト</font>がおき, そのときにOSが物理ページを割り当てる\n",
    "* したがってメモリ割り当てそのものは大きな領域でもすぐに終わるし, 物理メモリ量を超える領域も割り当てることが出来る\n",
    "* その後実際にアクセスした領域に対して時間がかかる\n",
    "\n",
    "* 以下のプログラムは\n",
    "  * 大きな配列(Nバイト)を割り当てる\n",
    "  * それをある間隔(Sバイト)で何度もアクセスする. 配列の最後まで行ったら先頭に戻る. 正確にはi回目は(S * i) % Nバイト目をアクセスする\n",
    "  * それをしながら時折, 時間とページフォルト数を計測する\n",
    "  * ある回数ごとに一回, iの値を表示する"
   ]
  },
  {
   "cell_type": "code",
   "execution_count": null,
   "metadata": {
    "kernel": "Python 3 (ipykernel)",
    "nbgrader": {
     "grade": false,
     "grade_id": "c-012",
     "locked": false,
     "schema_version": 3,
     "solution": false,
     "task": false
    }
   },
   "outputs": [],
   "source": [
    "%%writefile page_fault_rec.c\n",
    "//% file: page_fault_rec_1.c\n",
    "//% cmd: gcc -O3 -Wall -Wextra -o page_fault_rec_1 page_fault_rec_1.c\n",
    "\n",
    "#include <assert.h>\n",
    "#include <err.h>\n",
    "#include <fcntl.h>\n",
    "#include <limits.h>\n",
    "#include <math.h>\n",
    "#include <stdio.h>\n",
    "#include <stdlib.h>\n",
    "#include <string.h>\n",
    "#include <sys/mman.h>\n",
    "#include <sys/resource.h>\n",
    "#include <sys/stat.h>\n",
    "#include <sys/time.h>\n",
    "#include <sys/types.h>\n",
    "#include <unistd.h>\n",
    "\n",
    "const long page_sz = 4096;\n",
    "\n",
    "/* 実行時間とページフォルト回数の記録 */\n",
    "typedef struct {\n",
    "  struct timeval tv;\n",
    "  struct rusage ru;\n",
    "} timeval_rusage;\n",
    "\n",
    "/* 実行時間とページフォルト回数をtrに記録する */\n",
    "void record_timeval_rusage(timeval_rusage * tr) {\n",
    "  if (gettimeofday(&tr->tv, 0) == -1) { err(1, \"gettimeofday\"); }\n",
    "  if (getrusage(RUSAGE_SELF, &tr->ru) == -1) { err(1, \"getrusage\"); }\n",
    "}\n",
    "\n",
    "/* 実行時間とページフォルト回数の記録tr[0]〜tr[n_records-1]\n",
    "   をファイルtime_usage_datに保存する */\n",
    "void save_timeval_rusage(const char * time_usage_dat,\n",
    "                         timeval_rusage * tr,\n",
    "                         long n_records,\n",
    "                         long record_interval) {\n",
    "  FILE * wp = fopen(time_usage_dat, \"w\");\n",
    "  if (!wp) { err(1, \"fopen\"); }\n",
    "  for (long i = 0; i < n_records; i++) {\n",
    "    fprintf(wp, \"%ld\\t%f\\t%ld\\t%ld\\n\", \n",
    "            i * record_interval * 4096,\n",
    "            tr[i].tv.tv_sec + tr[i].tv.tv_usec * 1.0e-6,\n",
    "            tr[i].ru.ru_minflt,\n",
    "            tr[i].ru.ru_majflt);\n",
    "  }\n",
    "  fclose(wp);\n",
    "}\n",
    "\n",
    "\n",
    "\n",
    "\n",
    "/* \n",
    "   usage:\n",
    "     ./page_fault_rec N S A RI\n",
    "   (1) N MBの領域を割り当てる (デフォルト64 MB)\n",
    "   (2) S > 0ならば二つのアクセス間の距離 (デフォルト 4096) -1ならばランダム\n",
    "   (3) A 回 (2)に従ってページをアクセス (デフォルト -1). -1の場合, A = N * 256 * 3\n",
    "       (N MB のページ数 x 3)\n",
    "   (4) RIアクセスごとに時刻と, ページフォルト数を記録する \n",
    "       (デフォルト 500アクセス)\n",
    " */\n",
    "\n",
    "int main(int argc, char ** argv) {\n",
    "  int i = 1;\n",
    "  /* 配列のサイズ(MB) */\n",
    "  long n_mb            = (argc > i ? atol(argv[i]) : 64); i++;\n",
    "  /* STRIDE>0 -> バイト飛ばしでアクセス */\n",
    "  long stride          = (argc > i ? atol(argv[i]) : page_sz); i++;\n",
    "  /* アクセス回数(デフォルトは配列のページ数 x 3回) */\n",
    "  long n_accesses      = (argc > i ? atol(argv[i]) : -1); i++;\n",
    "  /* 記録間隔 */\n",
    "  long record_interval = (argc > i ? atol(argv[i]) : 500); i++;\n",
    "  long sz = n_mb * 1024L * 1024L; /* size in bytes */\n",
    "  long n_pages = (sz + page_sz - 1) / page_sz;\n",
    "  if (n_accesses == -1) n_accesses = n_pages * 3;\n",
    "  long n_records = (n_accesses + record_interval - 1) / record_interval;\n",
    "  char * a = (char *)sbrk(sz);\n",
    "  if (!a) { err(1, \"sbrk\"); }\n",
    "  timeval_rusage * tr = malloc(sizeof(timeval_rusage) * n_records);\n",
    "  if (!tr) { err(1, \"malloc\"); }\n",
    "  long idx = 0;                 /* 次にアクセスする要素 */\n",
    "  /* report_interval 回アクセスごとに . を打つ */\n",
    "  const long n_dots = 100;\n",
    "  long report_interval = (n_accesses + n_dots - 1) / n_dots;\n",
    "\n",
    "  fprintf(stderr, \"touching %ld MB %ld times\\n\", n_mb, n_accesses);\n",
    "  long s = 0;\n",
    "  for (long i = 0; i < n_accesses; i++) {\n",
    "    if (i % report_interval == 0) {\n",
    "      /* 進捗表示 */\n",
    "      putchar('.'); fflush(stdout);\n",
    "    }\n",
    "    if (i % record_interval == 0) {\n",
    "      /* 時間を記録 */\n",
    "      long k = i / record_interval; /* 記録回数 */\n",
    "      assert(k < n_records);\n",
    "      record_timeval_rusage(&tr[k]);\n",
    "    }\n",
    "    idx = idx % sz;\n",
    "    s += (a[idx]++);\n",
    "    idx += stride;\n",
    "  }\n",
    "  assert((n_accesses - 1) / record_interval + 1 == n_records);\n",
    "  /* save time and page faults */\n",
    "  save_timeval_rusage(\"time_rusage.dat\", tr, n_records, record_interval);\n",
    "  printf(\"\\ndone s = %ld\\n\", s);\n",
    "  return 0;\n",
    "}\n"
   ]
  },
  {
   "cell_type": "code",
   "execution_count": null,
   "metadata": {
    "kernel": "Bash",
    "nbgrader": {
     "grade": false,
     "grade_id": "c-013",
     "locked": false,
     "schema_version": 3,
     "solution": false,
     "task": false
    }
   },
   "outputs": [],
   "source": [
    "gcc -Wall -O3 -o page_fault_rec page_fault_rec.c"
   ]
  },
  {
   "cell_type": "markdown",
   "metadata": {
    "deletable": false,
    "editable": false,
    "kernel": "SoS",
    "nbgrader": {
     "cell_type": "markdown",
     "checksum": "47b8cb17d46e95bfe4693d2e72227565",
     "grade": false,
     "grade_id": "c-014",
     "locked": true,
     "schema_version": 3,
     "solution": false,
     "task": false
    }
   },
   "source": [
    "* 以下のコマンドは, 192MBの配列を4096バイトごとに, (256 * 192 * 3)回アクセスする\n",
    "* 回数は, 192MBの配列の全ページを3回アクセスする回数(256回=1MB)"
   ]
  },
  {
   "cell_type": "code",
   "execution_count": null,
   "metadata": {
    "kernel": "Python 3 (ipykernel)",
    "nbgrader": {
     "grade": false,
     "grade_id": "c-015",
     "locked": false,
     "schema_version": 3,
     "solution": false,
     "task": false
    }
   },
   "outputs": [],
   "source": [
    "%system\n",
    "! N=192; ./page_fault_rec ${N} 4096 $((256 * ${N} * 3)) 500"
   ]
  },
  {
   "cell_type": "markdown",
   "metadata": {
    "deletable": false,
    "editable": false,
    "kernel": "SoS",
    "nbgrader": {
     "cell_type": "markdown",
     "checksum": "18d352b070913c56ee82f7e46b11cb29",
     "grade": false,
     "grade_id": "c-016",
     "locked": true,
     "schema_version": 3,
     "solution": false,
     "task": false
    }
   },
   "source": [
    "* <font color=\"purple\">以下のNを変えて(大きくして)みよ</font>\n",
    "* よく見ると1回目と2回目以降で速度が違うことを目視してみよ"
   ]
  },
  {
   "cell_type": "code",
   "execution_count": null,
   "metadata": {
    "kernel": "Python 3 (ipykernel)",
    "nbgrader": {
     "grade": false,
     "grade_id": "c-017",
     "locked": false,
     "schema_version": 3,
     "solution": false,
     "task": false
    }
   },
   "outputs": [],
   "source": [
    "%system\n",
    "! N=192; ./page_fault_rec ${N} 4096 $((256 * ${N} * 3)) 500"
   ]
  },
  {
   "cell_type": "markdown",
   "metadata": {
    "deletable": false,
    "editable": false,
    "kernel": "SoS",
    "nbgrader": {
     "cell_type": "markdown",
     "checksum": "15a7dd9e490a9f4e976d1180479eb640",
     "grade": false,
     "grade_id": "c-018",
     "locked": true,
     "schema_version": 3,
     "solution": false,
     "task": false
    }
   },
   "source": [
    "* 以下はこの結果を可視化する"
   ]
  },
  {
   "cell_type": "code",
   "execution_count": null,
   "metadata": {
    "kernel": "Python 3 (ipykernel)",
    "nbgrader": {
     "grade": false,
     "grade_id": "c-019",
     "locked": false,
     "schema_version": 3,
     "solution": false,
     "task": false
    }
   },
   "outputs": [],
   "source": [
    "#!/usr/bin/python3\n",
    "import sys\n",
    "import re\n",
    "import matplotlib.collections as mc\n",
    "import matplotlib.pyplot as plt\n",
    "import numpy as np\n",
    "\n",
    "def read_dat(dat):\n",
    "    # 2\t0.000598\t0\t1025\n",
    "    pat = re.compile(\"(?P<accessed>\\d+)\t(?P<t>\\d+\\.\\d+)\t(?P<minflt>\\d+)\t(?P<majflt>\\d+)\")\n",
    "    log = []\n",
    "    with open(dat) as fp:\n",
    "        for line in fp:\n",
    "            m = pat.match(line)\n",
    "            if not m:\n",
    "                sys.stderr.write(\"warning: ignore line [%s]\\n\" % line.rstrip())\n",
    "                continue\n",
    "            D = m.groupdict()\n",
    "            D = {k : float(D[k]) for k in D}\n",
    "            log.append(D)\n",
    "    return log\n",
    "    \n",
    "def progress_plt(dat, xlabel, ylabel):\n",
    "    log = read_dat(dat)\n",
    "    fig, ax = plt.subplots()\n",
    "    X = np.array([d[xlabel] for d in log])\n",
    "    Y = np.array([d[ylabel] for d in log])\n",
    "    ax.plot(X, Y - Y[0])\n",
    "    ax.autoscale()\n",
    "    plt.title(dat)\n",
    "    plt.xlabel(xlabel)\n",
    "    plt.ylabel(ylabel)\n",
    "    plt.show()\n",
    "\n",
    "def main():\n",
    "    time_rusage_dat = sys.argv[1]\n",
    "    progress_plt(time_rusage_dat, \"accessed\", \"t\")\n",
    "    progress_plt(time_rusage_dat, \"accessed\", \"minflt\")\n",
    "    progress_plt(time_rusage_dat, \"accessed\", \"majflt\")\n",
    "    \n",
    "if sys.argv[0].endswith(\"page_fault_vis.py\"):\n",
    "    main()\n"
   ]
  },
  {
   "cell_type": "markdown",
   "metadata": {
    "deletable": false,
    "editable": false,
    "kernel": "SoS",
    "nbgrader": {
     "cell_type": "markdown",
     "checksum": "c7c83cf7f9fff3272fbc8c250fd19817",
     "grade": false,
     "grade_id": "c-020",
     "locked": true,
     "schema_version": 3,
     "solution": false,
     "task": false
    }
   },
   "source": [
    "* アクセス量 vs 時間の表示"
   ]
  },
  {
   "cell_type": "code",
   "execution_count": null,
   "metadata": {
    "kernel": "Python 3 (ipykernel)",
    "nbgrader": {
     "grade": false,
     "grade_id": "c-021",
     "locked": false,
     "schema_version": 3,
     "solution": false,
     "task": false
    }
   },
   "outputs": [],
   "source": [
    "progress_plt(\"time_rusage.dat\", \"accessed\", \"t\")"
   ]
  },
  {
   "cell_type": "markdown",
   "metadata": {
    "deletable": false,
    "editable": false,
    "kernel": "SoS",
    "nbgrader": {
     "cell_type": "markdown",
     "checksum": "c26c6a211c1beadabfc8b7e90f74a6dd",
     "grade": false,
     "grade_id": "c-022",
     "locked": true,
     "schema_version": 3,
     "solution": false,
     "task": false
    }
   },
   "source": [
    "* getrusageというシステムコールでページフォルトの回数を取得できる\n",
    "\n",
    "* アクセス量 vs マイナーページフォルトの表示\n",
    "* マイナーページフォルトはページフォルトの中で, IOが発生しない(初めてのアクセスでおきる)もの\n",
    "* どのようなグラフが現れるか予想してから実行せよ\n",
    "* Nを変えて, 回数がどう変わるか, それが理にかなっているか確認せよ"
   ]
  },
  {
   "cell_type": "code",
   "execution_count": null,
   "metadata": {
    "kernel": "Python 3 (ipykernel)",
    "nbgrader": {
     "grade": false,
     "grade_id": "c-023",
     "locked": false,
     "schema_version": 3,
     "solution": false,
     "task": false
    }
   },
   "outputs": [],
   "source": [
    "progress_plt(\"time_rusage.dat\", \"accessed\", \"minflt\")"
   ]
  },
  {
   "cell_type": "markdown",
   "metadata": {
    "deletable": false,
    "editable": false,
    "kernel": "SoS",
    "nbgrader": {
     "cell_type": "markdown",
     "checksum": "1b93485a0f688c3987e4883fc7bcb0da",
     "grade": false,
     "grade_id": "c-024",
     "locked": true,
     "schema_version": 3,
     "solution": false,
     "task": false
    }
   },
   "source": [
    "* アクセス量 vs メジャーページフォルトの表示\n",
    "* メジャーページフォルトはページフォルトの中で, IOが発生する(一度アクセスした後2次記憶に追い出されたページをまたアクセスしたときにおきる)もの\n",
    "* この実行でメジャーページフォルトはおきるか? どのようなグラフが現れるか考えてから実行せよ"
   ]
  },
  {
   "cell_type": "code",
   "execution_count": null,
   "metadata": {
    "kernel": "Python 3 (ipykernel)",
    "nbgrader": {
     "grade": false,
     "grade_id": "c-025",
     "locked": false,
     "schema_version": 3,
     "solution": false,
     "task": false
    }
   },
   "outputs": [],
   "source": [
    "progress_plt(\"time_rusage.dat\", \"accessed\", \"majflt\")"
   ]
  },
  {
   "cell_type": "markdown",
   "metadata": {
    "deletable": false,
    "editable": false,
    "kernel": "SoS",
    "nbgrader": {
     "cell_type": "markdown",
     "checksum": "5e76fc50fe3000e0a36f892a2ac2d47c",
     "grade": false,
     "grade_id": "c-026",
     "locked": true,
     "schema_version": 3,
     "solution": false,
     "task": false
    }
   },
   "source": [
    "# 3. cgroupによるメモリ使用量の制限\n",
    "* メジャーページフォルトは物理メモリが逼迫したときに起こるので, 通常はおこらない\n",
    "* 実際それが起きるような状況は, 「メモリが足りない」という状況で, コンピュータの動作事態に悪影響がある\n",
    "* Jupyterの実験環境は128GBのメモリを搭載しているが, 無理矢理128GBのメモリを使って実行したら, 悲惨なことが起きるので決してやらないこと\n",
    "* ここでは Linux のcgroupという仕組みを使って特定プロセスに対してメモリ量を制限して実行する\n",
    "* 細かい仕組みは省略するが, 以下(cg_mem_limit)は, cgroupを用いて256MBにメモリ使用量を制限した上で実行するコマンド"
   ]
  },
  {
   "cell_type": "code",
   "execution_count": null,
   "metadata": {
    "kernel": "Python 3 (ipykernel)",
    "nbgrader": {
     "grade": false,
     "grade_id": "c-027",
     "locked": false,
     "schema_version": 3,
     "solution": false,
     "task": false
    }
   },
   "outputs": [],
   "source": [
    "%system\n",
    "! N=192; cg_mem_limit ./page_fault_rec ${N} 4096 $((256 * ${N} * 3)) 500"
   ]
  },
  {
   "cell_type": "markdown",
   "metadata": {
    "deletable": false,
    "editable": false,
    "kernel": "SoS",
    "nbgrader": {
     "cell_type": "markdown",
     "checksum": "4e605ace2c256fa750c65d885b1e5713",
     "grade": false,
     "grade_id": "c-028",
     "locked": true,
     "schema_version": 3,
     "solution": false,
     "task": false
    }
   },
   "source": [
    "* 以下でNを変えて, 256MBよりも少し小さな, または少し大きな配列をアクセスするようにしてみよ\n",
    "* 256MBよりも大きな配列をアクセスしつつ, ストライド(以下の4096)を変えて見よ. 例えば8192にすると, 2ページに一回アクセスすることになる. 結果を予想しつつ実験せよ"
   ]
  },
  {
   "cell_type": "code",
   "execution_count": null,
   "metadata": {
    "kernel": "Python 3 (ipykernel)",
    "nbgrader": {
     "grade": false,
     "grade_id": "c-029",
     "locked": false,
     "schema_version": 3,
     "solution": false,
     "task": false
    }
   },
   "outputs": [],
   "source": [
    "%system\n",
    "! N=192; cg_mem_limit ./page_fault_rec ${N} 4096 $((256 * ${N} * 3)) 500"
   ]
  },
  {
   "cell_type": "markdown",
   "metadata": {
    "deletable": false,
    "editable": false,
    "kernel": "SoS",
    "nbgrader": {
     "cell_type": "markdown",
     "checksum": "6f7ca93e932015fdffb108bb075a9b45",
     "grade": false,
     "grade_id": "c-030",
     "locked": true,
     "schema_version": 3,
     "solution": false,
     "task": false
    }
   },
   "source": [
    "* 時間"
   ]
  },
  {
   "cell_type": "code",
   "execution_count": null,
   "metadata": {
    "kernel": "Python 3 (ipykernel)",
    "nbgrader": {
     "grade": false,
     "grade_id": "c-031",
     "locked": false,
     "schema_version": 3,
     "solution": false,
     "task": false
    }
   },
   "outputs": [],
   "source": [
    "progress_plt(\"time_rusage.dat\", \"accessed\", \"t\")"
   ]
  },
  {
   "cell_type": "markdown",
   "metadata": {
    "deletable": false,
    "editable": false,
    "kernel": "SoS",
    "nbgrader": {
     "cell_type": "markdown",
     "checksum": "b330f33b3cfe3db47d0072372d6268a0",
     "grade": false,
     "grade_id": "c-032",
     "locked": true,
     "schema_version": 3,
     "solution": false,
     "task": false
    }
   },
   "source": [
    "* マイナーフォルト"
   ]
  },
  {
   "cell_type": "code",
   "execution_count": null,
   "metadata": {
    "kernel": "Python 3 (ipykernel)",
    "nbgrader": {
     "grade": false,
     "grade_id": "c-033",
     "locked": false,
     "schema_version": 3,
     "solution": false,
     "task": false
    }
   },
   "outputs": [],
   "source": [
    "progress_plt(\"time_rusage.dat\", \"accessed\", \"minflt\")"
   ]
  },
  {
   "cell_type": "markdown",
   "metadata": {
    "deletable": false,
    "editable": false,
    "kernel": "SoS",
    "nbgrader": {
     "cell_type": "markdown",
     "checksum": "0e63faaf0636330472b74d6552c76a24",
     "grade": false,
     "grade_id": "c-034",
     "locked": true,
     "schema_version": 3,
     "solution": false,
     "task": false
    }
   },
   "source": [
    "* メジャーフォルト"
   ]
  },
  {
   "cell_type": "code",
   "execution_count": null,
   "metadata": {
    "kernel": "Python 3 (ipykernel)",
    "nbgrader": {
     "grade": false,
     "grade_id": "c-035",
     "locked": false,
     "schema_version": 3,
     "solution": false,
     "task": false
    }
   },
   "outputs": [],
   "source": [
    "progress_plt(\"time_rusage.dat\", \"accessed\", \"majflt\")"
   ]
  },
  {
   "cell_type": "markdown",
   "metadata": {
    "deletable": false,
    "editable": false,
    "kernel": "SoS",
    "nbgrader": {
     "cell_type": "markdown",
     "checksum": "55119db75e0c25c03807e577ee1ae841",
     "grade": false,
     "grade_id": "c-036",
     "locked": true,
     "schema_version": 3,
     "solution": false,
     "task": false
    }
   },
   "source": [
    "# 4. ページ置換の可視化\n",
    "* Linuxでは mincore というシステムコールを用いて, どのページに物理メモリが割り当てられているかを取得できる\n",
    "* 以下はそれを用いて, どのページに物理メモリが割り当てられているかを記録する"
   ]
  },
  {
   "cell_type": "code",
   "execution_count": null,
   "metadata": {
    "kernel": "Python 3 (ipykernel)",
    "nbgrader": {
     "grade": false,
     "grade_id": "c-037",
     "locked": false,
     "schema_version": 3,
     "solution": false,
     "task": false
    }
   },
   "outputs": [],
   "source": [
    "%%writefile mincore_rec.c\n",
    "//% file: page_fault_rec_2.c\n",
    "//% cmd: gcc -O3 -Wall -Wextra -o page_fault_rec_2 page_fault_rec_2.c\n",
    "\n",
    "#include <assert.h>\n",
    "#include <err.h>\n",
    "#include <fcntl.h>\n",
    "#include <limits.h>\n",
    "#include <math.h>\n",
    "#include <stdio.h>\n",
    "#include <stdlib.h>\n",
    "#include <string.h>\n",
    "#include <sys/mman.h>\n",
    "#include <sys/resource.h>\n",
    "#include <sys/stat.h>\n",
    "#include <sys/time.h>\n",
    "#include <sys/types.h>\n",
    "#include <unistd.h>\n",
    "\n",
    "const long page_sz = 4096;\n",
    "\n",
    "/* 実行時間とページフォルト回数の記録 */\n",
    "typedef struct {\n",
    "  struct timeval tv;\n",
    "  struct rusage ru;\n",
    "} timeval_rusage;\n",
    "\n",
    "/* 実行時間とページフォルト回数をtrに記録する */\n",
    "void record_timeval_rusage(timeval_rusage * tr) {\n",
    "  if (gettimeofday(&tr->tv, 0) == -1) { err(1, \"gettimeofday\"); }\n",
    "  if (getrusage(RUSAGE_SELF, &tr->ru) == -1) { err(1, \"getrusage\"); }\n",
    "}\n",
    "\n",
    "/* 実行時間とページフォルト回数の記録tr[0]〜tr[n_records-1]\n",
    "   をファイルtime_usage_datに保存する */\n",
    "void save_timeval_rusage(const char * time_usage_dat,\n",
    "                         timeval_rusage * tr,\n",
    "                         long n_records,\n",
    "                         long record_interval) {\n",
    "  FILE * wp = fopen(time_usage_dat, \"w\");\n",
    "  if (!wp) { err(1, \"fopen\"); }\n",
    "  for (long i = 0; i < n_records; i++) {\n",
    "    fprintf(wp, \"%ld\\t%f\\t%ld\\t%ld\\n\", \n",
    "            i * record_interval * 4096,\n",
    "            tr[i].tv.tv_sec + tr[i].tv.tv_usec * 1.0e-6,\n",
    "            tr[i].ru.ru_minflt,\n",
    "            tr[i].ru.ru_majflt);\n",
    "  }\n",
    "  fclose(wp);\n",
    "}\n",
    "\n",
    "/* addr[0:length]中のどのページがメモリ上にあるか\n",
    "   + 最後にアクセスしたアドレス(last_accessed)を記録する */\n",
    "void record_incore(FILE * wp, \n",
    "\t\t   void * addr, size_t length, unsigned char * R,\n",
    "\t\t   long * mru, long n_mru) {\n",
    "  size_t n_pages = (length + page_sz - 1) / page_sz;\n",
    "  struct timeval tp[1];\n",
    "  if (gettimeofday(tp, NULL) == -1) { perror(\"gettimeofday\"); exit(1); }\n",
    "  double t = tp->tv_sec + tp->tv_usec * 1.0e-6;\n",
    "  /* get current time */\n",
    "  fprintf(wp, \"%f\\n\", t);\n",
    "  if (mincore(addr, length, R) == -1) {\n",
    "    err(1, \"mincore\");\n",
    "  }\n",
    "  fprintf(wp, \"%lu\\n\", n_pages);\n",
    "  size_t c = fwrite(R, n_pages, 1, wp);\n",
    "  if (c != 1) {\n",
    "    err(1, \"fwrite\");\n",
    "  }\n",
    "\n",
    "  fprintf(wp, \"%ld\\n\", n_mru);\n",
    "  c = fwrite(mru, sizeof(long), n_mru, wp);\n",
    "  if (c != (size_t)n_mru) {\n",
    "    err(1, \"fwrite\");\n",
    "  }\n",
    "}\n",
    "\n",
    "\n",
    "\n",
    "/* \n",
    "   usage:\n",
    "     ./page_fault_rec N S A RI\n",
    "   (1) N MBの領域を割り当てる (デフォルト64 MB)\n",
    "   (2) S > 0ならば二つのアクセス間の距離 (デフォルト 4096) -1ならばランダム\n",
    "   (3) A 回 (2)に従ってページをアクセス (デフォルト -1). -1の場合, A = N * 256 * 3\n",
    "       (N MB のページ数 x 3)\n",
    "   (4) RIアクセスごとに時刻と, ページフォルト数を記録する \n",
    "       (デフォルト 500アクセス)\n",
    "   (5) RIアクセスごとに, メモリ上にあるページを記録する\n",
    " */\n",
    "\n",
    "int main(int argc, char ** argv) {\n",
    "  int i = 1;\n",
    "  /* 配列のサイズ(MB) */\n",
    "  long n_mb            = (argc > i ? atol(argv[i]) : 64); i++;\n",
    "  /* STRIDE>0 -> バイト飛ばしでアクセス */\n",
    "  long stride          = (argc > i ? atol(argv[i]) : page_sz); i++;\n",
    "  /* アクセス回数(デフォルトは配列のページ数 x 3回) */\n",
    "  long n_accesses      = (argc > i ? atol(argv[i]) : -1); i++;\n",
    "  /* 記録間隔 */\n",
    "  long record_interval = (argc > i ? atol(argv[i]) : 500); i++;\n",
    "  long sz = n_mb * 1024L * 1024L; /* size in bytes */\n",
    "  long n_pages = (sz + page_sz - 1) / page_sz;\n",
    "  if (n_accesses == -1) n_accesses = n_pages * 3;\n",
    "  long n_records = (n_accesses + record_interval - 1) / record_interval;\n",
    "  char * a = (char *)sbrk(sz);\n",
    "  if (!a) { err(1, \"sbrk\"); }\n",
    "  timeval_rusage * tr = malloc(sizeof(timeval_rusage) * n_records);\n",
    "  if (!tr) { err(1, \"malloc\"); }\n",
    "  unsigned char * R = calloc(sizeof(unsigned char), n_pages);\n",
    "  if (!R) { err(1, \"calloc\"); }\n",
    "  FILE * wp = fopen(\"mincore.dat\", \"wb\");\n",
    "  if (!wp) { err(1, \"fopen\"); }\n",
    "  long * mru = calloc(sizeof(long), record_interval);\n",
    "  if (!mru) { err(1, \"calloc\"); }\n",
    "  long idx = 0;                 /* 次にアクセスする要素 */\n",
    "  /* report_interval 回アクセスごとに . を打つ */\n",
    "  const long n_dots = 100;\n",
    "  long report_interval = (n_accesses + n_dots - 1) / n_dots;\n",
    "\n",
    "  fprintf(stderr, \"touching %ld MB %ld times\\n\", n_mb, n_accesses);\n",
    "  long s = 0;\n",
    "  for (long i = 0; i < n_accesses; i++) {\n",
    "    if (i % report_interval == 0) {\n",
    "      /* 進捗表示 */\n",
    "      putchar('.'); fflush(stdout);\n",
    "    }\n",
    "    if (i % record_interval == 0) {\n",
    "      /* 時間を記録 */\n",
    "      long k = i / record_interval; /* 記録回数 */\n",
    "      assert(k < n_records);\n",
    "      record_timeval_rusage(&tr[k]);\n",
    "      /* メモリ上のページを記録 */\n",
    "      record_incore(wp, a, sz, R, mru, (i ? record_interval : 0));\n",
    "    }\n",
    "    idx = idx % sz;\n",
    "    s += (a[idx]++);\n",
    "    mru[i % record_interval] = idx;\n",
    "    idx += stride;\n",
    "  }\n",
    "  assert((n_accesses - 1) / record_interval + 1 == n_records);\n",
    "  fclose(wp);\n",
    "  /* save time and page faults */\n",
    "  save_timeval_rusage(\"time_rusage.dat\", tr, n_records, record_interval);\n",
    "  printf(\"\\ndone s = %ld\\n\", s);\n",
    "  return 0;\n",
    "}\n"
   ]
  },
  {
   "cell_type": "code",
   "execution_count": null,
   "metadata": {
    "kernel": "Bash",
    "nbgrader": {
     "grade": false,
     "grade_id": "c-038",
     "locked": false,
     "schema_version": 3,
     "solution": false,
     "task": false
    }
   },
   "outputs": [],
   "source": [
    "gcc -Wall -O3 -o mincore_rec mincore_rec.c"
   ]
  },
  {
   "cell_type": "markdown",
   "metadata": {
    "deletable": false,
    "editable": false,
    "kernel": "SoS",
    "nbgrader": {
     "cell_type": "markdown",
     "checksum": "a90ac3a18f1b1391eb940fddb54ca924",
     "grade": false,
     "grade_id": "c-039",
     "locked": true,
     "schema_version": 3,
     "solution": false,
     "task": false
    }
   },
   "source": [
    "## 4-1. 実行\n",
    "* Nやストライドを変えて実行, 可視化してみよ\n",
    "* cg_mem_limit はプロセスの使用可能物理メモリ量を256 MBに制限するので以下のNが256に近づくかそれを超える当たりで挙動が大幅に変化する\n",
    "* それを確認せよ"
   ]
  },
  {
   "cell_type": "code",
   "execution_count": null,
   "metadata": {
    "kernel": "Python 3 (ipykernel)",
    "nbgrader": {
     "grade": false,
     "grade_id": "c-040",
     "locked": false,
     "schema_version": 3,
     "solution": false,
     "task": false
    }
   },
   "outputs": [],
   "source": [
    "%system\n",
    "! N=192; cg_mem_limit ./mincore_rec ${N} 4096 $((256 * ${N} * 3)) 500"
   ]
  },
  {
   "cell_type": "markdown",
   "metadata": {
    "deletable": false,
    "editable": false,
    "kernel": "SoS",
    "nbgrader": {
     "cell_type": "markdown",
     "checksum": "a4997674bd11aad3c35d2c7aad7da806",
     "grade": false,
     "grade_id": "c-041",
     "locked": true,
     "schema_version": 3,
     "solution": false,
     "task": false
    }
   },
   "source": [
    "* その可視化プログラムは以下"
   ]
  },
  {
   "cell_type": "code",
   "execution_count": null,
   "metadata": {
    "kernel": "Python 3 (ipykernel)",
    "nbgrader": {
     "grade": false,
     "grade_id": "c-042",
     "locked": false,
     "schema_version": 3,
     "solution": false,
     "task": false
    }
   },
   "outputs": [],
   "source": [
    "#!/usr/bin/python3\n",
    "import math\n",
    "import sys\n",
    "import time\n",
    "import numpy as np\n",
    "import matplotlib.pyplot as plt\n",
    "import matplotlib.animation as anm\n",
    "from IPython import display \n",
    "\n",
    "def put_circle(img, cy, cx, r):\n",
    "    h,w = img.shape\n",
    "    for dx in range(-r, r + 1):\n",
    "        for dy in range(-r, r + 1):\n",
    "            if 0 <= cx + dx < w and 0 <= cy + dy < h and dx * dx + dy * dy <= r * r:\n",
    "                img[cy+dy,cx+dx] = 1.0\n",
    "\n",
    "def make_img(bm, mru):\n",
    "    n_bytes, = bm.shape\n",
    "    width = 256\n",
    "    height = (n_bytes + width - 1) // width\n",
    "    img = np.zeros((width * height), dtype=float)\n",
    "    img[:n_bytes] = 0.4 * bm\n",
    "    for idx in mru:\n",
    "        p = int(idx) // 4096\n",
    "        img[p] = 1.0\n",
    "    img = img.reshape((height, width))\n",
    "    for idx in mru:\n",
    "        p = int(idx) // 4096\n",
    "        cy = p // width\n",
    "        cx = p  % width\n",
    "        assert(img[cy,cx] == 1.0)\n",
    "        put_circle(img, cy, cx, 1)\n",
    "    X = np.array(range(width))\n",
    "    Y = np.array(range(height))\n",
    "    X,Y = np.meshgrid(X,Y)\n",
    "    assert(X.shape == (height, width))\n",
    "    return X, Y, img\n",
    "        \n",
    "def shrink(z):\n",
    "    # z : 2次元配列 を縦横1ずつ縮めて, かつ無理やり1次元の配列に直す\n",
    "    m,n = z.shape\n",
    "    return z[:m-1,:n-1].reshape((m - 1) * (n - 1))\n",
    "    \n",
    "def generate_mincore_frames(writer, fig, mincore_dat, animation_speed):\n",
    "    # mincore_dat : filename\n",
    "    # animation_speed :\n",
    "    # change this value to change animation speed\n",
    "    # 1.0 means animation runs as fast as the real execution.\n",
    "    # smaller value means slower animation\n",
    "    t0 = time.time()\n",
    "    t = 0\n",
    "    ax = fig.add_subplot(111)\n",
    "    with open(mincore_dat, \"rb\") as fp:\n",
    "        im = None\n",
    "        txt = None\n",
    "        frames = 0\n",
    "        while 1:\n",
    "            print(\".\", end=\"\", flush=True)\n",
    "            line = fp.readline()\n",
    "            if line == b\"\":\n",
    "                break\n",
    "            if im is None:\n",
    "                record_time0 = float(line)\n",
    "                record_time = 0\n",
    "            else:\n",
    "                record_time = float(line) - record_time0\n",
    "            n_pages = int(fp.readline())\n",
    "            bm = np.fromfile(fp, dtype=np.uint8, count=n_pages)\n",
    "            assert(bm.shape == (n_pages,)), (bm.shape, n_pages)\n",
    "            line = fp.readline()\n",
    "            n_mrus = int(line)\n",
    "            mru = np.fromfile(fp, dtype=np.uint64, count=n_mrus)\n",
    "            assert(mru.shape == (n_mrus,)), (mru.shape, n_mrus)\n",
    "            t = (time.time() - t0) * animation_speed\n",
    "            if im is None or t < record_time:\n",
    "                X, Y, img = make_img(bm, mru)\n",
    "                if im is None:\n",
    "                    # show the first frame\n",
    "                    height, _ = img.shape\n",
    "                    cmap = plt.cm.get_cmap('bwr')\n",
    "                    im = ax.pcolor(X, Y, img, cmap=cmap, vmin=0.0, vmax=1.0)\n",
    "                    txt = ax.text(160, -height/7.5, \"\",\n",
    "                                  horizontalalignment=\"right\")\n",
    "                    print(\"*\", end=\"\", flush=True)\n",
    "                    writer.grab_frame()\n",
    "                    # yield im,\n",
    "                im.set_array(shrink(img))\n",
    "                while t < record_time:\n",
    "                    txt.set_text(\"real time : %.3f\\nrecorded time: %.3f\"\n",
    "                                 % (t, record_time))\n",
    "                    print(\"*\", end=\"\", flush=True)\n",
    "                    writer.grab_frame()\n",
    "                    # yield im,\n",
    "                    t = (time.time() - t0) * animation_speed\n",
    "            frames += 1\n",
    "        # last image\n",
    "        if im:\n",
    "            X, Y, img = make_img(bm, mru)\n",
    "            im.set_array(shrink(img))\n",
    "            txt.set_text(\"real time : %.3f\\nrecorded time: %.3f\"\n",
    "                         % (t, record_time))\n",
    "            print(\"*\", end=\"\", flush=True)\n",
    "            writer.grab_frame()\n",
    "            # yield im,\n",
    "        print(\"done\")\n",
    "\n",
    "def animate_mincore(mincore_dat, out_mp4, animation_speed):\n",
    "    writer = anm.FFMpegWriter(fps=15) # fps=15, metadata={\"artist\": \"Me\"}, bitrate=1800)\n",
    "    fig = plt.figure()\n",
    "    with writer.saving(fig, out_mp4, dpi=100):\n",
    "        generate_mincore_frames(writer, fig, mincore_dat, animation_speed)\n",
    "        \n",
    "def main():\n",
    "    if len(sys.argv) <= 2:\n",
    "        sys.stderr.write(\"usage: %s mincore_dat out_mp4\\n\" % sys.argv[0])\n",
    "        sys.stderr.write(\" file is a log file written by record mincore\\n\")\n",
    "        sys.exit(1)\n",
    "    micore_dat = sys.argv[1]\n",
    "    out_mp4 = sys.argv[2]\n",
    "    return animate_mincore(micore_dat, out_mp4, 0.05)\n",
    "\n",
    "if sys.argv[0].endswith(\"mincore_vis.py\"):\n",
    "    main()"
   ]
  },
  {
   "cell_type": "markdown",
   "metadata": {
    "deletable": false,
    "editable": false,
    "kernel": "SoS",
    "nbgrader": {
     "cell_type": "markdown",
     "checksum": "c08f140dc87b23023c7bc63900445b0b",
     "grade": false,
     "grade_id": "c-043",
     "locked": true,
     "schema_version": 3,
     "solution": false,
     "task": false
    }
   },
   "source": [
    "* 以下を実行すると動画ファイル(mincore.mp4)が生成, 表示される\n",
    "  * 動画と終了状態の静止画が両方表示されてしまうが気にしない\n",
    "* 動画の再生ボタンで再生する\n",
    "* 以下でNを, 256より十分小さな値(192)から256よりわずかに小さい値, 256を少し超える値などに変えて可視化してみよ\n",
    "* animate_mincoreの3つめのパラメータ(0.05)は保存される動画の再生速度(フレーム数)を調整するもので, 大きくすると早く(短時間で)再生され, 小さくすると遅くなる"
   ]
  },
  {
   "cell_type": "code",
   "execution_count": null,
   "metadata": {
    "kernel": "Python 3 (ipykernel)",
    "nbgrader": {
     "grade": false,
     "grade_id": "c-044",
     "locked": false,
     "schema_version": 3,
     "solution": false,
     "task": false
    }
   },
   "outputs": [],
   "source": [
    "%system\n",
    "! N=192; cg_mem_limit ./mincore_rec ${N} 4096 $((256 * ${N} * 3)) 500"
   ]
  },
  {
   "cell_type": "code",
   "execution_count": null,
   "metadata": {
    "kernel": "Python 3 (ipykernel)",
    "nbgrader": {
     "grade": false,
     "grade_id": "c-045",
     "locked": false,
     "schema_version": 3,
     "solution": false,
     "task": false
    }
   },
   "outputs": [],
   "source": [
    "from IPython.display import Video\n",
    "animate_mincore(\"mincore.dat\", \"mincore.mp4\", 0.05)\n",
    "Video(\"mincore.mp4\")"
   ]
  },
  {
   "cell_type": "markdown",
   "metadata": {
    "deletable": false,
    "editable": false,
    "kernel": "SoS",
    "nbgrader": {
     "cell_type": "markdown",
     "checksum": "b129f17fcccd179a6a40fa3e72a760e3",
     "grade": false,
     "grade_id": "c-046",
     "locked": true,
     "schema_version": 3,
     "solution": false,
     "task": false
    }
   },
   "source": [
    "## 4-2. ランダムアクセス\n",
    "* 以下は, 2番めの引数を-1にすると配列をランダムにアクセスするようにしたもの"
   ]
  },
  {
   "cell_type": "code",
   "execution_count": null,
   "metadata": {
    "kernel": "Python 3 (ipykernel)",
    "nbgrader": {
     "grade": false,
     "grade_id": "c-047",
     "locked": false,
     "schema_version": 3,
     "solution": false,
     "task": false
    }
   },
   "outputs": [],
   "source": [
    "%%writefile mincore_random_rec.c\n",
    "//% file: page_fault_rec_3.c\n",
    "//% cmd: gcc -O3 -Wall -Wextra -o page_fault_rec_3 page_fault_rec_3.c\n",
    "\n",
    "#include <assert.h>\n",
    "#include <err.h>\n",
    "#include <fcntl.h>\n",
    "#include <limits.h>\n",
    "#include <math.h>\n",
    "#include <stdio.h>\n",
    "#include <stdlib.h>\n",
    "#include <string.h>\n",
    "#include <sys/mman.h>\n",
    "#include <sys/resource.h>\n",
    "#include <sys/stat.h>\n",
    "#include <sys/time.h>\n",
    "#include <sys/types.h>\n",
    "#include <unistd.h>\n",
    "\n",
    "const long page_sz = 4096;\n",
    "\n",
    "/* 実行時間とページフォルト回数の記録 */\n",
    "typedef struct {\n",
    "  struct timeval tv;\n",
    "  struct rusage ru;\n",
    "} timeval_rusage;\n",
    "\n",
    "/* 実行時間とページフォルト回数をtrに記録する */\n",
    "void record_timeval_rusage(timeval_rusage * tr) {\n",
    "  if (gettimeofday(&tr->tv, 0) == -1) { err(1, \"gettimeofday\"); }\n",
    "  if (getrusage(RUSAGE_SELF, &tr->ru) == -1) { err(1, \"getrusage\"); }\n",
    "}\n",
    "\n",
    "/* 実行時間とページフォルト回数の記録tr[0]〜tr[n_records-1]\n",
    "   をファイルtime_usage_datに保存する */\n",
    "void save_timeval_rusage(const char * time_usage_dat,\n",
    "                         timeval_rusage * tr,\n",
    "                         long n_records,\n",
    "                         long record_interval) {\n",
    "  FILE * wp = fopen(time_usage_dat, \"w\");\n",
    "  if (!wp) { err(1, \"fopen\"); }\n",
    "  for (long i = 0; i < n_records; i++) {\n",
    "    fprintf(wp, \"%ld\\t%f\\t%ld\\t%ld\\n\", \n",
    "            i * record_interval * 4096,\n",
    "            tr[i].tv.tv_sec + tr[i].tv.tv_usec * 1.0e-6,\n",
    "            tr[i].ru.ru_minflt,\n",
    "            tr[i].ru.ru_majflt);\n",
    "  }\n",
    "  fclose(wp);\n",
    "}\n",
    "\n",
    "/* addr[0:length]中のどのページがメモリ上にあるか\n",
    "   + 最後にアクセスしたアドレス(last_accessed)を記録する */\n",
    "void record_incore(FILE * wp, \n",
    "\t\t   void * addr, size_t length, unsigned char * R,\n",
    "\t\t   long * mru, long n_mru) {\n",
    "  size_t n_pages = (length + page_sz - 1) / page_sz;\n",
    "  struct timeval tp[1];\n",
    "  if (gettimeofday(tp, NULL) == -1) { perror(\"gettimeofday\"); exit(1); }\n",
    "  double t = tp->tv_sec + tp->tv_usec * 1.0e-6;\n",
    "  /* get current time */\n",
    "  fprintf(wp, \"%f\\n\", t);\n",
    "  if (mincore(addr, length, R) == -1) {\n",
    "    err(1, \"mincore\");\n",
    "  }\n",
    "  fprintf(wp, \"%lu\\n\", n_pages);\n",
    "  size_t c = fwrite(R, n_pages, 1, wp);\n",
    "  if (c != 1) {\n",
    "    err(1, \"fwrite\");\n",
    "  }\n",
    "\n",
    "  fprintf(wp, \"%ld\\n\", n_mru);\n",
    "  c = fwrite(mru, sizeof(long), n_mru, wp);\n",
    "  if (c != (size_t)n_mru) {\n",
    "    err(1, \"fwrite\");\n",
    "  }\n",
    "}\n",
    "\n",
    "\n",
    "\n",
    "/* \n",
    "   usage:\n",
    "     ./page_fault_rec N S A RI\n",
    "   (1) N MBの領域を割り当てる (デフォルト64 MB)\n",
    "   (2) S > 0ならば二つのアクセス間の距離 (デフォルト 4096) -1ならばランダム\n",
    "   (3) A 回 (2)に従ってページをアクセス (デフォルト -1). -1の場合, A = N * 256 * 3\n",
    "       (N MB のページ数 x 3)\n",
    "   (4) RIアクセスごとに時刻と, ページフォルト数を記録する \n",
    "       (デフォルト 500アクセス)\n",
    "   (5) RIアクセスごとに, メモリ上にあるページを記録する\n",
    " */\n",
    "\n",
    "int main(int argc, char ** argv) {\n",
    "  int i = 1;\n",
    "  /* 配列のサイズ(MB) */\n",
    "  long n_mb            = (argc > i ? atol(argv[i]) : 64); i++;\n",
    "  /* アクセス回数(デフォルトは配列のページ数 x 3回) */\n",
    "  long n_accesses      = (argc > i ? atol(argv[i]) : -1); i++;\n",
    "  /* 記録間隔 */\n",
    "  long record_interval = (argc > i ? atol(argv[i]) : 500); i++;\n",
    "  /* 乱数の種 */\n",
    "  long seed            = (argc > i ? atol(argv[i]) : 1234567890123L); i++;\n",
    "  long sz = n_mb * 1024L * 1024L; /* size in bytes */\n",
    "  long n_pages = (sz + page_sz - 1) / page_sz;\n",
    "  if (n_accesses == -1) n_accesses = n_pages * 3;\n",
    "  long n_records = (n_accesses + record_interval - 1) / record_interval;\n",
    "  char * a = (char *)sbrk(sz);\n",
    "  if (!a) { err(1, \"sbrk\"); }\n",
    "  timeval_rusage * tr = malloc(sizeof(timeval_rusage) * n_records);\n",
    "  if (!tr) { err(1, \"malloc\"); }\n",
    "  unsigned char * R = calloc(sizeof(unsigned char), n_pages);\n",
    "  if (!R) { err(1, \"calloc\"); }\n",
    "  FILE * wp = fopen(\"mincore.dat\", \"wb\");\n",
    "  if (!wp) { err(1, \"fopen\"); }\n",
    "  long * mru = calloc(sizeof(long), record_interval);\n",
    "  if (!mru) { err(1, \"calloc\"); }\n",
    "  unsigned short rg[3] = { seed >> 32, seed >> 16, seed };\n",
    "  long idx = 0;                 /* 次にアクセスする要素 */\n",
    "  /* report_interval 回アクセスごとに . を打つ */\n",
    "  const long n_dots = 100;\n",
    "  long report_interval = (n_accesses + n_dots - 1) / n_dots;\n",
    "\n",
    "  fprintf(stderr, \"touching %ld MB %ld times\\n\", n_mb, n_accesses);\n",
    "  long s = 0;\n",
    "  for (long i = 0; i < n_accesses; i++) {\n",
    "    if (i % report_interval == 0) {\n",
    "      /* 進捗表示 */\n",
    "      putchar('.'); fflush(stdout);\n",
    "    }\n",
    "    if (i % record_interval == 0) {\n",
    "      /* 時間を記録 */\n",
    "      long k = i / record_interval; /* 記録回数 */\n",
    "      assert(k < n_records);\n",
    "      record_timeval_rusage(&tr[k]);\n",
    "      /* メモリ上のページを記録 */\n",
    "      record_incore(wp, a, sz, R, mru, (i ? record_interval : 0));\n",
    "    }\n",
    "    idx = idx % sz;\n",
    "    s += (a[idx]++);\n",
    "    mru[i % record_interval] = idx;\n",
    "    idx = nrand48(rg);\n",
    "  }\n",
    "  assert((n_accesses - 1) / record_interval + 1 == n_records);\n",
    "  fclose(wp);\n",
    "  /* save time and page faults */\n",
    "  save_timeval_rusage(\"time_rusage.dat\", tr, n_records, record_interval);\n",
    "  printf(\"\\ndone s = %ld\\n\", s);\n",
    "  return 0;\n",
    "}\n"
   ]
  },
  {
   "cell_type": "code",
   "execution_count": null,
   "metadata": {
    "kernel": "Bash",
    "nbgrader": {
     "grade": false,
     "grade_id": "c-048",
     "locked": false,
     "schema_version": 3,
     "solution": false,
     "task": false
    }
   },
   "outputs": [],
   "source": [
    "gcc -Wall -O3 -o mincore_random_rec mincore_random_rec.c"
   ]
  },
  {
   "cell_type": "markdown",
   "metadata": {
    "deletable": false,
    "editable": false,
    "kernel": "SoS",
    "nbgrader": {
     "cell_type": "markdown",
     "checksum": "32e4cba631a5c5ac30ad550036044941",
     "grade": false,
     "grade_id": "c-049",
     "locked": true,
     "schema_version": 3,
     "solution": false,
     "task": false
    }
   },
   "source": [
    "## 4-3. 実行\n",
    "* Nやストライドを変えて実行"
   ]
  },
  {
   "cell_type": "code",
   "execution_count": null,
   "metadata": {
    "kernel": "Python 3 (ipykernel)",
    "nbgrader": {
     "grade": false,
     "grade_id": "c-050",
     "locked": false,
     "schema_version": 3,
     "solution": false,
     "task": false
    }
   },
   "outputs": [],
   "source": [
    "%system\n",
    "! N=192; cg_mem_limit ./mincore_random_rec ${N} $((256 * ${N} * 3)) 500"
   ]
  },
  {
   "cell_type": "markdown",
   "metadata": {
    "deletable": false,
    "editable": false,
    "kernel": "SoS",
    "nbgrader": {
     "cell_type": "markdown",
     "checksum": "1f3c21568c772ad453d2d0c45b4909ed",
     "grade": false,
     "grade_id": "c-051",
     "locked": true,
     "schema_version": 3,
     "solution": false,
     "task": false
    }
   },
   "source": [
    "* 可視化"
   ]
  },
  {
   "cell_type": "markdown",
   "metadata": {
    "deletable": false,
    "editable": false,
    "kernel": "SoS",
    "nbgrader": {
     "cell_type": "markdown",
     "checksum": "a0c38b04bce6e84ba2feea0e9a68d7fd",
     "grade": false,
     "grade_id": "c-052",
     "locked": true,
     "schema_version": 3,
     "solution": false,
     "task": false
    }
   },
   "source": [
    "* 時間"
   ]
  },
  {
   "cell_type": "code",
   "execution_count": null,
   "metadata": {
    "kernel": "Python 3 (ipykernel)",
    "nbgrader": {
     "grade": false,
     "grade_id": "c-053",
     "locked": false,
     "schema_version": 3,
     "solution": false,
     "task": false
    }
   },
   "outputs": [],
   "source": [
    "progress_plt(\"time_rusage.dat\", \"accessed\", \"t\")"
   ]
  },
  {
   "cell_type": "markdown",
   "metadata": {
    "deletable": false,
    "editable": false,
    "kernel": "SoS",
    "nbgrader": {
     "cell_type": "markdown",
     "checksum": "8a3be70a683db7a23e9e1d508b56e9d8",
     "grade": false,
     "grade_id": "c-054",
     "locked": true,
     "schema_version": 3,
     "solution": false,
     "task": false
    }
   },
   "source": [
    "* マイナーフォルト"
   ]
  },
  {
   "cell_type": "code",
   "execution_count": null,
   "metadata": {
    "kernel": "Python 3 (ipykernel)",
    "nbgrader": {
     "grade": false,
     "grade_id": "c-055",
     "locked": false,
     "schema_version": 3,
     "solution": false,
     "task": false
    }
   },
   "outputs": [],
   "source": [
    "progress_plt(\"time_rusage.dat\", \"accessed\", \"minflt\")"
   ]
  },
  {
   "cell_type": "markdown",
   "metadata": {
    "deletable": false,
    "editable": false,
    "kernel": "SoS",
    "nbgrader": {
     "cell_type": "markdown",
     "checksum": "fca30f73c07934a32d4a605d3b0cbb01",
     "grade": false,
     "grade_id": "c-056",
     "locked": true,
     "schema_version": 3,
     "solution": false,
     "task": false
    }
   },
   "source": [
    "* メジャーフォルト"
   ]
  },
  {
   "cell_type": "code",
   "execution_count": null,
   "metadata": {
    "kernel": "Python 3 (ipykernel)",
    "nbgrader": {
     "grade": false,
     "grade_id": "c-057",
     "locked": false,
     "schema_version": 3,
     "solution": false,
     "task": false
    }
   },
   "outputs": [],
   "source": [
    "progress_plt(\"time_rusage.dat\", \"accessed\", \"majflt\")"
   ]
  },
  {
   "cell_type": "markdown",
   "metadata": {
    "deletable": false,
    "editable": false,
    "kernel": "SoS",
    "nbgrader": {
     "cell_type": "markdown",
     "checksum": "53f99b81f26f866569e9b7770c49c494",
     "grade": false,
     "grade_id": "c-058",
     "locked": true,
     "schema_version": 3,
     "solution": false,
     "task": false
    }
   },
   "source": [
    "* アニメーション"
   ]
  },
  {
   "cell_type": "code",
   "execution_count": null,
   "metadata": {
    "kernel": "Python 3 (ipykernel)",
    "nbgrader": {
     "grade": false,
     "grade_id": "c-059",
     "locked": false,
     "schema_version": 3,
     "solution": false,
     "task": false
    }
   },
   "outputs": [],
   "source": [
    "from IPython.display import Video\n",
    "animate_mincore(\"mincore.dat\", \"mincore.mp4\", 0.05)\n",
    "Video(\"mincore.mp4\")"
   ]
  },
  {
   "cell_type": "markdown",
   "metadata": {
    "deletable": false,
    "editable": false,
    "kernel": "SoS",
    "nbgrader": {
     "cell_type": "markdown",
     "checksum": "65e9b7080f3c2f547f7b53e22e7e6d57",
     "grade": false,
     "grade_id": "c-060",
     "locked": true,
     "schema_version": 3,
     "solution": false,
     "task": false
    }
   },
   "source": [
    "# 5. madviseによるページング制御\n",
    "## 5-1. 実行 (Nやストライドを変えて実行, 可視化してみよ)\n",
    "* cg_mem_limitは, 物理メモリ量を256MBに制限してプログラムを実行する\n",
    "* ./mincore_rec は N MB の配列を何度もスキャンする\n",
    "* LRU(を近似した)置換のせいで, 物理メモリ使用量が 256 MBを少しでも超えると, ページフォルト率がほぼ1になってしまう"
   ]
  },
  {
   "cell_type": "code",
   "execution_count": null,
   "metadata": {
    "kernel": "Python 3 (ipykernel)",
    "nbgrader": {
     "grade": false,
     "grade_id": "c-061",
     "locked": false,
     "schema_version": 3,
     "solution": false,
     "task": false
    }
   },
   "outputs": [],
   "source": [
    "%system\n",
    "! N=260; cg_mem_limit ./mincore_rec ${N} 4096 $((256 * ${N} * 5)) 500"
   ]
  },
  {
   "cell_type": "markdown",
   "metadata": {
    "deletable": false,
    "editable": false,
    "kernel": "SoS",
    "nbgrader": {
     "cell_type": "markdown",
     "checksum": "e2944d4178bb021225269d49d5099e0b",
     "grade": false,
     "grade_id": "c-062",
     "locked": true,
     "schema_version": 3,
     "solution": false,
     "task": false
    }
   },
   "source": [
    "## 5-2. madvise\n",
    "* madviseはOSにアクセスパターンを教えてページングアルゴリズムにヒントを与えるものだが, 中でもPAGE_OUTというアドバイスは, 指定した領域を即座にページアウトする, 直接的な指示になる\n",
    "* 以下はこれをつかって, 上記のプログラムのページングの挙動を変えて大幅に高速化する例である\n",
    "* 256MBがほぼ埋まったところで, 配列の後半, 256MBに収まらない部分を, madvise を使って PAGE_OUT する\n",
    "* 結果的に, 配列の前半約 256MB が常に物理メモリに載っていることになり, ページフォルト率を (N-256)/N 程度に抑えることが出来る"
   ]
  },
  {
   "cell_type": "code",
   "execution_count": null,
   "metadata": {
    "kernel": "Python 3 (ipykernel)",
    "nbgrader": {
     "grade": false,
     "grade_id": "c-063",
     "locked": false,
     "schema_version": 3,
     "solution": false,
     "task": false
    }
   },
   "outputs": [],
   "source": [
    "%%writefile madvise_rec.c\n",
    "//% file: page_fault_rec_4.c\n",
    "//% cmd: gcc -O3 -Wall -Wextra -o page_fault_rec_4 page_fault_rec_4.c\n",
    "\n",
    "#include <assert.h>\n",
    "#include <err.h>\n",
    "#include <fcntl.h>\n",
    "#include <limits.h>\n",
    "#include <math.h>\n",
    "#include <stdio.h>\n",
    "#include <stdlib.h>\n",
    "#include <string.h>\n",
    "#include <sys/mman.h>\n",
    "#include <sys/resource.h>\n",
    "#include <sys/stat.h>\n",
    "#include <sys/time.h>\n",
    "#include <sys/types.h>\n",
    "#include <unistd.h>\n",
    "\n",
    "const long page_sz = 4096;\n",
    "\n",
    "/* 実行時間とページフォルト回数の記録 */\n",
    "typedef struct {\n",
    "  struct timeval tv;\n",
    "  struct rusage ru;\n",
    "} timeval_rusage;\n",
    "\n",
    "/* 実行時間とページフォルト回数をtrに記録する */\n",
    "void record_timeval_rusage(timeval_rusage * tr) {\n",
    "  if (gettimeofday(&tr->tv, 0) == -1) { err(1, \"gettimeofday\"); }\n",
    "  if (getrusage(RUSAGE_SELF, &tr->ru) == -1) { err(1, \"getrusage\"); }\n",
    "}\n",
    "\n",
    "/* 実行時間とページフォルト回数の記録tr[0]〜tr[n_records-1]\n",
    "   をファイルtime_usage_datに保存する */\n",
    "void save_timeval_rusage(const char * time_usage_dat,\n",
    "                         timeval_rusage * tr,\n",
    "                         long n_records,\n",
    "                         long record_interval) {\n",
    "  FILE * wp = fopen(time_usage_dat, \"w\");\n",
    "  if (!wp) { err(1, \"fopen\"); }\n",
    "  for (long i = 0; i < n_records; i++) {\n",
    "    fprintf(wp, \"%ld\\t%f\\t%ld\\t%ld\\n\", \n",
    "            i * record_interval * 4096,\n",
    "            tr[i].tv.tv_sec + tr[i].tv.tv_usec * 1.0e-6,\n",
    "            tr[i].ru.ru_minflt,\n",
    "            tr[i].ru.ru_majflt);\n",
    "  }\n",
    "  fclose(wp);\n",
    "}\n",
    "\n",
    "/* addr[0:length]中のどのページがメモリ上にあるか\n",
    "   + 最後にアクセスしたアドレス(last_accessed)を記録する */\n",
    "void record_incore(FILE * wp, \n",
    "\t\t   void * addr, size_t length, unsigned char * R,\n",
    "\t\t   long * mru, long n_mru) {\n",
    "  size_t n_pages = (length + page_sz - 1) / page_sz;\n",
    "  struct timeval tp[1];\n",
    "  if (gettimeofday(tp, NULL) == -1) { perror(\"gettimeofday\"); exit(1); }\n",
    "  double t = tp->tv_sec + tp->tv_usec * 1.0e-6;\n",
    "  /* get current time */\n",
    "  fprintf(wp, \"%f\\n\", t);\n",
    "  if (mincore(addr, length, R) == -1) {\n",
    "    err(1, \"mincore\");\n",
    "  }\n",
    "  fprintf(wp, \"%lu\\n\", n_pages);\n",
    "  size_t c = fwrite(R, n_pages, 1, wp);\n",
    "  if (c != 1) {\n",
    "    err(1, \"fwrite\");\n",
    "  }\n",
    "\n",
    "  fprintf(wp, \"%ld\\n\", n_mru);\n",
    "  c = fwrite(mru, sizeof(long), n_mru, wp);\n",
    "  if (c != (size_t)n_mru) {\n",
    "    err(1, \"fwrite\");\n",
    "  }\n",
    "}\n",
    "\n",
    "typedef struct {\n",
    "  long ts;                      /* ts >= 0 <--> on memory */\n",
    "} timestamp_t;\n",
    "\n",
    "/* 配列の後半(target_resident_pages ページ目以降)を evict する */\n",
    "long evict_pages(char * a, long sz, \n",
    "                 timestamp_t * timestamps,\n",
    "                 long target_resident_pages,\n",
    "                 long n_resident_pages) {\n",
    "  (void)n_resident_pages;\n",
    "  long n_pages = (sz + page_sz - 1) / page_sz;\n",
    "  for (long i = n_pages - target_resident_pages; i < n_pages; i++) {\n",
    "    timestamps[i].ts = -1;\n",
    "  }\n",
    "  long offset = target_resident_pages * page_sz;\n",
    "  long len = (n_pages - target_resident_pages) * page_sz;\n",
    "  if (madvise(a + offset, len, MADV_PAGEOUT) == -1) {\n",
    "    err(1, \"madvise\");\n",
    "  }\n",
    "  return target_resident_pages;\n",
    "}\n",
    "\n",
    "\n",
    "/* \n",
    "   usage:\n",
    "     ./page_fault_rec N S A RI\n",
    "   (1) N MBの領域を割り当てる (デフォルト64 MB)\n",
    "   (2) S > 0ならば二つのアクセス間の距離 (デフォルト 4096) -1ならばランダム\n",
    "   (3) A 回 (2)に従ってページをアクセス (デフォルト -1). -1の場合, A = N * 256 * 3\n",
    "       (N MB のページ数 x 3)\n",
    "   (4) RIアクセスごとに時刻と, ページフォルト数を記録する \n",
    "       (デフォルト 500アクセス)\n",
    "   (5) RIアクセスごとに, メモリ上にあるページを記録する\n",
    " */\n",
    "\n",
    "int main(int argc, char ** argv) {\n",
    "  int i = 1;\n",
    "  /* 配列のサイズ(MB) */\n",
    "  long n_mb            = (argc > i ? atol(argv[i]) : 64); i++;\n",
    "  /* STRIDE>0 -> バイト飛ばしでアクセス */\n",
    "  long stride          = (argc > i ? atol(argv[i]) : page_sz); i++;\n",
    "  /* アクセス回数(デフォルトは配列のページ数 x 3回) */\n",
    "  long n_accesses      = (argc > i ? atol(argv[i]) : -1); i++;\n",
    "  /* 記録間隔 */\n",
    "  long record_interval = (argc > i ? atol(argv[i]) : 500); i++;\n",
    "  long max_resident_mb    = (argc > i ? atol(argv[i]) : 224); i++;\n",
    "  long target_resident_mb = (argc > i ? atol(argv[i]) : 192); i++;\n",
    "  long sz = n_mb * 1024L * 1024L; /* size in bytes */\n",
    "  long n_pages = (sz + page_sz - 1) / page_sz;\n",
    "  if (n_accesses == -1) n_accesses = n_pages * 3;\n",
    "  long n_records = (n_accesses + record_interval - 1) / record_interval;\n",
    "  char * a = (char *)sbrk(sz);\n",
    "  if (!a) { err(1, \"sbrk\"); }\n",
    "  timeval_rusage * tr = malloc(sizeof(timeval_rusage) * n_records);\n",
    "  if (!tr) { err(1, \"malloc\"); }\n",
    "  unsigned char * R = calloc(sizeof(unsigned char), n_pages);\n",
    "  if (!R) { err(1, \"calloc\"); }\n",
    "  FILE * wp = fopen(\"mincore.dat\", \"wb\");\n",
    "  if (!wp) { err(1, \"fopen\"); }\n",
    "  long * mru = calloc(sizeof(long), record_interval);\n",
    "  if (!mru) { err(1, \"calloc\"); }\n",
    "  long max_resident_pages = max_resident_mb * 1024L * 1024L / page_sz;\n",
    "  long target_resident_pages = target_resident_mb * 1024L * 1024L / page_sz;\n",
    "  timestamp_t * timestamps = malloc(sizeof(timestamp_t) * n_pages);\n",
    "  for (long i = 0; i < n_pages; i++) {\n",
    "    timestamps[i].ts = -1;\n",
    "  }\n",
    "  long idx = 0;                 /* 次にアクセスする要素 */\n",
    "  /* report_interval 回アクセスごとに . を打つ */\n",
    "  const long n_dots = 100;\n",
    "  long report_interval = (n_accesses + n_dots - 1) / n_dots;\n",
    "\n",
    "  long n_resident_pages = 0;\n",
    "  fprintf(stderr, \"touching %ld MB %ld times\\n\", n_mb, n_accesses);\n",
    "  long s = 0;\n",
    "  for (long i = 0; i < n_accesses; i++) {\n",
    "    if (i % report_interval == 0) {\n",
    "      /* 進捗表示 */\n",
    "      putchar('.'); fflush(stdout);\n",
    "    }\n",
    "    if (i % record_interval == 0) {\n",
    "      /* 時間を記録 */\n",
    "      long k = i / record_interval; /* 記録回数 */\n",
    "      assert(k < n_records);\n",
    "      record_timeval_rusage(&tr[k]);\n",
    "      /* メモリ上のページを記録 */\n",
    "      record_incore(wp, a, sz, R, mru, (i ? record_interval : 0));\n",
    "    }\n",
    "    idx = idx % sz;\n",
    "    s += (a[idx]++);\n",
    "    mru[i % record_interval] = idx;\n",
    "    long page = idx / page_sz;\n",
    "    if (timestamps[page].ts == -1) {\n",
    "      n_resident_pages++;\n",
    "    }\n",
    "    timestamps[page].ts = i;\n",
    "    /* メモリ上のページ数がmax_resident_pagesになったら,\n",
    "       はじめの target_resident_pages ページを除いて,\n",
    "       madvise(... PAGE_OUT) */\n",
    "    if (n_resident_pages == max_resident_pages) {\n",
    "      n_resident_pages\n",
    "        = evict_pages(a, sz, timestamps,\n",
    "                      target_resident_pages,\n",
    "                      max_resident_pages);\n",
    "      assert(n_resident_pages == target_resident_pages);\n",
    "    }\n",
    "    idx += stride;\n",
    "  }\n",
    "  assert((n_accesses - 1) / record_interval + 1 == n_records);\n",
    "  fclose(wp);\n",
    "  /* save time and page faults */\n",
    "  save_timeval_rusage(\"time_rusage.dat\", tr, n_records, record_interval);\n",
    "  printf(\"\\ndone s = %ld\\n\", s);\n",
    "  return 0;\n",
    "}\n"
   ]
  },
  {
   "cell_type": "code",
   "execution_count": null,
   "metadata": {
    "kernel": "Bash",
    "nbgrader": {
     "grade": false,
     "grade_id": "c-064",
     "locked": false,
     "schema_version": 3,
     "solution": false,
     "task": false
    }
   },
   "outputs": [],
   "source": [
    "gcc -Wall -O3 -o madvise_rec madvise_rec.c"
   ]
  },
  {
   "cell_type": "markdown",
   "metadata": {
    "deletable": false,
    "editable": false,
    "kernel": "SoS",
    "nbgrader": {
     "cell_type": "markdown",
     "checksum": "28438ed06eadff85428e586ad7ba17a9",
     "grade": false,
     "grade_id": "c-065",
     "locked": true,
     "schema_version": 3,
     "solution": false,
     "task": false
    }
   },
   "source": [
    "## 5-3. 実行\n",
    "* 速度の違いは可視化をしなくてもすぐにわかるはず"
   ]
  },
  {
   "cell_type": "code",
   "execution_count": null,
   "metadata": {
    "kernel": "Python 3 (ipykernel)",
    "nbgrader": {
     "grade": false,
     "grade_id": "c-066",
     "locked": false,
     "schema_version": 3,
     "solution": false,
     "task": false
    }
   },
   "outputs": [],
   "source": [
    "%system\n",
    "! N=260; cg_mem_limit ./madvise_rec ${N} 4096 $((256 * ${N} * 5)) 500"
   ]
  },
  {
   "cell_type": "markdown",
   "metadata": {
    "deletable": false,
    "editable": false,
    "kernel": "SoS",
    "nbgrader": {
     "cell_type": "markdown",
     "checksum": "655983e54c1c8a3dce7c38f4b3d2a4e1",
     "grade": false,
     "grade_id": "c-067",
     "locked": true,
     "schema_version": 3,
     "solution": false,
     "task": false
    }
   },
   "source": [
    "* 可視化"
   ]
  },
  {
   "cell_type": "markdown",
   "metadata": {
    "deletable": false,
    "editable": false,
    "kernel": "SoS",
    "nbgrader": {
     "cell_type": "markdown",
     "checksum": "075532b53e662300654a155b34f08ed7",
     "grade": false,
     "grade_id": "c-068",
     "locked": true,
     "schema_version": 3,
     "solution": false,
     "task": false
    }
   },
   "source": [
    "* 時間"
   ]
  },
  {
   "cell_type": "code",
   "execution_count": null,
   "metadata": {
    "kernel": "Python 3 (ipykernel)",
    "nbgrader": {
     "grade": false,
     "grade_id": "c-069",
     "locked": false,
     "schema_version": 3,
     "solution": false,
     "task": false
    }
   },
   "outputs": [],
   "source": [
    "progress_plt(\"time_rusage.dat\", \"accessed\", \"t\")"
   ]
  },
  {
   "cell_type": "markdown",
   "metadata": {
    "deletable": false,
    "editable": false,
    "kernel": "SoS",
    "nbgrader": {
     "cell_type": "markdown",
     "checksum": "4cd7b2e98521aa5a1edd8f0de8be0be3",
     "grade": false,
     "grade_id": "c-070",
     "locked": true,
     "schema_version": 3,
     "solution": false,
     "task": false
    }
   },
   "source": [
    "* マイナーフォルト"
   ]
  },
  {
   "cell_type": "code",
   "execution_count": null,
   "metadata": {
    "kernel": "Python 3 (ipykernel)",
    "nbgrader": {
     "grade": false,
     "grade_id": "c-071",
     "locked": false,
     "schema_version": 3,
     "solution": false,
     "task": false
    }
   },
   "outputs": [],
   "source": [
    "progress_plt(\"time_rusage.dat\", \"accessed\", \"minflt\")"
   ]
  },
  {
   "cell_type": "markdown",
   "metadata": {
    "deletable": false,
    "editable": false,
    "kernel": "SoS",
    "nbgrader": {
     "cell_type": "markdown",
     "checksum": "d2987732908232a0d3186408779ce2d4",
     "grade": false,
     "grade_id": "c-072",
     "locked": true,
     "schema_version": 3,
     "solution": false,
     "task": false
    }
   },
   "source": [
    "* メジャーフォルト"
   ]
  },
  {
   "cell_type": "code",
   "execution_count": null,
   "metadata": {
    "kernel": "Python 3 (ipykernel)",
    "nbgrader": {
     "grade": false,
     "grade_id": "c-073",
     "locked": false,
     "schema_version": 3,
     "solution": false,
     "task": false
    }
   },
   "outputs": [],
   "source": [
    "progress_plt(\"time_rusage.dat\", \"accessed\", \"majflt\")"
   ]
  },
  {
   "cell_type": "code",
   "execution_count": null,
   "metadata": {
    "kernel": "Python 3 (ipykernel)",
    "nbgrader": {
     "grade": false,
     "grade_id": "c-074",
     "locked": false,
     "schema_version": 3,
     "solution": false,
     "task": false
    }
   },
   "outputs": [],
   "source": [
    "from IPython.display import Video\n",
    "animate_mincore(\"mincore.dat\", \"mincore.mp4\", 0.05)\n",
    "Video(\"mincore.mp4\")"
   ]
  }
 ],
 "metadata": {
  "kernelspec": {
   "display_name": "SoS",
   "language": "sos",
   "name": "sos"
  },
  "language_info": {
   "codemirror_mode": "sos",
   "file_extension": ".sos",
   "mimetype": "text/x-sos",
   "name": "sos",
   "nbconvert_exporter": "sos_notebook.converter.SoS_Exporter",
   "pygments_lexer": "sos"
  },
  "sos": {
   "kernels": [
    [
     "Bash",
     "bash",
     "bash",
     "",
     "shell"
    ],
    [
     "C",
     "c_kernel",
     "c",
     "",
     ""
    ],
    [
     "Go",
     "gophernotes",
     "go",
     "",
     ""
    ],
    [
     "Julia 1.4.1",
     "julia-1.4",
     "julia",
     "",
     ""
    ],
    [
     "OCaml default",
     "ocaml-jupyter",
     "OCaml",
     "",
     "text/x-ocaml"
    ],
    [
     "Python 3 (ipykernel)",
     "python3",
     "python3",
     "",
     {
      "name": "ipython",
      "version": 3
     }
    ],
    [
     "Rust",
     "rust",
     "rust",
     "",
     ""
    ]
   ],
   "panel": {
    "displayed": true,
    "height": 0
   },
   "version": "0.23.3"
  }
 },
 "nbformat": 4,
 "nbformat_minor": 4
}
