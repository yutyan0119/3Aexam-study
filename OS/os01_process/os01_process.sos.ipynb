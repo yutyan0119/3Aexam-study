{
 "cells": [
  {
   "cell_type": "markdown",
   "metadata": {
    "deletable": false,
    "editable": false,
    "kernel": "SoS",
    "nbgrader": {
     "cell_type": "markdown",
     "checksum": "025a32ba46d80b07ee1525fa8e748efc",
     "grade": false,
     "grade_id": "c-001",
     "locked": true,
     "schema_version": 3,
     "solution": false,
     "task": false
    }
   },
   "source": [
    "\n",
    "#  オペレーティングシステム 演習 01 \n",
    "#  プロセス"
   ]
  },
  {
   "cell_type": "markdown",
   "metadata": {
    "kernel": "SoS",
    "nbgrader": {
     "grade": false,
     "grade_id": "c-002",
     "locked": false,
     "schema_version": 3,
     "solution": false,
     "task": false
    }
   },
   "source": [
    "\n",
    "名前と学生証番号を書け. Enter your name and student ID.\n",
    "\n",
    " * 名前 Name:\n",
    " * 学生証番号 Student ID:\n"
   ]
  },
  {
   "cell_type": "markdown",
   "metadata": {
    "deletable": false,
    "editable": false,
    "kernel": "SoS",
    "nbgrader": {
     "cell_type": "markdown",
     "checksum": "31320840d77d9299c31d07ba0d347739",
     "grade": false,
     "grade_id": "c-003",
     "locked": true,
     "schema_version": 3,
     "solution": false,
     "task": false
    }
   },
   "source": [
    "# 1. プロセス関連コマンド"
   ]
  },
  {
   "cell_type": "markdown",
   "metadata": {
    "deletable": false,
    "editable": false,
    "kernel": "SoS",
    "nbgrader": {
     "cell_type": "markdown",
     "checksum": "6c0863d07db91036d7dafc3cfc018afc",
     "grade": false,
     "grade_id": "c-004",
     "locked": true,
     "schema_version": 3,
     "solution": false,
     "task": false
    }
   },
   "source": [
    "## 1-1. ps auxww\n",
    "* ps は現存するプロセスを表示するコマンド\n",
    "* 話せば長い(詳細はmanページを参照)が, auxwwですべてのプロセスがコマンドラインとともに表示される"
   ]
  },
  {
   "cell_type": "markdown",
   "metadata": {
    "deletable": false,
    "editable": false,
    "kernel": "SoS",
    "nbgrader": {
     "cell_type": "markdown",
     "checksum": "7bd323eee01a5ab798729a7ada6165d6",
     "grade": false,
     "grade_id": "c-005",
     "locked": true,
     "schema_version": 3,
     "solution": false,
     "task": false
    }
   },
   "source": [
    "* 以下によりシステムのすべてのプロセスが表示される\n",
    "* 出力が一杯になりすぎたらなにも出力しないコマンドに書き換えて実行しなおせば良い\n",
    "* 例えば\n",
    "```\n",
    "ps auxww > /dev/null\n",
    "```"
   ]
  },
  {
   "cell_type": "code",
   "execution_count": null,
   "metadata": {
    "kernel": "Bash",
    "nbgrader": {
     "grade": false,
     "grade_id": "c-006",
     "locked": false,
     "schema_version": 3,
     "solution": false,
     "task": false
    }
   },
   "outputs": [],
   "source": [
    "ps auxww"
   ]
  },
  {
   "cell_type": "markdown",
   "metadata": {
    "deletable": false,
    "editable": false,
    "kernel": "SoS",
    "nbgrader": {
     "cell_type": "markdown",
     "checksum": "d42a1b59fce342bb0589ac222e6d5bd7",
     "grade": false,
     "grade_id": "c-007",
     "locked": true,
     "schema_version": 3,
     "solution": false,
     "task": false
    }
   },
   "source": [
    "\n",
    "# 2. fork\n",
    "* forkはUnixでプロセスを生成する手段\n",
    "* プロセスを生成 = (例えば実行するファイルを指定して)プログラムを起動するということかと思いきやそうではなく, forkは何の引数もとらず, 呼び出したプロセスのコピーを作るというもの\n",
    "* 以下は全く役に立たないが, ともかくforkが何をするシステムコールかを教えてくれるプログラム"
   ]
  },
  {
   "cell_type": "code",
   "execution_count": null,
   "metadata": {
    "kernel": "Python 3 (ipykernel)",
    "nbgrader": {
     "grade": false,
     "grade_id": "c-008",
     "locked": false,
     "schema_version": 3,
     "solution": false,
     "task": false
    }
   },
   "outputs": [],
   "source": [
    "%%writefile fork.c\n",
    "#include <stdio.h>\n",
    "#include <unistd.h>\n",
    "\n",
    "int main() {\n",
    "  printf(\"%d : before fork\\n\", getpid());\n",
    "  fflush(stdout);\n",
    "  fork();           /* 現プロセスをコピー */\n",
    "  printf(\"%d : after fork\\n\", getpid());\n",
    "  return 0;\n",
    "}"
   ]
  },
  {
   "cell_type": "code",
   "execution_count": null,
   "metadata": {
    "kernel": "Bash",
    "nbgrader": {
     "grade": false,
     "grade_id": "c-009",
     "locked": false,
     "schema_version": 3,
     "solution": false,
     "task": false
    }
   },
   "outputs": [],
   "source": [
    "gcc -Wall fork.c -o fork"
   ]
  },
  {
   "cell_type": "code",
   "execution_count": null,
   "metadata": {
    "kernel": "Bash",
    "nbgrader": {
     "grade": false,
     "grade_id": "c-010",
     "locked": false,
     "schema_version": 3,
     "solution": false,
     "task": false
    }
   },
   "outputs": [],
   "source": [
    "./fork"
   ]
  },
  {
   "cell_type": "markdown",
   "metadata": {
    "deletable": false,
    "editable": false,
    "kernel": "SoS",
    "nbgrader": {
     "cell_type": "markdown",
     "checksum": "2e8ef011528a803a5f5ea9f3b915ccff",
     "grade": false,
     "grade_id": "c-011",
     "locked": true,
     "schema_version": 3,
     "solution": false,
     "task": false
    }
   },
   "source": [
    "* forkを使うもう少し完結した例\n",
    "* 親と子で違う動作をする"
   ]
  },
  {
   "cell_type": "code",
   "execution_count": null,
   "metadata": {
    "kernel": "Python 3 (ipykernel)",
    "nbgrader": {
     "grade": false,
     "grade_id": "c-012",
     "locked": false,
     "schema_version": 3,
     "solution": false,
     "task": false
    }
   },
   "outputs": [],
   "source": [
    "%%writefile fork_pc.c\n",
    "#include <err.h>\n",
    "#include <stdio.h>\n",
    "#include <stdlib.h>\n",
    "#include <unistd.h>\n",
    "\n",
    "int main() {\n",
    "  pid_t pid = fork();           /* 現プロセスをコピー */\n",
    "  if (pid == -1) {\n",
    "    err(1, \"fork\");\n",
    "  } else if (pid == 0) {        /* 新しいプロセス(子プロセス) */\n",
    "    for (int i = 0; i < 5; i++) {\n",
    "      printf(\"child  %d: %d\\n\", getpid(), i);\n",
    "      fflush(stdout);\n",
    "      usleep(100 * 1000);\n",
    "    }\n",
    "  } else {                      /* 元いたプロセス(親プロセス)\n",
    "                                   forkの返り値は子プロセスのプロセスID */\n",
    "    for (int i = 0; i < 5; i++) {\n",
    "      printf(\"parent %d: %d\\n\", getpid(), i);\n",
    "      fflush(stdout);\n",
    "      usleep(100 * 1000);\n",
    "    }\n",
    "  }\n",
    "  return 0;\n",
    "}"
   ]
  },
  {
   "cell_type": "code",
   "execution_count": null,
   "metadata": {
    "kernel": "Bash",
    "nbgrader": {
     "grade": false,
     "grade_id": "c-013",
     "locked": false,
     "schema_version": 3,
     "solution": false,
     "task": false
    }
   },
   "outputs": [],
   "source": [
    "gcc -Wall fork_pc.c -o fork_pc"
   ]
  },
  {
   "cell_type": "code",
   "execution_count": null,
   "metadata": {
    "kernel": "Bash",
    "nbgrader": {
     "grade": false,
     "grade_id": "c-014",
     "locked": false,
     "schema_version": 3,
     "solution": false,
     "task": false
    }
   },
   "outputs": [],
   "source": [
    "./fork_pc"
   ]
  },
  {
   "cell_type": "markdown",
   "metadata": {
    "deletable": false,
    "editable": false,
    "kernel": "SoS",
    "nbgrader": {
     "cell_type": "markdown",
     "checksum": "724e4817e32a9238182b2c959d8fd81c",
     "grade": false,
     "grade_id": "c-015",
     "locked": true,
     "schema_version": 3,
     "solution": false,
     "task": false
    }
   },
   "source": [
    "* forkを使うさらにまともな例\n",
    "* 親が子のwait処理をする"
   ]
  },
  {
   "cell_type": "code",
   "execution_count": null,
   "metadata": {
    "kernel": "Python 3 (ipykernel)",
    "nbgrader": {
     "grade": false,
     "grade_id": "c-016",
     "locked": false,
     "schema_version": 3,
     "solution": false,
     "task": false
    }
   },
   "outputs": [],
   "source": [
    "%%writefile fork_wait.c\n",
    "#include <err.h>\n",
    "#include <stdio.h>\n",
    "#include <stdlib.h>\n",
    "#include <unistd.h>\n",
    "#include <sys/types.h>\n",
    "#include <sys/wait.h>\n",
    "\n",
    "int main() {\n",
    "  pid_t pid = fork();\n",
    "  if (pid == -1) {\n",
    "    err(1, \"fork\");\n",
    "  } else if (pid == 0) {          /* child */\n",
    "    for (int i = 0; i < 5; i++) {\n",
    "      printf(\"%d: %d\\n\", getpid(), i);\n",
    "      fflush(stdout);\n",
    "      usleep(100 * 1000);\n",
    "    }\n",
    "    return 123;\n",
    "  } else {\n",
    "    int ws;\n",
    "    printf(\"parent: wait for child (pid = %d) to finish\\n\", pid);\n",
    "    fflush(stdout);\n",
    "    pid_t cid = waitpid(pid, &ws, 0);\n",
    "    if (cid == -1) err(1, \"waitpid\");\n",
    "    if (WIFEXITED(ws)) {\n",
    "      printf(\"exited, status=%d\\n\", WEXITSTATUS(ws));\n",
    "      fflush(stdout);\n",
    "    } else if (WIFSIGNALED(ws)) {\n",
    "      printf(\"killed by signal %d\\n\", WTERMSIG(ws));\n",
    "      fflush(stdout);\n",
    "    }\n",
    "  }\n",
    "  return 0;\n",
    "}"
   ]
  },
  {
   "cell_type": "code",
   "execution_count": null,
   "metadata": {
    "kernel": "Bash",
    "nbgrader": {
     "grade": false,
     "grade_id": "c-017",
     "locked": false,
     "schema_version": 3,
     "solution": false,
     "task": false
    }
   },
   "outputs": [],
   "source": [
    "gcc -Wall fork_wait.c -o fork_wait"
   ]
  },
  {
   "cell_type": "code",
   "execution_count": null,
   "metadata": {
    "kernel": "Bash",
    "nbgrader": {
     "grade": false,
     "grade_id": "c-018",
     "locked": false,
     "schema_version": 3,
     "solution": false,
     "task": false
    }
   },
   "outputs": [],
   "source": [
    "./fork_wait"
   ]
  },
  {
   "cell_type": "markdown",
   "metadata": {
    "deletable": false,
    "editable": false,
    "kernel": "SoS",
    "nbgrader": {
     "cell_type": "markdown",
     "checksum": "0f8b9687b83da3a7d2232988a6e575d8",
     "grade": false,
     "grade_id": "c-019",
     "locked": true,
     "schema_version": 3,
     "solution": false,
     "task": false
    }
   },
   "source": [
    "\n",
    "# 3. exec"
   ]
  },
  {
   "cell_type": "markdown",
   "metadata": {
    "deletable": false,
    "editable": false,
    "kernel": "SoS",
    "nbgrader": {
     "cell_type": "markdown",
     "checksum": "bdf7c369946f703e087b7ac5043553cd",
     "grade": false,
     "grade_id": "c-020",
     "locked": true,
     "schema_version": 3,
     "solution": false,
     "task": false
    }
   },
   "source": [
    "* execは指定したプログラムを実行するシステムコール\n",
    "* 呼び出したプロセスをそのまま, 指定したプログラムを先頭から実行するものに「変える」というイメージ\n",
    "* execがプロセスを生成するのではないので注意\n",
    "* execはあくまで呼び出したプロセスを, これまでのことをすべて忘れて所定のことをするプロセスに「変身させる」\n",
    "* なお, execという名のシステムコールが実在するのではなく, execv, execveなど色々な変種の総称\n",
    "* 以下は ls -l を実行するプロセスを作るプログラム"
   ]
  },
  {
   "cell_type": "code",
   "execution_count": null,
   "metadata": {
    "kernel": "Python 3 (ipykernel)",
    "nbgrader": {
     "grade": false,
     "grade_id": "c-021",
     "locked": false,
     "schema_version": 3,
     "solution": false,
     "task": false
    }
   },
   "outputs": [],
   "source": [
    "%%writefile fork_exec.c\n",
    "#include <err.h>\n",
    "#include <stdio.h>\n",
    "#include <stdlib.h>\n",
    "#include <unistd.h>\n",
    "#include <sys/types.h>\n",
    "#include <sys/wait.h>\n",
    "\n",
    "extern char ** environ;\n",
    "\n",
    "int main() {\n",
    "  pid_t pid = fork();           /* 現プロセスをコピー */\n",
    "  if (pid == -1) {\n",
    "    err(1, \"fork\");\n",
    "  } else if (pid == 0) {        /* 新しいプロセス(子プロセス) */\n",
    "    char * const argv[] = { \"/bin/ls\", \"-l\", 0 };\n",
    "    execv(argv[0], argv);\n",
    "    /* 成功すればexecveはリターンしない.\n",
    "       i.e., リターンしたらエラー */\n",
    "    err(1, \"execve\");\n",
    "  } else {\n",
    "    int ws;\n",
    "    pid_t cid = waitpid(pid, &ws, 0);\n",
    "    if (cid == -1) err(1, \"waitpid\");\n",
    "    if (WIFEXITED(ws)) {\n",
    "      printf(\"exited, status=%d\\n\", WEXITSTATUS(ws));\n",
    "      fflush(stdout);\n",
    "    } else if (WIFSIGNALED(ws)) {\n",
    "      printf(\"killed by signal %d\\n\", WTERMSIG(ws));\n",
    "      fflush(stdout);\n",
    "    }\n",
    "  }\n",
    "  return 0;\n",
    "}"
   ]
  },
  {
   "cell_type": "code",
   "execution_count": null,
   "metadata": {
    "kernel": "Bash",
    "nbgrader": {
     "grade": false,
     "grade_id": "c-022",
     "locked": false,
     "schema_version": 3,
     "solution": false,
     "task": false
    }
   },
   "outputs": [],
   "source": [
    "gcc -Wall fork_exec.c -o fork_exec"
   ]
  },
  {
   "cell_type": "code",
   "execution_count": null,
   "metadata": {
    "kernel": "Bash",
    "nbgrader": {
     "grade": false,
     "grade_id": "c-023",
     "locked": false,
     "schema_version": 3,
     "solution": false,
     "task": false
    }
   },
   "outputs": [],
   "source": [
    "./fork_exec"
   ]
  },
  {
   "cell_type": "markdown",
   "metadata": {
    "deletable": false,
    "editable": false,
    "kernel": "SoS",
    "nbgrader": {
     "cell_type": "markdown",
     "checksum": "fe44e689ff84b11d47c5e6118f4af03a",
     "grade": false,
     "grade_id": "c-024",
     "locked": true,
     "schema_version": 3,
     "solution": false,
     "task": false
    }
   },
   "source": [
    "* execv関数では実行したいコマンド(ls)のファイル名(/bin/ls)を指定しなくてはならない\n",
    "* 普段シェルでコマンドを実行する際は ls と打つだけで実行できているのは, シェルがPATHという環境変数を見てコマンドを探してくれているから\n",
    "* 以下でPATHという環境変数の中身が表示できる"
   ]
  },
  {
   "cell_type": "code",
   "execution_count": null,
   "metadata": {
    "kernel": "Bash",
    "nbgrader": {
     "grade": false,
     "grade_id": "c-025",
     "locked": false,
     "schema_version": 3,
     "solution": false,
     "task": false
    }
   },
   "outputs": [],
   "source": [
    "echo $PATH"
   ]
  },
  {
   "cell_type": "markdown",
   "metadata": {
    "deletable": false,
    "editable": false,
    "kernel": "SoS",
    "nbgrader": {
     "cell_type": "markdown",
     "checksum": "83192ec2cf1d2814df866c1112b22624",
     "grade": false,
     "grade_id": "c-026",
     "locked": true,
     "schema_version": 3,
     "solution": false,
     "task": false
    }
   },
   "source": [
    "* シェルは, PATHに指定されているディレクトリを順に見ていって, lsという名前のファイルが見つかったらそれを実行する\n",
    "* 同じことはexecの変種 execvp という関数を呼べばやってくれる"
   ]
  },
  {
   "cell_type": "code",
   "execution_count": null,
   "metadata": {
    "kernel": "Python 3 (ipykernel)",
    "nbgrader": {
     "grade": false,
     "grade_id": "c-027",
     "locked": false,
     "schema_version": 3,
     "solution": false,
     "task": false
    }
   },
   "outputs": [],
   "source": [
    "%%writefile fork_execvp.c\n",
    "#include <err.h>\n",
    "#include <stdio.h>\n",
    "#include <stdlib.h>\n",
    "#include <unistd.h>\n",
    "#include <sys/types.h>\n",
    "#include <sys/wait.h>\n",
    "\n",
    "extern char ** environ;\n",
    "\n",
    "int main() {\n",
    "  pid_t pid = fork();           /* 現プロセスをコピー */\n",
    "  if (pid == -1) {\n",
    "    err(1, \"fork\");\n",
    "  } else if (pid == 0) {        /* 新しいプロセス(子プロセス) */\n",
    "    char * const argv[] = { \"ls\", \"-l\", 0 };\n",
    "    execvp(argv[0], argv);\n",
    "    /* 成功すればexecveはリターンしない.\n",
    "       i.e., リターンしたらエラー */\n",
    "    err(1, \"execve\");\n",
    "  } else {\n",
    "    int ws;\n",
    "    pid_t cid = waitpid(pid, &ws, 0);\n",
    "    if (cid == -1) err(1, \"waitpid\");\n",
    "    if (WIFEXITED(ws)) {\n",
    "      printf(\"exited, status=%d\\n\", WEXITSTATUS(ws));\n",
    "      fflush(stdout);\n",
    "    } else if (WIFSIGNALED(ws)) {\n",
    "      printf(\"killed by signal %d\\n\", WTERMSIG(ws));\n",
    "      fflush(stdout);\n",
    "    }\n",
    "  }\n",
    "  return 0;\n",
    "}"
   ]
  },
  {
   "cell_type": "code",
   "execution_count": null,
   "metadata": {
    "kernel": "Bash",
    "nbgrader": {
     "grade": false,
     "grade_id": "c-028",
     "locked": false,
     "schema_version": 3,
     "solution": false,
     "task": false
    }
   },
   "outputs": [],
   "source": [
    "gcc -Wall fork_execvp.c -o fork_execvp"
   ]
  },
  {
   "cell_type": "code",
   "execution_count": null,
   "metadata": {
    "kernel": "Bash",
    "nbgrader": {
     "grade": false,
     "grade_id": "c-029",
     "locked": false,
     "schema_version": 3,
     "solution": false,
     "task": false
    }
   },
   "outputs": [],
   "source": [
    "./fork_execvp"
   ]
  },
  {
   "cell_type": "markdown",
   "metadata": {
    "deletable": false,
    "editable": false,
    "kernel": "SoS",
    "nbgrader": {
     "cell_type": "markdown",
     "checksum": "4cac917a323a795daa2a005011f43b63",
     "grade": false,
     "grade_id": "c-030",
     "locked": true,
     "schema_version": 3,
     "solution": false,
     "task": false
    }
   },
   "source": [
    "* なお, PATHの中身を見て, コマンド名に対応するファイル名を表示してくれるのが which というコマンド\n",
    "* コマンドを打ち込んで実行されているファイルがどこにあるのかを知りたいときに使う\n",
    "* Linux, Macを使っている人は普段使っているプログラム, firefox, zoomなどがどこにあるのかを探ってみよ"
   ]
  },
  {
   "cell_type": "code",
   "execution_count": null,
   "metadata": {
    "kernel": "Bash",
    "nbgrader": {
     "grade": false,
     "grade_id": "c-031",
     "locked": false,
     "schema_version": 3,
     "solution": false,
     "task": false
    }
   },
   "outputs": [],
   "source": [
    "which firefox\n",
    "which zoom"
   ]
  },
  {
   "cell_type": "markdown",
   "metadata": {
    "deletable": false,
    "editable": false,
    "kernel": "SoS",
    "nbgrader": {
     "cell_type": "markdown",
     "checksum": "5586b1ec5bfecc9b2fed84f79612667c",
     "grade": false,
     "grade_id": "c-032",
     "locked": true,
     "schema_version": 3,
     "solution": false,
     "task": false
    }
   },
   "source": [
    "# 4. forkにまつわる悲劇\n",
    "* 以下のようなプログラムを書いたらプロセスはいくつ生成されるのだろう?\n",
    "* そして以下を実行するとどんな表示が出てくるか?\n",
    "* 頭で予想してから実行してみよ\n",
    "* n=100としたら何が起こるか(<- 決してやってはいけない)?"
   ]
  },
  {
   "cell_type": "code",
   "execution_count": null,
   "metadata": {
    "kernel": "Python 3 (ipykernel)",
    "nbgrader": {
     "grade": false,
     "grade_id": "c-033",
     "locked": false,
     "schema_version": 3,
     "solution": false,
     "task": false
    }
   },
   "outputs": [],
   "source": [
    "%%writefile fork_n.c\n",
    "#include <stdio.h>\n",
    "#include <unistd.h>\n",
    "\n",
    "int main() {\n",
    "  int n = 5;\n",
    "  for (int i = 0; i < n; i++) {\n",
    "    pid_t cid = fork();\n",
    "    printf(\"%d -> %d\\n\", getpid(), cid);\n",
    "    fflush(stdout);\n",
    "  }\n",
    "  return 0;\n",
    "}"
   ]
  },
  {
   "cell_type": "code",
   "execution_count": null,
   "metadata": {
    "kernel": "Bash",
    "nbgrader": {
     "grade": false,
     "grade_id": "c-034",
     "locked": false,
     "schema_version": 3,
     "solution": false,
     "task": false
    }
   },
   "outputs": [],
   "source": [
    "gcc -Wall fork_n.c -o fork_n"
   ]
  },
  {
   "cell_type": "markdown",
   "metadata": {
    "deletable": false,
    "editable": false,
    "kernel": "SoS",
    "nbgrader": {
     "cell_type": "markdown",
     "checksum": "81bc064c269d2ce07f9c2573bd4f7ff9",
     "grade": false,
     "grade_id": "c-035",
     "locked": true,
     "schema_version": 3,
     "solution": false,
     "task": false
    }
   },
   "source": [
    "* 以下を実行して (左側のファイル一覧から) out.txt を開いて見てみよ"
   ]
  },
  {
   "cell_type": "code",
   "execution_count": null,
   "metadata": {
    "kernel": "Bash",
    "nbgrader": {
     "grade": false,
     "grade_id": "c-036",
     "locked": false,
     "schema_version": 3,
     "solution": false,
     "task": false
    }
   },
   "outputs": [],
   "source": [
    "./fork_n > out.txt"
   ]
  },
  {
   "cell_type": "markdown",
   "metadata": {
    "deletable": false,
    "editable": false,
    "kernel": "SoS",
    "nbgrader": {
     "cell_type": "markdown",
     "checksum": "a0d00828332b29fc7a1836869b365b77",
     "grade": false,
     "grade_id": "c-037",
     "locked": true,
     "schema_version": 3,
     "solution": false,
     "task": false
    }
   },
   "source": [
    "* 注: > out.txt なしで直接表示することもできるが, 結果をすべて出力てくれないことがしばしばある. これは多分, Jupyterのbashカーネルのバグ\n",
    "* 多分以下のように, このセルの終了まで間を作ると全部出力してくれる(Jupyterのバグを回避しているだけで全く本質的なことではない. 端末で実行すればこんなことをする必要はない)"
   ]
  },
  {
   "cell_type": "code",
   "execution_count": null,
   "metadata": {
    "kernel": "Bash",
    "nbgrader": {
     "grade": false,
     "grade_id": "c-038",
     "locked": false,
     "schema_version": 3,
     "solution": false,
     "task": false
    }
   },
   "outputs": [],
   "source": [
    "./fork_n\n",
    "sleep 1 "
   ]
  },
  {
   "cell_type": "markdown",
   "metadata": {
    "deletable": false,
    "editable": false,
    "kernel": "SoS",
    "nbgrader": {
     "cell_type": "markdown",
     "checksum": "86f99ca717e2ea6bb95fabc89db6ddc9",
     "grade": false,
     "grade_id": "c-039",
     "locked": true,
     "schema_version": 3,
     "solution": false,
     "task": false
    }
   },
   "source": [
    "# <font color=\"green\"> Problem 1 :  fork, exec, waitの練習</font>\n",
    "以下を行うプログラムを書け\n",
    "\n",
    "1. 時刻をナノ秒単位で取得($t_0$とする)\n",
    "2. 以下を多数回($n$回)繰り返す\n",
    " * 子プロセスをforkする\n",
    "  * 子プロセスはただちに ./do_nothing という, 何もしないプログラムをexecする\n",
    "  * 親プロセスはただちに子プロセスの終了をwaitする\n",
    "3. 時刻をナノ秒単位で取得($t_1$とする)\n",
    "4. 1回あたりの時間($(t_1 - t_0)/n$) をナノ秒単位で出力\n",
    "\n",
    "* do_nothingは以下のような, 何もしないプログラム"
   ]
  },
  {
   "cell_type": "code",
   "execution_count": null,
   "metadata": {
    "kernel": "Python 3 (ipykernel)",
    "nbgrader": {
     "grade": false,
     "grade_id": "c-040",
     "locked": false,
     "schema_version": 3,
     "solution": false,
     "task": false
    }
   },
   "outputs": [],
   "source": [
    "%%writefile do_nothing.c\n",
    "int main() {\n",
    "  return 0;\n",
    "}"
   ]
  },
  {
   "cell_type": "code",
   "execution_count": null,
   "metadata": {
    "kernel": "Bash",
    "nbgrader": {
     "grade": false,
     "grade_id": "c-041",
     "locked": false,
     "schema_version": 3,
     "solution": false,
     "task": false
    }
   },
   "outputs": [],
   "source": [
    "gcc -Wall do_nothing.c -o do_nothing"
   ]
  },
  {
   "cell_type": "markdown",
   "metadata": {
    "deletable": false,
    "editable": false,
    "kernel": "SoS",
    "nbgrader": {
     "cell_type": "markdown",
     "checksum": "bb235fbd7fb962f169db9f2609fdd53d",
     "grade": false,
     "grade_id": "c-042",
     "locked": true,
     "schema_version": 3,
     "solution": false,
     "task": false
    }
   },
   "source": [
    "* $n$はコマンドラインから取得できるようにする\n",
    "* 以下のコードを修正して上記を達成せよ"
   ]
  },
  {
   "cell_type": "code",
   "execution_count": null,
   "metadata": {
    "deletable": false,
    "kernel": "Python 3 (ipykernel)",
    "nbgrader": {
     "cell_type": "code",
     "checksum": "78667530feaefbe60589971c511d2775",
     "grade": true,
     "grade_id": "p-001",
     "locked": false,
     "points": 1,
     "schema_version": 3,
     "solution": true,
     "task": false
    }
   },
   "outputs": [],
   "source": [
    "\n",
    "%%writefile time_fork_exec_wait.c\n",
    "#include <err.h>\n",
    "#include <stdio.h>\n",
    "#include <stdlib.h>\n",
    "#include <unistd.h>\n",
    "#include <time.h>\n",
    "#include <sys/types.h>\n",
    "#include <sys/wait.h>\n",
    "\n",
    "long cur_time() {\n",
    "  struct timespec ts[1];\n",
    "  clock_gettime(CLOCK_REALTIME, ts);\n",
    "  return ts->tv_sec * 1000000000L + ts->tv_nsec;\n",
    "}\n",
    "\n",
    "int main(int argc, char ** argv) {\n",
    "  int n = (argc > 1 ? atoi(argv[1]) : 5);\n",
    "  long t0 = cur_time();\n",
    "\n",
    "  \n",
    "  /* ここにプログラムを書く */\n",
    "\n",
    "  \n",
    "  long t1 = cur_time();\n",
    "  long dt = t1 - t0;\n",
    "  printf(\"%ld nsec to fork-exec-wait %d processes (%ld nsec/proc)\\n\",\n",
    "         dt, n, dt / n);\n",
    "  return 0;\n",
    "}"
   ]
  },
  {
   "cell_type": "code",
   "execution_count": null,
   "metadata": {
    "deletable": false,
    "kernel": "Bash",
    "nbgrader": {
     "cell_type": "code",
     "checksum": "fe7e3ecb23e4444073a9a9f2951c3d25",
     "grade": true,
     "grade_id": "p-002",
     "locked": false,
     "points": 1,
     "schema_version": 3,
     "solution": true,
     "task": false
    }
   },
   "outputs": [],
   "source": [
    "\n",
    "gcc -Wall time_fork_exec_wait.c -o time_fork_exec_wait"
   ]
  },
  {
   "cell_type": "markdown",
   "metadata": {
    "deletable": false,
    "editable": false,
    "kernel": "SoS",
    "nbgrader": {
     "cell_type": "markdown",
     "checksum": "e7b2052299411616f3061c993f7756a9",
     "grade": false,
     "grade_id": "c-043",
     "locked": true,
     "schema_version": 3,
     "solution": false,
     "task": false
    }
   },
   "source": [
    "* 以下のコマンドラインを色々変更して, 1回あたりの時間を計測せよ\n",
    "* これは概ね, fork + exec + exit + wait の時間 (プログラムを起動して終了するまでにかかる最小の時間)を計測していることに相当する\n",
    "* 正しく動いているかを確認するために, do_nothingで何かをprintするとか, time_fork_exec_wait中でwaitpidの結果を表示するようにせよ\n",
    "* 時間を計測するときはそれらの表示を消すこと(消さないと, 測っているのは出力時間が大半を占めることになる)"
   ]
  },
  {
   "cell_type": "code",
   "execution_count": null,
   "metadata": {
    "deletable": false,
    "kernel": "Bash",
    "nbgrader": {
     "cell_type": "code",
     "checksum": "5047123777f5f50e378cd58b247d06eb",
     "grade": true,
     "grade_id": "p-003",
     "locked": false,
     "points": 1,
     "schema_version": 3,
     "solution": true,
     "task": false
    }
   },
   "outputs": [],
   "source": [
    "\n",
    "./time_fork_exec_wait 10"
   ]
  },
  {
   "cell_type": "markdown",
   "metadata": {
    "deletable": false,
    "editable": false,
    "kernel": "SoS",
    "nbgrader": {
     "cell_type": "markdown",
     "checksum": "3fb28f82cce84bb8ca34c40e9e7ca77c",
     "grade": false,
     "grade_id": "c-044",
     "locked": true,
     "schema_version": 3,
     "solution": false,
     "task": false
    }
   },
   "source": [
    "* 子プロセスが do_nothing を exec する代わりに, 直ちにexit した場合の時間(fork + wait の時間)も計測せよ"
   ]
  },
  {
   "cell_type": "code",
   "execution_count": null,
   "metadata": {
    "deletable": false,
    "kernel": "Python 3 (ipykernel)",
    "nbgrader": {
     "cell_type": "code",
     "checksum": "bec038cb4ee9435b003369b49ebe3abb",
     "grade": true,
     "grade_id": "p-004",
     "locked": false,
     "points": 1,
     "schema_version": 3,
     "solution": true,
     "task": false
    }
   },
   "outputs": [],
   "source": [
    "\n",
    "%%writefile time_fork_exit_wait.c\n",
    "#include <err.h>\n",
    "#include <stdio.h>\n",
    "#include <stdlib.h>\n",
    "#include <unistd.h>\n",
    "#include <time.h>\n",
    "#include <sys/types.h>\n",
    "#include <sys/wait.h>\n",
    "\n",
    "long cur_time() {\n",
    "  struct timespec ts[1];\n",
    "  clock_gettime(CLOCK_REALTIME, ts);\n",
    "  return ts->tv_sec * 1000000000L + ts->tv_nsec;\n",
    "}\n",
    "\n",
    "int main(int argc, char ** argv) {\n",
    "  int n = (argc > 1 ? atoi(argv[1]) : 5);\n",
    "  long t0 = cur_time();\n",
    "\n",
    "  \n",
    "  /* ここにプログラムを書く */\n",
    "\n",
    "  \n",
    "  long t1 = cur_time();\n",
    "  long dt = t1 - t0;\n",
    "  printf(\"%ld nsec to fork-wait %d processes (%ld nsec/proc)\\n\",\n",
    "         dt, n, dt / n);\n",
    "  return 0;\n",
    "}"
   ]
  },
  {
   "cell_type": "code",
   "execution_count": null,
   "metadata": {
    "deletable": false,
    "kernel": "Bash",
    "nbgrader": {
     "cell_type": "code",
     "checksum": "8381fd3741c4f43b8ab15d77e1cdc7f0",
     "grade": true,
     "grade_id": "p-005",
     "locked": false,
     "points": 1,
     "schema_version": 3,
     "solution": true,
     "task": false
    }
   },
   "outputs": [],
   "source": [
    "\n",
    "gcc -Wall time_fork_exit_wait.c -o time_fork_exit_wait"
   ]
  },
  {
   "cell_type": "code",
   "execution_count": null,
   "metadata": {
    "deletable": false,
    "kernel": "Bash",
    "nbgrader": {
     "cell_type": "code",
     "checksum": "d02609f826964f25aab88c0a63a67059",
     "grade": true,
     "grade_id": "p-006",
     "locked": false,
     "points": 1,
     "schema_version": 3,
     "solution": true,
     "task": false
    }
   },
   "outputs": [],
   "source": [
    "\n",
    "./time_fork_exit_wait 10"
   ]
  }
 ],
 "metadata": {
  "kernelspec": {
   "display_name": "SoS",
   "language": "sos",
   "name": "sos"
  },
  "language_info": {
   "codemirror_mode": "sos",
   "file_extension": ".sos",
   "mimetype": "text/x-sos",
   "name": "sos",
   "nbconvert_exporter": "sos_notebook.converter.SoS_Exporter",
   "pygments_lexer": "sos"
  },
  "sos": {
   "kernels": [
    [
     "Bash",
     "bash",
     "bash",
     "",
     "shell"
    ],
    [
     "C",
     "c_kernel",
     "c",
     "",
     ""
    ],
    [
     "Go",
     "gophernotes",
     "go",
     "",
     ""
    ],
    [
     "Julia 1.4.1",
     "julia-1.4",
     "julia",
     "",
     ""
    ],
    [
     "OCaml default",
     "ocaml-jupyter",
     "OCaml",
     "",
     "text/x-ocaml"
    ],
    [
     "Python 3 (ipykernel)",
     "python3",
     "python3",
     "",
     {
      "name": "ipython",
      "version": 3
     }
    ],
    [
     "Rust",
     "rust",
     "rust",
     "",
     ""
    ]
   ],
   "panel": {
    "displayed": true,
    "height": 0
   },
   "version": "0.23.3"
  }
 },
 "nbformat": 4,
 "nbformat_minor": 4
}
