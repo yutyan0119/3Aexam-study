{
 "cells": [
  {
   "cell_type": "markdown",
   "metadata": {
    "deletable": false,
    "editable": false,
    "kernel": "SoS",
    "nbgrader": {
     "cell_type": "markdown",
     "checksum": "4f423432e9db905b2a6de73316d954f1",
     "grade": false,
     "grade_id": "c-001",
     "locked": true,
     "schema_version": 3,
     "solution": false,
     "task": false
    }
   },
   "source": [
    "\n",
    "#  オペレーティングシステム 演習 08\n",
    "#  Compare-and-swap / 各種不可分更新方法のの可視化"
   ]
  },
  {
   "cell_type": "markdown",
   "metadata": {
    "kernel": "SoS",
    "nbgrader": {
     "grade": false,
     "grade_id": "c-002",
     "locked": false,
     "schema_version": 3,
     "solution": false,
     "task": false
    }
   },
   "source": [
    "\n",
    "名前と学生証番号を書け. Enter your name and student ID.\n",
    "\n",
    " * 名前 Name:\n",
    " * 学生証番号 Student ID:\n"
   ]
  },
  {
   "cell_type": "markdown",
   "metadata": {
    "deletable": false,
    "editable": false,
    "kernel": "SoS",
    "nbgrader": {
     "cell_type": "markdown",
     "checksum": "ea92b35f144f6f6aae1aa098ae770c10",
     "grade": false,
     "grade_id": "c-003",
     "locked": true,
     "schema_version": 3,
     "solution": false,
     "task": false
    }
   },
   "source": [
    "# 1. 始めに\n",
    "* 1変数に対する不可分な更新を行うのには排他制御を使う方法と不可分更新命令を使う方法がある\n",
    "* 排他制御にも休眠待機を行うもの(pthread_mutex_t)と, 頻忙待機を行うもの(pthread_spinlock_t)がある\n",
    "* 変数の更新を行う3つの方法を試してその挙動を可視化しよう\n",
    "\n",
    "* 以下はどれも全スレッドで合計n回, \n",
    "\n",
    "```\n",
    "g = compute(g, l);\n",
    "```\n",
    "\n",
    "という文を(gを読み出してから更新するまでを)不可分に実行する. 排他制御を使う場合は,\n",
    "```\n",
    "lock();\n",
    "g = compute(g, l);\n",
    "unlock();\n",
    "```\n",
    "\n",
    "compute(g) の中身に特に意味はないが,\n",
    "```\n",
    "double compute(x, l) {\n",
    "  for (i = 0; i < l; i++) {\n",
    "    x = a * x + b\n",
    "  }\n",
    "  return x;\n",
    "}\n",
    "```\n",
    "\n",
    "* 可視化をしやすくするため, クリティカルセクションの外で適当な時間だけsleepできるようにする\n",
    "```\n",
    "./lock_rec_xxx nthreads n l s\n",
    "```\n",
    "で, \n",
    "```\n",
    "/* Nスレッド合計でn回 */\n",
    "for (long i = 0; i < n; i++) {\n",
    "    g = compute(g, l); // 不可分に\n",
    "    s秒休眠\n",
    "}\n",
    "```\n",
    "という動きをする"
   ]
  },
  {
   "cell_type": "markdown",
   "metadata": {
    "deletable": false,
    "editable": false,
    "kernel": "SoS",
    "nbgrader": {
     "cell_type": "markdown",
     "checksum": "357845082138e7cd138d6eb7e4c57acd",
     "grade": false,
     "grade_id": "c-004",
     "locked": true,
     "schema_version": 3,
     "solution": false,
     "task": false
    }
   },
   "source": [
    "# 2. 可視化のためのプログラム"
   ]
  },
  {
   "cell_type": "code",
   "execution_count": null,
   "metadata": {
    "kernel": "Python 3 (ipykernel)",
    "nbgrader": {
     "grade": false,
     "grade_id": "c-005",
     "locked": false,
     "schema_version": 3,
     "solution": false,
     "task": false
    }
   },
   "outputs": [],
   "source": [
    "#!/usr/bin/python3\n",
    "import sys\n",
    "import re\n",
    "import matplotlib.collections as mc\n",
    "import matplotlib.pyplot as plt\n",
    "import numpy as np\n",
    "\n",
    "def read_dat(dat):\n",
    "    pat = re.compile(\"(?P<i>\\d+) (?P<thread>\\d+) (?P<cpu>\\d+) (?P<lock_enter>\\d+\\.\\d+) (?P<lock_acq>\\d+\\.\\d+) (?P<unlock_enter>\\d+\\.\\d+)\")\n",
    "    log = {}\n",
    "    with open(dat) as fp:\n",
    "        for line in fp:\n",
    "            m = pat.match(line)\n",
    "            if not m:\n",
    "                sys.stderr.write(\"warning: ignore line [%s]\\n\" % line.rstrip())\n",
    "                continue\n",
    "            i = int(m.group(\"i\"))\n",
    "            thread = int(m.group(\"thread\"))\n",
    "            cpu = int(m.group(\"cpu\"))\n",
    "            lock_enter = float(m.group(\"lock_enter\"))\n",
    "            lock_acq = float(m.group(\"lock_acq\"))\n",
    "            unlock_enter = float(m.group(\"unlock_enter\"))\n",
    "            if thread not in log:\n",
    "                log[thread] = []\n",
    "            log[thread].append((i, cpu, lock_enter, lock_acq, unlock_enter))\n",
    "    return log\n",
    "    \n",
    "def progress_threads_plt(dat, start_t, end_t):\n",
    "    log = read_dat(dat)\n",
    "    nthreads = len(log)\n",
    "    cmap = plt.cm.get_cmap('RdYlGn', nthreads)\n",
    "    T0 = min(min(t for _, _, t, _, _ in recs) for recs in log.values())\n",
    "    lines = []\n",
    "    names = []\n",
    "    fig, ax = plt.subplots()\n",
    "    for thread, recs in sorted(log.items()):\n",
    "        T = [unlock - T0 for _, _, _, _, unlock in recs if start_t <= unlock - T0 < end_t]\n",
    "        N = list(range(len(T)))\n",
    "        color = cmap(thread)\n",
    "        lines.extend(ax.plot(T, N, 'o', markersize=0.5, color=color))\n",
    "        names.append(thread)\n",
    "    ax.autoscale()\n",
    "    plt.title(\"progress of threads (%s)\" % dat)\n",
    "    plt.xlabel(\"time\")\n",
    "    plt.ylabel(\"updates (by thread)\")\n",
    "    # plt.legend(lines, names)\n",
    "    plt.show()\n",
    "\n",
    "def progress_threads_plts(dats, start_t=0, end_t=float(\"inf\")):\n",
    "    for dat in dats:\n",
    "        progress_threads_plt(dat, start_t, end_t)\n",
    "\n",
    "def compare_progress_plt(dat, color, fig, ax, start_t, end_t):\n",
    "    log = read_dat(dat)\n",
    "    T0 = min(min(t for _, _, t, _, _ in recs) for recs in log.values())\n",
    "    T = []\n",
    "    for thread, recs in sorted(log.items()):\n",
    "        T.extend([unlock - T0 for _, _, _, _, unlock in recs if start_t <= unlock - T0 < end_t])\n",
    "        # G.extend([i             for i, _, _, _, _ in recs])\n",
    "        # color = cmap(thread)\n",
    "    T.sort()\n",
    "    N = list(range(len(T)))\n",
    "    [l] = ax.plot(T, N, 'o', markersize=0.5, color=color)\n",
    "    return (l, dat)\n",
    "        \n",
    "def compare_progress_plts(dats, start_t=0, end_t=float(\"inf\")):\n",
    "    n_methods = len(dats)\n",
    "    cmap = plt.cm.get_cmap('RdYlGn', n_methods)\n",
    "    fig, ax = plt.subplots()\n",
    "    labels = []\n",
    "    for i,dat in enumerate(dats):\n",
    "        color = cmap(i)\n",
    "        labels.append(compare_progress_plt(dat, color, fig, ax, start_t, end_t))\n",
    "    ax.autoscale()\n",
    "    lines = [l   for l,dat in labels]\n",
    "    names = [dat for l,dat in labels]\n",
    "    plt.title(\"compare methods\")\n",
    "    plt.xlabel(\"time\")\n",
    "    plt.ylabel(\"updates (total)\")\n",
    "    plt.legend(lines, names)\n",
    "    plt.show()\n",
    "\n",
    "def lock_wait_gantt(dat, start_t, end_t):\n",
    "    log = read_dat(dat)\n",
    "    n_cpus = max(max(cpu for _, cpu, _, _, _ in recs) for recs in log.values()) + 1\n",
    "    n_threads = len(log)\n",
    "    cmap = plt.cm.get_cmap('RdYlGn', n_threads)\n",
    "    T0 = min(min(t for _, _, t, _, _ in recs) for recs in log.values())\n",
    "    lock_wait_segs = []\n",
    "    lock_held_segs = []\n",
    "    wait_colors = []\n",
    "    held_colors = []\n",
    "    fig, ax = plt.subplots()\n",
    "    for thread, recs in sorted(log.items()):\n",
    "        c = cmap(thread)\n",
    "        d = tuple([x + 0.8 * (1 - x) for x in c])\n",
    "        for i, cpu, lock_enter, lock_acq, unlock_enter in recs:\n",
    "            w0 = max(lock_enter - T0, start_t)\n",
    "            w1 = min(lock_acq - T0, end_t)\n",
    "            h0 = max(lock_acq - T0, start_t)\n",
    "            h1 = min(unlock_enter - T0, end_t)\n",
    "            if w0 <= w1:\n",
    "                lock_wait_segs.append([(w0, thread), (w1, thread)])\n",
    "                wait_colors.append(c)\n",
    "            if h0 <= h1:\n",
    "                lock_held_segs.append([(h0, thread), (h1, thread)])\n",
    "                held_colors.append(d)\n",
    "    lw = 320 / n_threads\n",
    "    wc = mc.LineCollection(lock_wait_segs, colors=held_colors, linewidths=lw/2)\n",
    "    hc = mc.LineCollection(lock_held_segs, colors=wait_colors, linewidths=lw)\n",
    "    ax.add_collection(wc)\n",
    "    ax.add_collection(hc)\n",
    "    ax.autoscale()\n",
    "    plt.title(\"thread status (%s)\" % dat)\n",
    "    plt.xlabel(\"time\")\n",
    "    plt.ylabel(\"threads\")\n",
    "    plt.show()\n",
    "\n",
    "def lock_wait_gantts(dats, start_t=0, end_t=float(\"inf\")):\n",
    "    for dat in dats:\n",
    "        lock_wait_gantt(dat, start_t, end_t)\n",
    "\n",
    "def main():\n",
    "    dats = sys.argv[1:]\n",
    "    compare_progress_plts(dats)\n",
    "    lock_wait_gantts(dats)\n",
    "    progress_threads_plts(dats)\n",
    "\n",
    "#if __name__ == \"__main__\":\n",
    "#    main()"
   ]
  },
  {
   "cell_type": "markdown",
   "metadata": {
    "deletable": false,
    "editable": false,
    "kernel": "SoS",
    "nbgrader": {
     "cell_type": "markdown",
     "checksum": "f78d51fa27bc4b9dc584d090c2dd70b3",
     "grade": false,
     "grade_id": "c-006",
     "locked": true,
     "schema_version": 3,
     "solution": false,
     "task": false
    }
   },
   "source": [
    "# 3. mutex\n",
    "* まずは最も基本的な, mutex を使う方法"
   ]
  },
  {
   "cell_type": "code",
   "execution_count": null,
   "metadata": {
    "kernel": "Python 3 (ipykernel)",
    "nbgrader": {
     "grade": false,
     "grade_id": "c-007",
     "locked": false,
     "schema_version": 3,
     "solution": false,
     "task": false
    }
   },
   "outputs": [],
   "source": [
    "%%writefile lock_rec_mutex.c\n",
    "#define _GNU_SOURCE\n",
    "#include <assert.h>\n",
    "#include <stdio.h>\n",
    "#include <stdlib.h>\n",
    "#include <unistd.h>\n",
    "#include <sched.h>\n",
    "#include <pthread.h>\n",
    "#include <omp.h>\n",
    "\n",
    "void die(const char * msg) {\n",
    "  perror(msg); exit(1);\n",
    "}\n",
    "\n",
    "/* 大域変数 */\n",
    "volatile double g;\n",
    "\n",
    "double cur_time() {\n",
    "  struct timespec ts[1];\n",
    "  clock_gettime(CLOCK_REALTIME, ts);\n",
    "  return ts->tv_sec + ts->tv_nsec * 1.0e-9;\n",
    "}\n",
    "\n",
    "void waste_sec(double dt) {\n",
    "  if (dt > 0) {\n",
    "    double t0 = cur_time();\n",
    "    while (cur_time() < t0 + dt) ;\n",
    "  }\n",
    "}\n",
    "\n",
    "/* pthread_mutexで排他制御 */\n",
    "typedef pthread_mutex_t mutex_t;\n",
    "int mutex_init(mutex_t * m) {\n",
    "  return pthread_mutex_init(m, 0);\n",
    "}\n",
    "int mutex_lock(mutex_t * m) {\n",
    "  return pthread_mutex_lock(m);\n",
    "}\n",
    "int mutex_unlock(mutex_t * m) {\n",
    "  return pthread_mutex_unlock(m);\n",
    "}\n",
    "\n",
    "/* x = ax + b を l 回行う(特に意味のない計算) */\n",
    "double compute(double a, double x, double b, long l) {\n",
    "  for (long i = 0; i < l; i++) {\n",
    "    x = a * x + b;\n",
    "  }\n",
    "  return x;\n",
    "}\n",
    "\n",
    "typedef struct {\n",
    "  double t[2];\n",
    "} double2_t;\n",
    "\n",
    "double2_t atomic_update(double a, volatile double * p, double b, long l, mutex_t * m) {\n",
    "  mutex_lock(m);\n",
    "  double t1 = cur_time();\n",
    "  *p = compute(a, *p, b, l);\n",
    "  double t2 = cur_time();\n",
    "  mutex_unlock(m);\n",
    "  double2_t t = {{t1, t2}};\n",
    "  return t;\n",
    "}\n",
    "\n",
    "\n",
    "/* 記録 */\n",
    "typedef struct {\n",
    "  int thread;                   /* スレッド番号 */\n",
    "  int cpu;                      /* CPU番号 */\n",
    "  double lock_enter;            /* lockを呼んだ時刻 */\n",
    "  double lock_acq;              /* lockがreturnした(獲得した)時刻 */\n",
    "  double unlock_enter;          /* unlockを呼んだ時刻 */\n",
    "} record_t;\n",
    "\n",
    "int main(int argc, char ** argv) {\n",
    "  int i = 1;\n",
    "  /* スレッド数 */\n",
    "  long nthreads = (argc > i ? atol(argv[i]) : 4);    i++;\n",
    "  /* (合計)更新数 */\n",
    "  long n        = (argc > i ? atol(argv[i]) : 100000); i++;\n",
    "  /* 1回の更新あたりの時間 (x = ax+b の回数)\n",
    "     クリティカルセクションの長さを調節 */\n",
    "  long l        = (argc > i ? atol(argv[i]) : 1000); i++;\n",
    "  /* クリティカルセクション外の時間(秒) */\n",
    "  double time_out = (argc > i ? atof(argv[i]) : 0);    i++;\n",
    "\n",
    "  double a = (argc > i ? atof(argv[i]) : 1.0 - 1.0e-10); i++;\n",
    "  double b = (argc > i ? atof(argv[i]) : 1.0); i++;\n",
    "  \n",
    "  g = 0.0;\n",
    "  mutex_t m[1];\n",
    "  mutex_init(m);\n",
    "  record_t * rec = (record_t *)calloc(sizeof(record_t) * n, 1);\n",
    "  \n",
    "#pragma omp parallel num_threads(nthreads) \n",
    "  {\n",
    "    int idx = omp_get_thread_num();\n",
    "#pragma omp for schedule(static)\n",
    "    for (long i = 0; i < n; i++) {\n",
    "      double t0 = cur_time();\n",
    "      double2_t t12 = atomic_update(a, &g, b, l, m);\n",
    "      waste_sec(time_out);\n",
    "      rec[i].thread = idx;\n",
    "      rec[i].cpu = sched_getcpu();\n",
    "      rec[i].lock_enter = t0;\n",
    "      rec[i].lock_acq = t12.t[0];\n",
    "      rec[i].unlock_enter = t12.t[1];\n",
    "    }\n",
    "  }\n",
    "  printf(\"g = %lf\\n\", g);\n",
    "  for (long i = 0; i < n; i++) {\n",
    "    printf(\"%ld %d %d %.9f %.9f %.9f\\n\", i, rec[i].thread, rec[i].cpu,\n",
    "           rec[i].lock_enter, rec[i].lock_acq, rec[i].unlock_enter);\n",
    "  }\n",
    "  return 0;\n",
    "}"
   ]
  },
  {
   "cell_type": "code",
   "execution_count": null,
   "metadata": {
    "deletable": false,
    "kernel": "Bash",
    "nbgrader": {
     "cell_type": "code",
     "checksum": "6af9989f6c7864998d4828ed02dbca88",
     "grade": true,
     "grade_id": "p-001",
     "locked": false,
     "points": 1,
     "schema_version": 3,
     "solution": true,
     "task": false
    }
   },
   "outputs": [],
   "source": [
    "\n",
    "gcc -Wall -fopenmp -o lock_rec_mutex lock_rec_mutex.c"
   ]
  },
  {
   "cell_type": "markdown",
   "metadata": {
    "deletable": false,
    "editable": false,
    "kernel": "SoS",
    "nbgrader": {
     "cell_type": "markdown",
     "checksum": "300cffcab321f0022fad938c7d1b891c",
     "grade": false,
     "grade_id": "c-008",
     "locked": true,
     "schema_version": 3,
     "solution": false,
     "task": false
    }
   },
   "source": [
    "* 実行"
   ]
  },
  {
   "cell_type": "code",
   "execution_count": null,
   "metadata": {
    "kernel": "Bash",
    "nbgrader": {
     "grade": false,
     "grade_id": "c-009",
     "locked": false,
     "schema_version": 3,
     "solution": false,
     "task": false
    }
   },
   "outputs": [],
   "source": [
    "nthreads=4\n",
    "n=100000\n",
    "l=1000\n",
    "s=1.0e-6\n",
    "set=2-5\n",
    "/usr/bin/time taskset -c ${set} ./lock_rec_mutex ${nthreads} ${n} ${l} ${s} > mutex.dat"
   ]
  },
  {
   "cell_type": "markdown",
   "metadata": {
    "deletable": false,
    "editable": false,
    "kernel": "SoS",
    "nbgrader": {
     "cell_type": "markdown",
     "checksum": "d034942f9995d326e30466fb75c28c68",
     "grade": false,
     "grade_id": "c-010",
     "locked": true,
     "schema_version": 3,
     "solution": false,
     "task": false
    }
   },
   "source": [
    "* 可視化\n",
    "* start_t= と end_t= を指定して, 特定の区間だけを表示する(適宜変更してみよ)"
   ]
  },
  {
   "cell_type": "code",
   "execution_count": null,
   "metadata": {
    "kernel": "Python 3 (ipykernel)",
    "nbgrader": {
     "grade": false,
     "grade_id": "c-011",
     "locked": false,
     "schema_version": 3,
     "solution": false,
     "task": false
    }
   },
   "outputs": [],
   "source": [
    "start_t = 0\n",
    "end_t = float(\"inf\")\n",
    "lock_wait_gantts([\"mutex.dat\"], start_t=start_t, end_t=end_t)\n",
    "progress_threads_plts([\"mutex.dat\"], start_t=start_t, end_t=end_t)\n",
    "compare_progress_plts([\"mutex.dat\"], start_t=start_t, end_t=end_t)"
   ]
  },
  {
   "cell_type": "markdown",
   "metadata": {
    "deletable": false,
    "editable": false,
    "kernel": "SoS",
    "nbgrader": {
     "cell_type": "markdown",
     "checksum": "e1ee0ee2b8f169752f3605b1708ee24d",
     "grade": false,
     "grade_id": "c-012",
     "locked": true,
     "schema_version": 3,
     "solution": false,
     "task": false
    }
   },
   "source": [
    "* <font color=\"purple\">上記でパラメータを色々変えて試してみよ</font>\n",
    "\n",
    "* taskset -c 2-5 は CPU 2-5 (本当はは仮想コア) を使うという意味. 本Jupyter環境には 0-7 までの8 CPU (本当はは仮想コア)がある\n",
    "* /usr/bin/time というコマンドでプロセスの使用したCPU時間を表示している\n",
    "\n",
    "```\n",
    "0.67user 0.20system 0:00.67elapsed 129%CPU (0avgtext+0avgdata 5140maxresident)k\n",
    "0inputs+14240outputs (0major+962minor)pagefaults 0swaps\n",
    "```\n",
    "\n",
    "は ユーザ時間が0.67秒, システム(OS)時間が0.20秒消費したことを示している\n",
    "\n",
    "* 注目点\n",
    "  * 1つめのグラフは各スレッドがクリティカルセクションの中を実行している部分を濃い太線で表示している. クリティカルセクションが時間的に重なっていないことを確認せよ\n",
    "  * mutex lockに入ってからリターンするまで(つまり, lockを待っている時間)を薄い線で表示している. スレッドが増えるとほとんどの時間が待ち時間になることを観察せよ\n",
    "  * 使用CPU数を固定してスレッド数nthreadsを増やすと結果(経過時間, CPUの消費時間)がどう変わるか?\n",
    "  * 同じスレッド数でCPU数を増やすとどうなるか?"
   ]
  },
  {
   "cell_type": "markdown",
   "metadata": {
    "deletable": false,
    "editable": false,
    "kernel": "SoS",
    "nbgrader": {
     "cell_type": "markdown",
     "checksum": "8f68a6ddec993babfabf20f69ea4d3c5",
     "grade": false,
     "grade_id": "c-013",
     "locked": true,
     "schema_version": 3,
     "solution": false,
     "task": false
    }
   },
   "source": [
    "# 4. spinlock\n",
    "* spinlock は排他制御と同じだが, lockが獲得できるまでブロックせずに頻忙待機する"
   ]
  },
  {
   "cell_type": "code",
   "execution_count": null,
   "metadata": {
    "kernel": "Python 3 (ipykernel)",
    "nbgrader": {
     "grade": false,
     "grade_id": "c-014",
     "locked": false,
     "schema_version": 3,
     "solution": false,
     "task": false
    }
   },
   "outputs": [],
   "source": [
    "%%writefile lock_rec_spin.c\n",
    "#define _GNU_SOURCE\n",
    "#include <assert.h>\n",
    "#include <stdio.h>\n",
    "#include <stdlib.h>\n",
    "#include <unistd.h>\n",
    "#include <sched.h>\n",
    "#include <pthread.h>\n",
    "#include <omp.h>\n",
    "\n",
    "void die(const char * msg) {\n",
    "  perror(msg); exit(1);\n",
    "}\n",
    "\n",
    "/* 大域変数 */\n",
    "volatile double g;\n",
    "\n",
    "double cur_time() {\n",
    "  struct timespec ts[1];\n",
    "  clock_gettime(CLOCK_REALTIME, ts);\n",
    "  return ts->tv_sec + ts->tv_nsec * 1.0e-9;\n",
    "}\n",
    "\n",
    "void waste_sec(double dt) {\n",
    "  if (dt > 0) {\n",
    "    double t0 = cur_time();\n",
    "    while (cur_time() < t0 + dt) ;\n",
    "  }\n",
    "}\n",
    "\n",
    "/* pthread_spin_lockで排他制御 */\n",
    "typedef pthread_spinlock_t mutex_t;\n",
    "int mutex_init(mutex_t * m) {\n",
    "  return pthread_spin_init(m, 0);\n",
    "}\n",
    "int mutex_lock(mutex_t * m) {\n",
    "  return pthread_spin_lock(m);\n",
    "}\n",
    "int mutex_unlock(mutex_t * m) {\n",
    "  return pthread_spin_unlock(m);\n",
    "}\n",
    "\n",
    "/* x = ax + b を l 回行う(特に意味のない計算) */\n",
    "double compute(double a, double x, double b, long l) {\n",
    "  for (long i = 0; i < l; i++) {\n",
    "    x = a * x + b;\n",
    "  }\n",
    "  return x;\n",
    "}\n",
    "\n",
    "typedef struct {\n",
    "  double t[2];\n",
    "} double2_t;\n",
    "\n",
    "double2_t atomic_update(double a, volatile double * p, double b, long l, mutex_t * m) {\n",
    "  mutex_lock(m);\n",
    "  double t1 = cur_time();\n",
    "  *p = compute(a, *p, b, l);\n",
    "  double t2 = cur_time();\n",
    "  mutex_unlock(m);\n",
    "  double2_t t = {{t1, t2}};\n",
    "  return t;\n",
    "}\n",
    "\n",
    "\n",
    "/* 記録 */\n",
    "typedef struct {\n",
    "  int thread;                   /* スレッド番号 */\n",
    "  int cpu;                      /* CPU番号 */\n",
    "  double lock_enter;            /* lockを呼んだ時刻 */\n",
    "  double lock_acq;              /* lockがreturnした(獲得した)時刻 */\n",
    "  double unlock_enter;          /* unlockを呼んだ時刻 */\n",
    "} record_t;\n",
    "\n",
    "int main(int argc, char ** argv) {\n",
    "  int i = 1;\n",
    "  /* スレッド数 */\n",
    "  long nthreads = (argc > i ? atol(argv[i]) : 4);    i++;\n",
    "  /* (合計)更新数 */\n",
    "  long n        = (argc > i ? atol(argv[i]) : 100000); i++;\n",
    "  /* 1回の更新あたりの時間 (x = ax+b の回数)\n",
    "     クリティカルセクションの長さを調節 */\n",
    "  long l        = (argc > i ? atol(argv[i]) : 1000); i++;\n",
    "  /* クリティカルセクション外の時間(秒) */\n",
    "  double time_out = (argc > i ? atof(argv[i]) : 0);    i++;\n",
    "\n",
    "  double a = (argc > i ? atof(argv[i]) : 1.0 - 1.0e-10); i++;\n",
    "  double b = (argc > i ? atof(argv[i]) : 1.0); i++;\n",
    "  \n",
    "  g = 0.0;\n",
    "  mutex_t m[1];\n",
    "  mutex_init(m);\n",
    "  record_t * rec = (record_t *)calloc(sizeof(record_t) * n, 1);\n",
    "  \n",
    "#pragma omp parallel num_threads(nthreads) \n",
    "  {\n",
    "    int idx = omp_get_thread_num();\n",
    "#pragma omp for schedule(static)\n",
    "    for (long i = 0; i < n; i++) {\n",
    "      double t0 = cur_time();\n",
    "      double2_t t12 = atomic_update(a, &g, b, l, m);\n",
    "      waste_sec(time_out);\n",
    "      rec[i].thread = idx;\n",
    "      rec[i].cpu = sched_getcpu();\n",
    "      rec[i].lock_enter = t0;\n",
    "      rec[i].lock_acq = t12.t[0];\n",
    "      rec[i].unlock_enter = t12.t[1];\n",
    "    }\n",
    "  }\n",
    "  printf(\"g = %lf\\n\", g);\n",
    "  for (long i = 0; i < n; i++) {\n",
    "    printf(\"%ld %d %d %.9f %.9f %.9f\\n\", i, rec[i].thread, rec[i].cpu,\n",
    "           rec[i].lock_enter, rec[i].lock_acq, rec[i].unlock_enter);\n",
    "  }\n",
    "  return 0;\n",
    "}"
   ]
  },
  {
   "cell_type": "code",
   "execution_count": null,
   "metadata": {
    "deletable": false,
    "kernel": "Bash",
    "nbgrader": {
     "cell_type": "code",
     "checksum": "762e9dbc17ff71b0ebf45255ce449a09",
     "grade": true,
     "grade_id": "p-002",
     "locked": false,
     "points": 1,
     "schema_version": 3,
     "solution": true,
     "task": false
    }
   },
   "outputs": [],
   "source": [
    "\n",
    "gcc -Wall -fopenmp -o lock_rec_spin lock_rec_spin.c"
   ]
  },
  {
   "cell_type": "code",
   "execution_count": null,
   "metadata": {
    "kernel": "Bash",
    "nbgrader": {
     "grade": false,
     "grade_id": "c-015",
     "locked": false,
     "schema_version": 3,
     "solution": false,
     "task": false
    }
   },
   "outputs": [],
   "source": [
    "nthreads=4\n",
    "n=100000\n",
    "l=1000\n",
    "s=1.0e-6\n",
    "set=2-5\n",
    "/usr/bin/time taskset -c ${set} ./lock_rec_spin ${nthreads} ${n} ${l} ${s} > spin.dat"
   ]
  },
  {
   "cell_type": "code",
   "execution_count": null,
   "metadata": {
    "kernel": "Python 3 (ipykernel)",
    "nbgrader": {
     "grade": false,
     "grade_id": "c-016",
     "locked": false,
     "schema_version": 3,
     "solution": false,
     "task": false
    }
   },
   "outputs": [],
   "source": [
    "start_t = 0\n",
    "end_t = float(\"inf\")\n",
    "lock_wait_gantts([\"spin.dat\"], start_t=start_t, end_t=end_t)\n",
    "progress_threads_plts([\"spin.dat\"], start_t=start_t, end_t=end_t)\n",
    "compare_progress_plts([\"spin.dat\"], start_t=start_t, end_t=end_t)"
   ]
  },
  {
   "cell_type": "markdown",
   "metadata": {
    "deletable": false,
    "editable": false,
    "kernel": "SoS",
    "nbgrader": {
     "cell_type": "markdown",
     "checksum": "0c196b57275cda8c23c88dc1ce2ff192",
     "grade": false,
     "grade_id": "c-017",
     "locked": true,
     "schema_version": 3,
     "solution": false,
     "task": false
    }
   },
   "source": [
    "* <font color=\"purple\">同様にパラメータを変えて試してみよ</font>\n",
    "\n",
    "* 注目点\n",
    "  * CPUの利用時間 (/usr/bin/timeが表示する)\n",
    "  * スレッド数 &gt; コア数(tasksetで指定したCPU数)の場合の挙動\n",
    "  * スレッド数 &lt;= コア数の場合の経過時間 (mutexの場合との比較)\n",
    "  * spinlockの方がmutexに勝る, 負けるのはどう言う場合か?"
   ]
  },
  {
   "cell_type": "markdown",
   "metadata": {
    "deletable": false,
    "editable": false,
    "kernel": "SoS",
    "nbgrader": {
     "cell_type": "markdown",
     "checksum": "b0601f3db317f30c42f6ff4b63282c7c",
     "grade": false,
     "grade_id": "c-018",
     "locked": true,
     "schema_version": 3,
     "solution": false,
     "task": false
    }
   },
   "source": [
    "# 5. 不可分更新 (compare-and-swap)\n",
    "```\n",
    "g = compute(g, l)\n",
    "```\n",
    "を不可分に行うために, lockを用いずにcompare-and-swap命令を用いて以下のようにする.\n",
    "排他制御を行っていないので, lockの待ち時間は存在しない.\n",
    "\n",
    "```\n",
    "while (1) {\n",
    "  double x = g;\n",
    "  double y = compute(x, l);\n",
    "  if (compare_and_swap(&g, x, y)) break;\n",
    "}\n",
    "```"
   ]
  },
  {
   "cell_type": "code",
   "execution_count": null,
   "metadata": {
    "kernel": "Python 3 (ipykernel)",
    "nbgrader": {
     "grade": false,
     "grade_id": "c-019",
     "locked": false,
     "schema_version": 3,
     "solution": false,
     "task": false
    }
   },
   "outputs": [],
   "source": [
    "%%writefile lock_rec_cas.c\n",
    "#define _GNU_SOURCE\n",
    "#include <assert.h>\n",
    "#include <stdio.h>\n",
    "#include <stdlib.h>\n",
    "#include <unistd.h>\n",
    "#include <sched.h>\n",
    "#include <pthread.h>\n",
    "#include <omp.h>\n",
    "\n",
    "void die(const char * msg) {\n",
    "  perror(msg); exit(1);\n",
    "}\n",
    "\n",
    "/* 大域変数 */\n",
    "volatile double g;\n",
    "\n",
    "double cur_time() {\n",
    "  struct timespec ts[1];\n",
    "  clock_gettime(CLOCK_REALTIME, ts);\n",
    "  return ts->tv_sec + ts->tv_nsec * 1.0e-9;\n",
    "}\n",
    "\n",
    "void waste_sec(double dt) {\n",
    "  if (dt > 0) {\n",
    "    double t0 = cur_time();\n",
    "    while (cur_time() < t0 + dt) ;\n",
    "  }\n",
    "}\n",
    "\n",
    "/* 排他制御なし(以下はダミー) */\n",
    "typedef int mutex_t;\n",
    "int mutex_init(mutex_t * m) { *m = 0; return 0; }\n",
    "int mutex_lock(mutex_t * m) { (void)m; return 0; }\n",
    "int mutex_unlock(mutex_t * m) { (void)m; return 0; }\n",
    "\n",
    "/* x = ax + b を l 回行う(特に意味のない計算) */\n",
    "double compute(double a, double x, double b, long l) {\n",
    "  for (long i = 0; i < l; i++) {\n",
    "    x = a * x + b;\n",
    "  }\n",
    "  return x;\n",
    "}\n",
    "\n",
    "typedef struct {\n",
    "  double t[2];\n",
    "} double2_t;\n",
    "\n",
    "int compare_and_swap_double(volatile double * p, double x, double y) {\n",
    "  union { long l; double d; } o, n;\n",
    "  o.d = x;\n",
    "  n.d = y;\n",
    "  return __sync_bool_compare_and_swap((long *)p, o.l, n.l);\n",
    "}\n",
    "\n",
    "double2_t atomic_update(double a, volatile double * p, double b, long l, mutex_t * m) {\n",
    "  (void)m;\n",
    "  while (1) {\n",
    "    double t1 = cur_time();\n",
    "    double x = *p;\n",
    "    double y = compute(a, x, b, l);\n",
    "    assert(x != y);\n",
    "    if (compare_and_swap_double(p, x, y)) {\n",
    "      double t2 = cur_time();\n",
    "      double2_t t = {{t1, t2}};\n",
    "      return t;\n",
    "    }\n",
    "  }\n",
    "  assert(0);\n",
    "}\n",
    "\n",
    "/* 記録 */\n",
    "typedef struct {\n",
    "  int thread;                   /* スレッド番号 */\n",
    "  int cpu;                      /* CPU番号 */\n",
    "  double lock_enter;            /* lockを呼んだ時刻 */\n",
    "  double lock_acq;              /* lockがreturnした(獲得した)時刻 */\n",
    "  double unlock_enter;          /* unlockを呼んだ時刻 */\n",
    "} record_t;\n",
    "\n",
    "int main(int argc, char ** argv) {\n",
    "  int i = 1;\n",
    "  /* スレッド数 */\n",
    "  long nthreads = (argc > i ? atol(argv[i]) : 4);    i++;\n",
    "  /* (合計)更新数 */\n",
    "  long n        = (argc > i ? atol(argv[i]) : 100000); i++;\n",
    "  /* 1回の更新あたりの時間 (x = ax+b の回数)\n",
    "     クリティカルセクションの長さを調節 */\n",
    "  long l        = (argc > i ? atol(argv[i]) : 1000); i++;\n",
    "  /* クリティカルセクション外の時間(秒) */\n",
    "  double time_out = (argc > i ? atof(argv[i]) : 0);    i++;\n",
    "\n",
    "  double a = (argc > i ? atof(argv[i]) : 1.0 - 1.0e-10); i++;\n",
    "  double b = (argc > i ? atof(argv[i]) : 1.0); i++;\n",
    "  \n",
    "  g = 0.0;\n",
    "  mutex_t m[1];\n",
    "  mutex_init(m);\n",
    "  record_t * rec = (record_t *)calloc(sizeof(record_t) * n, 1);\n",
    "  \n",
    "#pragma omp parallel num_threads(nthreads) \n",
    "  {\n",
    "    int idx = omp_get_thread_num();\n",
    "#pragma omp for schedule(static)\n",
    "    for (long i = 0; i < n; i++) {\n",
    "      double t0 = cur_time();\n",
    "      double2_t t12 = atomic_update(a, &g, b, l, m);\n",
    "      waste_sec(time_out);\n",
    "      rec[i].thread = idx;\n",
    "      rec[i].cpu = sched_getcpu();\n",
    "      rec[i].lock_enter = t0;\n",
    "      rec[i].lock_acq = t12.t[0];\n",
    "      rec[i].unlock_enter = t12.t[1];\n",
    "    }\n",
    "  }\n",
    "  printf(\"g = %lf\\n\", g);\n",
    "  for (long i = 0; i < n; i++) {\n",
    "    printf(\"%ld %d %d %.9f %.9f %.9f\\n\", i, rec[i].thread, rec[i].cpu,\n",
    "           rec[i].lock_enter, rec[i].lock_acq, rec[i].unlock_enter);\n",
    "  }\n",
    "  return 0;\n",
    "}"
   ]
  },
  {
   "cell_type": "code",
   "execution_count": null,
   "metadata": {
    "deletable": false,
    "kernel": "Bash",
    "nbgrader": {
     "cell_type": "code",
     "checksum": "61c543517283cf8b8250481ba8f6788a",
     "grade": true,
     "grade_id": "p-003",
     "locked": false,
     "points": 1,
     "schema_version": 3,
     "solution": true,
     "task": false
    }
   },
   "outputs": [],
   "source": [
    "\n",
    "gcc -Wall -fopenmp -o lock_rec_cas lock_rec_cas.c"
   ]
  },
  {
   "cell_type": "code",
   "execution_count": null,
   "metadata": {
    "kernel": "Bash",
    "nbgrader": {
     "grade": false,
     "grade_id": "c-020",
     "locked": false,
     "schema_version": 3,
     "solution": false,
     "task": false
    }
   },
   "outputs": [],
   "source": [
    "nthreads=4\n",
    "n=100000\n",
    "l=1000\n",
    "s=1.0e-6\n",
    "set=2-5\n",
    "/usr/bin/time taskset -c ${set} ./lock_rec_cas ${nthreads} ${n} ${l} ${s} > cas.dat"
   ]
  },
  {
   "cell_type": "code",
   "execution_count": null,
   "metadata": {
    "kernel": "Python 3 (ipykernel)",
    "nbgrader": {
     "grade": false,
     "grade_id": "c-021",
     "locked": false,
     "schema_version": 3,
     "solution": false,
     "task": false
    }
   },
   "outputs": [],
   "source": [
    "start_t = 0\n",
    "end_t = float(\"inf\")\n",
    "lock_wait_gantts([\"cas.dat\"], start_t=start_t, end_t=end_t)\n",
    "progress_threads_plts([\"cas.dat\"], start_t=start_t, end_t=end_t)\n",
    "compare_progress_plts([\"cas.dat\"], start_t=start_t, end_t=end_t)"
   ]
  },
  {
   "cell_type": "markdown",
   "metadata": {
    "deletable": false,
    "editable": false,
    "kernel": "SoS",
    "nbgrader": {
     "cell_type": "markdown",
     "checksum": "a9fb2bdc8c624d8b7c14be8ad652ef33",
     "grade": false,
     "grade_id": "c-022",
     "locked": true,
     "schema_version": 3,
     "solution": false,
     "task": false
    }
   },
   "source": [
    "* <font color=\"purple\">同様に上記のパラメータを変えて試してみよ</font>\n",
    "\n",
    "* 注目点\n",
    "  * CPUの利用時間 (/usr/bin/timeが表示する)\n",
    "  * スレッド数 &lt;= 使用CPU数のときの挙動\n",
    "  * スレッド数 &gt; 使用CPU数のときの挙動"
   ]
  },
  {
   "cell_type": "markdown",
   "metadata": {
    "deletable": false,
    "editable": false,
    "kernel": "SoS",
    "nbgrader": {
     "cell_type": "markdown",
     "checksum": "31a1a21ea19242bfa2b84bb3931a2c43",
     "grade": false,
     "grade_id": "c-023",
     "locked": true,
     "schema_version": 3,
     "solution": false,
     "task": false
    }
   },
   "source": [
    "# <font color=\"green\"> Problem 1 :  3者の比較</font>"
   ]
  },
  {
   "cell_type": "markdown",
   "metadata": {
    "deletable": false,
    "editable": false,
    "kernel": "SoS",
    "nbgrader": {
     "cell_type": "markdown",
     "checksum": "f9ffb1e9b44950f3196827c239e19758",
     "grade": false,
     "grade_id": "c-024",
     "locked": true,
     "schema_version": 3,
     "solution": false,
     "task": false
    }
   },
   "source": [
    "* 3通りの方法を同じパラメータで実行してそれらを可視化して比較せよ\n",
    "* パラメータを色々変化させてどのように結果が変わるかを調べよ"
   ]
  },
  {
   "cell_type": "code",
   "execution_count": null,
   "metadata": {
    "deletable": false,
    "kernel": "Bash",
    "nbgrader": {
     "cell_type": "code",
     "checksum": "4f537fadd19bbaa589f1c33d226b01af",
     "grade": true,
     "grade_id": "p-004",
     "locked": false,
     "points": 1,
     "schema_version": 3,
     "solution": true,
     "task": false
    }
   },
   "outputs": [],
   "source": [
    "\n",
    "nthreads=4\n",
    "n=100000\n",
    "l=1000\n",
    "s=1.0e-6\n",
    "set=2-5\n",
    "/usr/bin/time taskset -c ${set} ./lock_rec_mutex ${nthreads} ${n} ${l} ${s} > mutex.dat\n",
    "/usr/bin/time taskset -c ${set} ./lock_rec_spin ${nthreads}  ${n} ${l} ${s} > spin.dat\n",
    "/usr/bin/time taskset -c ${set} ./lock_rec_cas ${nthreads}   ${n} ${l} ${s} > cas.dat"
   ]
  },
  {
   "cell_type": "code",
   "execution_count": null,
   "metadata": {
    "deletable": false,
    "kernel": "Python 3 (ipykernel)",
    "nbgrader": {
     "cell_type": "code",
     "checksum": "69806d80d4db90322e64f87cfad66697",
     "grade": true,
     "grade_id": "p-005",
     "locked": false,
     "points": 1,
     "schema_version": 3,
     "solution": true,
     "task": false
    }
   },
   "outputs": [],
   "source": [
    "\n",
    "start_t = 0\n",
    "end_t = float(\"inf\")\n",
    "compare_progress_plts([\"mutex.dat\", \"spin.dat\", \"cas.dat\"], start_t=start_t, end_t=end_t)"
   ]
  },
  {
   "cell_type": "markdown",
   "metadata": {
    "deletable": false,
    "editable": false,
    "kernel": "SoS",
    "nbgrader": {
     "cell_type": "markdown",
     "checksum": "21d01f4383861cf22356450c4dc64bf0",
     "grade": false,
     "grade_id": "c-025",
     "locked": true,
     "schema_version": 3,
     "solution": false,
     "task": false
    }
   },
   "source": [
    "* spinlock の方が mutex よりも有利なのはどういう状況か?\n",
    "* spinlock が不利になるのはどういう状況か? 可視化された結果を元に何が起きているのかを述べよ\n",
    "* その状況で compare-and-swap を使う方法では何が起きるか? 不利にならないのはなぜか?"
   ]
  },
  {
   "cell_type": "markdown",
   "metadata": {
    "deletable": false,
    "kernel": "SoS",
    "nbgrader": {
     "cell_type": "markdown",
     "checksum": "37d5f3517afbfb49ece79179c402ddbe",
     "grade": true,
     "grade_id": "p-006",
     "locked": false,
     "points": 1,
     "schema_version": 3,
     "solution": true,
     "task": false
    }
   },
   "source": [
    "YOUR ANSWER HERE\n",
    "(解答欄)\n",
    "\n",
    "\n"
   ]
  }
 ],
 "metadata": {
  "kernelspec": {
   "display_name": "SoS",
   "language": "sos",
   "name": "sos"
  },
  "language_info": {
   "codemirror_mode": "sos",
   "file_extension": ".sos",
   "mimetype": "text/x-sos",
   "name": "sos",
   "nbconvert_exporter": "sos_notebook.converter.SoS_Exporter",
   "pygments_lexer": "sos"
  },
  "sos": {
   "kernels": [
    [
     "Bash",
     "bash",
     "bash",
     "",
     "shell"
    ],
    [
     "C",
     "c_kernel",
     "c",
     "",
     ""
    ],
    [
     "Go",
     "gophernotes",
     "go",
     "",
     ""
    ],
    [
     "Julia 1.4.1",
     "julia-1.4",
     "julia",
     "",
     ""
    ],
    [
     "OCaml default",
     "ocaml-jupyter",
     "OCaml",
     "",
     "text/x-ocaml"
    ],
    [
     "Python 3 (ipykernel)",
     "python3",
     "python3",
     "",
     {
      "name": "ipython",
      "version": 3
     }
    ],
    [
     "Rust",
     "rust",
     "rust",
     "",
     ""
    ]
   ],
   "panel": {
    "displayed": true,
    "height": 0
   },
   "version": "0.23.3"
  }
 },
 "nbformat": 4,
 "nbformat_minor": 4
}
