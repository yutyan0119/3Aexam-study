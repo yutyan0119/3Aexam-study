{
 "cells": [
  {
   "cell_type": "markdown",
   "metadata": {
    "deletable": false,
    "editable": false,
    "kernel": "SoS",
    "nbgrader": {
     "cell_type": "markdown",
     "checksum": "f7f55e73edf83739d7658450f18e984d",
     "grade": false,
     "grade_id": "c-001",
     "locked": true,
     "schema_version": 3,
     "solution": false,
     "task": false
    }
   },
   "source": [
    "\n",
    "#  オペレーティングシステム 演習 09\n",
    "#  メモリとアドレス"
   ]
  },
  {
   "cell_type": "markdown",
   "metadata": {
    "kernel": "SoS",
    "nbgrader": {
     "grade": false,
     "grade_id": "c-002",
     "locked": false,
     "schema_version": 3,
     "solution": false,
     "task": false
    }
   },
   "source": [
    "\n",
    "名前と学生証番号を書け. Enter your name and student ID.\n",
    "\n",
    " * 名前 Name:\n",
    " * 学生証番号 Student ID:\n"
   ]
  },
  {
   "cell_type": "markdown",
   "metadata": {
    "deletable": false,
    "editable": false,
    "kernel": "SoS",
    "nbgrader": {
     "cell_type": "markdown",
     "checksum": "6786befa5b88fa23bc442fe8233e3e93",
     "grade": false,
     "grade_id": "c-003",
     "locked": true,
     "schema_version": 3,
     "solution": false,
     "task": false
    }
   },
   "source": [
    "# 1. 始めに\n",
    "* プログラム言語の「変数」や「配列」など, 「代入して値を覚えておく」機能は, 当然のことながらコンピュータ「メモリ」を使って実現されている\n",
    "* 従って当然ながら「変数」や「配列」にはメモリの中のある領域---番地(アドレス)の範囲---が対応しており, 異なる変数・配列に割り当てられている番地の範囲は重ならないようになっている(プログラミング言語処理系の役割)\n",
    "\n",
    "# 2. 変数・配列の番地を表示\n",
    "* C/C++言語は変数や配列がどのアドレスに割り当てられているのかをあからさまに知ることが出来る<font color=\"blue\">(&演算子)</font>\n",
    "* &演算子は, 「代入文の左辺に書けるもの」に適用することが出来, 「その代入文の左辺に対応するアドレス」を意味する\n",
    "  * 例えばxが変数 (e.g., int x;)なら, &x は変数xが割り当てられているアドレス. xへの代入は, そのアドレスへ値を書き込むこと(store命令)で実現される\n",
    "  * なお, xが配列 (e.g., int x[10];)の場合, &を適用しなくても, つまり, xだけで, 配列xが割り当てられているアドレス(先頭要素のアドレス)という意味になる\n",
    "* <font color=\"blue\">アドレスの正体は, 機械語レベルでは単なる整数</font>であり, C/C++言語でもそれを整数として表示することも出来る\n",
    "* 実用的な意味はないが, 「変数や配列にどうアドレスが対応しているか」を知るには役に立つのでそれをやってみる\n",
    "\n",
    "## 2-1. 大域変数・大域配列の場合\n",
    "* C言語の大域{変数・配列}とは, ファイルのトップレベル(関数定義の外側)に書かれている変数, 配列の定義のこと\n"
   ]
  },
  {
   "cell_type": "code",
   "execution_count": null,
   "metadata": {
    "kernel": "Python 3 (ipykernel)",
    "nbgrader": {
     "grade": false,
     "grade_id": "c-004",
     "locked": false,
     "schema_version": 3,
     "solution": false,
     "task": false
    }
   },
   "outputs": [],
   "source": [
    "%%writefile global.c\n",
    "#include <stdio.h>\n",
    "/* 大域変数 */\n",
    "int x;\n",
    "/* 大域配列 */\n",
    "int c[100];\n",
    "double d[200];\n",
    "/* 大域変数 */\n",
    "int i;\n",
    "\n",
    "int main() {\n",
    "  printf(\"x:     %ld\\n\", &x);\n",
    "  printf(\"c:     %ld\\n\", c);\n",
    "  printf(\"c[50]: %ld\\n\", &c[50]);\n",
    "  printf(\"d:     %ld\\n\", d);\n",
    "  printf(\"d[50]: %ld\\n\", &d[50]);\n",
    "  printf(\"i:     %ld\\n\", &i);\n",
    "}"
   ]
  },
  {
   "cell_type": "code",
   "execution_count": null,
   "metadata": {
    "kernel": "Bash",
    "nbgrader": {
     "grade": false,
     "grade_id": "c-005",
     "locked": false,
     "schema_version": 3,
     "solution": false,
     "task": false
    }
   },
   "outputs": [],
   "source": [
    "gcc -Wall -o global global.c"
   ]
  },
  {
   "cell_type": "markdown",
   "metadata": {
    "deletable": false,
    "editable": false,
    "kernel": "SoS",
    "nbgrader": {
     "cell_type": "markdown",
     "checksum": "aedf85f0503f3d12db88d39e69ac6eef",
     "grade": false,
     "grade_id": "c-006",
     "locked": true,
     "schema_version": 3,
     "solution": false,
     "task": false
    }
   },
   "source": [
    "\n",
    "* コンパイラが「ポインタを整数として表示しようとしている」という旨の警告を出す\n",
    "* 通常はそんなことはしないので警告はもっともなのだが, ここではポインタは所詮整数であることをわかった上でやっているので気にしなくて良い\n",
    "* ポインタをprintfで表示するには通常`%p`を使うのだが実際には, <font color=\"blue\">16進数で表示していると言うだけで, 表示される数自身は全く同じ</font>\n",
    "* なおこの警告を消すには以下のどちらかをすれば良い\n",
    "  * gccに`-Wno-format` オプションを与える\n",
    "  * アドレスをprintfに渡す際にlongにキャストする`(long)&x`のように"
   ]
  },
  {
   "cell_type": "code",
   "execution_count": null,
   "metadata": {
    "kernel": "Bash",
    "nbgrader": {
     "grade": false,
     "grade_id": "c-007",
     "locked": false,
     "schema_version": 3,
     "solution": false,
     "task": false
    }
   },
   "outputs": [],
   "source": [
    "gcc -Wall -Wno-format -o global global.c"
   ]
  },
  {
   "cell_type": "code",
   "execution_count": null,
   "metadata": {
    "kernel": "Bash",
    "nbgrader": {
     "grade": false,
     "grade_id": "c-008",
     "locked": false,
     "schema_version": 3,
     "solution": false,
     "task": false
    }
   },
   "outputs": [],
   "source": [
    "./global"
   ]
  },
  {
   "cell_type": "markdown",
   "metadata": {
    "deletable": false,
    "editable": false,
    "kernel": "SoS",
    "nbgrader": {
     "cell_type": "markdown",
     "checksum": "aae694c8c8bab1f2901d3e04bdeaa724",
     "grade": false,
     "grade_id": "c-009",
     "locked": true,
     "schema_version": 3,
     "solution": false,
     "task": false
    }
   },
   "source": [
    "* 結果を観察すると, cとc[50]のアドレスは200離れているはずである\n",
    "  * それはint 1つのサイズ4バイトで, c[50]はcの先頭から50要素分離れたところにあることから, これは必然の結果 (4 $\\times 50 = 200$)\n",
    "* 同様にdとd[50]のアドレスは400離れている (double 1つのサイズ8バイト $\\times 50 = 400$)\n",
    "  * プログラム言語が<font color=\"blue\">どうやって「配列」というものを実現しているのかのおおよその正体</font>がこれである\n",
    "* 4つの変数と配列がどの順番に配置されているか, 間が何バイトあいているか見てみよ(どうやらd, x, c, iの順)\n",
    "\n",
    "* <font color=\"purple\">以下で配列の要素数や要素の型を変えるなどして, 変数のアドレス(の間の距離)がどう変化するかを観察せよ</font>\n"
   ]
  },
  {
   "cell_type": "code",
   "execution_count": null,
   "metadata": {
    "kernel": "Python 3 (ipykernel)",
    "nbgrader": {
     "grade": false,
     "grade_id": "c-010",
     "locked": false,
     "schema_version": 3,
     "solution": false,
     "task": false
    }
   },
   "outputs": [],
   "source": [
    "%%writefile global.c\n",
    "#include <stdio.h>\n",
    "/* 大域変数 */\n",
    "int x;\n",
    "/* 大域配列 */\n",
    "int c[100];\n",
    "double d[200];\n",
    "/* 大域変数 */\n",
    "int i;\n",
    "\n",
    "int main() {\n",
    "  printf(\"x:     %ld\\n\", &x);\n",
    "  printf(\"c:     %ld\\n\", c);\n",
    "  printf(\"c[50]: %ld\\n\", &c[50]);\n",
    "  printf(\"d:     %ld\\n\", d);\n",
    "  printf(\"d[50]: %ld\\n\", &d[50]);\n",
    "  printf(\"i:     %ld\\n\", &i);\n",
    "}"
   ]
  },
  {
   "cell_type": "code",
   "execution_count": null,
   "metadata": {
    "kernel": "Bash",
    "nbgrader": {
     "grade": false,
     "grade_id": "c-011",
     "locked": false,
     "schema_version": 3,
     "solution": false,
     "task": false
    }
   },
   "outputs": [],
   "source": [
    "gcc -Wall -Wno-format -o global global.c"
   ]
  },
  {
   "cell_type": "code",
   "execution_count": null,
   "metadata": {
    "kernel": "Bash",
    "nbgrader": {
     "grade": false,
     "grade_id": "c-012",
     "locked": false,
     "schema_version": 3,
     "solution": false,
     "task": false
    }
   },
   "outputs": [],
   "source": [
    "./global"
   ]
  },
  {
   "cell_type": "markdown",
   "metadata": {
    "deletable": false,
    "editable": false,
    "kernel": "SoS",
    "nbgrader": {
     "cell_type": "markdown",
     "checksum": "8a923674b3d4240c8bb4fa68e429689b",
     "grade": false,
     "grade_id": "c-013",
     "locked": true,
     "schema_version": 3,
     "solution": false,
     "task": false
    }
   },
   "source": [
    "* <font color=\"blue\">注</font>\n",
    "* なお, 上記のコマンドを何度も実行すると, 毎回異なるアドレスが表示される\n",
    "* これは別に, はじめの実行で使われたアドレスが使われていて2回目では使えないとか, そういう理由ではなく, セキュリティのためにOSが変数のアドレスへの配置を非決定的にしている(address space randomization)から\n",
    "* これを抑止するには以下のようにする. `-R`というオプションは, address space randomizationを抑止するというオプション\n",
    "* これで, 何度実行しても同じアドレスが表示されるようになる"
   ]
  },
  {
   "cell_type": "code",
   "execution_count": null,
   "metadata": {
    "kernel": "Bash",
    "nbgrader": {
     "grade": false,
     "grade_id": "c-014",
     "locked": false,
     "schema_version": 3,
     "solution": false,
     "task": false
    }
   },
   "outputs": [],
   "source": [
    "setarch $(uname -m) -R ./global"
   ]
  },
  {
   "cell_type": "markdown",
   "metadata": {
    "deletable": false,
    "editable": false,
    "kernel": "SoS",
    "nbgrader": {
     "cell_type": "markdown",
     "checksum": "690f5aec9b26609780000c1b8eef1f5c",
     "grade": false,
     "grade_id": "c-015",
     "locked": true,
     "schema_version": 3,
     "solution": false,
     "task": false
    }
   },
   "source": [
    "* 同時に実行しても同じアドレスが表示される\n",
    "* この仕組みは後ほど"
   ]
  },
  {
   "cell_type": "code",
   "execution_count": null,
   "metadata": {
    "kernel": "Bash",
    "nbgrader": {
     "grade": false,
     "grade_id": "c-016",
     "locked": false,
     "schema_version": 3,
     "solution": false,
     "task": false
    }
   },
   "outputs": [],
   "source": [
    "setarch $(uname -m) -R ./global & \n",
    "setarch $(uname -m) -R ./global & \n",
    "setarch $(uname -m) -R ./global &\n",
    "wait"
   ]
  },
  {
   "cell_type": "markdown",
   "metadata": {
    "deletable": false,
    "editable": false,
    "kernel": "SoS",
    "nbgrader": {
     "cell_type": "markdown",
     "checksum": "7bc398c0bbfc5c550ccfc09369dd7dfe",
     "grade": false,
     "grade_id": "c-017",
     "locked": true,
     "schema_version": 3,
     "solution": false,
     "task": false
    }
   },
   "source": [
    "\n",
    "* <font color=\"purple\">おまけ:</font> 以下のプログラムでもcの400バイト先にiがあるとすると, 以下のプログラムで何が起きるか想像して実行してみよ\n",
    "* <font color=\"red\">警告:</font> プログラムが止まらなかったらどうやって止めるのか思い出してから実行せよ (以下では保険として timeout コマンドで100秒立ったら止まるようにしている)\n"
   ]
  },
  {
   "cell_type": "code",
   "execution_count": null,
   "metadata": {
    "kernel": "Python 3 (ipykernel)",
    "nbgrader": {
     "grade": false,
     "grade_id": "c-018",
     "locked": false,
     "schema_version": 3,
     "solution": false,
     "task": false
    }
   },
   "outputs": [],
   "source": [
    "%%writefile global_quiz.c\n",
    "#include <stdio.h>\n",
    "#include <stdio.h>\n",
    "/* 大域配列 */\n",
    "int c[100];\n",
    "/* 大域変数i */\n",
    "int i;\n",
    "\n",
    "int main() {\n",
    "  for (i = 0; i <= 100; i++) {\n",
    "    c[i] = 0;\n",
    "  }\n",
    "  printf(\"done\\n\");\n",
    "}"
   ]
  },
  {
   "cell_type": "code",
   "execution_count": null,
   "metadata": {
    "kernel": "Bash",
    "nbgrader": {
     "grade": false,
     "grade_id": "c-019",
     "locked": false,
     "schema_version": 3,
     "solution": false,
     "task": false
    }
   },
   "outputs": [],
   "source": [
    "gcc -Wall -o global_quiz global_quiz.c"
   ]
  },
  {
   "cell_type": "code",
   "execution_count": null,
   "metadata": {
    "kernel": "Bash",
    "nbgrader": {
     "grade": false,
     "grade_id": "c-020",
     "locked": false,
     "schema_version": 3,
     "solution": false,
     "task": false
    }
   },
   "outputs": [],
   "source": [
    "timeout 10 ./global_quiz"
   ]
  },
  {
   "cell_type": "markdown",
   "metadata": {
    "deletable": false,
    "editable": false,
    "kernel": "SoS",
    "nbgrader": {
     "cell_type": "markdown",
     "checksum": "e9ade94621685ec411b47368580e0f36",
     "grade": false,
     "grade_id": "c-021",
     "locked": true,
     "schema_version": 3,
     "solution": false,
     "task": false
    }
   },
   "source": [
    "\n",
    "* 大域変数や配列は, プログラム起動時(プロセス立ち上げ時)にそのアドレスが定まり, その関係はそのプロセスが終了するまで変わることはない\n",
    "* 言い換えればそれらの変数や配列のアドレスは常に同じであるし, それらのアドレスが他の目的に使われることはない\n",
    "* これは, 大域変数や配列がそのプロセス実行中, ずっと有効であるという, 大域変数や配列の意味を考えれば頷けるものである\n",
    "\n",
    "## 2-2. 局所変数・局所配列の場合\n",
    "* <font color=\"blue\">局所変数・局所配列は, Cの文法上は, 関数定義の中で定義されているもの</font>であり, 関数の引数もそれに含まれる\n",
    "* 例えば以下は上記とほぼ同じことを局所変数・配列でやってみたもの\n"
   ]
  },
  {
   "cell_type": "code",
   "execution_count": null,
   "metadata": {
    "kernel": "Python 3 (ipykernel)",
    "nbgrader": {
     "grade": false,
     "grade_id": "c-022",
     "locked": false,
     "schema_version": 3,
     "solution": false,
     "task": false
    }
   },
   "outputs": [],
   "source": [
    "%%writefile local.c\n",
    "#include <stdio.h>\n",
    "\n",
    "int main() {\n",
    "  /* 局所変数 */\n",
    "  int x;\n",
    "  /* 局所配列 */\n",
    "  int c[100];\n",
    "  double d[200];\n",
    "  /* 局所変数 */\n",
    "  int i;\n",
    "  printf(\"x:     %ld\\n\", &x);\n",
    "  printf(\"c:     %ld\\n\", c);\n",
    "  printf(\"c[50]: %ld\\n\", &c[50]);\n",
    "  printf(\"d:     %ld\\n\", d);\n",
    "  printf(\"d[50]: %ld\\n\", &d[50]);\n",
    "  printf(\"i:     %ld\\n\", &i);\n",
    "}"
   ]
  },
  {
   "cell_type": "code",
   "execution_count": null,
   "metadata": {
    "kernel": "Bash",
    "nbgrader": {
     "grade": false,
     "grade_id": "c-023",
     "locked": false,
     "schema_version": 3,
     "solution": false,
     "task": false
    }
   },
   "outputs": [],
   "source": [
    "gcc -Wall -Wno-format -o local local.c"
   ]
  },
  {
   "cell_type": "code",
   "execution_count": null,
   "metadata": {
    "kernel": "Bash",
    "nbgrader": {
     "grade": false,
     "grade_id": "c-024",
     "locked": false,
     "schema_version": 3,
     "solution": false,
     "task": false
    }
   },
   "outputs": [],
   "source": [
    "./local"
   ]
  },
  {
   "cell_type": "markdown",
   "metadata": {
    "deletable": false,
    "editable": false,
    "kernel": "SoS",
    "nbgrader": {
     "cell_type": "markdown",
     "checksum": "f5cd9a11ecec4dc079466a162ef4c1a3",
     "grade": false,
     "grade_id": "c-025",
     "locked": true,
     "schema_version": 3,
     "solution": false,
     "task": false
    }
   },
   "source": [
    "\n",
    "* 局所変数は, 大域変数のように, 名前からアドレスを一意に決めることは出来ない\n",
    "* なぜならば同じ変数の名前であっても, 現れる関数が違えばそれは「異なる」(別の値を覚えさせることができる)変数だから\n",
    "* 以下で同じxという変数なのに片方は10, 片方は20を「覚えている」のはそれらに別のアドレスを割り当てているからにほかならない\n"
   ]
  },
  {
   "cell_type": "code",
   "execution_count": null,
   "metadata": {
    "kernel": "Python 3 (ipykernel)",
    "nbgrader": {
     "grade": false,
     "grade_id": "c-026",
     "locked": false,
     "schema_version": 3,
     "solution": false,
     "task": false
    }
   },
   "outputs": [],
   "source": [
    "%%writefile local_fun.c\n",
    "#include <stdio.h>\n",
    "\n",
    "void g() {\n",
    "  int x = 20;\n",
    "  printf(\"x@g : %ld = %d\\n\", &x, x);\n",
    "}\n",
    "\n",
    "void f() {\n",
    "  int x = 10;\n",
    "  g();\n",
    "  printf(\"x@f : %ld = %d\\n\", &x, x);\n",
    "}\n",
    "\n",
    "int main() {\n",
    "  f();\n",
    "  return 0;\n",
    "}"
   ]
  },
  {
   "cell_type": "code",
   "execution_count": null,
   "metadata": {
    "kernel": "Bash",
    "nbgrader": {
     "grade": false,
     "grade_id": "c-027",
     "locked": false,
     "schema_version": 3,
     "solution": false,
     "task": false
    }
   },
   "outputs": [],
   "source": [
    "gcc -Wall -Wno-format -o local_fun local_fun.c"
   ]
  },
  {
   "cell_type": "code",
   "execution_count": null,
   "metadata": {
    "kernel": "Bash",
    "nbgrader": {
     "grade": false,
     "grade_id": "c-028",
     "locked": false,
     "schema_version": 3,
     "solution": false,
     "task": false
    }
   },
   "outputs": [],
   "source": [
    "./local_fun"
   ]
  },
  {
   "cell_type": "markdown",
   "metadata": {
    "deletable": false,
    "editable": false,
    "kernel": "SoS",
    "nbgrader": {
     "cell_type": "markdown",
     "checksum": "f942ac2842a93582299d94a9dd24e373",
     "grade": false,
     "grade_id": "c-029",
     "locked": true,
     "schema_version": 3,
     "solution": false,
     "task": false
    }
   },
   "source": [
    "* 現れる関数が違えば異なる変数というのは不正確な言い方で, 同じ関数であっても, <font color=\"blue\">関数「呼び出し」が違えば異なる変数</font>\n",
    "* 典型的には再帰呼び出しをする関数の場合"
   ]
  },
  {
   "cell_type": "code",
   "execution_count": null,
   "metadata": {
    "kernel": "Python 3 (ipykernel)",
    "nbgrader": {
     "grade": false,
     "grade_id": "c-030",
     "locked": false,
     "schema_version": 3,
     "solution": false,
     "task": false
    }
   },
   "outputs": [],
   "source": [
    "%%writefile local_fact.c\n",
    "#include <stdio.h>\n",
    "\n",
    "#include <stdlib.h>\n",
    "int g;\n",
    "long fact(long n) {\n",
    "  printf(\"g : %ld\\n\", (long)&g);\n",
    "  printf(\"n@fact(%ld) : %ld\\n\", n, (long)&n);\n",
    "  if (n == 0) {\n",
    "    return 1;\n",
    "  } else {\n",
    "    long r = fact(n - 1);\n",
    "    printf(\"r@fact(%ld) : %ld\\n\", n, (long)&r);\n",
    "    return n * r;\n",
    "  }\n",
    "}\n",
    "\n",
    "int main(int argc, char ** argv) {\n",
    "  long n = (argc > 1 ? atol(argv[1]) : 10);\n",
    "  long x = fact(n);\n",
    "  printf(\"fact(%ld) = %ld\\n\", n, x);\n",
    "  return 0;\n",
    "}"
   ]
  },
  {
   "cell_type": "code",
   "execution_count": null,
   "metadata": {
    "kernel": "Bash",
    "nbgrader": {
     "grade": false,
     "grade_id": "c-031",
     "locked": false,
     "schema_version": 3,
     "solution": false,
     "task": false
    }
   },
   "outputs": [],
   "source": [
    "gcc -Wall -Wno-format -o local_fact local_fact.c"
   ]
  },
  {
   "cell_type": "code",
   "execution_count": null,
   "metadata": {
    "kernel": "Bash",
    "nbgrader": {
     "grade": false,
     "grade_id": "c-032",
     "locked": false,
     "schema_version": 3,
     "solution": false,
     "task": false
    }
   },
   "outputs": [],
   "source": [
    "./local_fact"
   ]
  },
  {
   "cell_type": "markdown",
   "metadata": {
    "deletable": false,
    "editable": false,
    "kernel": "SoS",
    "nbgrader": {
     "cell_type": "markdown",
     "checksum": "bcdc11b095813dc9b342b7e6701a415c",
     "grade": false,
     "grade_id": "c-033",
     "locked": true,
     "schema_version": 3,
     "solution": false,
     "task": false
    }
   },
   "source": [
    "* fact(10)がfact(9)を呼び, それがfact(8)を呼び, それがfact(7)を呼び, ... としているがそれぞれに別の領域が割り当てられているはずで, その様子は表示されているアドレス(隣り合うアドレスの差)を観察すると「なんとなく」わかるだろう\n",
    "* 対比としてあえて大域変数gを導入してそのアドレスも表示している\n",
    "\n",
    "* 以下は可視化のためのコード"
   ]
  },
  {
   "cell_type": "code",
   "execution_count": null,
   "metadata": {
    "kernel": "Python 3 (ipykernel)",
    "nbgrader": {
     "grade": false,
     "grade_id": "c-034",
     "locked": false,
     "schema_version": 3,
     "solution": false,
     "task": false
    }
   },
   "outputs": [],
   "source": [
    "#!/usr/bin/python3\n",
    "import sys\n",
    "import re\n",
    "import matplotlib.pyplot as plt\n",
    "import numpy as np\n",
    "\n",
    "def read_dat(dat):\n",
    "    pat = re.compile(\"(?P<var>[A-Za-z0-9_]+)@(?P<fun>[A-Za-z0-9_]+)\\([A-Za-z0-9_]*\\) *: *(?P<addr>\\d+)\")\n",
    "    log = {}\n",
    "    with open(dat) as fp:\n",
    "        idx = 0\n",
    "        for line in fp:\n",
    "            m = pat.match(line)\n",
    "            if not m:\n",
    "                # sys.stderr.write(\"warning: ignore line [%s]\\n\" % line.rstrip())\n",
    "                continue\n",
    "            var = m.group(\"var\")\n",
    "            fun = m.group(\"fun\")\n",
    "            addr = int(m.group(\"addr\"))\n",
    "            if var not in log:\n",
    "                log[var] = []\n",
    "            log[var].append((idx, addr))\n",
    "            idx += 1\n",
    "    return log\n",
    "    \n",
    "def addrs_plt(dat):\n",
    "    log = read_dat(dat)\n",
    "    nvars = len(log)\n",
    "    cmap = plt.cm.get_cmap('RdYlGn', nvars)\n",
    "    A0 = min(min(addr for _, addr in addrs) for addrs in log.values())\n",
    "    lines = []\n",
    "    fig, ax = plt.subplots()\n",
    "    for i, (var, addrs) in enumerate(sorted(log.items())):\n",
    "        I = [line_no for line_no, _ in addrs]\n",
    "        A = [addr for _, addr in addrs]\n",
    "        color = cmap(i)\n",
    "        lines.extend(ax.plot(I, A, marker='o', label=var, color=color))\n",
    "    ax.autoscale()\n",
    "    ax.legend()\n",
    "    plt.title(\"addrs (%s)\" % dat)\n",
    "    plt.xlabel(\"line\")\n",
    "    plt.ylabel(\"addrs\")\n",
    "    plt.show()\n",
    "\n",
    "def main():\n",
    "    dat = sys.argv[1]\n",
    "    addrs_plt(dat)\n",
    "\n",
    "if sys.argv[0] == \"./addrs_vis.py\":\n",
    "    main()"
   ]
  },
  {
   "cell_type": "markdown",
   "metadata": {
    "deletable": false,
    "editable": false,
    "kernel": "SoS",
    "nbgrader": {
     "cell_type": "markdown",
     "checksum": "a7f330b015b8cd2e62ebf6a5436e581c",
     "grade": false,
     "grade_id": "c-035",
     "locked": true,
     "schema_version": 3,
     "solution": false,
     "task": false
    }
   },
   "source": [
    "* 実行"
   ]
  },
  {
   "cell_type": "code",
   "execution_count": null,
   "metadata": {
    "kernel": "Bash",
    "nbgrader": {
     "grade": false,
     "grade_id": "c-036",
     "locked": false,
     "schema_version": 3,
     "solution": false,
     "task": false
    }
   },
   "outputs": [],
   "source": [
    "./local_fact 20 > fact.dat"
   ]
  },
  {
   "cell_type": "markdown",
   "metadata": {
    "deletable": false,
    "editable": false,
    "kernel": "SoS",
    "nbgrader": {
     "cell_type": "markdown",
     "checksum": "85f035150a8915f76b0506f19a0bcfe6",
     "grade": false,
     "grade_id": "c-037",
     "locked": true,
     "schema_version": 3,
     "solution": false,
     "task": false
    }
   },
   "source": [
    "* 可視化"
   ]
  },
  {
   "cell_type": "code",
   "execution_count": null,
   "metadata": {
    "kernel": "Python 3 (ipykernel)",
    "nbgrader": {
     "grade": false,
     "grade_id": "c-038",
     "locked": false,
     "schema_version": 3,
     "solution": false,
     "task": false
    }
   },
   "outputs": [],
   "source": [
    "addrs_plt(\"fact.dat\")"
   ]
  },
  {
   "cell_type": "markdown",
   "metadata": {
    "deletable": false,
    "editable": false,
    "kernel": "SoS",
    "nbgrader": {
     "cell_type": "markdown",
     "checksum": "a11f492da88f70173636351a46d33f9b",
     "grade": false,
     "grade_id": "c-039",
     "locked": true,
     "schema_version": 3,
     "solution": false,
     "task": false
    }
   },
   "source": [
    "* 上記の例からはfact(10) -&gt; fact(9) -&gt; ... と呼ばれていくにつれアドレスが小さくなっていくことがわかる\n",
    "* このように関数を呼び出すたびに, その関数のための新しいメモリ領域が確保されていく\n",
    "* その領域が<font color=\"blue\">「スタック」</font>と呼ばれるものであり, スレッドごとに割り当てられる\n",
    "* 関数を呼び出すたびに新しいアドレスを使っていったのではすぐにメモリを使い果たしてしまうので, 関数が終了(リターン)したときにその領域は開放される(次の関数呼び出しが同じ領域を使う)\n",
    "* その様子がわかるのが, 以下のような, 関数を2回呼び出すような関数"
   ]
  },
  {
   "cell_type": "code",
   "execution_count": null,
   "metadata": {
    "kernel": "Python 3 (ipykernel)",
    "nbgrader": {
     "grade": false,
     "grade_id": "c-040",
     "locked": false,
     "schema_version": 3,
     "solution": false,
     "task": false
    }
   },
   "outputs": [],
   "source": [
    "%%writefile local_fib.c\n",
    "#include <stdio.h>\n",
    "\n",
    "long fib(long n) {\n",
    "  printf(\"n@fib(%ld) : %ld\\n\", n, (long)&n);\n",
    "  if (n < 2) {\n",
    "    return 1;\n",
    "  } else {\n",
    "    long x = fib(n - 1);\n",
    "    long y = fib(n - 2);\n",
    "    printf(\"x@fib(%ld) : %ld\\n\", n, (long)&x);\n",
    "    printf(\"y@fib(%ld) : %ld\\n\", n, (long)&y);\n",
    "    return x + y;\n",
    "  }\n",
    "}\n",
    "\n",
    "int main() {\n",
    "  long n = 10;\n",
    "  long x = fib(n);\n",
    "  printf(\"fib(%ld) = %ld\\n\", n, x);\n",
    "  return 0;\n",
    "}"
   ]
  },
  {
   "cell_type": "code",
   "execution_count": null,
   "metadata": {
    "kernel": "Bash",
    "nbgrader": {
     "grade": false,
     "grade_id": "c-041",
     "locked": false,
     "schema_version": 3,
     "solution": false,
     "task": false
    }
   },
   "outputs": [],
   "source": [
    "gcc -Wall -Wno-format -o local_fib local_fib.c"
   ]
  },
  {
   "cell_type": "code",
   "execution_count": null,
   "metadata": {
    "kernel": "Bash",
    "nbgrader": {
     "grade": false,
     "grade_id": "c-042",
     "locked": false,
     "schema_version": 3,
     "solution": false,
     "task": false
    }
   },
   "outputs": [],
   "source": [
    "./local_fib > fib.dat"
   ]
  },
  {
   "cell_type": "code",
   "execution_count": null,
   "metadata": {
    "kernel": "Python 3 (ipykernel)",
    "nbgrader": {
     "grade": false,
     "grade_id": "c-043",
     "locked": false,
     "schema_version": 3,
     "solution": false,
     "task": false
    }
   },
   "outputs": [],
   "source": [
    "addrs_plt(\"fib.dat\")"
   ]
  },
  {
   "cell_type": "markdown",
   "metadata": {
    "deletable": false,
    "editable": false,
    "kernel": "SoS",
    "nbgrader": {
     "cell_type": "markdown",
     "checksum": "49cb80130f3175c49589bdb8a02dc745",
     "grade": false,
     "grade_id": "c-044",
     "locked": true,
     "schema_version": 3,
     "solution": false,
     "task": false
    }
   },
   "source": [
    "# 3. ポインタがよくわからないという人へ\n",
    "* ポインタがよくわからないという人は, <font color=\"blue\">「ポインタ」とは単純にアドレスのこと</font>だと思えば良い\n",
    "* ポインタ変数 --- `char *` でも `int *` でも, `int **` でも, `void *` でも --- に入っているものは要するにアドレス, つまり整数である\n",
    "* ポインタ変数`p`に対し, <font color=\"blue\">`*p`という式はそのアドレスにロード命令を発行して取り出した値</font>のことになるし, <font color=\"blue\">`*p = ...` という代入文はそのアドレスにストア命令を発行</font>する\n",
    "* その意味ではポインタ変数はどれも似たようなもので, `char*`であろうが`int*`であろうが, アドレスはアドレス, 整数は整数, その意味ではどれも一緒である\n",
    "* 違いは, 何のポインタであるかによって, `*p`としたときに何バイト分のデータを読んだり書いたりするかが違うだけである. 例えば`p`が`int *`であれば4バイト, `double *`であれば8バイト読む\n",
    "* `p[i]`や`p->x`も似たようなもので, `p`が何へのポインタであるかによって, `p`から何バイト先を読むかが違う. `int*`であれば`p[i]`は `p`から$4i$番地だけ先の番地を読む(または書く)\n",
    "* 以下は`*a`という式が機械語レベルでは何をしているかを示したもの"
   ]
  },
  {
   "cell_type": "code",
   "execution_count": null,
   "metadata": {
    "kernel": "Python 3 (ipykernel)",
    "nbgrader": {
     "grade": false,
     "grade_id": "c-045",
     "locked": false,
     "schema_version": 3,
     "solution": false,
     "task": false
    }
   },
   "outputs": [],
   "source": [
    "%%writefile pointer.c\n",
    "int deref_int(int * a) {\n",
    "  return *a;\n",
    "}\n",
    "long deref_long(long * a) {\n",
    "  return *a;\n",
    "}"
   ]
  },
  {
   "cell_type": "markdown",
   "metadata": {
    "deletable": false,
    "editable": false,
    "kernel": "SoS",
    "nbgrader": {
     "cell_type": "markdown",
     "checksum": "71f05031aa01500c06b608009d629f37",
     "grade": false,
     "grade_id": "c-046",
     "locked": true,
     "schema_version": 3,
     "solution": false,
     "task": false
    }
   },
   "source": [
    "* 以下のコマンド(`-S`オプション)で機械語(正確にはアセンブリ言語)のコードが, pointer.s というファイルに生成される\n",
    "  * `-O3` は最適化のオプションでこれを付けたほうが余計なものが生成されずわかりやすいコードになることを期待して付けている"
   ]
  },
  {
   "cell_type": "code",
   "execution_count": null,
   "metadata": {
    "kernel": "Bash",
    "nbgrader": {
     "grade": false,
     "grade_id": "c-047",
     "locked": false,
     "schema_version": 3,
     "solution": false,
     "task": false
    }
   },
   "outputs": [],
   "source": [
    "gcc -S -O3 -Wall pointer.c"
   ]
  },
  {
   "cell_type": "markdown",
   "metadata": {
    "deletable": false,
    "editable": false,
    "kernel": "SoS",
    "nbgrader": {
     "cell_type": "markdown",
     "checksum": "6788f88cfbf0fee5d57588c7c555a7b0",
     "grade": false,
     "grade_id": "c-048",
     "locked": true,
     "schema_version": 3,
     "solution": false,
     "task": false
    }
   },
   "source": [
    "* 以下でそれを表示"
   ]
  },
  {
   "cell_type": "code",
   "execution_count": null,
   "metadata": {
    "kernel": "Bash",
    "nbgrader": {
     "grade": false,
     "grade_id": "c-049",
     "locked": false,
     "schema_version": 3,
     "solution": false,
     "task": false
    }
   },
   "outputs": [],
   "source": [
    "cat -n pointer.s"
   ]
  },
  {
   "cell_type": "markdown",
   "metadata": {
    "deletable": false,
    "editable": false,
    "kernel": "SoS",
    "nbgrader": {
     "cell_type": "markdown",
     "checksum": "123abec71da2fefa21ad3531d442eab4",
     "grade": false,
     "grade_id": "c-050",
     "locked": true,
     "schema_version": 3,
     "solution": false,
     "task": false
    }
   },
   "source": [
    "* `movl\t(%rdi), %eax`は`%rdi`レジスタに入っているアドレスから4バイト (lはlong wordの意味. Intel機械語で4バイトの意味)読み込み`%eax`に入れる\n",
    "* `movq\t(%rdi), %rax`は`%rdi`レジスタに入っているアドレスから8バイト (qはquad wordの意味. Intel機械語で8バイトの意味)読み込み`%rax`に入れる\n",
    "\n",
    "* 以下は`a[i]`の場合"
   ]
  },
  {
   "cell_type": "code",
   "execution_count": null,
   "metadata": {
    "kernel": "Python 3 (ipykernel)",
    "nbgrader": {
     "grade": false,
     "grade_id": "c-051",
     "locked": false,
     "schema_version": 3,
     "solution": false,
     "task": false
    }
   },
   "outputs": [],
   "source": [
    "%%writefile pointer_array.c\n",
    "int idx_int(int * a, long i) {\n",
    "  return a[i];\n",
    "}\n",
    "long idx_long(long * a, long i) {\n",
    "  return a[i];\n",
    "}"
   ]
  },
  {
   "cell_type": "code",
   "execution_count": null,
   "metadata": {
    "kernel": "Bash",
    "nbgrader": {
     "grade": false,
     "grade_id": "c-052",
     "locked": false,
     "schema_version": 3,
     "solution": false,
     "task": false
    }
   },
   "outputs": [],
   "source": [
    "gcc -S -O3 -Wall pointer_array.c"
   ]
  },
  {
   "cell_type": "code",
   "execution_count": null,
   "metadata": {
    "kernel": "Bash",
    "nbgrader": {
     "grade": false,
     "grade_id": "c-053",
     "locked": false,
     "schema_version": 3,
     "solution": false,
     "task": false
    }
   },
   "outputs": [],
   "source": [
    "cat -n pointer_array.s"
   ]
  },
  {
   "cell_type": "markdown",
   "metadata": {
    "deletable": false,
    "editable": false,
    "kernel": "SoS",
    "nbgrader": {
     "cell_type": "markdown",
     "checksum": "999445f8d4d77e492e35c2baf87931f9",
     "grade": false,
     "grade_id": "c-054",
     "locked": true,
     "schema_version": 3,
     "solution": false,
     "task": false
    }
   },
   "source": [
    "* `movl\t(%rdi,%rsi,4), %eax`は(`%rdi`に入っているアドレス + `%rsi` * 4)番地から4バイト読み込み, `%eax`に入れる命令\n",
    "* `movq\t(%rdi,%rsi,8), %rax`は(`%rdi`に入っているアドレス + `%rsi` * 8)番地から8バイト読み込み, `%rax`に入れる命令\n",
    "\n",
    "* ポインタがよくわからないという人は, 「ポインタ」の実体は常に単なる整数(アドレス)で, `*p`, `p[i]`, `p->...`などはどれも, 適切にアドレスを計算してそこにアクセスするだけのこと, と思うのが良いのではないかと思う\n",
    "\n",
    "* 以下は高級そうなことをしているように見えるかも知れないが, `p->next`は`p`に入っているアドレスそのもの, `p->x`は(多分)その8バイト先を読むだけのことである\n",
    "* どれがfor文(ループ)に対応し, どれが`p->x`に対応し, どれが`p->next`に対応しているかを読み取ってみよ"
   ]
  },
  {
   "cell_type": "code",
   "execution_count": null,
   "metadata": {
    "kernel": "Python 3 (ipykernel)",
    "nbgrader": {
     "grade": false,
     "grade_id": "c-055",
     "locked": false,
     "schema_version": 3,
     "solution": false,
     "task": false
    }
   },
   "outputs": [],
   "source": [
    "%%writefile pointer_arrow.c\n",
    "typedef struct node {\n",
    "  struct node * next;\n",
    "  long x;\n",
    "} node_t;\n",
    "long chase(node_t * a) {\n",
    "  long s = 0;\n",
    "  for (node_t * p = a; p; p = p->next) {\n",
    "    s += p->x;\n",
    "  }\n",
    "  return s;\n",
    "}"
   ]
  },
  {
   "cell_type": "code",
   "execution_count": null,
   "metadata": {
    "kernel": "Bash",
    "nbgrader": {
     "grade": false,
     "grade_id": "c-056",
     "locked": false,
     "schema_version": 3,
     "solution": false,
     "task": false
    }
   },
   "outputs": [],
   "source": [
    "gcc -S -O3 -Wall pointer_arrow.c"
   ]
  },
  {
   "cell_type": "code",
   "execution_count": null,
   "metadata": {
    "kernel": "Bash",
    "nbgrader": {
     "grade": false,
     "grade_id": "c-057",
     "locked": false,
     "schema_version": 3,
     "solution": false,
     "task": false
    }
   },
   "outputs": [],
   "source": [
    "cat -n pointer_arrow.s"
   ]
  },
  {
   "cell_type": "markdown",
   "metadata": {
    "deletable": false,
    "editable": false,
    "kernel": "SoS",
    "nbgrader": {
     "cell_type": "markdown",
     "checksum": "d797a88a2ceac417f30cb8298f99fc1f",
     "grade": false,
     "grade_id": "c-058",
     "locked": true,
     "schema_version": 3,
     "solution": false,
     "task": false
    }
   },
   "source": [
    "* 最後に, こんなコードに意味はないが, ポインタと整数が同じものであるということをことさら強調するために書いておく\n",
    "* `movsbl 918, %eax`は紛れもなく, 918番地にある1バイトを読んで`%eax`レジスタに入れる命令"
   ]
  },
  {
   "cell_type": "code",
   "execution_count": null,
   "metadata": {
    "kernel": "Python 3 (ipykernel)",
    "nbgrader": {
     "grade": false,
     "grade_id": "c-059",
     "locked": false,
     "schema_version": 3,
     "solution": false,
     "task": false
    }
   },
   "outputs": [],
   "source": [
    "%%writefile pointer_is_integer.c\n",
    "int main() {\n",
    "  char * p = 918;\n",
    "  return *p;\n",
    "}"
   ]
  },
  {
   "cell_type": "code",
   "execution_count": null,
   "metadata": {
    "kernel": "Bash",
    "nbgrader": {
     "grade": false,
     "grade_id": "c-060",
     "locked": false,
     "schema_version": 3,
     "solution": false,
     "task": false
    }
   },
   "outputs": [],
   "source": [
    "gcc -S -O3 -Wall pointer_is_integer.c"
   ]
  },
  {
   "cell_type": "code",
   "execution_count": null,
   "metadata": {
    "kernel": "Bash",
    "nbgrader": {
     "grade": false,
     "grade_id": "c-061",
     "locked": false,
     "schema_version": 3,
     "solution": false,
     "task": false
    }
   },
   "outputs": [],
   "source": [
    "cat -n pointer_is_integer.s"
   ]
  },
  {
   "cell_type": "markdown",
   "metadata": {
    "deletable": false,
    "editable": false,
    "kernel": "SoS",
    "nbgrader": {
     "cell_type": "markdown",
     "checksum": "2a38ce964018edcfb76658f448fa595d",
     "grade": false,
     "grade_id": "c-062",
     "locked": true,
     "schema_version": 3,
     "solution": false,
     "task": false
    }
   },
   "source": [
    "* ポインタに関して「ここがわからない」という質問を歓迎します\n",
    "\n",
    "# 4. メモリ領域の「寿命」\n",
    "* C言語で使えるメモリとして大域変数・配列と局所変数・配列があることを見たが, 違いを端的に言うならば「いつからいつまで使えるか」が違う\n",
    "\n",
    "|          | いつから   |いつまで    |\n",
    "|----------|------------|------------|\n",
    "| 大域変数 |プロセス開始|プロセス終了|\n",
    "| 局所変数 |関数開始    |関数終了    |\n",
    "\n",
    "* 両者が違うというのみならず, どちらも不自由である\n",
    "* いつでも好きなときに割り当てることが出来, 好きなときに解放することが出来るメモリが必要\n",
    "* それが「動的(実行時)に割り当てられるメモリ」で, 「ヒープ」と呼ばれることもある\n",
    "\n",
    "* 以下のプログラムを実行して(わけのわからない)挙動を説明してみよ"
   ]
  },
  {
   "cell_type": "code",
   "execution_count": null,
   "metadata": {
    "kernel": "Python 3 (ipykernel)",
    "nbgrader": {
     "grade": false,
     "grade_id": "c-063",
     "locked": false,
     "schema_version": 3,
     "solution": false,
     "task": false
    }
   },
   "outputs": [],
   "source": [
    "%%writefile local_lifetime.c\n",
    "#include <stdio.h>\n",
    "\n",
    "double * f(double * a) {\n",
    "  return a;\n",
    "}\n",
    "const int n = 30;\n",
    "double * alloc() {\n",
    "  double a[n];\n",
    "  return f(a);\n",
    "}\n",
    "\n",
    "int main() {\n",
    "  double * a = alloc();\n",
    "  for (long i = 0; i < n; i++) {\n",
    "    a[i] = i;\n",
    "  }\n",
    "  for (long i = 0; i < n; i++) {\n",
    "    printf(\"a[%ld] = %f\\n\", i, a[i]);\n",
    "  }\n",
    "  return 0;\n",
    "}"
   ]
  },
  {
   "cell_type": "code",
   "execution_count": null,
   "metadata": {
    "kernel": "Bash",
    "nbgrader": {
     "grade": false,
     "grade_id": "c-064",
     "locked": false,
     "schema_version": 3,
     "solution": false,
     "task": false
    }
   },
   "outputs": [],
   "source": [
    "gcc -Wall -o local_lifetime local_lifetime.c"
   ]
  },
  {
   "cell_type": "code",
   "execution_count": null,
   "metadata": {
    "kernel": "Bash",
    "nbgrader": {
     "grade": false,
     "grade_id": "c-065",
     "locked": false,
     "schema_version": 3,
     "solution": false,
     "task": false
    }
   },
   "outputs": [],
   "source": [
    "./local_lifetime"
   ]
  },
  {
   "cell_type": "markdown",
   "metadata": {
    "deletable": false,
    "editable": false,
    "kernel": "SoS",
    "nbgrader": {
     "cell_type": "markdown",
     "checksum": "7561d01d3b2618228b3b7e0584417a43",
     "grade": false,
     "grade_id": "c-066",
     "locked": true,
     "schema_version": 3,
     "solution": false,
     "task": false
    }
   },
   "source": [
    "# 5. ヒープ(動的に割り当てたメモリ)の番地の表示\n",
    "* C言語でメモリを自由な時点で割り当てて自由な時点で開放できる --- 動的に割り当てられる --- のはmalloc/free, C++であればnew/deleteなど\n",
    "* ほとんどあらゆる言語で, 呼び方(名前)は違えど提供されている\n",
    "* malloとfreeの場合を上記の表に加えると以下のようになる\n",
    "\n",
    "|          | いつから          |いつまで        |\n",
    "|----------|-------------------|----------------|\n",
    "| 大域変数 |プロセス開始       |プロセス終了    |\n",
    "| 局所変数 |関数開始           |関数終了        |\n",
    "| ヒープ   |mallocを呼んだとき |freeを呼んだとき|\n",
    "\n",
    "* mallocはサイズ(バイト数)を与えて呼び出すと「その時空いていた領域のアドレス」を返してくれる\n",
    "* アドレスを返すので, C言語では`void *`を返す\n",
    "\n",
    "* 以下は約100MB (100000000バイト)のメモリを3回割り当てて返されたアドレスを表示する"
   ]
  },
  {
   "cell_type": "code",
   "execution_count": null,
   "metadata": {
    "kernel": "Python 3 (ipykernel)",
    "nbgrader": {
     "grade": false,
     "grade_id": "c-067",
     "locked": false,
     "schema_version": 3,
     "solution": false,
     "task": false
    }
   },
   "outputs": [],
   "source": [
    "%%writefile malloc.c\n",
    "#include <stdio.h>\n",
    "#include <stdlib.h>\n",
    "\n",
    "int main(int argc, char ** argv) {\n",
    "  long n = (argc > 1 ? atol(argv[1]) : 3);\n",
    "  if (n > 1000) {\n",
    "    fprintf(stderr, \"n (%ld) too large (> 1000)\\n\", n);\n",
    "  }\n",
    "  printf(\"allocating 100MB %ld times\\n\");\n",
    "  for (long i = 0; i < n; i++) {\n",
    "    void * a = malloc(100 * 1000 * 1000);\n",
    "    printf(\"a@main() :     %ld\\n\", a);\n",
    "  }\n",
    "}"
   ]
  },
  {
   "cell_type": "code",
   "execution_count": null,
   "metadata": {
    "kernel": "Bash",
    "nbgrader": {
     "grade": false,
     "grade_id": "c-068",
     "locked": false,
     "schema_version": 3,
     "solution": false,
     "task": false
    }
   },
   "outputs": [],
   "source": [
    "gcc -Wall -Wno-format -o malloc malloc.c"
   ]
  },
  {
   "cell_type": "code",
   "execution_count": null,
   "metadata": {
    "kernel": "Bash",
    "nbgrader": {
     "grade": false,
     "grade_id": "c-069",
     "locked": false,
     "schema_version": 3,
     "solution": false,
     "task": false
    }
   },
   "outputs": [],
   "source": [
    "./malloc"
   ]
  },
  {
   "cell_type": "markdown",
   "metadata": {
    "deletable": false,
    "editable": false,
    "kernel": "SoS",
    "nbgrader": {
     "cell_type": "markdown",
     "checksum": "ea9ca022124222a26f5c90e57c470536",
     "grade": false,
     "grade_id": "c-070",
     "locked": true,
     "schema_version": 3,
     "solution": false,
     "task": false
    }
   },
   "source": [
    "* まずは表示された3つのアドレスの間隔がほぼ100000000であることを確認せよ\n",
    "* 50回割り当ててそのアドレスを可視化する"
   ]
  },
  {
   "cell_type": "code",
   "execution_count": null,
   "metadata": {
    "kernel": "Bash",
    "nbgrader": {
     "grade": false,
     "grade_id": "c-071",
     "locked": false,
     "schema_version": 3,
     "solution": false,
     "task": false
    }
   },
   "outputs": [],
   "source": [
    "./malloc 50 > malloc_50.dat"
   ]
  },
  {
   "cell_type": "code",
   "execution_count": null,
   "metadata": {
    "kernel": "Python 3 (ipykernel)",
    "nbgrader": {
     "grade": false,
     "grade_id": "c-072",
     "locked": false,
     "schema_version": 3,
     "solution": false,
     "task": false
    }
   },
   "outputs": [],
   "source": [
    "addrs_plt(\"malloc_50.dat\")"
   ]
  },
  {
   "cell_type": "markdown",
   "metadata": {
    "deletable": false,
    "editable": false,
    "kernel": "SoS",
    "nbgrader": {
     "cell_type": "markdown",
     "checksum": "5cf7900c0403873f990e9eefad3c4055",
     "grade": false,
     "grade_id": "c-073",
     "locked": true,
     "schema_version": 3,
     "solution": false,
     "task": false
    }
   },
   "source": [
    "* freeを一切呼んでいないので, 当然毎回異なるアドレスが返されている\n",
    "\n",
    "* 以下は, 100MBの領域を50回確保しながら, 最後の10回以外の領域はfreeしている"
   ]
  },
  {
   "cell_type": "code",
   "execution_count": null,
   "metadata": {
    "kernel": "Python 3 (ipykernel)",
    "nbgrader": {
     "grade": false,
     "grade_id": "c-074",
     "locked": false,
     "schema_version": 3,
     "solution": false,
     "task": false
    }
   },
   "outputs": [],
   "source": [
    "%%writefile malloc_free.c\n",
    "#include <stdio.h>\n",
    "#include <stdlib.h>\n",
    "\n",
    "int main(int argc, char ** argv) {\n",
    "  long n = (argc > 1 ? atol(argv[1]) : 10);\n",
    "  long repeat = (argc > 1 ? atol(argv[1]) : 5);\n",
    "  if (n > 1000) {\n",
    "    fprintf(stderr, \"n (%ld) too large (> 1000)\\n\", n);\n",
    "  }\n",
    "  printf(\"allocate 100MB blocks %ld x %ld times, retaining %ld blocks\\n\",\n",
    "         n, repeat, n);\n",
    "  void * a[n];\n",
    "  for (long r = 0; r < n; r++) {\n",
    "    for (long i = 0; i < n; i++) {\n",
    "      if (r > 0) free(a[i]);\n",
    "      a[i] = malloc(100 * 1000 * 1000);\n",
    "      printf(\"a@main() :     %ld\\n\", a[i]);\n",
    "    }\n",
    "  }\n",
    "}"
   ]
  },
  {
   "cell_type": "code",
   "execution_count": null,
   "metadata": {
    "kernel": "Bash",
    "nbgrader": {
     "grade": false,
     "grade_id": "c-075",
     "locked": false,
     "schema_version": 3,
     "solution": false,
     "task": false
    }
   },
   "outputs": [],
   "source": [
    "gcc -Wall -Wno-format -o malloc_free malloc_free.c"
   ]
  },
  {
   "cell_type": "code",
   "execution_count": null,
   "metadata": {
    "kernel": "Bash",
    "nbgrader": {
     "grade": false,
     "grade_id": "c-076",
     "locked": false,
     "schema_version": 3,
     "solution": false,
     "task": false
    }
   },
   "outputs": [],
   "source": [
    "./malloc_free 10 5 > malloc_10_5.dat"
   ]
  },
  {
   "cell_type": "code",
   "execution_count": null,
   "metadata": {
    "kernel": "Python 3 (ipykernel)",
    "nbgrader": {
     "grade": false,
     "grade_id": "c-077",
     "locked": false,
     "schema_version": 3,
     "solution": false,
     "task": false
    }
   },
   "outputs": [],
   "source": [
    "addrs_plt(\"malloc_10_5.dat\")"
   ]
  },
  {
   "cell_type": "markdown",
   "metadata": {
    "deletable": false,
    "editable": false,
    "kernel": "SoS",
    "nbgrader": {
     "cell_type": "markdown",
     "checksum": "45ea23e20338034b0f82e99698ac6362",
     "grade": false,
     "grade_id": "c-078",
     "locked": true,
     "schema_version": 3,
     "solution": false,
     "task": false
    }
   },
   "source": [
    "# 6. 物理メモリを越えたメモリの割当て\n",
    "* ところで先のプログラムは100MBのメモリを何度も割り当てる\n",
    "* 以下は 100MB x 100 = 約10GBのメモリを割り当てる"
   ]
  },
  {
   "cell_type": "code",
   "execution_count": null,
   "metadata": {
    "kernel": "Bash",
    "nbgrader": {
     "grade": false,
     "grade_id": "c-079",
     "locked": false,
     "schema_version": 3,
     "solution": false,
     "task": false
    }
   },
   "outputs": [],
   "source": [
    "./malloc 100 > malloc_100.dat"
   ]
  },
  {
   "cell_type": "code",
   "execution_count": null,
   "metadata": {
    "kernel": "Python 3 (ipykernel)",
    "nbgrader": {
     "grade": false,
     "grade_id": "c-080",
     "locked": false,
     "schema_version": 3,
     "solution": false,
     "task": false
    }
   },
   "outputs": [],
   "source": [
    "addrs_plt(\"malloc_100.dat\")"
   ]
  },
  {
   "cell_type": "markdown",
   "metadata": {
    "deletable": false,
    "editable": false,
    "kernel": "SoS",
    "nbgrader": {
     "cell_type": "markdown",
     "checksum": "90072b74856abbaff2106ef7840fd165",
     "grade": false,
     "grade_id": "c-081",
     "locked": true,
     "schema_version": 3,
     "solution": false,
     "task": false
    }
   },
   "source": [
    "* 以下は 100MB x 2000 = 約200GBのメモリを割り当てる"
   ]
  },
  {
   "cell_type": "code",
   "execution_count": null,
   "metadata": {
    "kernel": "Bash",
    "nbgrader": {
     "grade": false,
     "grade_id": "c-082",
     "locked": false,
     "schema_version": 3,
     "solution": false,
     "task": false
    }
   },
   "outputs": [],
   "source": [
    "./malloc 2000 > malloc_2000.dat"
   ]
  },
  {
   "cell_type": "code",
   "execution_count": null,
   "metadata": {
    "kernel": "Python 3 (ipykernel)",
    "nbgrader": {
     "grade": false,
     "grade_id": "c-083",
     "locked": false,
     "schema_version": 3,
     "solution": false,
     "task": false
    }
   },
   "outputs": [],
   "source": [
    "addrs_plt(\"malloc_2000.dat\")"
   ]
  },
  {
   "cell_type": "markdown",
   "metadata": {
    "deletable": false,
    "editable": false,
    "kernel": "SoS",
    "nbgrader": {
     "cell_type": "markdown",
     "checksum": "54baa69da88ed28de6388d83bbbb0a47",
     "grade": false,
     "grade_id": "c-084",
     "locked": true,
     "schema_version": 3,
     "solution": false,
     "task": false
    }
   },
   "source": [
    "* Jupyter環境のサーバのメモリ搭載量は128GBだが, 200GB分のメモリ割り当てが成功している\n",
    "* 成功しているのみならず非常に高速であることにも注意\n",
    "* これらは, OSがメモリを要求されたときに, 実際には物理メモリを割り当てていない(要求時ページング)から可能になること\n",
    "* この仕組みがOSのメモリ管理(仮想記憶)の真髄(次回)\n",
    "* mallocではなく, システムコール(sbrk)を呼んでも同じことが起きる"
   ]
  },
  {
   "cell_type": "code",
   "execution_count": null,
   "metadata": {
    "kernel": "Python 3 (ipykernel)",
    "nbgrader": {
     "grade": false,
     "grade_id": "c-085",
     "locked": false,
     "schema_version": 3,
     "solution": false,
     "task": false
    }
   },
   "outputs": [],
   "source": [
    "%%writefile sbrk.c\n",
    "#include <stdio.h>\n",
    "#include <stdlib.h>\n",
    "\n",
    "#include <unistd.h>\n",
    "int main(int argc, char ** argv) {\n",
    "  long n = (argc > 1 ? atol(argv[1]) : 3);\n",
    "  if (n > 1000) {\n",
    "    fprintf(stderr, \"n (%ld) too large (> 1000)\\n\", n);\n",
    "  }\n",
    "  printf(\"allocating 100MB %ld times\\n\");\n",
    "  for (long i = 0; i < n; i++) {\n",
    "    void * a = sbrk(100 * 1000 * 1000);\n",
    "    printf(\"a@main() :     %ld\\n\", a);\n",
    "  }\n",
    "}"
   ]
  },
  {
   "cell_type": "code",
   "execution_count": null,
   "metadata": {
    "kernel": "Bash",
    "nbgrader": {
     "grade": false,
     "grade_id": "c-086",
     "locked": false,
     "schema_version": 3,
     "solution": false,
     "task": false
    }
   },
   "outputs": [],
   "source": [
    "gcc -Wall -Wno-format -o sbrk sbrk.c"
   ]
  },
  {
   "cell_type": "code",
   "execution_count": null,
   "metadata": {
    "kernel": "Bash",
    "nbgrader": {
     "grade": false,
     "grade_id": "c-087",
     "locked": false,
     "schema_version": 3,
     "solution": false,
     "task": false
    }
   },
   "outputs": [],
   "source": [
    "./sbrk 2000 > sbrk_2000.dat"
   ]
  },
  {
   "cell_type": "code",
   "execution_count": null,
   "metadata": {
    "kernel": "Python 3 (ipykernel)",
    "nbgrader": {
     "grade": false,
     "grade_id": "c-088",
     "locked": false,
     "schema_version": 3,
     "solution": false,
     "task": false
    }
   },
   "outputs": [],
   "source": [
    "addrs_plt(\"sbrk_2000.dat\")"
   ]
  }
 ],
 "metadata": {
  "kernelspec": {
   "display_name": "SoS",
   "language": "sos",
   "name": "sos"
  },
  "language_info": {
   "codemirror_mode": "sos",
   "file_extension": ".sos",
   "mimetype": "text/x-sos",
   "name": "sos",
   "nbconvert_exporter": "sos_notebook.converter.SoS_Exporter",
   "pygments_lexer": "sos"
  },
  "sos": {
   "kernels": [
    [
     "Bash",
     "bash",
     "bash",
     "",
     "shell"
    ],
    [
     "C",
     "c_kernel",
     "c",
     "",
     ""
    ],
    [
     "Go",
     "gophernotes",
     "go",
     "",
     ""
    ],
    [
     "Julia 1.4.1",
     "julia-1.4",
     "julia",
     "",
     ""
    ],
    [
     "OCaml default",
     "ocaml-jupyter",
     "OCaml",
     "",
     "text/x-ocaml"
    ],
    [
     "Python 3 (ipykernel)",
     "python3",
     "python3",
     "",
     {
      "name": "ipython",
      "version": 3
     }
    ],
    [
     "Rust",
     "rust",
     "rust",
     "",
     ""
    ]
   ],
   "panel": {
    "displayed": true,
    "height": 0
   },
   "version": "0.23.3"
  }
 },
 "nbformat": 4,
 "nbformat_minor": 4
}
