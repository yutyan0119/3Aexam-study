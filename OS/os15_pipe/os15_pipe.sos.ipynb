{
 "cells": [
  {
   "cell_type": "markdown",
   "metadata": {
    "deletable": false,
    "editable": false,
    "kernel": "SoS",
    "nbgrader": {
     "cell_type": "markdown",
     "checksum": "e8f11242379c2aba0f2cc6ba1a4a74d6",
     "grade": false,
     "grade_id": "c-001",
     "locked": true,
     "schema_version": 3,
     "solution": false,
     "task": false
    }
   },
   "source": [
    "#  オペレーティングシステム 演習 15\n",
    "#  リダイレクトやパイプの活用"
   ]
  },
  {
   "cell_type": "markdown",
   "metadata": {
    "kernel": "SoS",
    "nbgrader": {
     "grade": false,
     "grade_id": "c-002",
     "locked": false,
     "schema_version": 3,
     "solution": false,
     "task": false
    }
   },
   "source": [
    "名前と学生証番号を書け. Enter your name and student ID.\n",
    "\n",
    " * 名前 Name:\n",
    " * 学生証番号 Student ID:"
   ]
  },
  {
   "cell_type": "markdown",
   "metadata": {
    "deletable": false,
    "editable": false,
    "kernel": "SoS",
    "nbgrader": {
     "cell_type": "markdown",
     "checksum": "efca13979ea09cc4f19d2b0e390f03ad",
     "grade": false,
     "grade_id": "c-003",
     "locked": true,
     "schema_version": 3,
     "solution": false,
     "task": false
    }
   },
   "source": [
    "# 1. 本演習のテーマ\n",
    "* パイプ(|)を使って単純なコマンドを組み合わせるだけで多くのことができる\n",
    "* その前提として, コマンドライン CUI (Character User Interface) にある程度慣れなくてはいけないので, あまり慣れていない人のための練習もついでに\n",
    "* <font color=\"green\">問</font>となっているところ以外は, 自分にとってすでにおなじみのことであれば適宜飛ばしてもよい"
   ]
  },
  {
   "cell_type": "markdown",
   "metadata": {
    "deletable": false,
    "editable": false,
    "kernel": "SoS",
    "nbgrader": {
     "cell_type": "markdown",
     "checksum": "6bf3868dbf29bc2d8d9c019667491b3e",
     "grade": false,
     "grade_id": "c-004",
     "locked": true,
     "schema_version": 3,
     "solution": false,
     "task": false
    }
   },
   "source": [
    "# 2. コマンドライン端末を使いこなす日常の練習\n",
    "* 以下の練習は, taulec (授業で使っているサーバ) にSSHでログインして行うこと\n",
    "* 自分のPCで行っても良い(実用性を体験するという意味では普段使う環境で試す方がよいかもしれない). ただしそのまま同じものが動かないかもしれない\n",
    "  * Linuxの場合: シェルがbash (デフォルト)の人はおそらく全てそのまま動く. 自分のシェルが何かわからない人は, おそらくbash\n",
    "  * Macの場合: コマンドのオプションなど詳細が違うかもしれない + デフォルトのシェルがzshというものになっていて, 後半で多少文法の違いなどがあるかもしれない\n",
    "  * Windowsの場合: デフォルトのシェル(「コマンドプロンプト」や「PowerShell」ではかなり違うので推奨しない. 手元のWindowsでやりたければ, bash for Windowsというものを使うと良い\n",
    "  * いずれの場合も以前に作った仮想マシン上にインストールしたLinuxを使うのも良い\n",
    "\n",
    "## 2-1. 端末ソフトの立ち上げ\n",
    "自分のPCでやるにせよ, taulecサーバでやるにせよ, まずは自分の環境で端末 (terminal)ソフトを立ち上げる\n",
    "\n",
    "* Ubuntu : 画面端(多分左下または右下) 9点メニュー -&gt; Terminal で検索\n",
    "* MacOS : ファインダ (Finder) -&gt; アプリケーション (Applications) -&gt; 端末 (Terminal)\n",
    "* Windows : bash for Windowsもしくは(taulecサーバでやるのであれば) Windowsメニュー PowerShell または コマンドプロンプト\n",
    "\n",
    "* ここで立ち上がったソフトを以降は**「端末」**と呼ぶ. 端末の本来の意味は, ネットワークの末端に繋がれた機器, ということなのだろうが, 普通そこからコンピュータへの指示(コマンド)を打ち込んでいたことから, コマンドを打ち込むためのソフトも端末と呼ぶのが習わしになっている.\n",
    "\n",
    "## 2-2. taulecサーバへの接続\n",
    "* 上記のいずかの方法で端末を立ち上げたら\n",
    "\n",
    "```\n",
    "ssh uXXXXX@taulec.zapto.org\n",
    "```\n",
    "\n",
    "で taulec サーバ (Linux環境) にログインする\n",
    "\n",
    "* uXXXXX の部分や自分のユーザ名(Jupyterにログインしているときと同じもの)で置き換える\n",
    "* SSHでログインするための設定は以前に説明した\n",
    "\n",
    "* また, サーバ環境でGUIがない環境もあるのでそのような場所でも生きていけるようになるためにも\n",
    "\n",
    "## 2-3. 別の方法 Jupyter で端末\n",
    "* SSHを使わずにJupyterの端末を立ち上げる方法もあるが, 一部のキーがブラウザーに奪われるなど不自由があるので推奨しない\n",
    "* SSHができない場合の最終手段として, 一応やり方\n",
    "  * Jupyterのメニュー File -&gt; New Terminal\n",
    "\n",
    "# 3. コマンドライン (シェル)の基本\n",
    "* 前章のいずれかの方法で, taulec にログインした状態の端末が立ち上がっているとする\n",
    "* そこではコマンドを受け付けて実行するというソフトウェア(シェル)と対話をしている\n",
    "* シェルでどんな作業をするにしても, どんなファイルがあるかを確認しながらその中身を見るのが基本である\n",
    "\n",
    "## 3-1. `ls` (LiSt files) : ファイル名を表示\n",
    "* `ls` (無引数) : カレントディレクトリにあるファイル名, ディレクトリ名を表示"
   ]
  },
  {
   "cell_type": "code",
   "execution_count": null,
   "metadata": {
    "kernel": "Bash",
    "nbgrader": {
     "grade": false,
     "grade_id": "c-005",
     "locked": false,
     "schema_version": 3,
     "solution": false,
     "task": false
    }
   },
   "outputs": [],
   "source": [
    "ls"
   ]
  },
  {
   "cell_type": "markdown",
   "metadata": {
    "deletable": false,
    "editable": false,
    "kernel": "SoS",
    "nbgrader": {
     "cell_type": "markdown",
     "checksum": "daa0b826c742ae433c4820f206d807f0",
     "grade": false,
     "grade_id": "c-006",
     "locked": true,
     "schema_version": 3,
     "solution": false,
     "task": false
    }
   },
   "source": [
    "* `ls` $P$ : $P$がディレクトリ名ならその直下にあるファイル名, ディレクトリ名を表示, ファイルならそのファイル名を表示. いずれも存在しなければエラーを表示."
   ]
  },
  {
   "cell_type": "code",
   "execution_count": null,
   "metadata": {
    "kernel": "Bash",
    "nbgrader": {
     "grade": false,
     "grade_id": "c-007",
     "locked": false,
     "schema_version": 3,
     "solution": false,
     "task": false
    }
   },
   "outputs": [],
   "source": [
    "ls samples"
   ]
  },
  {
   "cell_type": "code",
   "execution_count": null,
   "metadata": {
    "kernel": "Bash",
    "nbgrader": {
     "grade": false,
     "grade_id": "c-008",
     "locked": false,
     "schema_version": 3,
     "solution": false,
     "task": false
    }
   },
   "outputs": [],
   "source": [
    "ls os15_pipe.sos.ipynb"
   ]
  },
  {
   "cell_type": "markdown",
   "metadata": {
    "deletable": false,
    "editable": false,
    "kernel": "SoS",
    "nbgrader": {
     "cell_type": "markdown",
     "checksum": "7511ad8656e2660a3704ada2991bb9c5",
     "grade": false,
     "grade_id": "c-009",
     "locked": true,
     "schema_version": 3,
     "solution": false,
     "task": false
    }
   },
   "source": [
    "* オプション `ls -F` : ファイル, ディレクトリ, 実行可能ファイルなどの区別をさり気なく表示"
   ]
  },
  {
   "cell_type": "code",
   "execution_count": null,
   "metadata": {
    "kernel": "Bash",
    "nbgrader": {
     "grade": false,
     "grade_id": "c-010",
     "locked": false,
     "schema_version": 3,
     "solution": false,
     "task": false
    }
   },
   "outputs": [],
   "source": [
    "ls -F"
   ]
  },
  {
   "cell_type": "markdown",
   "metadata": {
    "deletable": false,
    "editable": false,
    "kernel": "SoS",
    "nbgrader": {
     "cell_type": "markdown",
     "checksum": "a8cc9d7ee523873b8cb01b7243e2d8a7",
     "grade": false,
     "grade_id": "c-011",
     "locked": true,
     "schema_version": 3,
     "solution": false,
     "task": false
    }
   },
   "source": [
    "* これは普段, あまりにも便利なので`ls`と打つだけでこれと同じ意味にしたくなる\n",
    "* 以下でそれが可能"
   ]
  },
  {
   "cell_type": "code",
   "execution_count": null,
   "metadata": {
    "kernel": "Bash",
    "nbgrader": {
     "grade": false,
     "grade_id": "c-012",
     "locked": false,
     "schema_version": 3,
     "solution": false,
     "task": false
    }
   },
   "outputs": [],
   "source": [
    "alias ls='ls -F'"
   ]
  },
  {
   "cell_type": "code",
   "execution_count": null,
   "metadata": {
    "kernel": "Bash",
    "nbgrader": {
     "grade": false,
     "grade_id": "c-013",
     "locked": false,
     "schema_version": 3,
     "solution": false,
     "task": false
    }
   },
   "outputs": [],
   "source": [
    "ls"
   ]
  },
  {
   "cell_type": "markdown",
   "metadata": {
    "deletable": false,
    "editable": false,
    "kernel": "SoS",
    "nbgrader": {
     "cell_type": "markdown",
     "checksum": "331c4ff8c14d84eae0e87bf2dd812d5f",
     "grade": false,
     "grade_id": "c-014",
     "locked": true,
     "schema_version": 3,
     "solution": false,
     "task": false
    }
   },
   "source": [
    "* オプション `ls -l` : ファイルサイズなど詳しい情報を表示"
   ]
  },
  {
   "cell_type": "code",
   "execution_count": null,
   "metadata": {
    "kernel": "Bash",
    "nbgrader": {
     "grade": false,
     "grade_id": "c-015",
     "locked": false,
     "schema_version": 3,
     "solution": false,
     "task": false
    }
   },
   "outputs": [],
   "source": [
    "ls -l"
   ]
  },
  {
   "cell_type": "markdown",
   "metadata": {
    "deletable": false,
    "editable": false,
    "kernel": "SoS",
    "nbgrader": {
     "cell_type": "markdown",
     "checksum": "76651ae7bb37409ec0f1ac41e976cd01",
     "grade": false,
     "grade_id": "c-016",
     "locked": true,
     "schema_version": 3,
     "solution": false,
     "task": false
    }
   },
   "source": [
    "* これもよく使うのでこんなことをしている人もしばしば見かける"
   ]
  },
  {
   "cell_type": "code",
   "execution_count": null,
   "metadata": {
    "kernel": "Bash",
    "nbgrader": {
     "grade": false,
     "grade_id": "c-017",
     "locked": false,
     "schema_version": 3,
     "solution": false,
     "task": false
    }
   },
   "outputs": [],
   "source": [
    "alias ll='ls -l'"
   ]
  },
  {
   "cell_type": "code",
   "execution_count": null,
   "metadata": {
    "kernel": "Bash",
    "nbgrader": {
     "grade": false,
     "grade_id": "c-018",
     "locked": false,
     "schema_version": 3,
     "solution": false,
     "task": false
    }
   },
   "outputs": [],
   "source": [
    "ll"
   ]
  },
  {
   "cell_type": "markdown",
   "metadata": {
    "deletable": false,
    "editable": false,
    "kernel": "SoS",
    "nbgrader": {
     "cell_type": "markdown",
     "checksum": "52b44c6836411d7b8da4270b39a8ffec",
     "grade": false,
     "grade_id": "c-019",
     "locked": true,
     "schema_version": 3,
     "solution": false,
     "task": false
    }
   },
   "source": [
    "* オプション `ls -R` : 指定したディレクトリおよびそのサブディレクトリの下すべてを再帰的に表示"
   ]
  },
  {
   "cell_type": "code",
   "execution_count": null,
   "metadata": {
    "kernel": "Bash",
    "nbgrader": {
     "grade": false,
     "grade_id": "c-020",
     "locked": false,
     "schema_version": 3,
     "solution": false,
     "task": false
    }
   },
   "outputs": [],
   "source": [
    "ls -R"
   ]
  },
  {
   "cell_type": "markdown",
   "metadata": {
    "deletable": false,
    "editable": false,
    "kernel": "SoS",
    "nbgrader": {
     "cell_type": "markdown",
     "checksum": "7af81bdc927b44cbd5498a62a7f055e4",
     "grade": false,
     "grade_id": "c-021",
     "locked": true,
     "schema_version": 3,
     "solution": false,
     "task": false
    }
   },
   "source": [
    "* オプション `ls -d` : ディレクトリであってもその直下のファイル名・ディレクトリ名を表示せずにそのディレクトリだけ表示する"
   ]
  },
  {
   "cell_type": "code",
   "execution_count": null,
   "metadata": {
    "kernel": "Bash",
    "nbgrader": {
     "grade": false,
     "grade_id": "c-022",
     "locked": false,
     "schema_version": 3,
     "solution": false,
     "task": false
    }
   },
   "outputs": [],
   "source": [
    "ls -d samples"
   ]
  },
  {
   "cell_type": "markdown",
   "metadata": {
    "deletable": false,
    "editable": false,
    "kernel": "SoS",
    "nbgrader": {
     "cell_type": "markdown",
     "checksum": "fa0d83b17f6063e0abf27f24a718d423",
     "grade": false,
     "grade_id": "c-023",
     "locked": true,
     "schema_version": 3,
     "solution": false,
     "task": false
    }
   },
   "source": [
    "\n",
    "## 3-2. `cd` (Change current working Directory) : カレントディレクトリを変更\n",
    "* カレントディレクトリとは, プロセスごとに保持している「現在位置・作業場所」のようなもので, ファイル名(パス名)を指定した際にここを起点にファイルが指定される\n",
    "  * 例えば, `a/b/c` というパス名は, 実際にはカレントディレクトリの中の`a`というディレクトリの中の`b`というディレクトリの中の`c`というファイル(またはディレクトリ)を意味している\n",
    "* シェルでコマンドを実行するときは, 作業対象のファイルがあるディレクトリ(作業場所)に移動(`cd`)してから`ls`を用いてどんなファイルがあるかを表示する(そしてその後の操作をする), ということがしばしば行われる\n",
    "* 「カレントディテクトリを$D$にする(`cd` $D$)」ことをしばしば「$D$に行く」などと表現する\n",
    "* 「カレントディテクトリを$D$である(`cd` $D$)」ことをしばしば「$D$に居る」などと表現する\n",
    "* この言葉を使えばカレントディレクトリは「今居るディレクトリ」のこと\n",
    "* `cd` (無引数) : 自分の「ホームディレクトリ」に行く"
   ]
  },
  {
   "cell_type": "code",
   "execution_count": null,
   "metadata": {
    "kernel": "Bash",
    "nbgrader": {
     "grade": false,
     "grade_id": "c-024",
     "locked": false,
     "schema_version": 3,
     "solution": false,
     "task": false
    }
   },
   "outputs": [],
   "source": [
    "cd"
   ]
  },
  {
   "cell_type": "code",
   "execution_count": null,
   "metadata": {
    "kernel": "Bash",
    "nbgrader": {
     "grade": false,
     "grade_id": "c-025",
     "locked": false,
     "schema_version": 3,
     "solution": false,
     "task": false
    }
   },
   "outputs": [],
   "source": [
    "ls"
   ]
  },
  {
   "cell_type": "markdown",
   "metadata": {
    "deletable": false,
    "editable": false,
    "kernel": "SoS",
    "nbgrader": {
     "cell_type": "markdown",
     "checksum": "30c179a91383b43e8849a77fe11fb07f",
     "grade": false,
     "grade_id": "c-026",
     "locked": true,
     "schema_version": 3,
     "solution": false,
     "task": false
    }
   },
   "source": [
    "* 「ホームディテクトリ」とは, 各ユーザに一つ定まっているディレクトリで, そのユーザが作るほとんどのファイルはホームディレクトリ内のどこかにある\n",
    "* `cd` $D$ : ディレクトリ$D$に行く"
   ]
  },
  {
   "cell_type": "code",
   "execution_count": null,
   "metadata": {
    "kernel": "Bash",
    "nbgrader": {
     "grade": false,
     "grade_id": "c-027",
     "locked": false,
     "schema_version": 3,
     "solution": false,
     "task": false
    }
   },
   "outputs": [],
   "source": [
    "cd           # ホームディレクトリ...\n",
    "cd notebooks # ...の下のnotebooks"
   ]
  },
  {
   "cell_type": "code",
   "execution_count": null,
   "metadata": {
    "kernel": "Bash",
    "nbgrader": {
     "grade": false,
     "grade_id": "c-028",
     "locked": false,
     "schema_version": 3,
     "solution": false,
     "task": false
    }
   },
   "outputs": [],
   "source": [
    "ls"
   ]
  },
  {
   "cell_type": "code",
   "execution_count": null,
   "metadata": {
    "kernel": "Bash",
    "nbgrader": {
     "grade": false,
     "grade_id": "c-029",
     "locked": false,
     "schema_version": 3,
     "solution": false,
     "task": false
    }
   },
   "outputs": [],
   "source": [
    "cd os15_pipe"
   ]
  },
  {
   "cell_type": "code",
   "execution_count": null,
   "metadata": {
    "kernel": "Bash",
    "nbgrader": {
     "grade": false,
     "grade_id": "c-030",
     "locked": false,
     "schema_version": 3,
     "solution": false,
     "task": false
    }
   },
   "outputs": [],
   "source": [
    "ls"
   ]
  },
  {
   "cell_type": "markdown",
   "metadata": {
    "deletable": false,
    "editable": false,
    "kernel": "SoS",
    "nbgrader": {
     "cell_type": "markdown",
     "checksum": "2fe29e72e8ea58e37f70a078b4644c80",
     "grade": false,
     "grade_id": "c-031",
     "locked": true,
     "schema_version": 3,
     "solution": false,
     "task": false
    }
   },
   "source": [
    "* パス名の中に`..`が現れたらそれは「親ディレクトリ」のこと\n",
    "* `cd`に限らないが`cd`ではとりわけよく使う"
   ]
  },
  {
   "cell_type": "code",
   "execution_count": null,
   "metadata": {
    "kernel": "Bash",
    "nbgrader": {
     "grade": false,
     "grade_id": "c-032",
     "locked": false,
     "schema_version": 3,
     "solution": false,
     "task": false
    }
   },
   "outputs": [],
   "source": [
    "cd ..\n",
    "pwd"
   ]
  },
  {
   "cell_type": "markdown",
   "metadata": {
    "deletable": false,
    "editable": false,
    "kernel": "SoS",
    "nbgrader": {
     "cell_type": "markdown",
     "checksum": "e5fa4ac8b1e816a39bafb31313e1ce61",
     "grade": false,
     "grade_id": "c-033",
     "locked": true,
     "schema_version": 3,
     "solution": false,
     "task": false
    }
   },
   "source": [
    "\n",
    "* 冒険 (自分のホームディレクトリの外にも行ける)\n",
    "* ファイルシステムのすべてを含む頂上, 「ルートディレクトリ」へ行く"
   ]
  },
  {
   "cell_type": "code",
   "execution_count": null,
   "metadata": {
    "kernel": "Bash",
    "nbgrader": {
     "grade": false,
     "grade_id": "c-034",
     "locked": false,
     "schema_version": 3,
     "solution": false,
     "task": false
    }
   },
   "outputs": [],
   "source": [
    "cd /"
   ]
  },
  {
   "cell_type": "markdown",
   "metadata": {
    "deletable": false,
    "editable": false,
    "kernel": "SoS",
    "nbgrader": {
     "cell_type": "markdown",
     "checksum": "d30058a697b93d059c11a2f8a9d7b57b",
     "grade": false,
     "grade_id": "c-035",
     "locked": true,
     "schema_version": 3,
     "solution": false,
     "task": false
    }
   },
   "source": [
    "* ルートディレクトリ直下のファイル・ディレクトリ"
   ]
  },
  {
   "cell_type": "code",
   "execution_count": null,
   "metadata": {
    "kernel": "Bash",
    "nbgrader": {
     "grade": false,
     "grade_id": "c-036",
     "locked": false,
     "schema_version": 3,
     "solution": false,
     "task": false
    }
   },
   "outputs": [],
   "source": [
    "ls"
   ]
  },
  {
   "cell_type": "markdown",
   "metadata": {
    "deletable": false,
    "editable": false,
    "kernel": "SoS",
    "nbgrader": {
     "cell_type": "markdown",
     "checksum": "5459c593d880c633db8ca5ce6942d807",
     "grade": false,
     "grade_id": "c-037",
     "locked": true,
     "schema_version": 3,
     "solution": false,
     "task": false
    }
   },
   "source": [
    "* `/usr` フォルダの中"
   ]
  },
  {
   "cell_type": "code",
   "execution_count": null,
   "metadata": {
    "kernel": "Bash",
    "nbgrader": {
     "grade": false,
     "grade_id": "c-038",
     "locked": false,
     "schema_version": 3,
     "solution": false,
     "task": false
    }
   },
   "outputs": [],
   "source": [
    "cd usr\n",
    "ls"
   ]
  },
  {
   "cell_type": "markdown",
   "metadata": {
    "deletable": false,
    "editable": false,
    "kernel": "SoS",
    "nbgrader": {
     "cell_type": "markdown",
     "checksum": "a88f11bbd4fc878899ca5ac5e21ca708",
     "grade": false,
     "grade_id": "c-039",
     "locked": true,
     "schema_version": 3,
     "solution": false,
     "task": false
    }
   },
   "source": [
    "* `/usr/bin` フォルダの中\n",
    "* 普段実行している多くのコマンド(pythonなど)が実はここにある"
   ]
  },
  {
   "cell_type": "code",
   "execution_count": null,
   "metadata": {
    "kernel": "Bash",
    "nbgrader": {
     "grade": false,
     "grade_id": "c-040",
     "locked": false,
     "schema_version": 3,
     "solution": false,
     "task": false
    }
   },
   "outputs": [],
   "source": [
    "cd bin\n",
    "ls"
   ]
  },
  {
   "cell_type": "markdown",
   "metadata": {
    "deletable": false,
    "editable": false,
    "kernel": "SoS",
    "nbgrader": {
     "cell_type": "markdown",
     "checksum": "871a4391be72e1ab3bb55fe463ff37f5",
     "grade": false,
     "grade_id": "c-041",
     "locked": true,
     "schema_version": 3,
     "solution": false,
     "task": false
    }
   },
   "source": [
    "* 多くのファイルの後ろに`*`がついているように見えるのは`ls -F`オプションのせい(実行可能ファイルに`*`を付けて表示する). ファイル名の一部ではないので注意\n",
    "* `/home` ディレクトリにはすべてのユーザのホームディレクトリがある"
   ]
  },
  {
   "cell_type": "code",
   "execution_count": null,
   "metadata": {
    "kernel": "Bash",
    "nbgrader": {
     "grade": false,
     "grade_id": "c-042",
     "locked": false,
     "schema_version": 3,
     "solution": false,
     "task": false
    }
   },
   "outputs": [],
   "source": [
    "cd /home\n",
    "ls"
   ]
  },
  {
   "cell_type": "markdown",
   "metadata": {
    "deletable": false,
    "editable": false,
    "kernel": "SoS",
    "nbgrader": {
     "cell_type": "markdown",
     "checksum": "2920a06ffcf79e036b87acb6fd32ad60",
     "grade": false,
     "grade_id": "c-043",
     "locked": true,
     "schema_version": 3,
     "solution": false,
     "task": false
    }
   },
   "source": [
    "## 3-3. `pwd` (Print current Working Directory) : カレントディレクトリを表示\n",
    "* 自分が今, どこにいるかがわからなくなったときに使う"
   ]
  },
  {
   "cell_type": "code",
   "execution_count": null,
   "metadata": {
    "kernel": "Bash",
    "nbgrader": {
     "grade": false,
     "grade_id": "c-044",
     "locked": false,
     "schema_version": 3,
     "solution": false,
     "task": false
    }
   },
   "outputs": [],
   "source": [
    "pwd"
   ]
  },
  {
   "cell_type": "markdown",
   "metadata": {
    "deletable": false,
    "editable": false,
    "kernel": "SoS",
    "nbgrader": {
     "cell_type": "markdown",
     "checksum": "7b6e18f2e7209791044ed43049f058e4",
     "grade": false,
     "grade_id": "c-045",
     "locked": true,
     "schema_version": 3,
     "solution": false,
     "task": false
    }
   },
   "source": [
    "* 迷子になったらホームディレクトリへ戻る"
   ]
  },
  {
   "cell_type": "code",
   "execution_count": null,
   "metadata": {
    "kernel": "Bash",
    "nbgrader": {
     "grade": false,
     "grade_id": "c-046",
     "locked": false,
     "schema_version": 3,
     "solution": false,
     "task": false
    }
   },
   "outputs": [],
   "source": [
    "cd"
   ]
  },
  {
   "cell_type": "code",
   "execution_count": null,
   "metadata": {
    "kernel": "Bash",
    "nbgrader": {
     "grade": false,
     "grade_id": "c-047",
     "locked": false,
     "schema_version": 3,
     "solution": false,
     "task": false
    }
   },
   "outputs": [],
   "source": [
    "ls"
   ]
  },
  {
   "cell_type": "code",
   "execution_count": null,
   "metadata": {
    "kernel": "Bash",
    "nbgrader": {
     "grade": false,
     "grade_id": "c-048",
     "locked": false,
     "schema_version": 3,
     "solution": false,
     "task": false
    }
   },
   "outputs": [],
   "source": [
    "cd notebooks/os15_pipe"
   ]
  },
  {
   "cell_type": "markdown",
   "metadata": {
    "deletable": false,
    "editable": false,
    "kernel": "SoS",
    "nbgrader": {
     "cell_type": "markdown",
     "checksum": "16653035a441560f480b602666f697fe",
     "grade": false,
     "grade_id": "c-049",
     "locked": true,
     "schema_version": 3,
     "solution": false,
     "task": false
    }
   },
   "source": [
    "* シェル, コマンドラインを使いこなすということは, GUIを使わないという以上に, 普段は見えない(アプリケーションのインタフェースによって隠されている)ものも見られるという意味がある\n",
    "* いろいろなレイヤ, アプリケーションの化粧されたインタフェースを剥ぎ取って, 奥にある動作原理がわかるという意味もある\n",
    "* アプリケーションが何をしていて, それをどうユーザに見せようとも, 所詮はどこかにファイルがあってそれを読み書きして状態を保存したり, 設定を書き換えたり, ユーザに表示したりしているに過ぎない\n",
    "* 例えばアプリが使う設定ファイルやデータをすべて消去すれば設定もデータもリセットされ, 動作のおかしくなったアプリケーションを初期状態に戻せる(それ以外の方法がない)ということもよくある"
   ]
  },
  {
   "cell_type": "markdown",
   "metadata": {
    "deletable": false,
    "editable": false,
    "kernel": "SoS",
    "nbgrader": {
     "cell_type": "markdown",
     "checksum": "e538054536a5ea1fea29b9d31de0b730",
     "grade": false,
     "grade_id": "c-050",
     "locked": true,
     "schema_version": 3,
     "solution": false,
     "task": false
    }
   },
   "source": [
    "# 4. ファイルの中身を見るコマンドたち\n",
    "## 4-1. `cat`\n",
    "* `cat` $F$ : ファイル$F$の中身を表示(正確には, 標準出力へ送る)"
   ]
  },
  {
   "cell_type": "code",
   "execution_count": null,
   "metadata": {
    "kernel": "Bash",
    "nbgrader": {
     "grade": false,
     "grade_id": "c-051",
     "locked": false,
     "schema_version": 3,
     "solution": false,
     "task": false
    }
   },
   "outputs": [],
   "source": [
    "cd ~/notebooks/os15_pipe/samples"
   ]
  },
  {
   "cell_type": "markdown",
   "metadata": {
    "deletable": false,
    "editable": false,
    "kernel": "SoS",
    "nbgrader": {
     "cell_type": "markdown",
     "checksum": "9df76034329baa630827171c78fc6cdc",
     "grade": false,
     "grade_id": "c-052",
     "locked": true,
     "schema_version": 3,
     "solution": false,
     "task": false
    }
   },
   "source": [
    "* `~` は自分のホームディレクトリを意味する\n",
    "* したがって上記は以下と同じこと"
   ]
  },
  {
   "cell_type": "code",
   "execution_count": null,
   "metadata": {
    "kernel": "Bash",
    "nbgrader": {
     "grade": false,
     "grade_id": "c-053",
     "locked": false,
     "schema_version": 3,
     "solution": false,
     "task": false
    }
   },
   "outputs": [],
   "source": [
    "cd\n",
    "cd notebooks\n",
    "cd os15_pipe\n",
    "cd samples"
   ]
  },
  {
   "cell_type": "code",
   "execution_count": null,
   "metadata": {
    "kernel": "Bash",
    "nbgrader": {
     "grade": false,
     "grade_id": "c-054",
     "locked": false,
     "schema_version": 3,
     "solution": false,
     "task": false
    }
   },
   "outputs": [],
   "source": [
    "ls"
   ]
  },
  {
   "cell_type": "code",
   "execution_count": null,
   "metadata": {
    "kernel": "Bash",
    "nbgrader": {
     "grade": false,
     "grade_id": "c-055",
     "locked": false,
     "schema_version": 3,
     "solution": false,
     "task": false
    }
   },
   "outputs": [],
   "source": [
    "cat summers.txt"
   ]
  },
  {
   "cell_type": "markdown",
   "metadata": {
    "deletable": false,
    "editable": false,
    "kernel": "SoS",
    "nbgrader": {
     "cell_type": "markdown",
     "checksum": "4b6d832a20daf7757b5c427e43081471",
     "grade": false,
     "grade_id": "c-056",
     "locked": true,
     "schema_version": 3,
     "solution": false,
     "task": false
    }
   },
   "source": [
    "* `cat` $F_1 F_2 \\cdots$ : ファイル$F_1, F_2, \\cdots$の中身を標準出力へ送る(結果的にファイルを連結する効果を持つ)"
   ]
  },
  {
   "cell_type": "code",
   "execution_count": null,
   "metadata": {
    "kernel": "Bash",
    "nbgrader": {
     "grade": false,
     "grade_id": "c-057",
     "locked": false,
     "schema_version": 3,
     "solution": false,
     "task": false
    }
   },
   "outputs": [],
   "source": [
    "cat summers.txt summers.xml"
   ]
  },
  {
   "cell_type": "markdown",
   "metadata": {
    "deletable": false,
    "editable": false,
    "kernel": "SoS",
    "nbgrader": {
     "cell_type": "markdown",
     "checksum": "eef447286743ce8525f3a02c58997c33",
     "grade": false,
     "grade_id": "c-058",
     "locked": true,
     "schema_version": 3,
     "solution": false,
     "task": false
    }
   },
   "source": [
    "* ファイルの中身を表示するならエディタなどを使ったほうが普通は便利で, catが役に立つ場面をすぐに想像するのが難しいかもしれない. `cat`ならではの威力を発揮するのは2番目の使い方\n",
    "* 以下の記法で, samples ディレクトリの中にあるファイルをすべて(連結して)表示できる\n",
    "* 最後に表示されるゴミのようなデータは summers.xml.gz, summers.xml.bz2 からのもので, 間違いではない"
   ]
  },
  {
   "cell_type": "code",
   "execution_count": null,
   "metadata": {
    "kernel": "Bash",
    "nbgrader": {
     "grade": false,
     "grade_id": "c-059",
     "locked": false,
     "schema_version": 3,
     "solution": false,
     "task": false
    }
   },
   "outputs": [],
   "source": [
    "cat *"
   ]
  },
  {
   "cell_type": "markdown",
   "metadata": {
    "deletable": false,
    "editable": false,
    "kernel": "SoS",
    "nbgrader": {
     "cell_type": "markdown",
     "checksum": "6ec921159c06e1983550b60eb791278b",
     "grade": false,
     "grade_id": "c-060",
     "locked": true,
     "schema_version": 3,
     "solution": false,
     "task": false
    }
   },
   "source": [
    "* これは以下と同じ効果を持つ"
   ]
  },
  {
   "cell_type": "code",
   "execution_count": null,
   "metadata": {
    "kernel": "Bash",
    "nbgrader": {
     "grade": false,
     "grade_id": "c-061",
     "locked": false,
     "schema_version": 3,
     "solution": false,
     "task": false
    }
   },
   "outputs": [],
   "source": [
    "cat duplicate.txt summers.csv summers.tsv summers.txt summers.xml summers.xml.bz2 summers.xml.gz"
   ]
  },
  {
   "cell_type": "markdown",
   "metadata": {
    "deletable": false,
    "editable": false,
    "kernel": "SoS",
    "nbgrader": {
     "cell_type": "markdown",
     "checksum": "e65c205a11a5a264891afda0d6fa1e48",
     "grade": false,
     "grade_id": "c-062",
     "locked": true,
     "schema_version": 3,
     "solution": false,
     "task": false
    }
   },
   "source": [
    "* これはシェルの機能であり `cat` の機能ではない\n",
    "* 逆に言うと`cat`以外のコマンドであっても同様に使える\n",
    "* 一般に, `*`を含んだパス名は, それを任意の0文字以上の(/は含まない)文字列で置き換えて, 実在するパス名に変換される\n",
    "* そのようなパス名が複数あれば全てに変換してくれる\n",
    "* `*`と似ているが違うものとして `?` も使える. こちらはぴったり1文字に置き換えて実在するパス名に変換する. 上記で .bz2 や .gz を表示しないためには, "
   ]
  },
  {
   "cell_type": "code",
   "execution_count": null,
   "metadata": {
    "kernel": "Bash",
    "nbgrader": {
     "grade": false,
     "grade_id": "c-063",
     "locked": false,
     "schema_version": 3,
     "solution": false,
     "task": false
    }
   },
   "outputs": [],
   "source": [
    "cat summers.???"
   ]
  },
  {
   "cell_type": "markdown",
   "metadata": {
    "deletable": false,
    "editable": false,
    "kernel": "SoS",
    "nbgrader": {
     "cell_type": "markdown",
     "checksum": "b43b9f9b9a91eeeca272ff4408d72127",
     "grade": false,
     "grade_id": "c-064",
     "locked": true,
     "schema_version": 3,
     "solution": false,
     "task": false
    }
   },
   "source": [
    "* オプション `cat -n` : 行番号を表示する"
   ]
  },
  {
   "cell_type": "code",
   "execution_count": null,
   "metadata": {
    "kernel": "Bash",
    "nbgrader": {
     "grade": false,
     "grade_id": "c-065",
     "locked": false,
     "schema_version": 3,
     "solution": false,
     "task": false
    }
   },
   "outputs": [],
   "source": [
    "cat -n summers.xml"
   ]
  },
  {
   "cell_type": "markdown",
   "metadata": {
    "deletable": false,
    "editable": false,
    "kernel": "SoS",
    "nbgrader": {
     "cell_type": "markdown",
     "checksum": "ea29f37b8809796872c399fffc42ca36",
     "grade": false,
     "grade_id": "c-066",
     "locked": true,
     "schema_version": 3,
     "solution": false,
     "task": false
    }
   },
   "source": [
    "## 4-2. `less`\n",
    "* 端末一ページに収まりきらないようなファイルを, スクロールさせながら対話的に表示するツール\n",
    "* <font color=\"red\">lessはJupyter notebook内では実行できないので端末へ行ってやってみること</font>\n",
    "* `less` $F$ : ファイル$F$の中身を端末に表示\n",
    "  * 起動直後は最初の端末一ページ分を表示\n",
    "  * `SPACE`キーで一ページ分進む\n",
    "  * `q` キーで終了\n",
    "  * `/` キーで文字列検索\n",
    "  * その他のキーは `?` を参照\n",
    "* `less` (無引数) : 標準入力を読み込んで対話的に表示(操作は上と同じ)\n",
    "* コマンドの出力が長くなりすぎて読めない場合にしばしば使われる\n",
    "```\n",
    "ps auxww | less\n",
    "apt search python | less\n",
    "```\n",
    "など"
   ]
  },
  {
   "cell_type": "markdown",
   "metadata": {
    "deletable": false,
    "editable": false,
    "kernel": "SoS",
    "nbgrader": {
     "cell_type": "markdown",
     "checksum": "b0e31b6765df6df8f7bf1ffcfa4f29a0",
     "grade": false,
     "grade_id": "c-067",
     "locked": true,
     "schema_version": 3,
     "solution": false,
     "task": false
    }
   },
   "source": [
    "## 4-3. `lv`\n",
    "* `less`とほぼ同じ機能\n",
    "* <font color=\"red\">lvもJupyter notebook内では実行できないので端末へ行ってやってみること</font>\n",
    "* `lv`がインストールされている環境で`less`を使う理由はない\n",
    "* lessにないありがたい機能は, 圧縮したファイル(.gz, .bz2)などを自動で解凍しながら表示してくれる機能\n",
    "```\n",
    "cd ~/notebooks/os15_pipe/samples\n",
    "lv summers.xml.gz\n",
    "```\n",
    "など\n",
    "* `less`も`lv`もファイルをスクロールしながら見るコマンドで, それはエディタでもできることであるが, SPACE一回で端末一ページスクロールしてくれるのはファイルをさっと見たいときには便利\n",
    "* また, 一部のGUI環境でないと使えないエディタや, 起動に時間がかかる重いエディタよりはこちらのほうがよい場面も多い\n",
    "* 普段からエディタとして`vi`や`vim`などの一瞬で立ち上がるエディタを使っている人にとっては不要かもしれない"
   ]
  },
  {
   "cell_type": "markdown",
   "metadata": {
    "deletable": false,
    "editable": false,
    "kernel": "SoS",
    "nbgrader": {
     "cell_type": "markdown",
     "checksum": "291a2e9e6fa3431d83b52be1b90274f4",
     "grade": false,
     "grade_id": "c-068",
     "locked": true,
     "schema_version": 3,
     "solution": false,
     "task": false
    }
   },
   "source": [
    "# 5. シェルでの作業を快適にする機能いくつか\n",
    "* <font color=\"red\">以下はJupyter notebookでやっても意味がないので必ず端末で行うこと</font>\n",
    "\n",
    "## 5-1. 「タブキー」によるファイル名やコマンド名補完\n",
    "* 長いファイル名やコマンド名を途中まで打ったらタブキーを押す\n",
    "* すると曖昧さが生じる地点まで残りを自動入力してくれる\n",
    "* 複数候補がある場合, 一度目のタブで曖昧さが生じる地点まで表示, 直後にもう一度タブを押すと候補を表示してくれる\n",
    "\n",
    "## 5-2. 「上下矢印キー」によるコマンド履歴の取り出し, コマンドラインの編集\n",
    "* 上矢印キーで直前に打ったコマンドをコマンドラインに表示してくれる\n",
    "* 上矢印キーを押し続ければ更に過去に遡れ, 下矢印キーで一つ新しい方に移れるので, 最近実行したコマンドを再実行したければこうやって探すのが速い\n",
    "* 表示した状態でコマンドを編集することもできる\n",
    "  * 左右矢印でカーソル移動\n",
    "  * Emacsのキー (C-a : 行頭, C-e : 行末, C-d 一文字消す)\n",
    "\n",
    "## 5-3. 「Ctrl-r キー」によるコマンド履歴の検索\n",
    "* Ctrl-r を押したあとで文字列を打ち込むと, その文字列で始まる最近のコマンドを表示してくれる\n",
    "* 所望のコマンドが表示されたらEnterで実行したり, 左右矢印で編集モードに移れる\n",
    "* コマンド名を覚えているがオプションや長いファイル名を覚えていない(または打ちたくない)ときに使える"
   ]
  },
  {
   "cell_type": "markdown",
   "metadata": {
    "deletable": false,
    "editable": false,
    "kernel": "SoS",
    "nbgrader": {
     "cell_type": "markdown",
     "checksum": "450d4ae5d7446af0cd164fb29e13d1a4",
     "grade": false,
     "grade_id": "c-069",
     "locked": true,
     "schema_version": 3,
     "solution": false,
     "task": false
    }
   },
   "source": [
    "# 6. File Explorer/Finderの機能に相当するコマンドたち\n",
    "* WindowsのexplorerやMacOSのFinderのような, ファイルやフォルダをGUIで表示して, 名前を変えたりフォルダ間を移動したり, フォルダを作って整理したり, ということをコマンドで行う\n",
    "* GUIでやるよりこっちが速い, となるには多少の練習が必要だが, tabによる補完, ワイルドカード(`*`)や for 文, xargs などを使いこなすことで, 大量のファイルに対する同じ作業を高速で行うことができるようになる\n",
    "\n",
    "## 6-1. `mkdir` (MaKe DIRectory) : ディレクトリを作成\n",
    "* `mkdir` $D$ : $D$という名前でフォルダを作成"
   ]
  },
  {
   "cell_type": "code",
   "execution_count": null,
   "metadata": {
    "kernel": "Bash",
    "nbgrader": {
     "grade": false,
     "grade_id": "c-070",
     "locked": false,
     "schema_version": 3,
     "solution": false,
     "task": false
    }
   },
   "outputs": [],
   "source": [
    "mkdir foo"
   ]
  },
  {
   "cell_type": "code",
   "execution_count": null,
   "metadata": {
    "kernel": "Bash",
    "nbgrader": {
     "grade": false,
     "grade_id": "c-071",
     "locked": false,
     "schema_version": 3,
     "solution": false,
     "task": false
    }
   },
   "outputs": [],
   "source": [
    "ls"
   ]
  },
  {
   "cell_type": "markdown",
   "metadata": {
    "deletable": false,
    "editable": false,
    "kernel": "SoS",
    "nbgrader": {
     "cell_type": "markdown",
     "checksum": "9f0e0dee048a141962f649928a947cfa",
     "grade": false,
     "grade_id": "c-072",
     "locked": true,
     "schema_version": 3,
     "solution": false,
     "task": false
    }
   },
   "source": [
    "## 6-2. `rmdir` (ReMove DIRectory) : ディレクトリを消去"
   ]
  },
  {
   "cell_type": "code",
   "execution_count": null,
   "metadata": {
    "kernel": "Bash",
    "nbgrader": {
     "grade": false,
     "grade_id": "c-073",
     "locked": false,
     "schema_version": 3,
     "solution": false,
     "task": false
    }
   },
   "outputs": [],
   "source": [
    "rmdir foo"
   ]
  },
  {
   "cell_type": "code",
   "execution_count": null,
   "metadata": {
    "kernel": "Bash",
    "nbgrader": {
     "grade": false,
     "grade_id": "c-074",
     "locked": false,
     "schema_version": 3,
     "solution": false,
     "task": false
    }
   },
   "outputs": [],
   "source": [
    "ls"
   ]
  },
  {
   "cell_type": "markdown",
   "metadata": {
    "deletable": false,
    "editable": false,
    "kernel": "SoS",
    "nbgrader": {
     "cell_type": "markdown",
     "checksum": "1431f0ee1204d65e4cad21ff743749cc",
     "grade": false,
     "grade_id": "c-075",
     "locked": true,
     "schema_version": 3,
     "solution": false,
     "task": false
    }
   },
   "source": [
    "* なお, rmdirは, 対象ディレクトリが空でないと失敗する\n",
    "## 6-3. `mv` (MoVe) : 名前の変更もしくはディレクトリ間での移動\n",
    "* `mv` $P_1$ $P_2$ で, $P_1$の名前を$P_2$に変更する\n",
    "* ただし$P_2$が既存のディレクトリの場合, $P_1$を$P_2$の中に移動するという意味になる"
   ]
  },
  {
   "cell_type": "code",
   "execution_count": null,
   "metadata": {
    "kernel": "Bash",
    "nbgrader": {
     "grade": false,
     "grade_id": "c-076",
     "locked": false,
     "schema_version": 3,
     "solution": false,
     "task": false
    }
   },
   "outputs": [],
   "source": [
    "cd ~/notebooks/os15_pipe/samples"
   ]
  },
  {
   "cell_type": "code",
   "execution_count": null,
   "metadata": {
    "kernel": "Bash",
    "nbgrader": {
     "grade": false,
     "grade_id": "c-077",
     "locked": false,
     "schema_version": 3,
     "solution": false,
     "task": false
    }
   },
   "outputs": [],
   "source": [
    "ls"
   ]
  },
  {
   "cell_type": "code",
   "execution_count": null,
   "metadata": {
    "kernel": "Bash",
    "nbgrader": {
     "grade": false,
     "grade_id": "c-078",
     "locked": false,
     "schema_version": 3,
     "solution": false,
     "task": false
    }
   },
   "outputs": [],
   "source": [
    "mv summers.xml bakarudy.xml"
   ]
  },
  {
   "cell_type": "code",
   "execution_count": null,
   "metadata": {
    "kernel": "Bash",
    "nbgrader": {
     "grade": false,
     "grade_id": "c-079",
     "locked": false,
     "schema_version": 3,
     "solution": false,
     "task": false
    }
   },
   "outputs": [],
   "source": [
    "ls"
   ]
  },
  {
   "cell_type": "markdown",
   "metadata": {
    "deletable": false,
    "editable": false,
    "kernel": "SoS",
    "nbgrader": {
     "cell_type": "markdown",
     "checksum": "5f298efca056067b6c93a7ba51d9d6e1",
     "grade": false,
     "grade_id": "c-080",
     "locked": true,
     "schema_version": 3,
     "solution": false,
     "task": false
    }
   },
   "source": [
    "* `mv` $P_1 P_2 \\cdots P_n$ 引数が3つ以上の場合, 最後の引数は既存のディレクトリ名でなくてはならず, $P_1, P_2, \\cdots, P_{n-1}$ を $P_n$ に移動する\n",
    "* ワイルドカード(`*`)と組み合わせて使うことが多い\n",
    "* 例えば以下はあるフォルダ内の, .txt で終わるファイルをすべて別のフォルダに移動する"
   ]
  },
  {
   "cell_type": "code",
   "execution_count": null,
   "metadata": {
    "kernel": "Bash",
    "nbgrader": {
     "grade": false,
     "grade_id": "c-081",
     "locked": false,
     "schema_version": 3,
     "solution": false,
     "task": false
    }
   },
   "outputs": [],
   "source": [
    "ls *.txt"
   ]
  },
  {
   "cell_type": "code",
   "execution_count": null,
   "metadata": {
    "kernel": "Bash",
    "nbgrader": {
     "grade": false,
     "grade_id": "c-082",
     "locked": false,
     "schema_version": 3,
     "solution": false,
     "task": false
    }
   },
   "outputs": [],
   "source": [
    "mkdir texts"
   ]
  },
  {
   "cell_type": "code",
   "execution_count": null,
   "metadata": {
    "kernel": "Bash",
    "nbgrader": {
     "grade": false,
     "grade_id": "c-083",
     "locked": false,
     "schema_version": 3,
     "solution": false,
     "task": false
    }
   },
   "outputs": [],
   "source": [
    "mv *.txt texts"
   ]
  },
  {
   "cell_type": "code",
   "execution_count": null,
   "metadata": {
    "kernel": "Bash",
    "nbgrader": {
     "grade": false,
     "grade_id": "c-084",
     "locked": false,
     "schema_version": 3,
     "solution": false,
     "task": false
    }
   },
   "outputs": [],
   "source": [
    "ls"
   ]
  },
  {
   "cell_type": "markdown",
   "metadata": {
    "deletable": false,
    "editable": false,
    "kernel": "SoS",
    "nbgrader": {
     "cell_type": "markdown",
     "checksum": "aa750582fc58edb3f5fe2e9a51a9065e",
     "grade": false,
     "grade_id": "c-085",
     "locked": true,
     "schema_version": 3,
     "solution": false,
     "task": false
    }
   },
   "source": [
    "* 元に戻す"
   ]
  },
  {
   "cell_type": "code",
   "execution_count": null,
   "metadata": {
    "kernel": "Bash",
    "nbgrader": {
     "grade": false,
     "grade_id": "c-086",
     "locked": false,
     "schema_version": 3,
     "solution": false,
     "task": false
    }
   },
   "outputs": [],
   "source": [
    "mv texts/* ."
   ]
  },
  {
   "cell_type": "code",
   "execution_count": null,
   "metadata": {
    "kernel": "Bash",
    "nbgrader": {
     "grade": false,
     "grade_id": "c-087",
     "locked": false,
     "schema_version": 3,
     "solution": false,
     "task": false
    }
   },
   "outputs": [],
   "source": [
    "rmdir texts"
   ]
  },
  {
   "cell_type": "markdown",
   "metadata": {
    "deletable": false,
    "editable": false,
    "kernel": "SoS",
    "nbgrader": {
     "cell_type": "markdown",
     "checksum": "5e414998d11434b1b3c2bd16343d448e",
     "grade": false,
     "grade_id": "c-088",
     "locked": true,
     "schema_version": 3,
     "solution": false,
     "task": false
    }
   },
   "source": [
    "## 6-4. `cp` (CoPy) ファイルまたはディレクトリのコピー\n",
    "* `cp` $F$ $P$ で, 通常の(ディレクトリではない)ファイル$F$ を$P$という名前でコピー\n",
    "* $P$が既存のディレクトリの場合, $P$の中に$F$という名前でコピー($P$`/`$F$という名前のファイルができる)"
   ]
  },
  {
   "cell_type": "code",
   "execution_count": null,
   "metadata": {
    "kernel": "Bash",
    "nbgrader": {
     "grade": false,
     "grade_id": "c-089",
     "locked": false,
     "schema_version": 3,
     "solution": false,
     "task": false
    }
   },
   "outputs": [],
   "source": [
    "cp bakarudy.xml summers.xml"
   ]
  },
  {
   "cell_type": "code",
   "execution_count": null,
   "metadata": {
    "kernel": "Bash",
    "nbgrader": {
     "grade": false,
     "grade_id": "c-090",
     "locked": false,
     "schema_version": 3,
     "solution": false,
     "task": false
    }
   },
   "outputs": [],
   "source": [
    "cat summers.xml"
   ]
  },
  {
   "cell_type": "markdown",
   "metadata": {
    "deletable": false,
    "editable": false,
    "kernel": "SoS",
    "nbgrader": {
     "cell_type": "markdown",
     "checksum": "9c96fac87133e4e987a710ca2ed69a31",
     "grade": false,
     "grade_id": "c-091",
     "locked": true,
     "schema_version": 3,
     "solution": false,
     "task": false
    }
   },
   "source": [
    "* オプション `cp -r` : ディレクトリの再帰的(recursive)なコピー"
   ]
  },
  {
   "cell_type": "code",
   "execution_count": null,
   "metadata": {
    "kernel": "Bash",
    "nbgrader": {
     "grade": false,
     "grade_id": "c-092",
     "locked": false,
     "schema_version": 3,
     "solution": false,
     "task": false
    }
   },
   "outputs": [],
   "source": [
    "cd ~/notebooks/os15_pipe"
   ]
  },
  {
   "cell_type": "code",
   "execution_count": null,
   "metadata": {
    "kernel": "Bash",
    "nbgrader": {
     "grade": false,
     "grade_id": "c-093",
     "locked": false,
     "schema_version": 3,
     "solution": false,
     "task": false
    }
   },
   "outputs": [],
   "source": [
    "cp -r samples samples_bak"
   ]
  },
  {
   "cell_type": "code",
   "execution_count": null,
   "metadata": {
    "kernel": "Bash",
    "nbgrader": {
     "grade": false,
     "grade_id": "c-094",
     "locked": false,
     "schema_version": 3,
     "solution": false,
     "task": false
    }
   },
   "outputs": [],
   "source": [
    "ls -R"
   ]
  },
  {
   "cell_type": "markdown",
   "metadata": {
    "deletable": false,
    "editable": false,
    "kernel": "SoS",
    "nbgrader": {
     "cell_type": "markdown",
     "checksum": "1bb05c36f4a82473825a723a0b23d7cb",
     "grade": false,
     "grade_id": "c-095",
     "locked": true,
     "schema_version": 3,
     "solution": false,
     "task": false
    }
   },
   "source": [
    "## 6-5. `rm` (ReMove) ファイルまたはディレクトリの消去\n",
    "* `rm` $F_1 F_2 \\cdots$ : 通常のファイルを消去"
   ]
  },
  {
   "cell_type": "code",
   "execution_count": null,
   "metadata": {
    "kernel": "Bash",
    "nbgrader": {
     "grade": false,
     "grade_id": "c-096",
     "locked": false,
     "schema_version": 3,
     "solution": false,
     "task": false
    }
   },
   "outputs": [],
   "source": [
    "cd samples\n",
    "rm bakarudy.xml\n",
    "ls"
   ]
  },
  {
   "cell_type": "markdown",
   "metadata": {
    "deletable": false,
    "editable": false,
    "kernel": "SoS",
    "nbgrader": {
     "cell_type": "markdown",
     "checksum": "1010b4a391abbc1463733309b72775d6",
     "grade": false,
     "grade_id": "c-097",
     "locked": true,
     "schema_version": 3,
     "solution": false,
     "task": false
    }
   },
   "source": [
    "* オプション `rm -r` : ディレクトリの再帰的(recursive)な消去"
   ]
  },
  {
   "cell_type": "code",
   "execution_count": null,
   "metadata": {
    "kernel": "Bash",
    "nbgrader": {
     "grade": false,
     "grade_id": "c-098",
     "locked": false,
     "schema_version": 3,
     "solution": false,
     "task": false
    }
   },
   "outputs": [],
   "source": [
    "cd ..\n",
    "rm -r samples_bak\n",
    "ls"
   ]
  },
  {
   "cell_type": "markdown",
   "metadata": {
    "deletable": false,
    "editable": false,
    "kernel": "SoS",
    "nbgrader": {
     "cell_type": "markdown",
     "checksum": "fabf3eeb18a013f1996ac11e2a8fc874",
     "grade": false,
     "grade_id": "c-099",
     "locked": true,
     "schema_version": 3,
     "solution": false,
     "task": false
    }
   },
   "source": [
    "* いつの間にかできてしまった大量のゴミファイルを消去するのに`rm`をワイルドカード(`*`)と組み合わせて使うこともよくあるが, <font color=\"red\">慎重に使わないと悲劇が起きる</font>\n",
    "* 必ず, ワイルドカードが何に展開されるかを目視してから使うこと\n",
    "* 一旦このようにして表示してから, "
   ]
  },
  {
   "cell_type": "code",
   "execution_count": null,
   "metadata": {
    "kernel": "Bash",
    "nbgrader": {
     "grade": false,
     "grade_id": "c-100",
     "locked": false,
     "schema_version": 3,
     "solution": false,
     "task": false
    }
   },
   "outputs": [],
   "source": [
    "ls samples/*.gz"
   ]
  },
  {
   "cell_type": "markdown",
   "metadata": {
    "deletable": false,
    "editable": false,
    "kernel": "SoS",
    "nbgrader": {
     "cell_type": "markdown",
     "checksum": "f32b7fbe0c24bb92c8ff4d552ecc2fc9",
     "grade": false,
     "grade_id": "c-101",
     "locked": true,
     "schema_version": 3,
     "solution": false,
     "task": false
    }
   },
   "source": [
    "* 上矢印キーなどを使って, ls を rmに置き換えて実行"
   ]
  },
  {
   "cell_type": "code",
   "execution_count": null,
   "metadata": {
    "kernel": "Bash",
    "nbgrader": {
     "grade": false,
     "grade_id": "c-102",
     "locked": false,
     "schema_version": 3,
     "solution": false,
     "task": false
    }
   },
   "outputs": [],
   "source": [
    "rm samples/*.gz\n",
    "ls samples"
   ]
  },
  {
   "cell_type": "markdown",
   "metadata": {
    "deletable": false,
    "editable": false,
    "kernel": "SoS",
    "nbgrader": {
     "cell_type": "markdown",
     "checksum": "50e2c51a5cf6f5bb37596e48c6e205a6",
     "grade": false,
     "grade_id": "c-103",
     "locked": true,
     "schema_version": 3,
     "solution": false,
     "task": false
    }
   },
   "source": [
    "## 6-6. `ln -s` (LiNk) シンボリックリンク\n",
    "* いわゆるショートカットの作成\n",
    "* `ln -s` $P_1$ $P_2$ で, $P_2$という名前で, 以降$P_1$を参照する($P_2$が$P_1$のショートカットになる)\n",
    "* $P_1$と$P_2$のどっちがどっちかわからなくなったら, `cp`コマンドと似た動作だと覚えれば良い(`cp` $X$ $Y$では, $X$が既存のファイルで$Y$が新たにできるファイルになる. `ln -s`もそれと同じ)\n",
    "* $P_1$がカレントディレクトリから遠いディレクトリにあり, 長いパス名を毎回打ち込みたくないときなどに特に有効"
   ]
  },
  {
   "cell_type": "code",
   "execution_count": null,
   "metadata": {
    "kernel": "Bash",
    "nbgrader": {
     "grade": false,
     "grade_id": "c-104",
     "locked": false,
     "schema_version": 3,
     "solution": false,
     "task": false
    }
   },
   "outputs": [],
   "source": [
    "ln -s /home/share/data/jawiki-20221220-pages-articles-multistream.xml.bz2 jawiki.xml.bz2"
   ]
  },
  {
   "cell_type": "markdown",
   "metadata": {
    "deletable": false,
    "editable": false,
    "kernel": "SoS",
    "nbgrader": {
     "cell_type": "markdown",
     "checksum": "f0b9aa5100f4a5bb1e17c649e0cf215f",
     "grade": false,
     "grade_id": "c-105",
     "locked": true,
     "schema_version": 3,
     "solution": false,
     "task": false
    }
   },
   "source": [
    "* 注: `ln -s`の機能は純粋なファイル名置換で, `ln -s`コマンドそのものは指定されたファイルが存在するか否かによらず成功してしまうのでタイプミスに注意が必要\n",
    "* 上記のような長いコマンドをシェルで自分で打ち込むときはタブキーを使うこと(タイプミスからくる謎な挙動を防止する上でも)\n",
    "* マッチするファイルが一つであると確信できるときはワイルドカードを使うのも良い"
   ]
  },
  {
   "cell_type": "code",
   "execution_count": null,
   "metadata": {
    "kernel": "Bash",
    "nbgrader": {
     "grade": false,
     "grade_id": "c-106",
     "locked": false,
     "schema_version": 3,
     "solution": false,
     "task": false
    }
   },
   "outputs": [],
   "source": [
    "ln -s /home/share/data/ja*.xml.bz2 jawiki.xml.bz2"
   ]
  },
  {
   "cell_type": "markdown",
   "metadata": {
    "deletable": false,
    "editable": false,
    "kernel": "SoS",
    "nbgrader": {
     "cell_type": "markdown",
     "checksum": "61468bb29b2e670a197714092da1820a",
     "grade": false,
     "grade_id": "c-107",
     "locked": true,
     "schema_version": 3,
     "solution": false,
     "task": false
    }
   },
   "source": [
    "* `~ユーザ名`で, そのユーザのホームディレクトリ(Linuxでは通常, /home/ユーザ名, MacOSでは/Users/ユーザ名) という意味になるので以下でも可"
   ]
  },
  {
   "cell_type": "code",
   "execution_count": null,
   "metadata": {
    "kernel": "Bash",
    "nbgrader": {
     "grade": false,
     "grade_id": "c-108",
     "locked": false,
     "schema_version": 3,
     "solution": false,
     "task": false
    }
   },
   "outputs": [],
   "source": [
    "ln -s ~share/data/ja*.xml.bz2 jawiki.xml.bz2"
   ]
  },
  {
   "cell_type": "markdown",
   "metadata": {
    "deletable": false,
    "editable": false,
    "kernel": "SoS",
    "nbgrader": {
     "cell_type": "markdown",
     "checksum": "3f2cc8a3e0281cee3f59aa59add490e1",
     "grade": false,
     "grade_id": "c-109",
     "locked": true,
     "schema_version": 3,
     "solution": false,
     "task": false
    }
   },
   "source": [
    "## 6-7. `echo` コマンドで与えられた文字列を表示する\n",
    "* echo x でxが表示されるだけという, 普通何の役に立つのか謎なコマンド"
   ]
  },
  {
   "cell_type": "code",
   "execution_count": null,
   "metadata": {
    "kernel": "Bash",
    "nbgrader": {
     "grade": false,
     "grade_id": "c-110",
     "locked": false,
     "schema_version": 3,
     "solution": false,
     "task": false
    }
   },
   "outputs": [],
   "source": [
    "echo hello"
   ]
  },
  {
   "cell_type": "markdown",
   "metadata": {
    "deletable": false,
    "editable": false,
    "kernel": "SoS",
    "nbgrader": {
     "cell_type": "markdown",
     "checksum": "1cbc3694beb1da02462154149c8afd67",
     "grade": false,
     "grade_id": "c-111",
     "locked": true,
     "schema_version": 3,
     "solution": false,
     "task": false
    }
   },
   "source": [
    "* ここでは, リダイレクトと組み合わせるとecho だけで短い内容のファイルなら作れるとだけ言っておく"
   ]
  },
  {
   "cell_type": "code",
   "execution_count": null,
   "metadata": {
    "kernel": "Bash",
    "nbgrader": {
     "grade": false,
     "grade_id": "c-112",
     "locked": false,
     "schema_version": 3,
     "solution": false,
     "task": false
    }
   },
   "outputs": [],
   "source": [
    "echo hello > hello.txt"
   ]
  },
  {
   "cell_type": "code",
   "execution_count": null,
   "metadata": {
    "kernel": "Bash",
    "nbgrader": {
     "grade": false,
     "grade_id": "c-113",
     "locked": false,
     "schema_version": 3,
     "solution": false,
     "task": false
    }
   },
   "outputs": [],
   "source": [
    "ls"
   ]
  },
  {
   "cell_type": "markdown",
   "metadata": {
    "deletable": false,
    "editable": false,
    "kernel": "SoS",
    "nbgrader": {
     "cell_type": "markdown",
     "checksum": "5c98dff43328d8d6535c87d0daf6147b",
     "grade": false,
     "grade_id": "c-114",
     "locked": true,
     "schema_version": 3,
     "solution": false,
     "task": false
    }
   },
   "source": [
    "# 7. パイプを用いたコマンドの組み合わせ\n",
    "* ここからいよいよ本題\n",
    "* ファイルの中身やコマンドの出力をまた次のコマンドに送って...ということをして, 単純な機能の組み合わせで意外なほど役に立つというのが, 醍醐味\n",
    "* やりたいことそのものズバリをやってくれるコマンドがなくても「こんなコマンドがあれば◯◯と組み合わせてこれができる...」と考えて実際そんなコマンドがある, ということを知ることも多く, 一を知れば(他のコマンドと組み合わせて)十役に立つというのも醍醐味\n",
    "* 世の中のコマンドを全部を覚えようなどとする必要はないし無理だが, せっかくなので少し使えるツールを増やしたい, という向きは例えば[GNU Coreutils](https://www.gnu.org/software/coreutils/manual/coreutils.html) の目次を見ると良いかもしれない\n",
    "* 以下で紹介するコマンドも多くがGNU Coreutilsというパッケージの中のコマンドだが決して, パイプで組み合わせられる部品はそれに限らない\n",
    "\n",
    "## 7-1. grep \n",
    "* ある文字列, より一般的には正規表現で表されるパターン, を含む行(またはマッチした部分)だけを表示する"
   ]
  },
  {
   "cell_type": "code",
   "execution_count": null,
   "metadata": {
    "kernel": "Bash",
    "nbgrader": {
     "grade": false,
     "grade_id": "c-115",
     "locked": false,
     "schema_version": 3,
     "solution": false,
     "task": false
    }
   },
   "outputs": [],
   "source": [
    "cd ~/notebooks/os15_pipe/samples\n",
    "grep Mimura summers.tsv"
   ]
  },
  {
   "cell_type": "markdown",
   "metadata": {
    "deletable": false,
    "editable": false,
    "kernel": "SoS",
    "nbgrader": {
     "cell_type": "markdown",
     "checksum": "deafffd3850f91ea7c91296eab8b2722",
     "grade": false,
     "grade_id": "c-116",
     "locked": true,
     "schema_version": 3,
     "solution": false,
     "task": false
    }
   },
   "source": [
    "* 複数ファイルの検索も可能"
   ]
  },
  {
   "cell_type": "code",
   "execution_count": null,
   "metadata": {
    "kernel": "Bash",
    "nbgrader": {
     "grade": false,
     "grade_id": "c-117",
     "locked": false,
     "schema_version": 3,
     "solution": false,
     "task": false
    }
   },
   "outputs": [],
   "source": [
    "grep Mimura summers.???"
   ]
  },
  {
   "cell_type": "markdown",
   "metadata": {
    "deletable": false,
    "editable": false,
    "kernel": "SoS",
    "nbgrader": {
     "cell_type": "markdown",
     "checksum": "98989642e967a6927c78a6b8794406b0",
     "grade": false,
     "grade_id": "c-118",
     "locked": true,
     "schema_version": 3,
     "solution": false,
     "task": false
    }
   },
   "source": [
    "* あるディレクトリの下をまるごと検索することも可能(`-r` オプション. ただし, バイナリファイルを対象外にしたいことがほとんど(`-I`オプションでそれが可能)なので, `-rI` と組で覚えるのがよい"
   ]
  },
  {
   "cell_type": "code",
   "execution_count": null,
   "metadata": {
    "kernel": "Bash",
    "nbgrader": {
     "grade": false,
     "grade_id": "c-119",
     "locked": false,
     "schema_version": 3,
     "solution": false,
     "task": false
    }
   },
   "outputs": [],
   "source": [
    "cd ~/notebooks/os15_pipe\n",
    "grep -rI Mimura samples"
   ]
  },
  {
   "cell_type": "markdown",
   "metadata": {
    "deletable": false,
    "editable": false,
    "kernel": "SoS",
    "nbgrader": {
     "cell_type": "markdown",
     "checksum": "95cd4cfa07632a5b2ac039ad41f3bfa9",
     "grade": false,
     "grade_id": "c-120",
     "locked": true,
     "schema_version": 3,
     "solution": false,
     "task": false
    }
   },
   "source": [
    "## 7-2. 他のコマンド | grep\n",
    "* あるコマンドで情報をすべて抜き出し, それをパイプ(`|`)で`grep`に送り, ほしいものだけを見る, というパターンがよくある\n",
    "* あるプロセス(例: jupyterhub)が立ち上がっていそうか確認する"
   ]
  },
  {
   "cell_type": "code",
   "execution_count": null,
   "metadata": {
    "kernel": "Bash",
    "nbgrader": {
     "grade": false,
     "grade_id": "c-121",
     "locked": false,
     "schema_version": 3,
     "solution": false,
     "task": false
    }
   },
   "outputs": [],
   "source": [
    "ps auxww | grep jupyterhub"
   ]
  },
  {
   "cell_type": "markdown",
   "metadata": {
    "deletable": false,
    "editable": false,
    "kernel": "SoS",
    "nbgrader": {
     "cell_type": "markdown",
     "checksum": "01409c3134e084afeb5c0c3cc44ec4b6",
     "grade": false,
     "grade_id": "c-122",
     "locked": true,
     "schema_version": 3,
     "solution": false,
     "task": false
    }
   },
   "source": [
    "* 自分が立ち上げているプロセスを表示\n",
    "  * `whoami` は自分のユーザ名を表示するコマンド\n",
    "  * `$(whoami)` はその出力結果におきかわる. あるコマンドの出力結果をコマンドラインの一部として使うためのシェルの記法"
   ]
  },
  {
   "cell_type": "code",
   "execution_count": null,
   "metadata": {
    "kernel": "Bash",
    "nbgrader": {
     "grade": false,
     "grade_id": "c-123",
     "locked": false,
     "schema_version": 3,
     "solution": false,
     "task": false
    }
   },
   "outputs": [],
   "source": [
    "ps auxww | grep $(whoami)"
   ]
  },
  {
   "cell_type": "markdown",
   "metadata": {
    "deletable": false,
    "editable": false,
    "kernel": "SoS",
    "nbgrader": {
     "cell_type": "markdown",
     "checksum": "f1910c520820d7d470097906c6386749",
     "grade": false,
     "grade_id": "c-124",
     "locked": true,
     "schema_version": 3,
     "solution": false,
     "task": false
    }
   },
   "source": [
    "* 過去にシェルで実行したコマンドのうち, ls を含むものを表示"
   ]
  },
  {
   "cell_type": "code",
   "execution_count": null,
   "metadata": {
    "kernel": "Bash",
    "nbgrader": {
     "grade": false,
     "grade_id": "c-125",
     "locked": false,
     "schema_version": 3,
     "solution": false,
     "task": false
    }
   },
   "outputs": [],
   "source": [
    "history | grep ls"
   ]
  },
  {
   "cell_type": "markdown",
   "metadata": {
    "deletable": false,
    "editable": false,
    "kernel": "SoS",
    "nbgrader": {
     "cell_type": "markdown",
     "checksum": "453bc7ba82fb46df39000e38f2b3ef4f",
     "grade": false,
     "grade_id": "c-126",
     "locked": true,
     "schema_version": 3,
     "solution": false,
     "task": false
    }
   },
   "source": [
    "* `/proc/cpuinfo` の中から`processor`を含む行を表示"
   ]
  },
  {
   "cell_type": "code",
   "execution_count": null,
   "metadata": {
    "kernel": "Bash",
    "nbgrader": {
     "grade": false,
     "grade_id": "c-127",
     "locked": false,
     "schema_version": 3,
     "solution": false,
     "task": false
    }
   },
   "outputs": [],
   "source": [
    "grep processor /proc/cpuinfo"
   ]
  },
  {
   "cell_type": "markdown",
   "metadata": {
    "deletable": false,
    "editable": false,
    "kernel": "SoS",
    "nbgrader": {
     "cell_type": "markdown",
     "checksum": "014f51746da86ae07d1b08def051a7eb",
     "grade": false,
     "grade_id": "c-128",
     "locked": true,
     "schema_version": 3,
     "solution": false,
     "task": false
    }
   },
   "source": [
    "* Python関係のパッケージで暗号(crypto)関係のものを探す\n",
    "* `grep -C 1`は見つかった行を含む前後1行(文脈)を表示する"
   ]
  },
  {
   "cell_type": "code",
   "execution_count": null,
   "metadata": {
    "kernel": "Bash",
    "nbgrader": {
     "grade": false,
     "grade_id": "c-129",
     "locked": false,
     "schema_version": 3,
     "solution": false,
     "task": false
    }
   },
   "outputs": [],
   "source": [
    "apt search python | grep -C 1 crypto"
   ]
  },
  {
   "cell_type": "markdown",
   "metadata": {
    "deletable": false,
    "editable": false,
    "kernel": "SoS",
    "nbgrader": {
     "cell_type": "markdown",
     "checksum": "02eee0afeadfcd0514ac7b473a180597",
     "grade": false,
     "grade_id": "c-130",
     "locked": true,
     "schema_version": 3,
     "solution": false,
     "task": false
    }
   },
   "source": [
    "## 7-3. sort : ファイルを整列する\n",
    "* 単純に実行するとすべての行を辞書順に並べるというだけのものだが, いろいろなオプションで動作を変更できる\n",
    "* 整列はデータを集計するための基本でもあり, データ処理の重要なツール"
   ]
  },
  {
   "cell_type": "code",
   "execution_count": null,
   "metadata": {
    "kernel": "Bash",
    "nbgrader": {
     "grade": false,
     "grade_id": "c-131",
     "locked": false,
     "schema_version": 3,
     "solution": false,
     "task": false
    }
   },
   "outputs": [],
   "source": [
    "cd ~/notebooks/os15_pipe/samples\n",
    "sort summers.txt"
   ]
  },
  {
   "cell_type": "markdown",
   "metadata": {
    "deletable": false,
    "editable": false,
    "kernel": "SoS",
    "nbgrader": {
     "cell_type": "markdown",
     "checksum": "1262a9bec0b0270e663fb84bca61f311",
     "grade": false,
     "grade_id": "c-132",
     "locked": true,
     "schema_version": 3,
     "solution": false,
     "task": false
    }
   },
   "source": [
    "* `sort -k` $n$ : $n$列目で整列する"
   ]
  },
  {
   "cell_type": "code",
   "execution_count": null,
   "metadata": {
    "kernel": "Bash",
    "nbgrader": {
     "grade": false,
     "grade_id": "c-133",
     "locked": false,
     "schema_version": 3,
     "solution": false,
     "task": false
    }
   },
   "outputs": [],
   "source": [
    "sort -k 5 summers.txt"
   ]
  },
  {
   "cell_type": "markdown",
   "metadata": {
    "deletable": false,
    "editable": false,
    "kernel": "SoS",
    "nbgrader": {
     "cell_type": "markdown",
     "checksum": "9d1e6f74ddd631ead28840261240cac4",
     "grade": false,
     "grade_id": "c-134",
     "locked": true,
     "schema_version": 3,
     "solution": false,
     "task": false
    }
   },
   "source": [
    "* `sort -n` : 数値として整列する\n",
    "* 辞書式の整列だと, 987 &gt; 1000 となってしまう"
   ]
  },
  {
   "cell_type": "code",
   "execution_count": null,
   "metadata": {
    "kernel": "Bash",
    "nbgrader": {
     "grade": false,
     "grade_id": "c-135",
     "locked": false,
     "schema_version": 3,
     "solution": false,
     "task": false
    }
   },
   "outputs": [],
   "source": [
    "sort -k 5 -n summers.txt"
   ]
  },
  {
   "cell_type": "markdown",
   "metadata": {
    "deletable": false,
    "editable": false,
    "kernel": "SoS",
    "nbgrader": {
     "cell_type": "markdown",
     "checksum": "b79e8928a582d3fbb824e341b2823696",
     "grade": false,
     "grade_id": "c-136",
     "locked": true,
     "schema_version": 3,
     "solution": false,
     "task": false
    }
   },
   "source": [
    "* `sort -t` $c$ : 列の区切りとして文字$c$を使う\n",
    "* たとえばカンマ区切りのCSVファイルを指定した列の数値で整列する"
   ]
  },
  {
   "cell_type": "code",
   "execution_count": null,
   "metadata": {
    "kernel": "Bash",
    "nbgrader": {
     "grade": false,
     "grade_id": "c-137",
     "locked": false,
     "schema_version": 3,
     "solution": false,
     "task": false
    }
   },
   "outputs": [],
   "source": [
    "cat summers.csv"
   ]
  },
  {
   "cell_type": "code",
   "execution_count": null,
   "metadata": {
    "kernel": "Bash",
    "nbgrader": {
     "grade": false,
     "grade_id": "c-138",
     "locked": false,
     "schema_version": 3,
     "solution": false,
     "task": false
    }
   },
   "outputs": [],
   "source": [
    "sort -t , -k 5 -n summers.csv"
   ]
  },
  {
   "cell_type": "markdown",
   "metadata": {
    "deletable": false,
    "editable": false,
    "kernel": "SoS",
    "nbgrader": {
     "cell_type": "markdown",
     "checksum": "30f36d0b5232e1fe8633e9696f456d21",
     "grade": false,
     "grade_id": "c-139",
     "locked": true,
     "schema_version": 3,
     "solution": false,
     "task": false
    }
   },
   "source": [
    "* `sort -r` : 逆順(大きなものが先)に整列する"
   ]
  },
  {
   "cell_type": "code",
   "execution_count": null,
   "metadata": {
    "kernel": "Bash",
    "nbgrader": {
     "grade": false,
     "grade_id": "c-140",
     "locked": false,
     "schema_version": 3,
     "solution": false,
     "task": false
    }
   },
   "outputs": [],
   "source": [
    "sort -k 6 -n -r summers.txt"
   ]
  },
  {
   "cell_type": "markdown",
   "metadata": {
    "deletable": false,
    "editable": false,
    "kernel": "SoS",
    "nbgrader": {
     "cell_type": "markdown",
     "checksum": "a8973b3ae626ecc97f2f55a7f88dbb32",
     "grade": false,
     "grade_id": "c-141",
     "locked": true,
     "schema_version": 3,
     "solution": false,
     "task": false
    }
   },
   "source": [
    "## 7-4. uniq : 同じ行が並んだら1行だけ表示する\n",
    "* 非常に他愛のない動作をするが, sortと組み合わせることでしばしば威力を発揮する"
   ]
  },
  {
   "cell_type": "code",
   "execution_count": null,
   "metadata": {
    "kernel": "Bash",
    "nbgrader": {
     "grade": false,
     "grade_id": "c-142",
     "locked": false,
     "schema_version": 3,
     "solution": false,
     "task": false
    }
   },
   "outputs": [],
   "source": [
    "cd ~/notebooks/os15_pipe/samples\n",
    "cat duplicates.txt"
   ]
  },
  {
   "cell_type": "code",
   "execution_count": null,
   "metadata": {
    "kernel": "Bash",
    "nbgrader": {
     "grade": false,
     "grade_id": "c-143",
     "locked": false,
     "schema_version": 3,
     "solution": false,
     "task": false
    }
   },
   "outputs": [],
   "source": [
    "uniq duplicates.txt"
   ]
  },
  {
   "cell_type": "markdown",
   "metadata": {
    "deletable": false,
    "editable": false,
    "kernel": "SoS",
    "nbgrader": {
     "cell_type": "markdown",
     "checksum": "b2ea7ea07c01f3bc0163eeb540c41a09",
     "grade": false,
     "grade_id": "c-144",
     "locked": true,
     "schema_version": 3,
     "solution": false,
     "task": false
    }
   },
   "source": [
    "* 各行が何回現れたかも表示する"
   ]
  },
  {
   "cell_type": "code",
   "execution_count": null,
   "metadata": {
    "kernel": "Bash",
    "nbgrader": {
     "grade": false,
     "grade_id": "c-145",
     "locked": false,
     "schema_version": 3,
     "solution": false,
     "task": false
    }
   },
   "outputs": [],
   "source": [
    "uniq -c duplicates.txt"
   ]
  },
  {
   "cell_type": "markdown",
   "metadata": {
    "deletable": false,
    "editable": false,
    "kernel": "SoS",
    "nbgrader": {
     "cell_type": "markdown",
     "checksum": "b4295bb706a3223da00b277a796960bb",
     "grade": false,
     "grade_id": "c-146",
     "locked": true,
     "schema_version": 3,
     "solution": false,
     "task": false
    }
   },
   "source": [
    "* sortしてからuniqするのは, 現れた値の種類を重複なく列挙する(-cをつければ回数を数える)常套手段"
   ]
  },
  {
   "cell_type": "code",
   "execution_count": null,
   "metadata": {
    "kernel": "Bash",
    "nbgrader": {
     "grade": false,
     "grade_id": "c-147",
     "locked": false,
     "schema_version": 3,
     "solution": false,
     "task": false
    }
   },
   "outputs": [],
   "source": [
    "sort duplicates.txt | uniq -c"
   ]
  },
  {
   "cell_type": "markdown",
   "metadata": {
    "deletable": false,
    "editable": false,
    "kernel": "SoS",
    "nbgrader": {
     "cell_type": "markdown",
     "checksum": "227a060d26bf6a43469a75276c8caa2f",
     "grade": false,
     "grade_id": "c-148",
     "locked": true,
     "schema_version": 3,
     "solution": false,
     "task": false
    }
   },
   "source": [
    "## 7-5. zcat, gzip, bzip2\n",
    "* 圧縮したファイルを解凍する, もしくは解凍した結果を表示する\n",
    "* 現在多くのデータがテキスト形式の一種(xml, json, csv, yamlなど)を圧縮して提供されているため, これの扱い方を知っておくことは重要\n",
    "* 世の中でよく使われる圧縮ファイルの形式は\n",
    "  * `gzip` (標準的拡張子: .gz)\n",
    "  * `bzip2` (標準的拡張子: .bz2)\n",
    "  * `zip` (標準的拡張子: .zip)\n",
    "* ファイルを`gzip`形式で圧縮(元のファイルはそのまま)  "
   ]
  },
  {
   "cell_type": "code",
   "execution_count": null,
   "metadata": {
    "kernel": "Bash",
    "nbgrader": {
     "grade": false,
     "grade_id": "c-149",
     "locked": false,
     "schema_version": 3,
     "solution": false,
     "task": false
    }
   },
   "outputs": [],
   "source": [
    "gzip -c summers.xml > summers.xml.gz"
   ]
  },
  {
   "cell_type": "markdown",
   "metadata": {
    "deletable": false,
    "editable": false,
    "kernel": "SoS",
    "nbgrader": {
     "cell_type": "markdown",
     "checksum": "4728ad069bf40e2c8e300a00a344298e",
     "grade": false,
     "grade_id": "c-150",
     "locked": true,
     "schema_version": 3,
     "solution": false,
     "task": false
    }
   },
   "source": [
    "* `gzip` 形式のファイルを解凍して表示(元のファイルはそのまま)"
   ]
  },
  {
   "cell_type": "code",
   "execution_count": null,
   "metadata": {
    "kernel": "Bash",
    "nbgrader": {
     "grade": false,
     "grade_id": "c-151",
     "locked": false,
     "schema_version": 3,
     "solution": false,
     "task": false
    }
   },
   "outputs": [],
   "source": [
    "gzip -dc summers.xml.gz"
   ]
  },
  {
   "cell_type": "markdown",
   "metadata": {
    "deletable": false,
    "editable": false,
    "kernel": "SoS",
    "nbgrader": {
     "cell_type": "markdown",
     "checksum": "6853cd0a9cb410bbdcbf371e3af39938",
     "grade": false,
     "grade_id": "c-152",
     "locked": true,
     "schema_version": 3,
     "solution": false,
     "task": false
    }
   },
   "source": [
    "* これと同じことをするのが`zcat`"
   ]
  },
  {
   "cell_type": "code",
   "execution_count": null,
   "metadata": {
    "kernel": "Bash",
    "nbgrader": {
     "grade": false,
     "grade_id": "c-153",
     "locked": false,
     "schema_version": 3,
     "solution": false,
     "task": false
    }
   },
   "outputs": [],
   "source": [
    "zcat summers.xml.gz"
   ]
  },
  {
   "cell_type": "markdown",
   "metadata": {
    "deletable": false,
    "editable": false,
    "kernel": "SoS",
    "nbgrader": {
     "cell_type": "markdown",
     "checksum": "de2bcfff061811c984668d78fb2d8daa",
     "grade": false,
     "grade_id": "c-154",
     "locked": true,
     "schema_version": 3,
     "solution": false,
     "task": false
    }
   },
   "source": [
    "* bzip2 形式のファイルを解凍して表示(元のファイルはそのまま)"
   ]
  },
  {
   "cell_type": "code",
   "execution_count": null,
   "metadata": {
    "kernel": "Bash",
    "nbgrader": {
     "grade": false,
     "grade_id": "c-155",
     "locked": false,
     "schema_version": 3,
     "solution": false,
     "task": false
    }
   },
   "outputs": [],
   "source": [
    "bzip2 -dc summers.xml.bz2"
   ]
  },
  {
   "cell_type": "markdown",
   "metadata": {
    "deletable": false,
    "editable": false,
    "kernel": "SoS",
    "nbgrader": {
     "cell_type": "markdown",
     "checksum": "252fdba35f231cf5fc35cbbba54ac813",
     "grade": false,
     "grade_id": "c-156",
     "locked": true,
     "schema_version": 3,
     "solution": false,
     "task": false
    }
   },
   "source": [
    "## 7-6. head, tail (最初の何行か, 終わりの何行かだけを表示する)\n",
    "* 主な使い道\n",
    "  * まともに表示しても意味がない大きなデータの形式を確認する(ただし目視が目的ならlv, lessでも可)\n",
    "  * ファイルの最初の数行だけに特別な意味がある場面などで必要な情報を取り出す(後のawk参照)\n",
    "* `head -`$n$ $F$ : ファイル$F$の最初の$n$行だけ表示する"
   ]
  },
  {
   "cell_type": "code",
   "execution_count": null,
   "metadata": {
    "kernel": "Bash",
    "nbgrader": {
     "grade": false,
     "grade_id": "c-157",
     "locked": false,
     "schema_version": 3,
     "solution": false,
     "task": false
    }
   },
   "outputs": [],
   "source": [
    "cd ~/notebooks/os15_pipe/samples\n",
    "head -5 summers.xml"
   ]
  },
  {
   "cell_type": "markdown",
   "metadata": {
    "deletable": false,
    "editable": false,
    "kernel": "SoS",
    "nbgrader": {
     "cell_type": "markdown",
     "checksum": "cce09777f2a0fc94b6f5bfa25a71b224",
     "grade": false,
     "grade_id": "c-158",
     "locked": true,
     "schema_version": 3,
     "solution": false,
     "task": false
    }
   },
   "source": [
    "* 行数を省略すると10行の意味になる"
   ]
  },
  {
   "cell_type": "code",
   "execution_count": null,
   "metadata": {
    "kernel": "Bash",
    "nbgrader": {
     "grade": false,
     "grade_id": "c-159",
     "locked": false,
     "schema_version": 3,
     "solution": false,
     "task": false
    }
   },
   "outputs": [],
   "source": [
    "head summers.xml"
   ]
  },
  {
   "cell_type": "markdown",
   "metadata": {
    "deletable": false,
    "editable": false,
    "kernel": "SoS",
    "nbgrader": {
     "cell_type": "markdown",
     "checksum": "f2a1f2375b5b301958883894fa727fd3",
     "grade": false,
     "grade_id": "c-160",
     "locked": true,
     "schema_version": 3,
     "solution": false,
     "task": false
    }
   },
   "source": [
    "* ファイルの最後の5行だけ表示する"
   ]
  },
  {
   "cell_type": "code",
   "execution_count": null,
   "metadata": {
    "kernel": "Bash",
    "nbgrader": {
     "grade": false,
     "grade_id": "c-161",
     "locked": false,
     "schema_version": 3,
     "solution": false,
     "task": false
    }
   },
   "outputs": [],
   "source": [
    "tail -5 summers.xml"
   ]
  },
  {
   "cell_type": "markdown",
   "metadata": {
    "deletable": false,
    "editable": false,
    "kernel": "SoS",
    "nbgrader": {
     "cell_type": "markdown",
     "checksum": "c31c3ef62533bc7966d2c92199ee901b",
     "grade": false,
     "grade_id": "c-162",
     "locked": true,
     "schema_version": 3,
     "solution": false,
     "task": false
    }
   },
   "source": [
    "* 2つを組み合わせると途中を表示することも可能\n",
    "* 11行目から15行目までを表示する(わかりやすさのために行番号も表示)"
   ]
  },
  {
   "cell_type": "code",
   "execution_count": null,
   "metadata": {
    "kernel": "Bash",
    "nbgrader": {
     "grade": false,
     "grade_id": "c-163",
     "locked": false,
     "schema_version": 3,
     "solution": false,
     "task": false
    }
   },
   "outputs": [],
   "source": [
    "cat -n summers.xml | head -15 | tail -5"
   ]
  },
  {
   "cell_type": "markdown",
   "metadata": {
    "deletable": false,
    "editable": false,
    "kernel": "SoS",
    "nbgrader": {
     "cell_type": "markdown",
     "checksum": "5eb6ba409f739f5ab7afc480bf3a2c24",
     "grade": false,
     "grade_id": "c-164",
     "locked": true,
     "schema_version": 3,
     "solution": false,
     "task": false
    }
   },
   "source": [
    "* 例: 自分のホームディレクトリ下にあるファイル, ディレクトリを大きい順に, 30個表示する\n",
    "* 注: ディレクトリの大きさはその下のファイルやディレクトリをすべて含むため, 上位にはホームディレクトリそのものやその直下のディレクトリが目立つ"
   ]
  },
  {
   "cell_type": "code",
   "execution_count": null,
   "metadata": {
    "kernel": "Bash",
    "nbgrader": {
     "grade": false,
     "grade_id": "c-165",
     "locked": false,
     "schema_version": 3,
     "solution": false,
     "task": false
    }
   },
   "outputs": [],
   "source": [
    "du -a ~/ | sort -k 1 -n -r | head -30"
   ]
  },
  {
   "cell_type": "markdown",
   "metadata": {
    "deletable": false,
    "editable": false,
    "kernel": "SoS",
    "nbgrader": {
     "cell_type": "markdown",
     "checksum": "a8a254070fb966d305ef80f107f426d6",
     "grade": false,
     "grade_id": "c-166",
     "locked": true,
     "schema_version": 3,
     "solution": false,
     "task": false
    }
   },
   "source": [
    "## 7-7. wc : 行数, 単語数, バイト数を表示する\n",
    "* 例: `/proc/cpuinfo` の中から`processor`を含む行を抜き出しその行数などを表示(結果としてプロセッサの数を表示)"
   ]
  },
  {
   "cell_type": "code",
   "execution_count": null,
   "metadata": {
    "kernel": "Bash",
    "nbgrader": {
     "grade": false,
     "grade_id": "c-167",
     "locked": false,
     "schema_version": 3,
     "solution": false,
     "task": false
    }
   },
   "outputs": [],
   "source": [
    "grep processor /proc/cpuinfo | wc"
   ]
  },
  {
   "cell_type": "markdown",
   "metadata": {
    "deletable": false,
    "editable": false,
    "kernel": "SoS",
    "nbgrader": {
     "cell_type": "markdown",
     "checksum": "874ef3d71b1fc60415545ef3d979fa3f",
     "grade": false,
     "grade_id": "c-168",
     "locked": true,
     "schema_version": 3,
     "solution": false,
     "task": false
    }
   },
   "source": [
    "# 8. awk\n",
    "* かなり汎用的なフィルタ記述言語で, これまでのコマンドではできないこと(だけ)をこれにやらせる\n",
    "\n",
    "## 8-1. 列を取り出す\n",
    "* もっとも手軽な使用法は特定の列だけを取り出したり表示したりすること\n",
    "* 例: 2列目(各行の2番目の単語)だけを表示する"
   ]
  },
  {
   "cell_type": "code",
   "execution_count": null,
   "metadata": {
    "kernel": "Bash",
    "nbgrader": {
     "grade": false,
     "grade_id": "c-169",
     "locked": false,
     "schema_version": 3,
     "solution": false,
     "task": false
    }
   },
   "outputs": [],
   "source": [
    "awk '{print $2}' summers.txt"
   ]
  },
  {
   "cell_type": "markdown",
   "metadata": {
    "deletable": false,
    "editable": false,
    "kernel": "SoS",
    "nbgrader": {
     "cell_type": "markdown",
     "checksum": "0e9d64b51cb8123df50b08c6611654b0",
     "grade": false,
     "grade_id": "c-170",
     "locked": true,
     "schema_version": 3,
     "solution": false,
     "task": false
    }
   },
   "source": [
    "* 上記コマンドが起動されると, `print $2`という文を, 入力ファイル`summers.txt`の**各行**に対して実行する\n",
    "* `$1, $2, ...` はそれぞれ各行の1つ目, 2つ目, ... の単語(空白文字を含まない文字列)を表す\n",
    "* `$0`は行全体を表す\n",
    "* よって上記は各行の2番めの単語を表示する $=$ 2列目を表示する, という意味になる\n",
    "* 例: 5列目が50以上の行の1, 2列目のみ表示する"
   ]
  },
  {
   "cell_type": "code",
   "execution_count": null,
   "metadata": {
    "kernel": "Bash",
    "nbgrader": {
     "grade": false,
     "grade_id": "c-171",
     "locked": false,
     "schema_version": 3,
     "solution": false,
     "task": false
    }
   },
   "outputs": [],
   "source": [
    "awk '$5 >= 50 {print $1, $2}' summers.txt"
   ]
  },
  {
   "cell_type": "markdown",
   "metadata": {
    "deletable": false,
    "editable": false,
    "kernel": "SoS",
    "nbgrader": {
     "cell_type": "markdown",
     "checksum": "49f971aa7584b14ffe55bb00efe7a476",
     "grade": false,
     "grade_id": "c-172",
     "locked": true,
     "schema_version": 3,
     "solution": false,
     "task": false
    }
   },
   "source": [
    "## 8-2. awkプログラムの一般形\n",
    "* 一般にawkの最初の引数(' ... ')は,\n",
    "```\n",
    "条件1 { 条件1が成立した行に行われる処理 } 条件2 { 条件2が成立した行に行われる処理 } ...\n",
    "```\n",
    "という形をしており, 各行に対して上記を順に実行する\n",
    "* 「条件」を省略したらすべての行に成立する条件とみなされ, 処理(`{ ... }`)を省略したら, その行(`$0`)を表示するとみなされる\n",
    "* 特別な「条件」として, `BEGIN`, `END` があり\n",
    "  * `BEGIN`は1行目を開始する前に一度だけ成立する条件\n",
    "  * `END`は最終行を実行した後に一度だけ成立する条件\n",
    "したがって`BEGIN`は変数の初期化など, `END`は最終結果の表示などに使える\n",
    "\n",
    "* awkについて必要な詳細は自分で調べよ\n",
    "* awk チュートリアルなどとすればたくさん短い記事が見つかるが短すぎるものが多い印象\n",
    "* ちゃんと見たければ[マニュアル](https://www.gnu.org/software/gawk/manual/gawk.html)を参照\n",
    "\n",
    "## 8-3. 変数\n",
    "* 変数, if文, for文, printf関数などもあり, 文法はCと似ている\n",
    "* 特に, シェルやperlと異なり変数を`$`で始める必要はない\n",
    "* 例: 行数を数える(xを初期化していないが0に初期化される)"
   ]
  },
  {
   "cell_type": "code",
   "execution_count": null,
   "metadata": {
    "kernel": "Bash",
    "nbgrader": {
     "grade": false,
     "grade_id": "c-173",
     "locked": false,
     "schema_version": 3,
     "solution": false,
     "task": false
    }
   },
   "outputs": [],
   "source": [
    "cd ~/notebooks/os15_pipe/samples\n",
    "awk '{ x++ } END { print x }' summers.xml"
   ]
  },
  {
   "cell_type": "markdown",
   "metadata": {
    "deletable": false,
    "editable": false,
    "kernel": "SoS",
    "nbgrader": {
     "cell_type": "markdown",
     "checksum": "82cfde0b4103e48c274deff6531538b5",
     "grade": false,
     "grade_id": "c-174",
     "locked": true,
     "schema_version": 3,
     "solution": false,
     "task": false
    }
   },
   "source": [
    "* 例: 第5列の平均と最大値を表示する(ついでにprintfの使用例)"
   ]
  },
  {
   "cell_type": "code",
   "execution_count": null,
   "metadata": {
    "kernel": "Bash",
    "nbgrader": {
     "grade": false,
     "grade_id": "c-175",
     "locked": false,
     "schema_version": 3,
     "solution": false,
     "task": false
    }
   },
   "outputs": [],
   "source": [
    "awk '{ s += $5; m = ($5 > m ? $5 : m) } END { printf(\"sum: %s, max: %s\\n\", s/NR, m) }' summers.txt"
   ]
  },
  {
   "cell_type": "markdown",
   "metadata": {
    "deletable": false,
    "editable": false,
    "kernel": "SoS",
    "nbgrader": {
     "cell_type": "markdown",
     "checksum": "67e2cb9e1f7c53f959e04489680f8fb0",
     "grade": false,
     "grade_id": "c-176",
     "locked": true,
     "schema_version": 3,
     "solution": false,
     "task": false
    }
   },
   "source": [
    "## 8-4. ファイルへのawkプログラムの格納\n",
    "* awkに渡す第一引数(プログラムを表す文字列)がある程度長くなる場合はファイルに格納したほうが良い\n",
    "* プログラムは複数行にまたがってもよく, 例えば上記は以下のように書ける"
   ]
  },
  {
   "cell_type": "code",
   "execution_count": null,
   "metadata": {
    "kernel": "Python 3 (ipykernel)",
    "nbgrader": {
     "grade": false,
     "grade_id": "c-177",
     "locked": false,
     "schema_version": 3,
     "solution": false,
     "task": false
    }
   },
   "outputs": [],
   "source": [
    "%%writefile samples/avg_max.awk\n",
    "{ s += $5; m = ($5 > m ? $5 : m) }\n",
    "END {\n",
    "  printf(\"sum: %s, max: %s\\n\", s/NR, m)\n",
    "}"
   ]
  },
  {
   "cell_type": "markdown",
   "metadata": {
    "deletable": false,
    "editable": false,
    "kernel": "SoS",
    "nbgrader": {
     "cell_type": "markdown",
     "checksum": "f485035bded018cb3474d5976ed7f01a",
     "grade": false,
     "grade_id": "c-178",
     "locked": true,
     "schema_version": 3,
     "solution": false,
     "task": false
    }
   },
   "source": [
    "* ファイルに格納されたプログラムをawkに渡すのは`-f`オプション"
   ]
  },
  {
   "cell_type": "code",
   "execution_count": null,
   "metadata": {
    "kernel": "Bash",
    "nbgrader": {
     "grade": false,
     "grade_id": "c-179",
     "locked": false,
     "schema_version": 3,
     "solution": false,
     "task": false
    }
   },
   "outputs": [],
   "source": [
    "awk -f avg_max.awk summers.txt"
   ]
  },
  {
   "cell_type": "markdown",
   "metadata": {
    "deletable": false,
    "editable": false,
    "kernel": "SoS",
    "nbgrader": {
     "cell_type": "markdown",
     "checksum": "654c64bb05731458300d1c743e8558f4",
     "grade": false,
     "grade_id": "c-180",
     "locked": true,
     "schema_version": 3,
     "solution": false,
     "task": false
    }
   },
   "source": [
    "## 8-5. 組み込み変数NR と NF\n",
    "* 組み込み変数にNR (現在の行番号), NF (現在の行の列数)がある\n",
    "* 例: 行数, 単語数, 文字数を表示する"
   ]
  },
  {
   "cell_type": "code",
   "execution_count": null,
   "metadata": {
    "kernel": "Bash",
    "nbgrader": {
     "grade": false,
     "grade_id": "c-181",
     "locked": false,
     "schema_version": 3,
     "solution": false,
     "task": false
    }
   },
   "outputs": [],
   "source": [
    "awk '{ l++; w += NF; b += length($0) } END { print l, w, b }' summers.txt"
   ]
  },
  {
   "cell_type": "markdown",
   "metadata": {
    "deletable": false,
    "editable": false,
    "kernel": "SoS",
    "nbgrader": {
     "cell_type": "markdown",
     "checksum": "e0bcc40702e0121d67461a59fd6080c3",
     "grade": false,
     "grade_id": "c-182",
     "locked": true,
     "schema_version": 3,
     "solution": false,
     "task": false
    }
   },
   "source": [
    "* 例: uniq相当のこと"
   ]
  },
  {
   "cell_type": "code",
   "execution_count": null,
   "metadata": {
    "kernel": "Bash",
    "nbgrader": {
     "grade": false,
     "grade_id": "c-183",
     "locked": false,
     "schema_version": 3,
     "solution": false,
     "task": false
    }
   },
   "outputs": [],
   "source": [
    "awk '$0 != last { print } { last = $0 }' duplicates.txt"
   ]
  },
  {
   "cell_type": "markdown",
   "metadata": {
    "deletable": false,
    "editable": false,
    "kernel": "SoS",
    "nbgrader": {
     "cell_type": "markdown",
     "checksum": "844229753833fc64fcfe8e025da71973",
     "grade": false,
     "grade_id": "c-184",
     "locked": true,
     "schema_version": 3,
     "solution": false,
     "task": false
    }
   },
   "source": [
    "* 例: uniq -c相当のこと"
   ]
  },
  {
   "cell_type": "code",
   "execution_count": null,
   "metadata": {
    "kernel": "Bash",
    "nbgrader": {
     "grade": false,
     "grade_id": "c-185",
     "locked": false,
     "schema_version": 3,
     "solution": false,
     "task": false
    }
   },
   "outputs": [],
   "source": [
    "awk 'NR > 1 && $0 != last { print c, last; c = 0 } { last = $0; c++ } END { if (NR > 1) { print c, last } }' duplicates.txt"
   ]
  },
  {
   "cell_type": "markdown",
   "metadata": {
    "deletable": false,
    "editable": false,
    "kernel": "SoS",
    "nbgrader": {
     "cell_type": "markdown",
     "checksum": "37f29f26174b2ef3dcd182e482b6f5d6",
     "grade": false,
     "grade_id": "c-186",
     "locked": true,
     "schema_version": 3,
     "solution": false,
     "task": false
    }
   },
   "source": [
    "## 8-6. 列の切れ目の変更\n",
    "* 列の切れ目はデフォルトでは, 空白文字(空白, タブ)の並びだが, `FS=` というオプションで変更できる\n",
    "* 例: カンマ区切りのCSVファイルの1, 5列目だけを, 再びカンマ区切りで表示する\n",
    "* 式を並べるだけでそれを連結するという意味になる"
   ]
  },
  {
   "cell_type": "code",
   "execution_count": null,
   "metadata": {
    "kernel": "Bash",
    "nbgrader": {
     "grade": false,
     "grade_id": "c-187",
     "locked": false,
     "schema_version": 3,
     "solution": false,
     "task": false
    }
   },
   "outputs": [],
   "source": [
    "awk '{print $1 \",\" $5}' FS=, summers.csv"
   ]
  },
  {
   "cell_type": "markdown",
   "metadata": {
    "deletable": false,
    "editable": false,
    "kernel": "SoS",
    "nbgrader": {
     "cell_type": "markdown",
     "checksum": "9049f39f92c9ebec6e2ce4738fd2ed9e",
     "grade": false,
     "grade_id": "c-188",
     "locked": true,
     "schema_version": 3,
     "solution": false,
     "task": false
    }
   },
   "source": [
    "## 8-7. 正規表現\n",
    "* `match(式, /正規表現/)` または `式 ~  /正規表現/` で, 「式」が「正規表現」にマッチしているかどうかの判定になる\n",
    "* matchが真となった場合, RSTARTがマッチした部分の先頭位置, RLENGTHがその長さを表す(どういうわけか, `式 ~  /正規表現/`の方はそうならない)\n",
    "* '<name>〜</name>' のような行に対して, 〜の部分を表示する"
   ]
  },
  {
   "cell_type": "code",
   "execution_count": null,
   "metadata": {
    "kernel": "Bash",
    "nbgrader": {
     "grade": false,
     "grade_id": "c-189",
     "locked": false,
     "schema_version": 3,
     "solution": false,
     "task": false
    }
   },
   "outputs": [],
   "source": [
    "awk 'match($0, /<sir_name_ja>.*<\\/sir_name_ja>/) {l=length(\"<sir_name_ja>\"); print substr($0, RSTART+l, RLENGTH-2*l-1)}' summers.xml"
   ]
  },
  {
   "cell_type": "markdown",
   "metadata": {
    "deletable": false,
    "editable": false,
    "kernel": "SoS",
    "nbgrader": {
     "cell_type": "markdown",
     "checksum": "e137fc11ce06785d0dbf7d761068bf42",
     "grade": false,
     "grade_id": "c-190",
     "locked": true,
     "schema_version": 3,
     "solution": false,
     "task": false
    }
   },
   "source": [
    "# 9. grep, sort, uniq, awk を組み合わせた集計処理\n",
    "* 大きなデータから,\n",
    "  * 関係するデータだけを取り出す(`grep`)\n",
    "  * 整列(`sort`)\n",
    "  * 重複除去(`uniq`), カウント(`uniq -c`)\n",
    "というパターンが多く現れる\n",
    "* もう少し本格的な集計(合計, 平均, 最大値など)は`awk`を用いる\n",
    "* 圧縮されたファイルなら `zcat`/`gzip`, `bzip2` での解凍と組み合わせる\n",
    "* コマンドを試行錯誤している間は `head` で一部だけを処理する\n",
    "\n",
    "* 例: 現在何らかのコマンドを実行しているユーザを列挙する"
   ]
  },
  {
   "cell_type": "code",
   "execution_count": null,
   "metadata": {
    "kernel": "Bash",
    "nbgrader": {
     "grade": false,
     "grade_id": "c-191",
     "locked": false,
     "schema_version": 3,
     "solution": false,
     "task": false
    }
   },
   "outputs": [],
   "source": [
    "ps auxww | awk '{print $1}' | sort | uniq"
   ]
  },
  {
   "cell_type": "markdown",
   "metadata": {
    "deletable": false,
    "editable": false,
    "kernel": "SoS",
    "nbgrader": {
     "cell_type": "markdown",
     "checksum": "0ae2dd5a76ced769c4e4773861341b1f",
     "grade": false,
     "grade_id": "c-192",
     "locked": true,
     "schema_version": 3,
     "solution": false,
     "task": false
    }
   },
   "source": [
    "* 正確に言うとps auxwwの1行目はヘッダなので余計なものが一行表示されてしまうが結果を目視するのが目的なら大概の場合, 気にしなくてよい\n",
    "* ちゃんとしたければ`ps hauxww`とする"
   ]
  },
  {
   "cell_type": "markdown",
   "metadata": {
    "deletable": false,
    "editable": false,
    "kernel": "SoS",
    "nbgrader": {
     "cell_type": "markdown",
     "checksum": "04f9865ac1d0afde1ae8e32bba644318",
     "grade": false,
     "grade_id": "c-193",
     "locked": true,
     "schema_version": 3,
     "solution": false,
     "task": false
    }
   },
   "source": [
    "# 10. パイプを使った練習問題\n",
    "* 以下の練習は, 端末で実行してから答えをこのJupyter notebookに貼り付けて実行せよ\n",
    "* それには2つの意味がある\n",
    "  * 試行錯誤を, 端末でもそれができるようにする(タブ, Ctrl-rなどを使ってコマンド入力を速くする練習)\n",
    "  * 間違えて大量の出力を伴うコマンドを実行してしまった場合にJupyter notebookが溺死しないため"
   ]
  },
  {
   "cell_type": "markdown",
   "metadata": {
    "deletable": false,
    "editable": false,
    "kernel": "SoS",
    "nbgrader": {
     "cell_type": "markdown",
     "checksum": "98806ce21b6544ccb1faeb3423ae6f1d",
     "grade": false,
     "grade_id": "c-194",
     "locked": true,
     "schema_version": 3,
     "solution": false,
     "task": false
    }
   },
   "source": [
    "# <font color=\"green\"> Problem 1 :  COVID-19データの解析</font>"
   ]
  },
  {
   "cell_type": "markdown",
   "metadata": {
    "deletable": false,
    "editable": false,
    "kernel": "SoS",
    "nbgrader": {
     "cell_type": "markdown",
     "checksum": "5ef2c85204729d49b2edc2355721439f",
     "grade": false,
     "grade_id": "c-195",
     "locked": true,
     "schema_version": 3,
     "solution": false,
     "task": false
    }
   },
   "source": [
    "* <font color=\"red\">以下はJupyter上ではなく端末で実行すること(端末を練習するのも演習の一部)</font>\n",
    "* 端末で答えを求めた上で改めてJupyterに答えを記入して実行すること"
   ]
  },
  {
   "cell_type": "markdown",
   "metadata": {
    "deletable": false,
    "editable": false,
    "kernel": "SoS",
    "nbgrader": {
     "cell_type": "markdown",
     "checksum": "1668edd42bea6cb6c158dccdf91a264b",
     "grade": false,
     "grade_id": "c-196",
     "locked": true,
     "schema_version": 3,
     "solution": false,
     "task": false
    }
   },
   "source": [
    "* Our World in Data の[COVID-19感染者数のページ](https://ourworldindata.org/covid-cases)から Coronavirus (COVID-19) Cases の csv データを入手せよ"
   ]
  },
  {
   "cell_type": "markdown",
   "metadata": {
    "deletable": false,
    "editable": false,
    "kernel": "SoS",
    "nbgrader": {
     "cell_type": "markdown",
     "checksum": "20ba9b609b85c15e11b3467f2f226291",
     "grade": false,
     "grade_id": "c-197",
     "locked": true,
     "schema_version": 3,
     "solution": false,
     "task": false
    }
   },
   "source": [
    "* 普通にブラウザでcsvデータへのリンクを踏めば, taulecサーバではなく自分のPCにダウンロードしてしまう\n",
    "* それを改めてJupyterのファイルアップロードやscpコマンドなどでtaulecサーバに送ってもよいが二度手間である(もっと巨大なファイルだったり, 自分のPCのつながっているネットワークが細い場合など, 実質的な問題が生じる場合もある)\n",
    "* taulecサーバでもGUI (ブラウザ)が使えれば問題ないが, それができない場合はどうする? ファイルをダウンロードするコマンドを使う\n",
    "* 上記ページで csv の上で右クリック(マックの場合二本指クリック)して copy link として, その URL を wget というコマンドに渡す"
   ]
  },
  {
   "cell_type": "code",
   "execution_count": null,
   "metadata": {
    "deletable": false,
    "kernel": "Bash",
    "nbgrader": {
     "cell_type": "code",
     "checksum": "ba2884bce7c64268e02d685b83041ad8",
     "grade": true,
     "grade_id": "p-001",
     "locked": false,
     "points": 1,
     "schema_version": 3,
     "solution": true,
     "task": false
    }
   },
   "outputs": [],
   "source": [
    "\n",
    "wget (ここを消してURLをペーストする)"
   ]
  },
  {
   "cell_type": "markdown",
   "metadata": {
    "deletable": false,
    "editable": false,
    "kernel": "SoS",
    "nbgrader": {
     "cell_type": "markdown",
     "checksum": "1d4c9e6b4b8634735d947ee63f5f9050",
     "grade": false,
     "grade_id": "c-198",
     "locked": true,
     "schema_version": 3,
     "solution": false,
     "task": false
    }
   },
   "source": [
    "* 入手したファイルは ~/notebooks/os15_pipe の直下に置くこと(そこにcdで移動してからwgetを行うか, 適当なところにダウンロードしたあとでmvコマンドで動かす)\n",
    "* ファイル名は`owid-covid-data.csv`という名前のはず\n",
    "* `lv`コマンドで, 最初の数行を目視し, どんな名前の列があるか確認せよ"
   ]
  },
  {
   "cell_type": "markdown",
   "metadata": {
    "deletable": false,
    "editable": false,
    "kernel": "SoS",
    "nbgrader": {
     "cell_type": "markdown",
     "checksum": "2c52c5e4cb8ab7efc9ed8a83b8c64409",
     "grade": false,
     "grade_id": "c-199",
     "locked": true,
     "schema_version": 3,
     "solution": false,
     "task": false
    }
   },
   "source": [
    "* <font color=\"green\">問:</font> 各行のセルとセルの間は何で区切られているか?"
   ]
  },
  {
   "cell_type": "markdown",
   "metadata": {
    "deletable": false,
    "kernel": "SoS",
    "nbgrader": {
     "cell_type": "markdown",
     "checksum": "a33a2bc7ca6462b6475d7fcd9d7291e4",
     "grade": true,
     "grade_id": "p-002",
     "locked": false,
     "points": 1,
     "schema_version": 3,
     "solution": true,
     "task": false
    }
   },
   "source": [
    "YOUR ANSWER HERE"
   ]
  },
  {
   "cell_type": "markdown",
   "metadata": {
    "deletable": false,
    "editable": false,
    "kernel": "SoS",
    "nbgrader": {
     "cell_type": "markdown",
     "checksum": "c13dbd02b907e56d2cdeca89d7705333",
     "grade": false,
     "grade_id": "c-200",
     "locked": true,
     "schema_version": 3,
     "solution": false,
     "task": false
    }
   },
   "source": [
    "* 注: カンマ区切りのCSVでも, 一般には一つのセル内にカンマが含まれることがありうる\n",
    "* その場合, 列全体を二重引用符で\"...\" のように書くことでカンマを含んだ文字列をひとつのセルにできる\n",
    "* そのようなケースをきちんと取り扱おうと思ったらちゃんとしたCSVパーザ (例えばPythonのcsvモジュール)を使うのが正しい\n",
    "* 以下ではそのようなことはこのデータに関してはなさそうということを確認している"
   ]
  },
  {
   "cell_type": "markdown",
   "metadata": {
    "deletable": false,
    "editable": false,
    "kernel": "SoS",
    "nbgrader": {
     "cell_type": "markdown",
     "checksum": "94ab8fc5792d4d556f3f2699dad98a99",
     "grade": false,
     "grade_id": "c-201",
     "locked": true,
     "schema_version": 3,
     "solution": false,
     "task": false
    }
   },
   "source": [
    "* <font color=\"green\">問:</font> それを確認するためのコマンドを書け(ヒント: つまりカンマで区切ったときの列の個数が全行で同じならば良い)"
   ]
  },
  {
   "cell_type": "code",
   "execution_count": null,
   "metadata": {
    "deletable": false,
    "kernel": "Bash",
    "nbgrader": {
     "cell_type": "code",
     "checksum": "dcded8b99ec026226b720920f29262ae",
     "grade": true,
     "grade_id": "p-003",
     "locked": false,
     "points": 1,
     "schema_version": 3,
     "solution": true,
     "task": false
    }
   },
   "outputs": [],
   "source": [
    "\n"
   ]
  },
  {
   "cell_type": "markdown",
   "metadata": {
    "deletable": false,
    "editable": false,
    "kernel": "SoS",
    "nbgrader": {
     "cell_type": "markdown",
     "checksum": "2087b6c8a8e00b6eb36a7c7cd619d186",
     "grade": false,
     "grade_id": "c-202",
     "locked": true,
     "schema_version": 3,
     "solution": false,
     "task": false
    }
   },
   "source": [
    "* <font color=\"green\">問:</font> 以降のため, 列名と列番号の対応を以下のように表示するコマンドを実行せよ(ヒント: 一行目の , を改行 \"\\n\" におきかえて表示すれば良い. それをやるコマンドは`tr`. 使い方はmanまたはググってください)"
   ]
  },
  {
   "cell_type": "code",
   "execution_count": null,
   "metadata": {
    "kernel": "Bash",
    "nbgrader": {
     "grade": false,
     "grade_id": "c-203",
     "locked": false,
     "schema_version": 3,
     "solution": false,
     "task": false
    }
   },
   "outputs": [],
   "source": []
  },
  {
   "cell_type": "markdown",
   "metadata": {
    "deletable": false,
    "editable": false,
    "kernel": "SoS",
    "nbgrader": {
     "cell_type": "markdown",
     "checksum": "f9420c042aa38f8747bc1fb442eb0781",
     "grade": false,
     "grade_id": "c-204",
     "locked": true,
     "schema_version": 3,
     "solution": false,
     "task": false
    }
   },
   "source": [
    "* 結果は以下のようになるはず\n",
    "```\n",
    "     1\tiso_code\n",
    "     2\tcontinent\n",
    "     3\tlocation\n",
    "     ...\n",
    "    66\texcess_mortality\n",
    "    67\texcess_mortality_cumulative_per_million\n",
    "```"
   ]
  },
  {
   "cell_type": "markdown",
   "metadata": {
    "deletable": false,
    "editable": false,
    "kernel": "SoS",
    "nbgrader": {
     "cell_type": "markdown",
     "checksum": "59b65eb269d15e0f9d37bd598908fba6",
     "grade": false,
     "grade_id": "c-205",
     "locked": true,
     "schema_version": 3,
     "solution": false,
     "task": false
    }
   },
   "source": [
    "* <font color=\"green\">問:</font> locationの列に書かれている値を, 重複を排除して表示せよ (ヒント: awk, sort, uniq)"
   ]
  },
  {
   "cell_type": "code",
   "execution_count": null,
   "metadata": {
    "deletable": false,
    "kernel": "Bash",
    "nbgrader": {
     "cell_type": "code",
     "checksum": "15bed405810c8315185feecfc647124b",
     "grade": true,
     "grade_id": "p-004",
     "locked": false,
     "points": 1,
     "schema_version": 3,
     "solution": true,
     "task": false
    }
   },
   "outputs": [],
   "source": [
    "\n"
   ]
  },
  {
   "cell_type": "markdown",
   "metadata": {
    "deletable": false,
    "editable": false,
    "kernel": "SoS",
    "nbgrader": {
     "cell_type": "markdown",
     "checksum": "3a3718454de9d16621389e93468c4ba3",
     "grade": false,
     "grade_id": "c-206",
     "locked": true,
     "schema_version": 3,
     "solution": false,
     "task": false
    }
   },
   "source": [
    "* 結果を観察して, locationのほとんどは国名だがそうとは限らないことを確認せよ"
   ]
  },
  {
   "cell_type": "markdown",
   "metadata": {
    "deletable": false,
    "editable": false,
    "kernel": "SoS",
    "nbgrader": {
     "cell_type": "markdown",
     "checksum": "e83e2bb6cc63ef9befa67d660374790c",
     "grade": false,
     "grade_id": "c-207",
     "locked": true,
     "schema_version": 3,
     "solution": false,
     "task": false
    }
   },
   "source": [
    "* <font color=\"green\">問:</font> iso_codeの列に書かれている値を, 重複を排除して表示せよ"
   ]
  },
  {
   "cell_type": "code",
   "execution_count": null,
   "metadata": {
    "deletable": false,
    "kernel": "Bash",
    "nbgrader": {
     "cell_type": "code",
     "checksum": "70476b6dc80c253bda975f2068c2b6e3",
     "grade": true,
     "grade_id": "p-005",
     "locked": false,
     "points": 1,
     "schema_version": 3,
     "solution": true,
     "task": false
    }
   },
   "outputs": [],
   "source": [
    "\n"
   ]
  },
  {
   "cell_type": "markdown",
   "metadata": {
    "deletable": false,
    "editable": false,
    "kernel": "SoS",
    "nbgrader": {
     "cell_type": "markdown",
     "checksum": "8f7c234583bf55fbbed78cf888283a61",
     "grade": false,
     "grade_id": "c-208",
     "locked": true,
     "schema_version": 3,
     "solution": false,
     "task": false
    }
   },
   "source": [
    "* <font color=\"green\">問:</font> locationが国名ぽくないもの(World, Asiaなど)を排除するにはどうしたらよいか考え, それらを排除したものだけを取り出す方法を考えよ. その上で国名ぽいlocationだけを表示せよ"
   ]
  },
  {
   "cell_type": "code",
   "execution_count": null,
   "metadata": {
    "deletable": false,
    "kernel": "Bash",
    "nbgrader": {
     "cell_type": "code",
     "checksum": "58331ce397a03ec1ad972767d71b4e01",
     "grade": true,
     "grade_id": "p-006",
     "locked": false,
     "points": 1,
     "schema_version": 3,
     "solution": true,
     "task": false
    }
   },
   "outputs": [],
   "source": [
    "\n"
   ]
  },
  {
   "cell_type": "markdown",
   "metadata": {
    "deletable": false,
    "editable": false,
    "kernel": "SoS",
    "nbgrader": {
     "cell_type": "markdown",
     "checksum": "c2c17bb0a660c478091dcd85c8e10a3a",
     "grade": false,
     "grade_id": "c-209",
     "locked": true,
     "schema_version": 3,
     "solution": false,
     "task": false
    }
   },
   "source": [
    "* <font color=\"green\">問:</font> それが全部で何種類あるか求めよ(それが世界の国の数(196)より多いのは国より小さい地域(United States Virgin Islandsなど)が含まれているからだと思われる. 以降はそれらを含めて「国」と呼ぶことにする"
   ]
  },
  {
   "cell_type": "code",
   "execution_count": null,
   "metadata": {
    "deletable": false,
    "kernel": "Bash",
    "nbgrader": {
     "cell_type": "code",
     "checksum": "d8a186545cb446d10e853085f8d51f50",
     "grade": true,
     "grade_id": "p-007",
     "locked": false,
     "points": 1,
     "schema_version": 3,
     "solution": true,
     "task": false
    }
   },
   "outputs": [],
   "source": [
    "\n"
   ]
  },
  {
   "cell_type": "markdown",
   "metadata": {
    "deletable": false,
    "editable": false,
    "kernel": "SoS",
    "nbgrader": {
     "cell_type": "markdown",
     "checksum": "03345fd7f636d1fd6f766031992a23a6",
     "grade": false,
     "grade_id": "c-210",
     "locked": true,
     "schema_version": 3,
     "solution": false,
     "task": false
    }
   },
   "source": [
    "* <font color=\"green\">問:</font> 各国に対して最後にtotal_casesが報告された行だけを表示せよ(各国について, 行は日付順に並んでいると仮定して良い)"
   ]
  },
  {
   "cell_type": "code",
   "execution_count": null,
   "metadata": {
    "deletable": false,
    "kernel": "Bash",
    "nbgrader": {
     "cell_type": "code",
     "checksum": "67770f493c61ecd4ab19eae70451c72a",
     "grade": true,
     "grade_id": "p-008",
     "locked": false,
     "points": 1,
     "schema_version": 3,
     "solution": true,
     "task": false
    }
   },
   "outputs": [],
   "source": [
    "\n"
   ]
  },
  {
   "cell_type": "markdown",
   "metadata": {
    "deletable": false,
    "editable": false,
    "kernel": "SoS",
    "nbgrader": {
     "cell_type": "markdown",
     "checksum": "f8a499fd86813bca2da0916b8e1118d2",
     "grade": false,
     "grade_id": "c-211",
     "locked": true,
     "schema_version": 3,
     "solution": false,
     "task": false
    }
   },
   "source": [
    "* <font color=\"green\">問:</font> 上記が各国に対する合計感染者数であると仮定して, 各国の合計感染者数を多い順に表示せよ. 自分の国は何位? 一番少ない国は? (もっともこれは報告された数であることに注意)"
   ]
  },
  {
   "cell_type": "code",
   "execution_count": null,
   "metadata": {
    "deletable": false,
    "kernel": "Bash",
    "nbgrader": {
     "cell_type": "code",
     "checksum": "cac77f63b76d4274366114a164188c86",
     "grade": true,
     "grade_id": "p-009",
     "locked": false,
     "points": 1,
     "schema_version": 3,
     "solution": true,
     "task": false
    }
   },
   "outputs": [],
   "source": [
    "\n"
   ]
  },
  {
   "cell_type": "markdown",
   "metadata": {
    "deletable": false,
    "editable": false,
    "kernel": "SoS",
    "nbgrader": {
     "cell_type": "markdown",
     "checksum": "f8edd71106a115ec06f006ff4ec43951",
     "grade": false,
     "grade_id": "c-212",
     "locked": true,
     "schema_version": 3,
     "solution": false,
     "task": false
    }
   },
   "source": [
    "* <font color=\"green\">問:</font> 一日の感染者数がもっとも多かった日は何年何月何日, どこの国で, 何人か?"
   ]
  },
  {
   "cell_type": "code",
   "execution_count": null,
   "metadata": {
    "deletable": false,
    "kernel": "Bash",
    "nbgrader": {
     "cell_type": "code",
     "checksum": "40206c1dd62f47e097ffb604fde25b1f",
     "grade": true,
     "grade_id": "p-010",
     "locked": false,
     "points": 1,
     "schema_version": 3,
     "solution": true,
     "task": false
    }
   },
   "outputs": [],
   "source": [
    "\n"
   ]
  },
  {
   "cell_type": "markdown",
   "metadata": {
    "deletable": false,
    "editable": false,
    "kernel": "SoS",
    "nbgrader": {
     "cell_type": "markdown",
     "checksum": "36703d2ccb392d26a2df3a9a5408d406",
     "grade": false,
     "grade_id": "c-213",
     "locked": true,
     "schema_version": 3,
     "solution": false,
     "task": false
    }
   },
   "source": [
    "* <font color=\"green\">問:</font> 各日付に対し, その日一日もっとも感染者(new_cases)が多かった国を求め, それを日付, 国, 感染者の順に表示せよ"
   ]
  },
  {
   "cell_type": "code",
   "execution_count": null,
   "metadata": {
    "deletable": false,
    "kernel": "Bash",
    "nbgrader": {
     "cell_type": "code",
     "checksum": "26be5bdfeda06256d0c6536187592df1",
     "grade": true,
     "grade_id": "p-011",
     "locked": false,
     "points": 1,
     "schema_version": 3,
     "solution": true,
     "task": false
    }
   },
   "outputs": [],
   "source": [
    "\n"
   ]
  },
  {
   "cell_type": "markdown",
   "metadata": {
    "deletable": false,
    "editable": false,
    "kernel": "SoS",
    "nbgrader": {
     "cell_type": "markdown",
     "checksum": "65120b19aa61126872ddc3b114ef4890",
     "grade": false,
     "grade_id": "c-214",
     "locked": true,
     "schema_version": 3,
     "solution": false,
     "task": false
    }
   },
   "source": [
    "# <font color=\"green\"> Problem 2 :  Wikipedia ダンプの解析</font>"
   ]
  },
  {
   "cell_type": "markdown",
   "metadata": {
    "deletable": false,
    "editable": false,
    "kernel": "SoS",
    "nbgrader": {
     "cell_type": "markdown",
     "checksum": "f6ad78f812b9ccbae2ad48a0504f51c1",
     "grade": false,
     "grade_id": "c-215",
     "locked": true,
     "schema_version": 3,
     "solution": false,
     "task": false
    }
   },
   "source": [
    "* Wikipedia ダンプは wikipedia の全データをダンプしたファイル\n",
    "* 言語ごとに別れて, 1つの, bzip2 で圧縮されたXMLファイル(.xml.bz2)として提供されている\n",
    "* ここでは大きさとして手頃な[日本語XMLダンプ](https://dumps.wikimedia.org/jawiki/20221220/) を使う\n",
    "* 全員がダウンロードするは無駄なので taulec 環境に `/home/share/data/jawiki-20221220-pages-articles-multistream.xml.bz2` としておいてある\n",
    "* 解凍済みのものも `/home/share/data/jawiki-20221220-pages-articles-multistream.xml` としておいてある\n",
    "* 自分のPCにダウンロードしたい人はこれを scp でコピーする\n",
    "```\n",
    "scp uXXXXX@taulec:/home/share/data/jawiki-20221220-pages-articles-multistream.xml.bz2 .\n",
    "```\n",
    "か, オリジナルを入手したければ,\n",
    "```\n",
    "wget https://dumps.wikimedia.org/jawiki/20221220/jawiki-20221220-pages-articles-multistream.xml.bz2\n",
    "```"
   ]
  },
  {
   "cell_type": "markdown",
   "metadata": {
    "deletable": false,
    "editable": false,
    "kernel": "SoS",
    "nbgrader": {
     "cell_type": "markdown",
     "checksum": "04dd8fb5a4e5044fac6c9decf4a13659",
     "grade": false,
     "grade_id": "c-216",
     "locked": true,
     "schema_version": 3,
     "solution": false,
     "task": false
    }
   },
   "source": [
    "* <font color=\"green\">問:</font> 毎回長いファイル名を打ち込まなくて良いよう, `os15_pipe` ディレクトリに `jawiki.xml`, `jawiki.xml.bz2` という名前で2つのシンボリックリンクを作れ"
   ]
  },
  {
   "cell_type": "code",
   "execution_count": null,
   "metadata": {
    "deletable": false,
    "kernel": "Bash",
    "nbgrader": {
     "cell_type": "code",
     "checksum": "8c86988ee9165f71766113c3c7e07624",
     "grade": true,
     "grade_id": "p-012",
     "locked": false,
     "points": 1,
     "schema_version": 3,
     "solution": true,
     "task": false
    }
   },
   "outputs": [],
   "source": [
    "\n"
   ]
  },
  {
   "cell_type": "markdown",
   "metadata": {
    "deletable": false,
    "editable": false,
    "kernel": "SoS",
    "nbgrader": {
     "cell_type": "markdown",
     "checksum": "4e3ae7c7c16d25dbe021f7a4d67bf899",
     "grade": false,
     "grade_id": "c-217",
     "locked": true,
     "schema_version": 3,
     "solution": false,
     "task": false
    }
   },
   "source": [
    "* bzip2 形式で圧縮されたもの(.xml.bz2)は4GBくらい, 解凍したもの(.xml)は15GBくらい\n",
    "* ls のオプション`-h` はファイルの大きさを human readable (桁数の大きい数字を100K, 100M, 10Gのよう)に表示するオプション"
   ]
  },
  {
   "cell_type": "code",
   "execution_count": null,
   "metadata": {
    "kernel": "Bash",
    "nbgrader": {
     "grade": false,
     "grade_id": "c-218",
     "locked": false,
     "schema_version": 3,
     "solution": false,
     "task": false
    }
   },
   "outputs": [],
   "source": [
    "ls -lh /home/share/data/jawiki-*"
   ]
  },
  {
   "cell_type": "markdown",
   "metadata": {
    "deletable": false,
    "editable": false,
    "kernel": "SoS",
    "nbgrader": {
     "cell_type": "markdown",
     "checksum": "a9cf1676147c227d03f9c4171130b033",
     "grade": false,
     "grade_id": "c-219",
     "locked": true,
     "schema_version": 3,
     "solution": false,
     "task": false
    }
   },
   "source": [
    "* 解凍したファイルを作らずに処理をしたければ,  `bzip2 -dc jawiki.xml.bz2 | ...` のようにする\n",
    "* しかし, bzip2での解凍にはかなり時間がかかる(7-8分)\n",
    "* pbzip2 (並列版)で解凍すればかなり短縮できる\n",
    "  * 並列度(スレッド数)を指定するには`-p8`のようにするが, 多すぎる(`-p26`以上にする)とsegmentation faultがおきる(原因不明). 深追いせずに `-p25`までで使えば良さそう `pbzip2 -p25 -dc jawiki.xml.bz2 | ...`\n",
    "* `-p25` でも20秒くらいかかるので, 作業効率のため解凍したものを使うことを推奨する\n",
    "* 端末で lv を使って最初の方数ページをめくって見て, データの形式を確かめてみよ\n",
    "* XMLは, 木構造をテキストで表すデータ形式で, 一例は以下\n",
    "```\n",
    "<person>\n",
    " <name>Masakazu Mimura</name>\n",
    " <age>55</age>\n",
    " <height>165</height>\n",
    "</person>\n",
    "```\n",
    "* このテキストが意図するところ(Masakazu Mimuraという, 55歳, 身長165cmの人)は多くの人に明らかだと思われる\n",
    "* `<person>`, `</person>`, `<name>`, `</name>`などを_タグ_と呼ぶ\n",
    "* `<person>`, `<name>` などを開始タグ, `</person>`, `</name>` などを終了タグと呼ぶ\n",
    "* XMLでは, '<name>Masakazu Mimura</name>' のような, 開始タグから同じ名前の終了タグまでが一つの意味のあるデータの塊を表している\n",
    "* '<person>...</person>'のように, 内側にさらに別の開始タグ, 終了タグを含むこともできるため, 結果的にXMLは木構造を表すことができる\n",
    "\n",
    "* 目視結果からwikipediaの各ページ(`<page>`)に, title, contributor (username), timestamp などのタグがあることがわかるだろう\n",
    "* それぞれ各ページ(記事)のタイトル, 作者, 作られた(または修正された)時刻を表していると思われる\n",
    "* なお同じ記事を元の作者とは違う人が記事を更新することがあるので, contributor, timestampは必ずしも記事のオリジナルの作者や, その記事が最初に書かれた時点, という意味ではないが, ここではそれ以上のデータがないのでそうみなすことにする"
   ]
  },
  {
   "cell_type": "markdown",
   "metadata": {
    "deletable": false,
    "editable": false,
    "kernel": "SoS",
    "nbgrader": {
     "cell_type": "markdown",
     "checksum": "0f84b69f2c5325a9043a5752d3164280",
     "grade": false,
     "grade_id": "c-220",
     "locked": true,
     "schema_version": 3,
     "solution": false,
     "task": false
    }
   },
   "source": [
    "* <font color=\"green\">問:</font> wikipediaのXMLデータから, 各記事のタイトル, 作者, 時刻を取り出して一行にタブ区切りで表示し, それを別のファイル (pages.csv) に保存せよ"
   ]
  },
  {
   "cell_type": "markdown",
   "metadata": {
    "deletable": false,
    "editable": false,
    "kernel": "SoS",
    "nbgrader": {
     "cell_type": "markdown",
     "checksum": "0cfaa91e086c724011dc7b1b1f5955a7",
     "grade": false,
     "grade_id": "c-221",
     "locked": true,
     "schema_version": 3,
     "solution": false,
     "task": false
    }
   },
   "source": [
    "* ヒント: awkを使う. awkに渡す文字列はかなり長くなる. 必要ならばawkプログラムをファイルに書くとよい\n",
    "* ファイルが大きいので実行時間もかなり長くなる. いきなりファイルすべてを処理しようとせず, `head`を使ってファイルの一部分だけを処理して, うまく行きそうなことを確認してからすべてを処理せよ"
   ]
  },
  {
   "cell_type": "code",
   "execution_count": null,
   "metadata": {
    "deletable": false,
    "kernel": "Bash",
    "nbgrader": {
     "cell_type": "code",
     "checksum": "0b52820fd8a9ceb9b8a6c37f58d6ef3a",
     "grade": true,
     "grade_id": "p-013",
     "locked": false,
     "points": 1,
     "schema_version": 3,
     "solution": true,
     "task": false
    }
   },
   "outputs": [],
   "source": [
    "\n"
   ]
  },
  {
   "cell_type": "markdown",
   "metadata": {
    "deletable": false,
    "editable": false,
    "kernel": "SoS",
    "nbgrader": {
     "cell_type": "markdown",
     "checksum": "434b923656109041906745bdecc6e133",
     "grade": false,
     "grade_id": "c-222",
     "locked": true,
     "schema_version": 3,
     "solution": false,
     "task": false
    }
   },
   "source": [
    "* 以降は `pages.csv` にコマンドを適用する"
   ]
  },
  {
   "cell_type": "markdown",
   "metadata": {
    "deletable": false,
    "editable": false,
    "kernel": "SoS",
    "nbgrader": {
     "cell_type": "markdown",
     "checksum": "c58d131fe7d951a14dffd4418f6f4fb3",
     "grade": false,
     "grade_id": "c-223",
     "locked": true,
     "schema_version": 3,
     "solution": false,
     "task": false
    }
   },
   "source": [
    "* <font color=\"green\">問:</font> タイムスタンプが最古の記事はいつか? 最古な20件を表示せよ (なお, bashやzshのコマンドラインでタブを打つと補完の意味になってしまう. タブをコマンドに入力する方法はググって調べよ)"
   ]
  },
  {
   "cell_type": "code",
   "execution_count": null,
   "metadata": {
    "deletable": false,
    "kernel": "Bash",
    "nbgrader": {
     "cell_type": "code",
     "checksum": "0e2c91211abbbed27b3ccff02697cdc0",
     "grade": true,
     "grade_id": "p-014",
     "locked": false,
     "points": 1,
     "schema_version": 3,
     "solution": true,
     "task": false
    }
   },
   "outputs": [],
   "source": [
    "\n"
   ]
  },
  {
   "cell_type": "markdown",
   "metadata": {
    "deletable": false,
    "editable": false,
    "kernel": "SoS",
    "nbgrader": {
     "cell_type": "markdown",
     "checksum": "722415d6270881f771cf937fb70fc90a",
     "grade": false,
     "grade_id": "c-224",
     "locked": true,
     "schema_version": 3,
     "solution": false,
     "task": false
    }
   },
   "source": [
    "* <font color=\"green\">問:</font> 最古の記事が書かれてから現在に至るまでの, 月別の記事件数を表示せよ"
   ]
  },
  {
   "cell_type": "code",
   "execution_count": null,
   "metadata": {
    "deletable": false,
    "kernel": "Bash",
    "nbgrader": {
     "cell_type": "code",
     "checksum": "50f77eb6c84bef6e32c1ab649d3233a8",
     "grade": true,
     "grade_id": "p-015",
     "locked": false,
     "points": 1,
     "schema_version": 3,
     "solution": true,
     "task": false
    }
   },
   "outputs": [],
   "source": [
    "\n"
   ]
  },
  {
   "cell_type": "markdown",
   "metadata": {
    "deletable": false,
    "editable": false,
    "kernel": "SoS",
    "nbgrader": {
     "cell_type": "markdown",
     "checksum": "f2fd96a751a6a59f06c25347cae04007",
     "grade": false,
     "grade_id": "c-225",
     "locked": true,
     "schema_version": 3,
     "solution": false,
     "task": false
    }
   },
   "source": [
    "* <font color=\"green\">問:</font> 最も多く記事の作者になっている人とその件数を, 上位20人表示せよ"
   ]
  },
  {
   "cell_type": "code",
   "execution_count": null,
   "metadata": {
    "deletable": false,
    "kernel": "Bash",
    "nbgrader": {
     "cell_type": "code",
     "checksum": "643a30ffd2a100ff785ac53a2423f799",
     "grade": true,
     "grade_id": "p-016",
     "locked": false,
     "points": 1,
     "schema_version": 3,
     "solution": true,
     "task": false
    }
   },
   "outputs": [],
   "source": [
    "\n"
   ]
  }
 ],
 "metadata": {
  "kernelspec": {
   "display_name": "SoS",
   "language": "sos",
   "name": "sos"
  },
  "language_info": {
   "codemirror_mode": "sos",
   "file_extension": ".sos",
   "mimetype": "text/x-sos",
   "name": "sos",
   "nbconvert_exporter": "sos_notebook.converter.SoS_Exporter",
   "pygments_lexer": "sos"
  },
  "sos": {
   "kernels": [
    [
     "Bash",
     "bash",
     "bash",
     "",
     "shell"
    ],
    [
     "C",
     "c_kernel",
     "c",
     "",
     ""
    ],
    [
     "Go",
     "gophernotes",
     "go",
     "",
     ""
    ],
    [
     "Julia 1.4.1",
     "julia-1.4",
     "julia",
     "",
     ""
    ],
    [
     "OCaml default",
     "ocaml-jupyter",
     "OCaml",
     "",
     "text/x-ocaml"
    ],
    [
     "Python 3 (ipykernel)",
     "python3",
     "python3",
     "",
     {
      "name": "ipython",
      "version": 3
     }
    ],
    [
     "Rust",
     "rust",
     "rust",
     "",
     ""
    ]
   ],
   "panel": {
    "displayed": true,
    "height": 0
   },
   "version": "0.23.3"
  }
 },
 "nbformat": 4,
 "nbformat_minor": 4
}
