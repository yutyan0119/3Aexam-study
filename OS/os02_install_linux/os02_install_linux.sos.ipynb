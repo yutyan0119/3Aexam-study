{
 "cells": [
  {
   "cell_type": "markdown",
   "metadata": {
    "deletable": false,
    "editable": false,
    "kernel": "SoS",
    "nbgrader": {
     "cell_type": "markdown",
     "checksum": "f155478207535310614f4f6fd573c1e9",
     "grade": false,
     "grade_id": "c-001",
     "locked": true,
     "schema_version": 3,
     "solution": false,
     "task": false
    }
   },
   "source": [
    "\n",
    "#  オペレーティングシステム 演習 02\n",
    "#  Linuxのインストール"
   ]
  },
  {
   "cell_type": "markdown",
   "metadata": {
    "kernel": "SoS",
    "nbgrader": {
     "grade": false,
     "grade_id": "c-002",
     "locked": false,
     "schema_version": 3,
     "solution": false,
     "task": false
    }
   },
   "source": [
    "\n",
    "名前と学生証番号を書け. Enter your name and student ID.\n",
    "\n",
    " * 名前 Name:\n",
    " * 学生証番号 Student ID:\n"
   ]
  },
  {
   "cell_type": "markdown",
   "metadata": {
    "deletable": false,
    "editable": false,
    "kernel": "SoS",
    "nbgrader": {
     "cell_type": "markdown",
     "checksum": "ee19328555edcb4426e71a7cfcb99a10",
     "grade": false,
     "grade_id": "c-003",
     "locked": true,
     "schema_version": 3,
     "solution": false,
     "task": false
    }
   },
   "source": [
    "#  仮想マシンとLinuxのインストールをやってみて\n",
    "* やり方は以下のページの動画で説明している\n",
    "  * https://www.eidos.ic.i.u-tokyo.ac.jp/~tau/lecture/operating_systems/html/install_vm_and_linux.html\n",
    "* ホスト環境(外側のOS環境. そこに仮想マシンを入れる)やそこで利用する仮想マシンは自由\n",
    "* 選択肢(余力があればインストール動画を追加しますがそれを待たずにやってみて, わからなければ質問ください)\n",
    "  * ホスト環境がWindows : Hyper-V (推奨), VirtualBox, VMWare\n",
    "  * ホスト環境がMacOS : VirtualBox, VMWare, Parallels\n",
    "  * ホスト環境がLinux : kvm (推奨), VirtualBox, VMWare\n",
    "* 動画で説明しているのは Windows Hyper-V\n",
    "\n",
    "# <font color=\"green\"> Problem 1 :  詳細＋提出物仕様</font>\n",
    "1. 自分のホスト環境で使える仮想マシンをインストールし, その中にUbuntu (+ デスクトップ環境)をインストールする\n",
    "1. インストール中に聞かれるユーザ名を<font color=\"red\">自分の名前(もしくは近いもの)</font>で作る(田浦だったら, taura, tau, など)\n",
    "1. <font color=\"red\">インストールされたUbuntu環境で</font>Webブラウザ(e.g., Firefox, Chromium など)を立ち上げ, 授業のJupyterにアクセスし, ログインする\n",
    "  * 注: 上記動画でインストールしているubuntu-desktop-minimalという環境だと, Webブラウザはインストールされない. 端末で `sudo apt install firefox`, `sudo apt install chromium-browser` などのコマンドでインストールする\n",
    "\n",
    "<font color=\"red\">Ubuntu環境のスクリーンショット</font>が提出物. そのスクリーンショットには以下がうつっていること.\n",
    "  * (a) 仮想マシンソフト内のLinux環境のWebブラウザで以下の bash セル(whoami コマンド)を実行した結果 (授業で割り当てられた u22xxx が表示されるはず)\n",
    "  * (b) 仮想マシンソフト内のLinuxの<font color=\"red\">コマンドライン端末</font>の窓で, whoami コマンドを実行した結果(上記2.で設定した結果が表示されるはず)\n",
    "\n",
    "Ubuntuでスクリーンショットを撮るには, 左下のメニューを開き screenshot を検索し, \"Take Screenshot\" を起動. 画面全体のスクリーンショットは Screen を選択して記録する\n",
    "\n",
    "* [作業手順動画](https://youtu.be/zbE2SfXOW6w)\n",
    "\n",
    "* 正しいスクリーンショットの例\n",
    "\n",
    "<a href=\"img/vm_sample.png\" target=\"_blank\" opener=\"norel\">\n",
    "<img src=img/vm_sample.png width=320>\n",
    "</a>\n"
   ]
  },
  {
   "cell_type": "markdown",
   "metadata": {
    "deletable": false,
    "editable": false,
    "kernel": "SoS",
    "nbgrader": {
     "cell_type": "markdown",
     "checksum": "89f28032b1ff053f7941f2496fb075d8",
     "grade": false,
     "grade_id": "c-004",
     "locked": true,
     "schema_version": 3,
     "solution": false,
     "task": false
    }
   },
   "source": [
    "* 以下を, 仮想マシンにインストールしたLinuxから実行"
   ]
  },
  {
   "cell_type": "code",
   "execution_count": null,
   "metadata": {
    "deletable": false,
    "kernel": "Bash",
    "nbgrader": {
     "cell_type": "code",
     "checksum": "762eba9b46a5bd8e47180949ecc58e40",
     "grade": true,
     "grade_id": "p-001",
     "locked": false,
     "points": 1,
     "schema_version": 3,
     "solution": true,
     "task": false
    }
   },
   "outputs": [],
   "source": [
    "\n",
    "whoami"
   ]
  },
  {
   "cell_type": "markdown",
   "metadata": {
    "deletable": false,
    "editable": false,
    "kernel": "SoS",
    "nbgrader": {
     "cell_type": "markdown",
     "checksum": "b3e4946e3d044c4e38ba688056cd358e",
     "grade": false,
     "grade_id": "c-005",
     "locked": true,
     "schema_version": 3,
     "solution": false,
     "task": false
    }
   },
   "source": [
    "* スクリーンショットをアップロードし, 以下のディレクトリ/ファイル名で配置し, 以下を実行して正しく表示せよ"
   ]
  },
  {
   "cell_type": "code",
   "execution_count": null,
   "metadata": {
    "deletable": false,
    "kernel": "Python 3 (ipykernel)",
    "nbgrader": {
     "cell_type": "code",
     "checksum": "b86b6ed2cef30b6d4fb4db3dd177447a",
     "grade": true,
     "grade_id": "p-002",
     "locked": false,
     "points": 1,
     "schema_version": 3,
     "solution": true,
     "task": false
    }
   },
   "outputs": [],
   "source": [
    "\n",
    "from IPython.display import Image\n",
    "import os\n",
    "Image(os.path.expanduser(\"~/notebooks/os02_install_linux/vm.png\"))"
   ]
  }
 ],
 "metadata": {
  "kernelspec": {
   "display_name": "SoS",
   "language": "sos",
   "name": "sos"
  },
  "language_info": {
   "codemirror_mode": "sos",
   "file_extension": ".sos",
   "mimetype": "text/x-sos",
   "name": "sos",
   "nbconvert_exporter": "sos_notebook.converter.SoS_Exporter",
   "pygments_lexer": "sos"
  },
  "sos": {
   "kernels": [
    [
     "Bash",
     "bash",
     "bash",
     "",
     "shell"
    ],
    [
     "C",
     "c_kernel",
     "c",
     "",
     ""
    ],
    [
     "Go",
     "gophernotes",
     "go",
     "",
     ""
    ],
    [
     "Julia 1.4.1",
     "julia-1.4",
     "julia",
     "",
     ""
    ],
    [
     "OCaml default",
     "ocaml-jupyter",
     "OCaml",
     "",
     "text/x-ocaml"
    ],
    [
     "Python 3 (ipykernel)",
     "python3",
     "python3",
     "",
     {
      "name": "ipython",
      "version": 3
     }
    ],
    [
     "Rust",
     "rust",
     "rust",
     "",
     ""
    ]
   ],
   "panel": {
    "displayed": true,
    "height": 0
   },
   "version": "0.23.3"
  }
 },
 "nbformat": 4,
 "nbformat_minor": 4
}
