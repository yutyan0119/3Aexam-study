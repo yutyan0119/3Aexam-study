{
 "cells": [
  {
   "cell_type": "markdown",
   "metadata": {
    "deletable": false,
    "editable": false,
    "kernel": "SoS",
    "nbgrader": {
     "cell_type": "markdown",
     "checksum": "028f00a534d3a3d67989c14fdddf82d2",
     "grade": false,
     "grade_id": "c-001",
     "locked": true,
     "schema_version": 3,
     "solution": false,
     "task": false
    }
   },
   "source": [
    "# <font color=\"green\"> Problem 1 :  COVID-19データの解析</font>"
   ]
  },
  {
   "cell_type": "markdown",
   "metadata": {
    "deletable": false,
    "editable": false,
    "kernel": "SoS",
    "nbgrader": {
     "cell_type": "markdown",
     "checksum": "71c0571ed1f18330badd3d30e89bd9b1",
     "grade": false,
     "grade_id": "c-002",
     "locked": true,
     "schema_version": 3,
     "solution": false,
     "task": false
    }
   },
   "source": [
    "* Our World in Data の[COVID-19感染者数のページ](https://ourworldindata.org/covid-cases)から Coronavirus (COVID-19) Cases の csv データを入手せよ"
   ]
  },
  {
   "cell_type": "code",
   "execution_count": null,
   "metadata": {
    "deletable": false,
    "editable": false,
    "kernel": "Bash",
    "nbgrader": {
     "cell_type": "code",
     "checksum": "fd056383a9d160263034daa29a5f5b26",
     "grade": false,
     "grade_id": "c-003",
     "locked": true,
     "schema_version": 3,
     "solution": false,
     "task": false
    }
   },
   "outputs": [],
   "source": [
    "wget https://covid.ourworldindata.org/data/owid-covid-data.csv"
   ]
  },
  {
   "cell_type": "markdown",
   "metadata": {
    "deletable": false,
    "editable": false,
    "kernel": "SoS",
    "nbgrader": {
     "cell_type": "markdown",
     "checksum": "e97916aaccc212f023fc901d09daddb6",
     "grade": false,
     "grade_id": "c-004",
     "locked": true,
     "schema_version": 3,
     "solution": false,
     "task": false
    }
   },
   "source": [
    "* <font color=\"green\">問:</font> 各行のセルとセルの間は何で区切られているか?"
   ]
  },
  {
   "cell_type": "markdown",
   "metadata": {
    "deletable": false,
    "editable": false,
    "kernel": "SoS",
    "nbgrader": {
     "cell_type": "markdown",
     "checksum": "3f18d077b65c8bc6791f7512ad068b80",
     "grade": false,
     "grade_id": "c-005",
     "locked": true,
     "schema_version": 3,
     "solution": false,
     "task": false
    }
   },
   "source": [
    ", (カンマ)"
   ]
  },
  {
   "cell_type": "markdown",
   "metadata": {
    "deletable": false,
    "editable": false,
    "kernel": "SoS",
    "nbgrader": {
     "cell_type": "markdown",
     "checksum": "7db74a9f3dbcfde5a1a986da71280eb1",
     "grade": false,
     "grade_id": "c-006",
     "locked": true,
     "schema_version": 3,
     "solution": false,
     "task": false
    }
   },
   "source": [
    "* <font color=\"green\">問:</font> それを確認するためのコマンドを書け(ヒント: つまりカンマで区切ったときの列の個数が全行で同じならば良い)"
   ]
  },
  {
   "cell_type": "code",
   "execution_count": null,
   "metadata": {
    "kernel": "Bash",
    "nbgrader": {
     "grade": false,
     "grade_id": "c-007",
     "locked": false,
     "schema_version": 3,
     "solution": false,
     "task": false
    }
   },
   "outputs": [],
   "source": [
    "awk '{print NF}' FS=, owid-covid-data.csv | uniq"
   ]
  },
  {
   "cell_type": "markdown",
   "metadata": {
    "deletable": false,
    "editable": false,
    "kernel": "SoS",
    "nbgrader": {
     "cell_type": "markdown",
     "checksum": "698eb709b71495cdf15adf51252a192f",
     "grade": false,
     "grade_id": "c-008",
     "locked": true,
     "schema_version": 3,
     "solution": false,
     "task": false
    }
   },
   "source": [
    "* <font color=\"green\">問:</font> 以降のため, 列名と列番号の対応を以下のように表示するコマンドを実行せよ(ヒント: 一行目の , を改行 \"\\n\" におきかえて表示すれば良い. それをやるコマンドは`tr`. 使い方はmanまたはググってください)"
   ]
  },
  {
   "cell_type": "code",
   "execution_count": null,
   "metadata": {
    "kernel": "Bash",
    "nbgrader": {
     "grade": false,
     "grade_id": "c-009",
     "locked": false,
     "schema_version": 3,
     "solution": false,
     "task": false
    }
   },
   "outputs": [],
   "source": [
    "head -1 owid-covid-data.csv | tr , \"\\n\" | cat -n"
   ]
  },
  {
   "cell_type": "markdown",
   "metadata": {
    "deletable": false,
    "editable": false,
    "kernel": "SoS",
    "nbgrader": {
     "cell_type": "markdown",
     "checksum": "12f3a50de209d2dbee81ba1585f4c550",
     "grade": false,
     "grade_id": "c-010",
     "locked": true,
     "schema_version": 3,
     "solution": false,
     "task": false
    }
   },
   "source": [
    "* <font color=\"green\">問:</font> locationの列に書かれている値を, 重複を排除して表示せよ (ヒント: awk, sort, uniq)"
   ]
  },
  {
   "cell_type": "code",
   "execution_count": null,
   "metadata": {
    "deletable": false,
    "editable": false,
    "kernel": "Bash",
    "nbgrader": {
     "cell_type": "code",
     "checksum": "0de6661705a966441c6097ba18e7750d",
     "grade": false,
     "grade_id": "c-011",
     "locked": true,
     "schema_version": 3,
     "solution": false,
     "task": false
    }
   },
   "outputs": [],
   "source": [
    "awk '{print $3}' FS=, owid-covid-data.csv | sort | uniq"
   ]
  },
  {
   "cell_type": "markdown",
   "metadata": {
    "deletable": false,
    "editable": false,
    "kernel": "SoS",
    "nbgrader": {
     "cell_type": "markdown",
     "checksum": "f34db90cbd4b12d21fb0e10fc14a043c",
     "grade": false,
     "grade_id": "c-012",
     "locked": true,
     "schema_version": 3,
     "solution": false,
     "task": false
    }
   },
   "source": [
    "* <font color=\"green\">問:</font> iso_codeの列に書かれている値を, 重複を排除して表示せよ"
   ]
  },
  {
   "cell_type": "code",
   "execution_count": null,
   "metadata": {
    "deletable": false,
    "editable": false,
    "kernel": "Bash",
    "nbgrader": {
     "cell_type": "code",
     "checksum": "3354070260504769a0dd4b6b7e5e3088",
     "grade": false,
     "grade_id": "c-013",
     "locked": true,
     "schema_version": 3,
     "solution": false,
     "task": false
    }
   },
   "outputs": [],
   "source": [
    "awk '{print $1}' FS=, owid-covid-data.csv | sort | uniq"
   ]
  },
  {
   "cell_type": "markdown",
   "metadata": {
    "deletable": false,
    "editable": false,
    "kernel": "SoS",
    "nbgrader": {
     "cell_type": "markdown",
     "checksum": "aac7e2a67d29aaa4a5aa503d25b19fb3",
     "grade": false,
     "grade_id": "c-014",
     "locked": true,
     "schema_version": 3,
     "solution": false,
     "task": false
    }
   },
   "source": [
    "* <font color=\"green\">問:</font> locationが国名ぽくないもの(World, Asiaなど)を排除するにはどうしたらよいか考え, それらを排除したものだけを取り出す方法を考えよ. その上で国名ぽいlocationだけを表示せよ"
   ]
  },
  {
   "cell_type": "code",
   "execution_count": null,
   "metadata": {
    "deletable": false,
    "editable": false,
    "kernel": "Bash",
    "nbgrader": {
     "cell_type": "code",
     "checksum": "06368bd11797883d7d5c9a89df36d5bf",
     "grade": false,
     "grade_id": "c-015",
     "locked": true,
     "schema_version": 3,
     "solution": false,
     "task": false
    }
   },
   "outputs": [],
   "source": [
    "awk '$1 !~ /OWID_/ {print $3}' FS=, owid-covid-data.csv  | sort | uniq "
   ]
  },
  {
   "cell_type": "markdown",
   "metadata": {
    "deletable": false,
    "editable": false,
    "kernel": "SoS",
    "nbgrader": {
     "cell_type": "markdown",
     "checksum": "bbd3616fe7944fa5c3a0c723891f420c",
     "grade": false,
     "grade_id": "c-016",
     "locked": true,
     "schema_version": 3,
     "solution": false,
     "task": false
    }
   },
   "source": [
    "* <font color=\"green\">問:</font> それが全部で何種類あるか求めよ(それが世界の国の数(196)より多いのは国より小さい地域(United States Virgin Islandsなど)が含まれているからだと思われる. 以降はそれらを含めて「国」と呼ぶことにする"
   ]
  },
  {
   "cell_type": "code",
   "execution_count": null,
   "metadata": {
    "deletable": false,
    "editable": false,
    "kernel": "Bash",
    "nbgrader": {
     "cell_type": "code",
     "checksum": "e8bc31ae3c1ad3130dff7191cce576a6",
     "grade": false,
     "grade_id": "c-017",
     "locked": true,
     "schema_version": 3,
     "solution": false,
     "task": false
    }
   },
   "outputs": [],
   "source": [
    "awk '$1 !~ /OWID_/ {print $3}' FS=, owid-covid-data.csv  | sort | uniq | wc"
   ]
  },
  {
   "cell_type": "markdown",
   "metadata": {
    "deletable": false,
    "editable": false,
    "kernel": "SoS",
    "nbgrader": {
     "cell_type": "markdown",
     "checksum": "d24207d0f9cc0567fde712dc3c590c87",
     "grade": false,
     "grade_id": "c-018",
     "locked": true,
     "schema_version": 3,
     "solution": false,
     "task": false
    }
   },
   "source": [
    "* <font color=\"green\">問:</font> 各国に対して最後にtotal_casesが報告された行だけを表示せよ(各国について, 行は日付順に並んでいると仮定して良い)"
   ]
  },
  {
   "cell_type": "code",
   "execution_count": null,
   "metadata": {
    "deletable": false,
    "editable": false,
    "kernel": "Bash",
    "nbgrader": {
     "cell_type": "code",
     "checksum": "bf504515ffa14d14a0ade8c4b902a5ac",
     "grade": false,
     "grade_id": "c-019",
     "locked": true,
     "schema_version": 3,
     "solution": false,
     "task": false
    }
   },
   "outputs": [],
   "source": [
    "awk '$1 !~ /OWID_/ && $5 != \"\"' FS=, owid-covid-data.csv | awk 'NR>1 && $3 != x { print last } { x=$3; last=$0; }' FS=,"
   ]
  },
  {
   "cell_type": "markdown",
   "metadata": {
    "deletable": false,
    "editable": false,
    "kernel": "SoS",
    "nbgrader": {
     "cell_type": "markdown",
     "checksum": "93fc9b64f2428c63eab556a3518a0f4d",
     "grade": false,
     "grade_id": "c-020",
     "locked": true,
     "schema_version": 3,
     "solution": false,
     "task": false
    }
   },
   "source": [
    "* <font color=\"green\">問:</font> 上記が各国に対する合計感染者数であると仮定して, 各国の合計感染者数を多い順に表示せよ. 自分の国は何位? 一番少ない国は? (もっともこれは報告された数であることに注意)"
   ]
  },
  {
   "cell_type": "code",
   "execution_count": null,
   "metadata": {
    "deletable": false,
    "editable": false,
    "kernel": "Bash",
    "nbgrader": {
     "cell_type": "code",
     "checksum": "9d7dd530eb59efe8976642ae5f715607",
     "grade": false,
     "grade_id": "c-021",
     "locked": true,
     "schema_version": 3,
     "solution": false,
     "task": false
    }
   },
   "outputs": [],
   "source": [
    "awk '$1 !~ /OWID_/ && $5 != \"\"' FS=, owid-covid-data.csv | awk 'NR>1 && $3 != x { split(last,a,FS); print a[3] \",\" a[5] } { x=$3; last=$0; }' FS=, | sort -t , -k 2 -n -r"
   ]
  },
  {
   "cell_type": "markdown",
   "metadata": {
    "deletable": false,
    "editable": false,
    "kernel": "SoS",
    "nbgrader": {
     "cell_type": "markdown",
     "checksum": "0e48bf85c26d73f703e381fb77e01bd1",
     "grade": false,
     "grade_id": "c-022",
     "locked": true,
     "schema_version": 3,
     "solution": false,
     "task": false
    }
   },
   "source": [
    "* <font color=\"green\">問:</font> 一日の感染者数がもっとも多かった日は何年何月何日, どこの国で, 何人か?"
   ]
  },
  {
   "cell_type": "code",
   "execution_count": null,
   "metadata": {
    "deletable": false,
    "editable": false,
    "kernel": "Bash",
    "nbgrader": {
     "cell_type": "code",
     "checksum": "76355fc0412d2872c62cd29a84cf6a14",
     "grade": false,
     "grade_id": "c-023",
     "locked": true,
     "schema_version": 3,
     "solution": false,
     "task": false
    }
   },
   "outputs": [],
   "source": [
    "awk '$1 !~ /OWID_/ {print $3 FS $4 FS $6}' FS=, owid-covid-data.csv | sort -t , -k 3 -n -r | head -1"
   ]
  },
  {
   "cell_type": "markdown",
   "metadata": {
    "deletable": false,
    "editable": false,
    "kernel": "SoS",
    "nbgrader": {
     "cell_type": "markdown",
     "checksum": "07cb102393d981effca11126ad1ec3ec",
     "grade": false,
     "grade_id": "c-024",
     "locked": true,
     "schema_version": 3,
     "solution": false,
     "task": false
    }
   },
   "source": [
    "* <font color=\"green\">問:</font> 各日付に対し, その日一日もっとも感染者(new_cases)が多かった国を求め, それを日付, 国, 感染者の順に表示せよ"
   ]
  },
  {
   "cell_type": "code",
   "execution_count": null,
   "metadata": {
    "deletable": false,
    "editable": false,
    "kernel": "Bash",
    "nbgrader": {
     "cell_type": "code",
     "checksum": "a2e787389510d643db5e51531ad7ec8a",
     "grade": false,
     "grade_id": "c-025",
     "locked": true,
     "schema_version": 3,
     "solution": false,
     "task": false
    }
   },
   "outputs": [],
   "source": [
    "awk '$1 !~ /OWID_/ && $6 != \"\"' FS=, owid-covid-data.csv | sort -t , -k 4 | awk 'NR>1 && $4 != x { print x \",\" y \",\" z ; x=$4; y=$6; z=$3; } { if ($6 > y) { y = $6; z = $3; } }' FS=, "
   ]
  },
  {
   "cell_type": "markdown",
   "metadata": {
    "deletable": false,
    "editable": false,
    "kernel": "SoS",
    "nbgrader": {
     "cell_type": "markdown",
     "checksum": "8654b4fbfc7aeef0765cbcaeb6bb9082",
     "grade": false,
     "grade_id": "c-026",
     "locked": true,
     "schema_version": 3,
     "solution": false,
     "task": false
    }
   },
   "source": [
    "# <font color=\"green\"> Problem 2 :  Wikipedia ダンプの解析</font>"
   ]
  },
  {
   "cell_type": "markdown",
   "metadata": {
    "deletable": false,
    "editable": false,
    "kernel": "SoS",
    "nbgrader": {
     "cell_type": "markdown",
     "checksum": "1371b1c505cff6028ee101300060d1aa",
     "grade": false,
     "grade_id": "c-027",
     "locked": true,
     "schema_version": 3,
     "solution": false,
     "task": false
    }
   },
   "source": [
    "* <font color=\"green\">問:</font> 毎回長いファイル名を打ち込まなくて良いよう, `os15_pipe` ディレクトリに `jawiki.xml`, `jawiki.xml.bz2` という名前で2つのシンボリックリンクを作れ"
   ]
  },
  {
   "cell_type": "code",
   "execution_count": null,
   "metadata": {
    "deletable": false,
    "editable": false,
    "kernel": "Bash",
    "nbgrader": {
     "cell_type": "code",
     "checksum": "4eee3cfbfc055ec4592ab42c9cfded54",
     "grade": false,
     "grade_id": "c-028",
     "locked": true,
     "schema_version": 3,
     "solution": false,
     "task": false
    }
   },
   "outputs": [],
   "source": [
    "ln -s /home/share/data/jawiki-20221220-pages-articles-multistream.xml jawiki.xml\n",
    "ln -s /home/share/data/jawiki-20221220-pages-articles-multistream.xml.bz2 jawiki.xml.bz2"
   ]
  },
  {
   "cell_type": "markdown",
   "metadata": {
    "deletable": false,
    "editable": false,
    "kernel": "SoS",
    "nbgrader": {
     "cell_type": "markdown",
     "checksum": "416e510c2878d9472c0399d5feb01a2b",
     "grade": false,
     "grade_id": "c-029",
     "locked": true,
     "schema_version": 3,
     "solution": false,
     "task": false
    }
   },
   "source": [
    "* <font color=\"green\">問:</font> wikipediaのXMLデータから, 各記事のタイトル, 作者, 時刻を取り出して一行にタブ区切りで表示し, それを別のファイル (pages.csv) に保存せよ"
   ]
  },
  {
   "cell_type": "code",
   "execution_count": null,
   "metadata": {
    "deletable": false,
    "editable": false,
    "kernel": "Bash",
    "nbgrader": {
     "cell_type": "code",
     "checksum": "47d77ddb0218b86f952fb41999dbebb6",
     "grade": false,
     "grade_id": "c-030",
     "locked": true,
     "schema_version": 3,
     "solution": false,
     "task": false
    }
   },
   "outputs": [],
   "source": [
    "cat jawiki.xml | awk 'match($0, /<title>.*<\\/title>/) {t=substr($0, RSTART+7, RLENGTH-15)} match($0, /<timestamp>.*<\\/timestamp>/) {ts=substr($0, RSTART+11, RLENGTH-23)} match($0, /<username>.*<\\/username>/) {u=substr($0, RSTART+10, RLENGTH-21); print t, \"\\t\", ts, \"\\t\", u}' > pages.csv"
   ]
  },
  {
   "cell_type": "markdown",
   "metadata": {
    "deletable": false,
    "editable": false,
    "kernel": "SoS",
    "nbgrader": {
     "cell_type": "markdown",
     "checksum": "0a38a5ee3f560be969b9cd1680387a3f",
     "grade": false,
     "grade_id": "c-031",
     "locked": true,
     "schema_version": 3,
     "solution": false,
     "task": false
    }
   },
   "source": [
    "* <font color=\"green\">問:</font> タイムスタンプが最古の記事はいつか? 最古な20件を表示せよ (なお, bashやzshのコマンドラインでタブを打つと補完の意味になってしまう. タブをコマンドに入力する方法はググって調べよ)"
   ]
  },
  {
   "cell_type": "code",
   "execution_count": null,
   "metadata": {
    "deletable": false,
    "editable": false,
    "kernel": "Bash",
    "nbgrader": {
     "cell_type": "code",
     "checksum": "e5b25ef2366d3aef50340019dcfaf25a",
     "grade": false,
     "grade_id": "c-032",
     "locked": true,
     "schema_version": 3,
     "solution": false,
     "task": false
    }
   },
   "outputs": [],
   "source": [
    "sort -t $'\\t' -k 2 pages.csv | head -20"
   ]
  },
  {
   "cell_type": "markdown",
   "metadata": {
    "deletable": false,
    "editable": false,
    "kernel": "SoS",
    "nbgrader": {
     "cell_type": "markdown",
     "checksum": "95ec593ee7fd92b45b2b4ab4c9165c77",
     "grade": false,
     "grade_id": "c-033",
     "locked": true,
     "schema_version": 3,
     "solution": false,
     "task": false
    }
   },
   "source": [
    "* <font color=\"green\">問:</font> 最古の記事が書かれてから現在に至るまでの, 月別の記事件数を表示せよ"
   ]
  },
  {
   "cell_type": "code",
   "execution_count": null,
   "metadata": {
    "deletable": false,
    "editable": false,
    "kernel": "Bash",
    "nbgrader": {
     "cell_type": "code",
     "checksum": "9f86b6f009d5e5f9da834d3759380564",
     "grade": false,
     "grade_id": "c-034",
     "locked": true,
     "schema_version": 3,
     "solution": false,
     "task": false
    }
   },
   "outputs": [],
   "source": [
    "awk '{print $2}' FS=\"\\t\" pages.csv | awk '{printf(\"%s/%s\\n\", $1, $2)}' FS=\"-\" | sort | uniq -c | awk '{print $2,$1}'"
   ]
  },
  {
   "cell_type": "markdown",
   "metadata": {
    "deletable": false,
    "editable": false,
    "kernel": "SoS",
    "nbgrader": {
     "cell_type": "markdown",
     "checksum": "4f24386a5311602854057e9674494be6",
     "grade": false,
     "grade_id": "c-035",
     "locked": true,
     "schema_version": 3,
     "solution": false,
     "task": false
    }
   },
   "source": [
    "* <font color=\"green\">問:</font> 最も多く記事の作者になっている人とその件数を, 上位20人表示せよ"
   ]
  },
  {
   "cell_type": "code",
   "execution_count": null,
   "metadata": {
    "deletable": false,
    "editable": false,
    "kernel": "Bash",
    "nbgrader": {
     "cell_type": "code",
     "checksum": "7efd14e4bb01cb51e253745828bab988",
     "grade": false,
     "grade_id": "c-036",
     "locked": true,
     "schema_version": 3,
     "solution": false,
     "task": false
    }
   },
   "outputs": [],
   "source": [
    "awk '{print $3}' FS=\"\\t\" pages.csv | sort | uniq -c | sort -n -r -k 1 | head -20"
   ]
  }
 ],
 "metadata": {
  "kernelspec": {
   "display_name": "SoS",
   "language": "sos",
   "name": "sos"
  },
  "language_info": {
   "codemirror_mode": "sos",
   "file_extension": ".sos",
   "mimetype": "text/x-sos",
   "name": "sos",
   "nbconvert_exporter": "sos_notebook.converter.SoS_Exporter",
   "pygments_lexer": "sos"
  },
  "sos": {
   "kernels": [
    [
     "Bash",
     "bash",
     "bash",
     "",
     "shell"
    ],
    [
     "C",
     "c_kernel",
     "c",
     "",
     ""
    ],
    [
     "Go",
     "gophernotes",
     "go",
     "",
     ""
    ],
    [
     "Julia 1.4.1",
     "julia-1.4",
     "julia",
     "",
     ""
    ],
    [
     "OCaml default",
     "ocaml-jupyter",
     "OCaml",
     "",
     "text/x-ocaml"
    ],
    [
     "Python 3 (ipykernel)",
     "python3",
     "python3",
     "",
     {
      "name": "ipython",
      "version": 3
     }
    ],
    [
     "Rust",
     "rust",
     "rust",
     "",
     ""
    ]
   ],
   "panel": {
    "displayed": true,
    "height": 0
   },
   "version": "0.23.3"
  }
 },
 "nbformat": 4,
 "nbformat_minor": 4
}
