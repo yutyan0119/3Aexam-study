{
 "cells": [
  {
   "cell_type": "markdown",
   "metadata": {
    "deletable": false,
    "editable": false,
    "kernel": "SoS",
    "nbgrader": {
     "cell_type": "markdown",
     "checksum": "c87d5542081a579611e5dc7f4b9222bf",
     "grade": false,
     "grade_id": "c-001",
     "locked": true,
     "schema_version": 3,
     "solution": false,
     "task": false
    }
   },
   "source": [
    "# <font color=\"green\"> Problem 1 :  条件変数を使った飽和カウンタ</font>"
   ]
  },
  {
   "cell_type": "markdown",
   "metadata": {
    "deletable": false,
    "editable": false,
    "kernel": "SoS",
    "nbgrader": {
     "cell_type": "markdown",
     "checksum": "9bec15aeccaf5e71368313bf94f92dd0",
     "grade": false,
     "grade_id": "c-002",
     "locked": true,
     "schema_version": 3,
     "solution": false,
     "task": false
    }
   },
   "source": [
    "* 下掲のプログラムを変更して, 任意のスレッド数, inc (dec) 回数, capacity で正しく動作するようにせよ\n",
    "* 寝ているスレッドを起こすのに `pthread_cond_broadcast` を使うべきか, `pthread_cond_signal` でもよいか考えよ\n",
    "  * ヒント: 実は後者ではダメ. なかなか気づきにくい落とし穴がある. Terminal + GDBで調査でもしないとなかなか気づかないだろう\n",
    "  * 止まってしまったプログラムをkillする方法は上述したのでそれをマスターしてから実験せよ"
   ]
  },
  {
   "cell_type": "code",
   "execution_count": null,
   "metadata": {
    "deletable": false,
    "editable": false,
    "kernel": "Python 3 (ipykernel)",
    "nbgrader": {
     "cell_type": "code",
     "checksum": "c8b3c85e0588b639401cd1c71510a333",
     "grade": false,
     "grade_id": "c-003",
     "locked": true,
     "schema_version": 3,
     "solution": false,
     "task": false
    }
   },
   "outputs": [],
   "source": [
    "%%writefile scounter_ans.c\n",
    "/* 注: このプログラムはOMP_NUM_THREADSを使わずにコマンドラインで受け取った引数でスレッド数を決めている(#pragma omp parallel num_threads(...)) */\n",
    "\n",
    "#include <assert.h>\n",
    "#include <stdio.h>\n",
    "#include <stdlib.h>\n",
    "#include <pthread.h>\n",
    "#include <omp.h>\n",
    "\n",
    "void die(char * msg) {\n",
    "  perror(msg);\n",
    "  exit(1);\n",
    "}\n",
    "\n",
    "double cur_time() {\n",
    "  struct timespec ts[1];\n",
    "  clock_gettime(CLOCK_REALTIME, ts);\n",
    "  return ts->tv_sec + ts->tv_nsec * 1.0e-9;\n",
    "}\n",
    "\n",
    "/* 飽和カウンタ */\n",
    "typedef struct {\n",
    "  long x;\n",
    "  long capacity;\n",
    "  pthread_mutex_t m[1];\n",
    "  pthread_cond_t c[1];\n",
    "} scounter_t;\n",
    "\n",
    "/* 初期化(値を0にする) */\n",
    "void scounter_init(scounter_t * s, long capacity) {\n",
    "  s->x = 0;\n",
    "  s->capacity = capacity;\n",
    "  if (pthread_mutex_init(s->m, 0)) {\n",
    "    die(\"pthread_mutex_init\");\n",
    "  }\n",
    "  if (pthread_cond_init(s->c, 0)) {\n",
    "    die(\"pthread_cond_init\");\n",
    "  }\n",
    "}\n",
    "\n",
    "/* +1 ただしcapacityに達していたら待つ */\n",
    "long scounter_inc(scounter_t * s) {\n",
    "  pthread_mutex_lock(s->m);\n",
    "  long x = s->x;\n",
    "  while (x >= s->capacity) {\n",
    "    assert(x == s->capacity);\n",
    "    pthread_cond_wait(s->c, s->m);\n",
    "    x = s->x;\n",
    "  }\n",
    "  s->x = x + 1;\n",
    "  pthread_mutex_unlock(s->m);\n",
    "  assert(x < s->capacity);\n",
    "  return x;\n",
    "}\n",
    "\n",
    "/* -1 */\n",
    "long scounter_dec(scounter_t * s) {\n",
    "  pthread_mutex_lock(s->m);\n",
    "  long x = s->x;\n",
    "  s->x = x - 1;\n",
    "  if (x >= s->capacity) {\n",
    "    assert(x == s->capacity);\n",
    "    pthread_cond_broadcast(s->c);\n",
    "  }\n",
    "  pthread_mutex_unlock(s->m);\n",
    "  return x;\n",
    "}\n",
    "\n",
    "/* 現在の値を返す */\n",
    "long scounter_get(scounter_t * s) {\n",
    "  return s->x;\n",
    "}\n",
    "\n",
    "int main(int argc, char ** argv) {\n",
    "  int i = 1;\n",
    "  /* incを呼ぶスレッド数 */\n",
    "  int n_inc_threads = (argc > i ? atoi(argv[i]) : 3); i++;\n",
    "  /* decを呼ぶスレッド数 */\n",
    "  int n_dec_threads = (argc > i ? atoi(argv[i]) : 2); i++;\n",
    "  /* incとdecが呼ばれる回数(全スレッドの合計) */\n",
    "  long n            = (argc > i ? atol(argv[i]) : 10000); i++;\n",
    "  /* 飽和する値 */\n",
    "  long capacity     = (argc > i ? atol(argv[i]) : 10000); i++;\n",
    "  \n",
    "  scounter_t s[1];\n",
    "  scounter_init(s, capacity);\n",
    "\n",
    "  printf(\"increment threads : %d\\n\", n_inc_threads);\n",
    "  printf(\"decrement threads : %d\\n\", n_dec_threads);\n",
    "  printf(\"increments/decrements : %ld\\n\", n);\n",
    "  printf(\"capacity : %ld\\n\", capacity);\n",
    "  \n",
    "  double t0 = cur_time();\n",
    "#pragma omp parallel num_threads(n_inc_threads + n_dec_threads)\n",
    "  {\n",
    "    int idx = omp_get_thread_num();\n",
    "    if (idx < n_inc_threads) {\n",
    "      /* increment */\n",
    "      long a = n *  idx      / n_inc_threads;\n",
    "      long b = n * (idx + 1) / n_inc_threads;\n",
    "      for (long i = a; i < b; i++) {\n",
    "        long x = scounter_inc(s);\n",
    "        assert(x < capacity);\n",
    "      }\n",
    "    } else {\n",
    "      /* decrement */\n",
    "      idx -= n_dec_threads;\n",
    "      long a = n *  idx      / n_dec_threads;\n",
    "      long b = n * (idx + 1) / n_dec_threads;\n",
    "      for (long i = a; i < b; i++) {\n",
    "        long x = scounter_dec(s);\n",
    "        assert(x <= capacity);\n",
    "      }\n",
    "    }\n",
    "  }\n",
    "  double t1 = cur_time();\n",
    "  printf(\"took %.9f sec\\n\", t1 - t0);\n",
    "  long x = scounter_get(s);\n",
    "  printf(\"%s : value at the end = %ld\\n\", (x == 0? \"OK\" : \"NG\"), x);\n",
    "  return (x == 0 ? 0 : 1);\n",
    "}"
   ]
  },
  {
   "cell_type": "code",
   "execution_count": null,
   "metadata": {
    "deletable": false,
    "editable": false,
    "kernel": "Bash",
    "nbgrader": {
     "cell_type": "code",
     "checksum": "6e569934360b4319b61c075e27bb2fe6",
     "grade": false,
     "grade_id": "c-004",
     "locked": true,
     "schema_version": 3,
     "solution": false,
     "task": false
    }
   },
   "outputs": [],
   "source": [
    "gcc -Wall -fopenmp -o scounter_ans scounter_ans.c"
   ]
  },
  {
   "cell_type": "markdown",
   "metadata": {
    "deletable": false,
    "editable": false,
    "kernel": "SoS",
    "nbgrader": {
     "cell_type": "markdown",
     "checksum": "ad70fd76f0a675bcc6b0af4a93317c92",
     "grade": false,
     "grade_id": "c-005",
     "locked": true,
     "schema_version": 3,
     "solution": false,
     "task": false
    }
   },
   "source": [
    "* 以下でテストせよ\n",
    "  * テストは, 「単純(超探しやすい)」かつ「バグが発生しやすいケース」で行うのが基本\n",
    "  * 今回の場合, 容量1というケースが最もバグが発生しやすい(見逃されにくい)と思われる\n",
    "\n",
    "* 単純かつバグが発生しやすいケース (うまく動かなければ適宜 100000 を減らして, なるべく小さい数でテストをするのが基本. 本気でデバッグが必要なら terminal を使うことを推奨)"
   ]
  },
  {
   "cell_type": "code",
   "execution_count": null,
   "metadata": {
    "kernel": "Bash",
    "nbgrader": {
     "grade": false,
     "grade_id": "c-006",
     "locked": false,
     "schema_version": 3,
     "solution": false,
     "task": false
    }
   },
   "outputs": [],
   "source": [
    "./scounter_ans 1 1 100000 1"
   ]
  },
  {
   "cell_type": "markdown",
   "metadata": {
    "deletable": false,
    "editable": false,
    "kernel": "SoS",
    "nbgrader": {
     "cell_type": "markdown",
     "checksum": "862c38ae1fc60c5755f0c9ff73337a60",
     "grade": false,
     "grade_id": "c-007",
     "locked": true,
     "schema_version": 3,
     "solution": false,
     "task": false
    }
   },
   "source": [
    "* まともな容量でのテスト"
   ]
  },
  {
   "cell_type": "code",
   "execution_count": null,
   "metadata": {
    "kernel": "Bash",
    "nbgrader": {
     "grade": false,
     "grade_id": "c-008",
     "locked": false,
     "schema_version": 3,
     "solution": false,
     "task": false
    }
   },
   "outputs": [],
   "source": [
    "./scounter_ans 1 1 100000 1000"
   ]
  },
  {
   "cell_type": "markdown",
   "metadata": {
    "deletable": false,
    "editable": false,
    "kernel": "SoS",
    "nbgrader": {
     "cell_type": "markdown",
     "checksum": "608b5443f00eef2f3a9a692fde19b3fe",
     "grade": false,
     "grade_id": "c-009",
     "locked": true,
     "schema_version": 3,
     "solution": false,
     "task": false
    }
   },
   "source": [
    "* 多数のスレッドでのテスト"
   ]
  },
  {
   "cell_type": "code",
   "execution_count": null,
   "metadata": {
    "kernel": "Bash",
    "nbgrader": {
     "grade": false,
     "grade_id": "c-010",
     "locked": false,
     "schema_version": 3,
     "solution": false,
     "task": false
    }
   },
   "outputs": [],
   "source": [
    "./scounter_ans 10 1 100000 1000"
   ]
  },
  {
   "cell_type": "code",
   "execution_count": null,
   "metadata": {
    "kernel": "Bash",
    "nbgrader": {
     "grade": false,
     "grade_id": "c-011",
     "locked": false,
     "schema_version": 3,
     "solution": false,
     "task": false
    }
   },
   "outputs": [],
   "source": [
    "./scounter_ans 1 10 100000 1000"
   ]
  },
  {
   "cell_type": "code",
   "execution_count": null,
   "metadata": {
    "kernel": "Bash",
    "nbgrader": {
     "grade": false,
     "grade_id": "c-012",
     "locked": false,
     "schema_version": 3,
     "solution": false,
     "task": false
    }
   },
   "outputs": [],
   "source": [
    "./scounter_ans 10 10 1000000 1000"
   ]
  },
  {
   "cell_type": "markdown",
   "metadata": {
    "deletable": false,
    "editable": false,
    "kernel": "SoS",
    "nbgrader": {
     "cell_type": "markdown",
     "checksum": "7753180d95707ec7ddd4d366b6b90bc2",
     "grade": false,
     "grade_id": "c-013",
     "locked": true,
     "schema_version": 3,
     "solution": false,
     "task": false
    }
   },
   "source": [
    "# <font color=\"green\"> Problem 2 :  両側飽和カウンタ</font>"
   ]
  },
  {
   "cell_type": "markdown",
   "metadata": {
    "deletable": false,
    "editable": false,
    "kernel": "SoS",
    "nbgrader": {
     "cell_type": "markdown",
     "checksum": "772c51092657582833e7a3cfa757fd69",
     "grade": false,
     "grade_id": "c-014",
     "locked": true,
     "schema_version": 3,
     "solution": false,
     "task": false
    }
   },
   "source": [
    "* どうせならカウンタの上限を定めるだけでなく, 下限も定めたい. ここでは0ということにしておこう\n",
    "* つまり, 0のときに dec が行われたらそこでも待つようにする\n",
    "* 下掲のプログラムを変更して, 任意のスレッド数, inc (dec) 回数, capacity で正しく動作するようにせよ\n",
    "* ヒント: decをしようとして値が0だった際に待つための条件変数をもう一つ用意する"
   ]
  },
  {
   "cell_type": "code",
   "execution_count": null,
   "metadata": {
    "deletable": false,
    "editable": false,
    "kernel": "Python 3 (ipykernel)",
    "nbgrader": {
     "cell_type": "code",
     "checksum": "2608f7514e1421961515fa5c2c2975c4",
     "grade": false,
     "grade_id": "c-015",
     "locked": true,
     "schema_version": 3,
     "solution": false,
     "task": false
    }
   },
   "outputs": [],
   "source": [
    "%%writefile tcounter_ans.c\n",
    "/* 注: このプログラムはOMP_NUM_THREADSを使わずにコマンドラインで受け取った引数でスレッド数を決めている(#pragma omp parallel num_threads(...)) */\n",
    "\n",
    "#include <assert.h>\n",
    "#include <stdio.h>\n",
    "#include <stdlib.h>\n",
    "#include <pthread.h>\n",
    "#include <omp.h>\n",
    "\n",
    "void die(char * msg) {\n",
    "  perror(msg);\n",
    "  exit(1);\n",
    "}\n",
    "\n",
    "double cur_time() {\n",
    "  struct timespec ts[1];\n",
    "  clock_gettime(CLOCK_REALTIME, ts);\n",
    "  return ts->tv_sec + ts->tv_nsec * 1.0e-9;\n",
    "}\n",
    "\n",
    "/* 飽和カウンタ */\n",
    "typedef struct {\n",
    "  long x;\n",
    "  long capacity;\n",
    "  pthread_mutex_t m[1];\n",
    "  pthread_cond_t c[1];\n",
    "  pthread_cond_t d[1];\n",
    "} scounter_t;\n",
    "\n",
    "/* 初期化(値を0にする) */\n",
    "void scounter_init(scounter_t * s, long capacity) {\n",
    "  s->x = 0;\n",
    "  s->capacity = capacity;\n",
    "  if (pthread_mutex_init(s->m, 0)) {\n",
    "    die(\"pthread_mutex_init\");\n",
    "  }\n",
    "  if (pthread_cond_init(s->c, 0)) {\n",
    "    die(\"pthread_cond_init\");\n",
    "  }\n",
    "  if (pthread_cond_init(s->d, 0)) {\n",
    "    die(\"pthread_cond_init\");\n",
    "  }\n",
    "}\n",
    "\n",
    "/* +1 ただしcapacityに達していたら待つ */\n",
    "long scounter_inc(scounter_t * s) {\n",
    "  pthread_mutex_lock(s->m);\n",
    "  long x = s->x;\n",
    "  while (x >= s->capacity) {\n",
    "    assert(x == s->capacity);\n",
    "    pthread_cond_wait(s->c, s->m);\n",
    "    x = s->x;\n",
    "  }\n",
    "  s->x = x + 1;\n",
    "  if (x <= 0) {\n",
    "    assert(x == 0);\n",
    "    pthread_cond_broadcast(s->d);\n",
    "  }\n",
    "  pthread_mutex_unlock(s->m);\n",
    "  assert(x < s->capacity);\n",
    "  return x;\n",
    "}\n",
    "\n",
    "/* -1 */\n",
    "long scounter_dec(scounter_t * s) {\n",
    "  pthread_mutex_lock(s->m);\n",
    "  long x = s->x;\n",
    "  while (x <= 0) {\n",
    "    assert(x == 0);\n",
    "    pthread_cond_wait(s->d, s->m);\n",
    "    x = s->x;\n",
    "  }\n",
    "  s->x = x - 1;\n",
    "  if (x >= s->capacity) {\n",
    "    assert(x == s->capacity);\n",
    "    pthread_cond_broadcast(s->c);\n",
    "  }\n",
    "  pthread_mutex_unlock(s->m);\n",
    "  return x;\n",
    "}\n",
    "\n",
    "/* 現在の値を返す */\n",
    "long scounter_get(scounter_t * s) {\n",
    "  return s->x;\n",
    "}\n",
    "\n",
    "int main(int argc, char ** argv) {\n",
    "  int i = 1;\n",
    "  /* incを呼ぶスレッド数 */\n",
    "  int n_inc_threads = (argc > i ? atoi(argv[i]) : 3); i++;\n",
    "  /* decを呼ぶスレッド数 */\n",
    "  int n_dec_threads = (argc > i ? atoi(argv[i]) : 2); i++;\n",
    "  /* incとdecが呼ばれる回数(全スレッドの合計) */\n",
    "  long n            = (argc > i ? atol(argv[i]) : 10000); i++;\n",
    "  /* 飽和する値 */\n",
    "  long capacity     = (argc > i ? atol(argv[i]) : 10000); i++;\n",
    "  \n",
    "  scounter_t s[1];\n",
    "  scounter_init(s, capacity);\n",
    "\n",
    "  printf(\"increment threads : %d\\n\", n_inc_threads);\n",
    "  printf(\"decrement threads : %d\\n\", n_dec_threads);\n",
    "  printf(\"increments/decrements : %ld\\n\", n);\n",
    "  printf(\"capacity : %ld\\n\", capacity);\n",
    "  \n",
    "  double t0 = cur_time();\n",
    "#pragma omp parallel num_threads(n_inc_threads + n_dec_threads)\n",
    "  {\n",
    "    int idx = omp_get_thread_num();\n",
    "    if (idx < n_inc_threads) {\n",
    "      /* increment */\n",
    "      long a = n *  idx      / n_inc_threads;\n",
    "      long b = n * (idx + 1) / n_inc_threads;\n",
    "      for (long i = a; i < b; i++) {\n",
    "        long x = scounter_inc(s);\n",
    "        assert(x < capacity);\n",
    "        assert(x >= 0);\n",
    "      }\n",
    "    } else {\n",
    "      /* decrement */\n",
    "      idx -= n_dec_threads;\n",
    "      long a = n *  idx      / n_dec_threads;\n",
    "      long b = n * (idx + 1) / n_dec_threads;\n",
    "      for (long i = a; i < b; i++) {\n",
    "        long x = scounter_dec(s);\n",
    "        assert(x <= capacity);\n",
    "        assert(x > 0);\n",
    "      }\n",
    "    }\n",
    "  }\n",
    "  double t1 = cur_time();\n",
    "  printf(\"took %.9f sec\\n\", t1 - t0);\n",
    "  long x = scounter_get(s);\n",
    "  printf(\"%s : value at the end = %ld\\n\", (x == 0? \"OK\" : \"NG\"), x);\n",
    "  return (x == 0 ? 0 : 1);\n",
    "}"
   ]
  },
  {
   "cell_type": "code",
   "execution_count": null,
   "metadata": {
    "deletable": false,
    "editable": false,
    "kernel": "Bash",
    "nbgrader": {
     "cell_type": "code",
     "checksum": "3e7d294c031aa15c757405a41af9f323",
     "grade": false,
     "grade_id": "c-016",
     "locked": true,
     "schema_version": 3,
     "solution": false,
     "task": false
    }
   },
   "outputs": [],
   "source": [
    "gcc -Wall -fopenmp -o tcounter_ans tcounter_ans.c"
   ]
  },
  {
   "cell_type": "code",
   "execution_count": null,
   "metadata": {
    "kernel": "Bash",
    "nbgrader": {
     "grade": false,
     "grade_id": "c-017",
     "locked": false,
     "schema_version": 3,
     "solution": false,
     "task": false
    }
   },
   "outputs": [],
   "source": [
    "./tcounter_ans 1 1 100000 1"
   ]
  },
  {
   "cell_type": "code",
   "execution_count": null,
   "metadata": {
    "kernel": "Bash",
    "nbgrader": {
     "grade": false,
     "grade_id": "c-018",
     "locked": false,
     "schema_version": 3,
     "solution": false,
     "task": false
    }
   },
   "outputs": [],
   "source": [
    "./tcounter_ans 1 1 100000 1000"
   ]
  },
  {
   "cell_type": "code",
   "execution_count": null,
   "metadata": {
    "kernel": "Bash",
    "nbgrader": {
     "grade": false,
     "grade_id": "c-019",
     "locked": false,
     "schema_version": 3,
     "solution": false,
     "task": false
    }
   },
   "outputs": [],
   "source": [
    "./tcounter_ans 10 1 100000 1000"
   ]
  },
  {
   "cell_type": "code",
   "execution_count": null,
   "metadata": {
    "kernel": "Bash",
    "nbgrader": {
     "grade": false,
     "grade_id": "c-020",
     "locked": false,
     "schema_version": 3,
     "solution": false,
     "task": false
    }
   },
   "outputs": [],
   "source": [
    "./tcounter_ans 1 10 100000 1000"
   ]
  },
  {
   "cell_type": "code",
   "execution_count": null,
   "metadata": {
    "kernel": "Bash",
    "nbgrader": {
     "grade": false,
     "grade_id": "c-021",
     "locked": false,
     "schema_version": 3,
     "solution": false,
     "task": false
    }
   },
   "outputs": [],
   "source": [
    "./tcounter_ans 10 10 1000000 1000"
   ]
  },
  {
   "cell_type": "markdown",
   "metadata": {
    "deletable": false,
    "editable": false,
    "kernel": "SoS",
    "nbgrader": {
     "cell_type": "markdown",
     "checksum": "d5c408e6708b10d580bde3c2926e65fb",
     "grade": false,
     "grade_id": "c-022",
     "locked": true,
     "schema_version": 3,
     "solution": false,
     "task": false
    }
   },
   "source": [
    "# <font color=\"green\"> Problem 3 :  有限バッファの実装</font>"
   ]
  },
  {
   "cell_type": "markdown",
   "metadata": {
    "deletable": false,
    "editable": false,
    "kernel": "SoS",
    "nbgrader": {
     "cell_type": "markdown",
     "checksum": "4a9ff22dd49ebc6191681fdaba547c14",
     "grade": false,
     "grade_id": "c-023",
     "locked": true,
     "schema_version": 3,
     "solution": false,
     "task": false
    }
   },
   "source": [
    "* 有限バッファへmutex, 条件変数を導入し, 複数のスレッドが並行に動き, capacity < n であっても正しく動くようにせよ\n",
    "* 構造は, 両側飽和カウンタとよく似ているので参考にせよ"
   ]
  },
  {
   "cell_type": "code",
   "execution_count": null,
   "metadata": {
    "deletable": false,
    "editable": false,
    "kernel": "Python 3 (ipykernel)",
    "nbgrader": {
     "cell_type": "code",
     "checksum": "5bc9e11055a94a803cb47b6fe4466089",
     "grade": false,
     "grade_id": "c-024",
     "locked": true,
     "schema_version": 3,
     "solution": false,
     "task": false
    }
   },
   "outputs": [],
   "source": [
    "%%writefile bbuf_ans.c\n",
    "#include <assert.h>\n",
    "#include <stdio.h>\n",
    "#include <stdlib.h>\n",
    "#include <time.h>\n",
    "#include <unistd.h>\n",
    "#include <omp.h>\n",
    "#include <pthread.h>\n",
    "\n",
    "void die(const char * msg) {\n",
    "  perror(msg); exit(1);\n",
    "}\n",
    "\n",
    "double cur_time() {\n",
    "  struct timespec ts[1];\n",
    "  clock_gettime(CLOCK_REALTIME, ts);\n",
    "  return ts->tv_nsec * 1.0E-9 + ts->tv_sec;\n",
    "}\n",
    "\n",
    "/* 有限バッファ\n",
    "   要素は必ず >= 0 とする */\n",
    "typedef struct {\n",
    "  long n_gets;                  /* getされた回数 */\n",
    "  long n_puts;                  /* putされた回数 */\n",
    "  long capacity;                /* 容量 */\n",
    "  long * a;                     /* 中身(capacity要素の配列) */\n",
    "  pthread_mutex_t m[1];\n",
    "  pthread_cond_t gw[1];          /* get waiters */\n",
    "  pthread_cond_t pw[1];          /* put waiters */\n",
    "} bounded_buffer_t;\n",
    "\n",
    "/* 容量 capacity で初期化 */\n",
    "void bounded_buffer_init(bounded_buffer_t * bb, long capacity) {\n",
    "  long * a = (long *)malloc(sizeof(long) * capacity);\n",
    "  if (!a) die(\"malloc\");\n",
    "  bb->a = a;\n",
    "  bb->capacity = capacity;\n",
    "  bb->n_gets = 0;\n",
    "  bb->n_puts = 0;\n",
    "  pthread_mutex_init(bb->m, 0);\n",
    "  pthread_cond_init(bb->gw, 0);\n",
    "  pthread_cond_init(bb->pw, 0);\n",
    "}\n",
    "\n",
    "/* 要素を追加 \n",
    " * 満杯だったら待つようにするのが課題\n",
    " * 以下はそのままだと満杯の場合は0を返す(間違い)\n",
    " */\n",
    "int bounded_buffer_put(bounded_buffer_t * bb, long x) {\n",
    "  long cap = bb->capacity;\n",
    "  pthread_mutex_lock(bb->m);\n",
    "  while (1) {\n",
    "    long g = bb->n_gets;\n",
    "    long p = bb->n_puts;\n",
    "    assert(x >= 0);\n",
    "    if (p - g < cap) {\n",
    "      break;\n",
    "    }\n",
    "    assert(p - g == cap);\n",
    "    pthread_cond_wait(bb->pw, bb->m);\n",
    "  }\n",
    "  long g = bb->n_gets;\n",
    "  long p = bb->n_puts;\n",
    "  bb->a[p % cap] = x;\n",
    "  bb->n_puts = p + 1;\n",
    "  if (p <= g) {\n",
    "    assert(p == g);\n",
    "    pthread_cond_broadcast(bb->gw);\n",
    "  }\n",
    "  pthread_mutex_unlock(bb->m);\n",
    "  return 1;                     /* OK */\n",
    "}\n",
    "\n",
    "/* 要素を取り出す\n",
    " * 空だったら待つようにするのが課題\n",
    " * 以下はそのままだと空の場合は-1を返す(間違い)\n",
    " */\n",
    "long bounded_buffer_get(bounded_buffer_t * bb) {\n",
    "\n",
    "  long cap = bb->capacity;\n",
    "  pthread_mutex_lock(bb->m);\n",
    "  while (1) {\n",
    "    long g = bb->n_gets;\n",
    "    long p = bb->n_puts;\n",
    "    if (p - g > 0) {\n",
    "      break;\n",
    "    }\n",
    "    assert(p - g == 0);\n",
    "    pthread_cond_wait(bb->gw, bb->m);\n",
    "  }\n",
    "  long g = bb->n_gets;\n",
    "  long p = bb->n_puts;\n",
    "  long x = bb->a[g % cap];\n",
    "  bb->n_gets = g + 1;\n",
    "  assert(x >= 0);\n",
    "  if (p - g >= cap) {\n",
    "    assert(p - g == cap);\n",
    "    pthread_cond_broadcast(bb->pw);\n",
    "  }\n",
    "  pthread_mutex_unlock(bb->m);\n",
    "  return x;\n",
    "\n",
    "}\n",
    "\n",
    "int main(int argc, char ** argv) {\n",
    "  long i = 1;\n",
    "  /* putするスレッド数 */\n",
    "  int n_putter_threads = (argc > i ? atoi(argv[i]) : 1); i++;\n",
    "  /* getするスレッド数 */\n",
    "  int n_getter_threads = (argc > i ? atoi(argv[i]) : 1); i++;\n",
    "  /* putとgetの間にbarrierを入れるか? */\n",
    "  int barrier_between_puts_gets = (argc > i ? atoi(argv[i]) : 1); i++;\n",
    "  /* put (get)される回数 */\n",
    "  long n                = (argc > i ? atol(argv[i]) : 1000000); i++;\n",
    "  /* 容量 */\n",
    "  long capacity         = (argc > i ? atol(argv[i]) : 1000); i++;\n",
    "  /* 検証用(validate[x] == 1 iff getでxが取り出された) */\n",
    "  char * validate = (char *)calloc(n, 1);\n",
    "\n",
    "  bounded_buffer_t bb[1];\n",
    "  bounded_buffer_init(bb, capacity);\n",
    "\n",
    "  int nthreads = n_putter_threads + n_getter_threads;\n",
    "  pthread_barrier_t barrier[1];\n",
    "  pthread_barrier_init(barrier, 0, nthreads);\n",
    "\n",
    "  double t0 = cur_time();\n",
    "#pragma omp parallel num_threads(n_putter_threads + n_getter_threads)\n",
    "  {\n",
    "    int idx = omp_get_thread_num();\n",
    "    if (idx < n_putter_threads) {\n",
    "      /* I am a putter thread */\n",
    "      long a = n *  idx      / n_putter_threads;\n",
    "      long b = n * (idx + 1) / n_putter_threads;\n",
    "      /* 0,1,...,n-1 を1つずつput */\n",
    "      for (long x = a; x < b; x++) {\n",
    "        int ok = bounded_buffer_put(bb, x);\n",
    "        assert(ok);\n",
    "      }\n",
    "      if (barrier_between_puts_gets) {\n",
    "        /* putが全員終わってからget */\n",
    "        pthread_barrier_wait(barrier);\n",
    "      }\n",
    "    } else {\n",
    "      /* I am a getter thread */\n",
    "      idx -= n_putter_threads;\n",
    "      long a = n *  idx      / n_getter_threads;\n",
    "      long b = n * (idx + 1) / n_getter_threads;\n",
    "      if (barrier_between_puts_gets) {\n",
    "        /* putが全員終わってからget */\n",
    "        pthread_barrier_wait(barrier);\n",
    "      }\n",
    "      /* 合計n回get */\n",
    "      for (long x = a; x < b; x++) {\n",
    "        long x = bounded_buffer_get(bb);\n",
    "        assert(x >= 0);\n",
    "        assert(x < n);\n",
    "        assert(validate[x] == 0);\n",
    "        validate[x] = 1;\n",
    "      }\n",
    "    }\n",
    "  }\n",
    "  double t1 = cur_time();\n",
    "  printf(\"%f sec\\n\", t1 - t0);\n",
    "  for (long i = 0; i < n; i++) {\n",
    "    assert(validate[i]);\n",
    "  }\n",
    "  printf(\"OK\\n\");\n",
    "  return 0;\n",
    "}"
   ]
  },
  {
   "cell_type": "code",
   "execution_count": null,
   "metadata": {
    "deletable": false,
    "editable": false,
    "kernel": "Bash",
    "nbgrader": {
     "cell_type": "code",
     "checksum": "7111fabc2014014eda16714421e0ea3d",
     "grade": false,
     "grade_id": "c-025",
     "locked": true,
     "schema_version": 3,
     "solution": false,
     "task": false
    }
   },
   "outputs": [],
   "source": [
    "gcc -Wall -fopenmp -o bbuf_ans bbuf_ans.c"
   ]
  },
  {
   "cell_type": "markdown",
   "metadata": {
    "deletable": false,
    "editable": false,
    "kernel": "SoS",
    "nbgrader": {
     "cell_type": "markdown",
     "checksum": "01ad00609d2e429291f907202fdbb3ab",
     "grade": false,
     "grade_id": "c-026",
     "locked": true,
     "schema_version": 3,
     "solution": false,
     "task": false
    }
   },
   "source": [
    "* 色々なパラメータで実行してみよ"
   ]
  },
  {
   "cell_type": "code",
   "execution_count": null,
   "metadata": {
    "kernel": "Bash",
    "nbgrader": {
     "grade": false,
     "grade_id": "c-027",
     "locked": false,
     "schema_version": 3,
     "solution": false,
     "task": false
    }
   },
   "outputs": [],
   "source": [
    "./bbuf_ans 1 1 1 10 10"
   ]
  },
  {
   "cell_type": "markdown",
   "metadata": {
    "deletable": false,
    "editable": false,
    "kernel": "SoS",
    "nbgrader": {
     "cell_type": "markdown",
     "checksum": "80d47812bfaaa3d85caabb6aa4e1174a",
     "grade": false,
     "grade_id": "c-028",
     "locked": true,
     "schema_version": 3,
     "solution": false,
     "task": false
    }
   },
   "source": [
    "* 以下でテストせよ\n",
    "\n",
    "* putとgetが並行"
   ]
  },
  {
   "cell_type": "code",
   "execution_count": null,
   "metadata": {
    "kernel": "Bash",
    "nbgrader": {
     "grade": false,
     "grade_id": "c-029",
     "locked": false,
     "schema_version": 3,
     "solution": false,
     "task": false
    }
   },
   "outputs": [],
   "source": [
    "./bbuf_ans 1 1 0 100000 100"
   ]
  },
  {
   "cell_type": "markdown",
   "metadata": {
    "deletable": false,
    "editable": false,
    "kernel": "SoS",
    "nbgrader": {
     "cell_type": "markdown",
     "checksum": "56b43aecd77185a3f4f826e7a99c1827",
     "grade": false,
     "grade_id": "c-030",
     "locked": true,
     "schema_version": 3,
     "solution": false,
     "task": false
    }
   },
   "source": [
    "* 多数のput/getが並行"
   ]
  },
  {
   "cell_type": "code",
   "execution_count": null,
   "metadata": {
    "kernel": "Bash",
    "nbgrader": {
     "grade": false,
     "grade_id": "c-031",
     "locked": false,
     "schema_version": 3,
     "solution": false,
     "task": false
    }
   },
   "outputs": [],
   "source": [
    "./bbuf_ans 10 20 0 100000 100"
   ]
  },
  {
   "cell_type": "code",
   "execution_count": null,
   "metadata": {
    "kernel": "Bash",
    "nbgrader": {
     "grade": false,
     "grade_id": "c-032",
     "locked": false,
     "schema_version": 3,
     "solution": false,
     "task": false
    }
   },
   "outputs": [],
   "source": [
    "./bbuf_ans 20 10 0 100000 100"
   ]
  },
  {
   "cell_type": "markdown",
   "metadata": {
    "deletable": false,
    "editable": false,
    "kernel": "SoS",
    "nbgrader": {
     "cell_type": "markdown",
     "checksum": "4c3bed98647d701eb50264976eac0d0b",
     "grade": false,
     "grade_id": "c-033",
     "locked": true,
     "schema_version": 3,
     "solution": false,
     "task": false
    }
   },
   "source": [
    "* 極端にcapacityが少ない"
   ]
  },
  {
   "cell_type": "code",
   "execution_count": null,
   "metadata": {
    "kernel": "Bash",
    "nbgrader": {
     "grade": false,
     "grade_id": "c-034",
     "locked": false,
     "schema_version": 3,
     "solution": false,
     "task": false
    }
   },
   "outputs": [],
   "source": [
    "./bbuf_ans 20 30 0 100000 1"
   ]
  },
  {
   "cell_type": "code",
   "execution_count": null,
   "metadata": {
    "kernel": "Bash",
    "nbgrader": {
     "grade": false,
     "grade_id": "c-035",
     "locked": false,
     "schema_version": 3,
     "solution": false,
     "task": false
    }
   },
   "outputs": [],
   "source": [
    "./bbuf_ans 30 20 0 100000 1"
   ]
  }
 ],
 "metadata": {
  "kernelspec": {
   "display_name": "SoS",
   "language": "sos",
   "name": "sos"
  },
  "language_info": {
   "codemirror_mode": "sos",
   "file_extension": ".sos",
   "mimetype": "text/x-sos",
   "name": "sos",
   "nbconvert_exporter": "sos_notebook.converter.SoS_Exporter",
   "pygments_lexer": "sos"
  },
  "sos": {
   "kernels": [
    [
     "Bash",
     "bash",
     "bash",
     "",
     "shell"
    ],
    [
     "C",
     "c_kernel",
     "c",
     "",
     ""
    ],
    [
     "Go",
     "gophernotes",
     "go",
     "",
     ""
    ],
    [
     "Julia 1.4.1",
     "julia-1.4",
     "julia",
     "",
     ""
    ],
    [
     "OCaml default",
     "ocaml-jupyter",
     "OCaml",
     "",
     "text/x-ocaml"
    ],
    [
     "Python 3 (ipykernel)",
     "python3",
     "python3",
     "",
     {
      "name": "ipython",
      "version": 3
     }
    ],
    [
     "Rust",
     "rust",
     "rust",
     "",
     ""
    ]
   ],
   "panel": {
    "displayed": true,
    "height": 0
   },
   "version": "0.23.3"
  }
 },
 "nbformat": 4,
 "nbformat_minor": 4
}
