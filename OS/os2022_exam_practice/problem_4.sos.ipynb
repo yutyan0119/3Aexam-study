{
 "cells": [
  {
   "cell_type": "markdown",
   "metadata": {
    "deletable": false,
    "editable": false,
    "kernel": "SoS",
    "nbgrader": {
     "cell_type": "markdown",
     "checksum": "984fe1945d1d905a5edb6a0c399d07f1",
     "grade": false,
     "grade_id": "c-001",
     "locked": true,
     "schema_version": 3,
     "solution": false,
     "task": false
    }
   },
   "source": [
    "#  問題4"
   ]
  },
  {
   "cell_type": "markdown",
   "metadata": {
    "deletable": false,
    "editable": false,
    "kernel": "SoS",
    "nbgrader": {
     "cell_type": "markdown",
     "checksum": "f0dd11f54d9bdb63692591ec81c6c6ac",
     "grade": false,
     "grade_id": "c-002",
     "locked": true,
     "schema_version": 3,
     "solution": false,
     "task": false
    }
   },
   "source": [
    "* 解答用セル(以下のセルを修正せよ)"
   ]
  },
  {
   "cell_type": "code",
   "execution_count": null,
   "metadata": {
    "deletable": false,
    "kernel": "Python 3 (ipykernel)",
    "nbgrader": {
     "cell_type": "code",
     "checksum": "bbbcb543d30392d84a3b09b047f0a302",
     "grade": true,
     "grade_id": "p-001",
     "locked": false,
     "points": 1,
     "schema_version": 3,
     "solution": true,
     "task": false
    }
   },
   "outputs": [],
   "source": [
    "\n",
    "%%writefile count_char.c\n",
    "#include <err.h>\n",
    "\n",
    "#define BLK_SZ 4096\n",
    "\n",
    "int main(int argc, char ** argv) {\n",
    "  int idx = 1;\n",
    "  char * file = (idx < argc ? argv[idx++] : \"wikipedia-operating-system.html\");\n",
    "  char c =      (idx < argc ? argv[idx++][0] : 'a');\n",
    "  int fd = open(   );\n",
    "  if (fd == -1) err(1, \"open\");\n",
    "  char a[BLK_SZ];\n",
    "  ssize_t count = 0;\n",
    "  while (1) {\n",
    "    ssize_t rd = read(   );\n",
    "    if (rd == -1) err(1, \"read\");\n",
    "    if (rd == 0) break;\n",
    "    for (ssize_t i = 0; i < rd; i++) {\n",
    "      if (a[i] == c) count++;\n",
    "    }\n",
    "  }\n",
    "  printf(\"%ld\\n\", count);\n",
    "  return 0;\n",
    "}"
   ]
  },
  {
   "cell_type": "code",
   "execution_count": null,
   "metadata": {
    "deletable": false,
    "kernel": "Bash",
    "nbgrader": {
     "cell_type": "code",
     "checksum": "c1b96940d6e28e9b27fa2c686ad8ff2b",
     "grade": true,
     "grade_id": "p-002",
     "locked": true,
     "points": 1,
     "schema_version": 3,
     "solution": true,
     "task": false
    }
   },
   "outputs": [],
   "source": [
    "\n",
    "gcc -Wall -Wextra -o count_char count_char.c"
   ]
  },
  {
   "cell_type": "markdown",
   "metadata": {
    "deletable": false,
    "editable": false,
    "kernel": "SoS",
    "nbgrader": {
     "cell_type": "markdown",
     "checksum": "9d373b62c23ad0851a3f80b74aecc08e",
     "grade": false,
     "grade_id": "c-003",
     "locked": true,
     "schema_version": 3,
     "solution": false,
     "task": false
    }
   },
   "source": [
    "* テスト(実行せよ)"
   ]
  },
  {
   "cell_type": "code",
   "execution_count": null,
   "metadata": {
    "deletable": false,
    "kernel": "Bash",
    "nbgrader": {
     "cell_type": "code",
     "checksum": "685d7ffb666d004e232e0bbaea1fe73b",
     "grade": true,
     "grade_id": "p-003",
     "locked": true,
     "points": 1,
     "schema_version": 3,
     "solution": true,
     "task": false
    }
   },
   "outputs": [],
   "source": [
    "\n",
    "if ./count_char misc/wikipedia-operating-system.html a | grep 22513 ; then\n",
    "   echo OK\n",
    "else\n",
    "   echo NG\n",
    "fi   "
   ]
  },
  {
   "cell_type": "code",
   "execution_count": null,
   "metadata": {
    "deletable": false,
    "kernel": "Bash",
    "nbgrader": {
     "cell_type": "code",
     "checksum": "f0e814b20823dc4b2f7e1fa5055d8f90",
     "grade": true,
     "grade_id": "p-004",
     "locked": true,
     "points": 1,
     "schema_version": 3,
     "solution": true,
     "task": false
    }
   },
   "outputs": [],
   "source": [
    "\n",
    "if ./count_char misc/wikipedia-operating-system.html b | grep 3690 ; then\n",
    "   echo OK\n",
    "else\n",
    "   echo NG\n",
    "fi   "
   ]
  },
  {
   "cell_type": "code",
   "execution_count": null,
   "metadata": {
    "deletable": false,
    "kernel": "Bash",
    "nbgrader": {
     "cell_type": "code",
     "checksum": "cf2aa9c077bb3e386c3c52dced0d1116",
     "grade": true,
     "grade_id": "p-005",
     "locked": true,
     "points": 1,
     "schema_version": 3,
     "solution": true,
     "task": false
    }
   },
   "outputs": [],
   "source": [
    "\n",
    "if ./count_char misc/wikipedia-operating-system.html x | grep 2146 ; then\n",
    "   echo OK\n",
    "else\n",
    "   echo NG\n",
    "fi   "
   ]
  },
  {
   "cell_type": "markdown",
   "metadata": {
    "deletable": false,
    "editable": false,
    "kernel": "SoS",
    "nbgrader": {
     "cell_type": "markdown",
     "checksum": "bbb17ce6d9d364ab65144509d479043f",
     "grade": false,
     "grade_id": "c-004",
     "locked": true,
     "schema_version": 3,
     "solution": false,
     "task": false
    }
   },
   "source": [
    "プログラム原版(やり直したい時はこれをコピーせよ)"
   ]
  },
  {
   "cell_type": "code",
   "execution_count": null,
   "metadata": {
    "deletable": false,
    "editable": false,
    "kernel": "Python 3 (ipykernel)",
    "nbgrader": {
     "cell_type": "code",
     "checksum": "116809204c51273bf3fa7dda377d22bf",
     "grade": false,
     "grade_id": "c-005",
     "locked": true,
     "schema_version": 3,
     "solution": false,
     "task": false
    }
   },
   "outputs": [],
   "source": [
    "%%writefile count_char.c\n",
    "#include <err.h>\n",
    "\n",
    "#define BLK_SZ 4096\n",
    "\n",
    "int main(int argc, char ** argv) {\n",
    "  int idx = 1;\n",
    "  char * file = (idx < argc ? argv[idx++] : \"wikipedia-operating-system.html\");\n",
    "  char c =      (idx < argc ? argv[idx++][0] : 'a');\n",
    "  int fd = open(   );\n",
    "  if (fd == -1) err(1, \"open\");\n",
    "  char a[BLK_SZ];\n",
    "  ssize_t count = 0;\n",
    "  while (1) {\n",
    "    ssize_t rd = read(   );\n",
    "    if (rd == -1) err(1, \"read\");\n",
    "    if (rd == 0) break;\n",
    "    for (ssize_t i = 0; i < rd; i++) {\n",
    "      if (a[i] == c) count++;\n",
    "    }\n",
    "  }\n",
    "  printf(\"%ld\\n\", count);\n",
    "  return 0;\n",
    "}"
   ]
  }
 ],
 "metadata": {
  "kernelspec": {
   "display_name": "SoS",
   "language": "sos",
   "name": "sos"
  },
  "language_info": {
   "codemirror_mode": "sos",
   "file_extension": ".sos",
   "mimetype": "text/x-sos",
   "name": "sos",
   "nbconvert_exporter": "sos_notebook.converter.SoS_Exporter",
   "pygments_lexer": "sos"
  },
  "sos": {
   "kernels": [
    [
     "Bash",
     "bash",
     "bash",
     "",
     "shell"
    ],
    [
     "C",
     "c_kernel",
     "c",
     "",
     ""
    ],
    [
     "Go",
     "gophernotes",
     "go",
     "",
     ""
    ],
    [
     "Julia 1.4.1",
     "julia-1.4",
     "julia",
     "",
     ""
    ],
    [
     "OCaml default",
     "ocaml-jupyter",
     "OCaml",
     "",
     "text/x-ocaml"
    ],
    [
     "Python 3 (ipykernel)",
     "python3",
     "python3",
     "",
     {
      "name": "ipython",
      "version": 3
     }
    ],
    [
     "Rust",
     "rust",
     "rust",
     "",
     ""
    ]
   ],
   "panel": {
    "displayed": true,
    "height": 0
   },
   "version": "0.23.3"
  }
 },
 "nbformat": 4,
 "nbformat_minor": 4
}
