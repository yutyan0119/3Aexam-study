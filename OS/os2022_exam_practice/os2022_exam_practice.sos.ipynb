{
 "cells": [
  {
   "cell_type": "markdown",
   "metadata": {
    "deletable": false,
    "editable": false,
    "kernel": "SoS",
    "nbgrader": {
     "cell_type": "markdown",
     "checksum": "b6cdb4960e7b2c2e34a9c7b539154b18",
     "grade": false,
     "grade_id": "c-001",
     "locked": true,
     "schema_version": 3,
     "solution": false,
     "task": false
    }
   },
   "source": [
    "#  オペレーティングシステム 2022年度 期末試験 予行演習 解答用紙\n",
    "* 問題は別途, (暗号化された) PDFで配布されている\n",
    "* 実施要領および禁止事項については授業ホームページを参照.\n",
    "\n",
    "* やり方はこれまでの演習と同様. 注意としては,\n",
    "  * ITC-LMSへの提出は不要\n",
    "  * 解答用紙のノートブックは1問ごとに別れており, 複数のノートブックがある\n",
    "* 試験時間内に何度Submitしてもよい(最も新しい版だけが採点の対象となる)\n",
    "* 試験終了後にはSubmitすると不正行為になる(実は提出できてしまうが提出時刻が記録されるので不正と発覚する)\n",
    "\n",
    "* 以下に名前を書いて提出することで, 不正行為を行っていないことの誓約となる\n"
   ]
  },
  {
   "cell_type": "markdown",
   "metadata": {
    "deletable": false,
    "editable": false,
    "kernel": "SoS",
    "nbgrader": {
     "cell_type": "markdown",
     "checksum": "0209b7612bd90f1a4f28230c23ee0412",
     "grade": false,
     "grade_id": "c-002",
     "locked": true,
     "schema_version": 3,
     "solution": false,
     "task": false
    }
   },
   "source": [
    "名前と学生証番号を書け. Enter your name and student ID.\n",
    "\n",
    "提出に当たり, 私は授業ホームページの実施要領および禁止事項を理解し, 上に書かれたような行為を含め, 不正行為を行っていないことを誓約します.\n",
    "I hereby declare that, upon submission, I have throughly read the regulation and prohibited conduct written in the home page and did not commit any wrongdoing including the conducts listed above."
   ]
  },
  {
   "cell_type": "markdown",
   "metadata": {
    "kernel": "SoS",
    "nbgrader": {
     "grade": false,
     "grade_id": "c-003",
     "locked": false,
     "schema_version": 3,
     "solution": false,
     "task": false
    }
   },
   "source": [
    " * 名前 Name:\n",
    " * 学生証番号 Student ID:"
   ]
  }
 ],
 "metadata": {
  "kernelspec": {
   "display_name": "SoS",
   "language": "sos",
   "name": "sos"
  },
  "language_info": {
   "codemirror_mode": "sos",
   "file_extension": ".sos",
   "mimetype": "text/x-sos",
   "name": "sos",
   "nbconvert_exporter": "sos_notebook.converter.SoS_Exporter",
   "pygments_lexer": "sos"
  },
  "sos": {
   "kernels": [
    [
     "Bash",
     "bash",
     "bash",
     "",
     "shell"
    ],
    [
     "C",
     "c_kernel",
     "c",
     "",
     ""
    ],
    [
     "Go",
     "gophernotes",
     "go",
     "",
     ""
    ],
    [
     "Julia 1.4.1",
     "julia-1.4",
     "julia",
     "",
     ""
    ],
    [
     "OCaml default",
     "ocaml-jupyter",
     "OCaml",
     "",
     "text/x-ocaml"
    ],
    [
     "Python 3 (ipykernel)",
     "python3",
     "python3",
     "",
     {
      "name": "ipython",
      "version": 3
     }
    ],
    [
     "Rust",
     "rust",
     "rust",
     "",
     ""
    ]
   ],
   "panel": {
    "displayed": true,
    "height": 0
   },
   "version": "0.23.3"
  }
 },
 "nbformat": 4,
 "nbformat_minor": 4
}
