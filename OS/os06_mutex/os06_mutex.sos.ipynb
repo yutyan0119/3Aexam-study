{
 "cells": [
  {
   "cell_type": "markdown",
   "metadata": {
    "deletable": false,
    "editable": false,
    "kernel": "SoS",
    "nbgrader": {
     "cell_type": "markdown",
     "checksum": "a68a636ae876e0ea1fe2253a545d09d5",
     "grade": false,
     "grade_id": "c-001",
     "locked": true,
     "schema_version": 3,
     "solution": false,
     "task": false
    }
   },
   "source": [
    "\n",
    "#  オペレーティングシステム 演習 06\n",
    "#  並行処理, 競合状態, 排他制御"
   ]
  },
  {
   "cell_type": "markdown",
   "metadata": {
    "kernel": "SoS",
    "nbgrader": {
     "grade": false,
     "grade_id": "c-002",
     "locked": false,
     "schema_version": 3,
     "solution": false,
     "task": false
    }
   },
   "source": [
    "\n",
    "名前と学生証番号を書け. Enter your name and student ID.\n",
    "\n",
    " * 名前 Name:\n",
    " * 学生証番号 Student ID:\n"
   ]
  },
  {
   "cell_type": "markdown",
   "metadata": {
    "deletable": false,
    "editable": false,
    "kernel": "SoS",
    "nbgrader": {
     "cell_type": "markdown",
     "checksum": "dc22b67e91d0442b76a3a9f042a1aa1d",
     "grade": false,
     "grade_id": "c-003",
     "locked": true,
     "schema_version": 3,
     "solution": false,
     "task": false
    }
   },
   "source": [
    "# 1. 競合状態\n",
    "* 複数のスレッドが同じ変数を, 並行にアクセスしている\n",
    "* それらのスレッドの内少なくとも1つが書き込みをしている\n",
    "\n",
    "状態を競合状態と呼び, ほとんどの場合, スレッドの実行タイミングによって答えが変わる --- つまりほとんどの場合, 間違った --- プログラムになる\n",
    "\n",
    "* 以下は最も単純な例\n",
    "* 2スレッドが大域変数 g を多数回更新する"
   ]
  },
  {
   "cell_type": "code",
   "execution_count": null,
   "metadata": {
    "deletable": false,
    "kernel": "Python 3 (ipykernel)",
    "nbgrader": {
     "cell_type": "code",
     "checksum": "b88a107ae1d047a0266bf34d262501f9",
     "grade": true,
     "grade_id": "p-001",
     "locked": false,
     "points": 1,
     "schema_version": 3,
     "solution": true,
     "task": false
    }
   },
   "outputs": [],
   "source": [
    "\n",
    "%%writefile race_increment.c\n",
    "#include <assert.h>\n",
    "#include <err.h>\n",
    "#include <stdio.h>\n",
    "#include <stdlib.h>\n",
    "#include <unistd.h>\n",
    "#include <pthread.h>\n",
    "\n",
    "\n",
    "/* 大域変数 */\n",
    "volatile int g = 0;\n",
    "\n",
    "/* スレッドの開始関数 */\n",
    "void * f(void * arg_) {\n",
    "  long * arg = arg_;\n",
    "  long n = arg[0];\n",
    "  for (long i = 0; i < n; i++) {\n",
    "    g++;\n",
    "  }\n",
    "  return 0;\n",
    "}\n",
    "\n",
    "\n",
    "int main(int argc, char ** argv) {\n",
    "  long n = (argc > 1 ? atol(argv[1]) : 1000000);\n",
    "  long arg[1] = { n };\n",
    "  g = 0;\n",
    "  /* スレッドを作る */\n",
    "  const int nthreads = 2;\n",
    "  pthread_t child_thread_id[nthreads];\n",
    "  for (int i = 0; i < nthreads; i++) {\n",
    "    if (pthread_create(&child_thread_id[i], 0, f, arg))\n",
    "      err(1, \"pthread_create\");\n",
    "  }\n",
    "  /* 終了待ち */\n",
    "  for (int i = 0; i < nthreads; i++) {\n",
    "    void * ret = 0;\n",
    "    if (pthread_join(child_thread_id[i], &ret))\n",
    "      err(1, \"pthread_join\");\n",
    "  }\n",
    "  printf(\"g = %d\\n\", g);\n",
    "  return 0;\n",
    "}"
   ]
  },
  {
   "cell_type": "code",
   "execution_count": null,
   "metadata": {
    "deletable": false,
    "kernel": "Bash",
    "nbgrader": {
     "cell_type": "code",
     "checksum": "ac4d574a8881ea5373cc914d764efcf0",
     "grade": true,
     "grade_id": "p-002",
     "locked": false,
     "points": 1,
     "schema_version": 3,
     "solution": true,
     "task": false
    }
   },
   "outputs": [],
   "source": [
    "\n",
    "gcc -Wall -o race_increment race_increment.c -lpthread"
   ]
  },
  {
   "cell_type": "markdown",
   "metadata": {
    "deletable": false,
    "editable": false,
    "kernel": "SoS",
    "nbgrader": {
     "cell_type": "markdown",
     "checksum": "cc54df4e81a0a9a664f785ddcdb6d08d",
     "grade": false,
     "grade_id": "c-004",
     "locked": true,
     "schema_version": 3,
     "solution": false,
     "task": false
    }
   },
   "source": [
    "* 以下を何度も実行し結果が正しくない(ことがある)か確かめよ"
   ]
  },
  {
   "cell_type": "code",
   "execution_count": null,
   "metadata": {
    "deletable": false,
    "kernel": "Bash",
    "nbgrader": {
     "cell_type": "code",
     "checksum": "166f8b4c632d0c2cc855ae065702a7b9",
     "grade": true,
     "grade_id": "p-003",
     "locked": false,
     "points": 1,
     "schema_version": 3,
     "solution": true,
     "task": false
    }
   },
   "outputs": [],
   "source": [
    "\n",
    "./race_increment 1000000"
   ]
  },
  {
   "cell_type": "markdown",
   "metadata": {
    "deletable": false,
    "editable": false,
    "kernel": "SoS",
    "nbgrader": {
     "cell_type": "markdown",
     "checksum": "5ba20ff966d6a6449f62e868db9346db",
     "grade": false,
     "grade_id": "c-005",
     "locked": true,
     "schema_version": 3,
     "solution": false,
     "task": false
    }
   },
   "source": [
    "# 2. OpenMP\n",
    "* Pthreadでプログラムを書くと, ちょっとしたことをスレッドにやらせるのにいちいち, 別の関数を作り, 引数を構造体に詰めて, それを受け取ったほうがまた構造体から要素を取り出して, ... という処理が実に煩わしい\n",
    "* OpenMPという, 並列処理のためのC言語の機能を使うと簡単なスレッド処理はずっと簡潔に書けるので以降はそれを使う(Pthreadの代わりをするための最低限の機能のみ使う)\n",
    "* 以下はOpenMPの一番簡単なプログラム"
   ]
  },
  {
   "cell_type": "code",
   "execution_count": null,
   "metadata": {
    "deletable": false,
    "kernel": "Python 3 (ipykernel)",
    "nbgrader": {
     "cell_type": "code",
     "checksum": "d72793a5353a282cd448c12ed08283dd",
     "grade": true,
     "grade_id": "p-004",
     "locked": false,
     "points": 1,
     "schema_version": 3,
     "solution": true,
     "task": false
    }
   },
   "outputs": [],
   "source": [
    "\n",
    "%%writefile omp_hello.c\n",
    "#include <stdio.h>\n",
    "#include <unistd.h>\n",
    "#include <omp.h>\n",
    "\n",
    "int main() {\n",
    "  printf(\"hello\\n\");\n",
    "#pragma omp parallel\n",
    "  {\n",
    "    /* 起動時に環境変数OMP_NUM_THREADS=xxx で指定した\n",
    "       個数のスレッドが作られ, 各々が以下の文 { ... }\n",
    "       を実行する.\n",
    "       omp_get_num_threads() : { ... } を実行しているスレッド数を得る\n",
    "       omp_get_thread_num() : その中での呼び出したスレッドの番号を得る\n",
    "    */\n",
    "    int idx = omp_get_thread_num();\n",
    "    int nth = omp_get_num_threads();\n",
    "    for (int i = 0; i < 4; i++) {\n",
    "      usleep(1000);\n",
    "      printf(\"hi I am %d of %d\\n\", idx, nth);\n",
    "    }\n",
    "  }\n",
    "  printf(\"bye\\n\");\n",
    "  return 0;\n",
    "}"
   ]
  },
  {
   "cell_type": "code",
   "execution_count": null,
   "metadata": {
    "deletable": false,
    "kernel": "Bash",
    "nbgrader": {
     "cell_type": "code",
     "checksum": "42c23c6611613a476aa6386671f75ed6",
     "grade": true,
     "grade_id": "p-005",
     "locked": false,
     "points": 1,
     "schema_version": 3,
     "solution": true,
     "task": false
    }
   },
   "outputs": [],
   "source": [
    "\n",
    "gcc -Wall -fopenmp -o omp_hello omp_hello.c"
   ]
  },
  {
   "cell_type": "markdown",
   "metadata": {
    "deletable": false,
    "editable": false,
    "kernel": "SoS",
    "nbgrader": {
     "cell_type": "markdown",
     "checksum": "1f0fed4a9f21aa6a7a9f1cef37f88e79",
     "grade": false,
     "grade_id": "c-006",
     "locked": true,
     "schema_version": 3,
     "solution": false,
     "task": false
    }
   },
   "source": [
    "以下のOMP_NUM_THREADS=3の数字をいろいろ変えて実行してみよ."
   ]
  },
  {
   "cell_type": "code",
   "execution_count": null,
   "metadata": {
    "deletable": false,
    "kernel": "Bash",
    "nbgrader": {
     "cell_type": "code",
     "checksum": "4fcd717d7b19dd876d2793a51ccb6196",
     "grade": true,
     "grade_id": "p-006",
     "locked": false,
     "points": 1,
     "schema_version": 3,
     "solution": true,
     "task": false
    }
   },
   "outputs": [],
   "source": [
    "\n",
    "OMP_NUM_THREADS=3 ./omp_hello"
   ]
  },
  {
   "cell_type": "markdown",
   "metadata": {
    "deletable": false,
    "editable": false,
    "kernel": "SoS",
    "nbgrader": {
     "cell_type": "markdown",
     "checksum": "4fdcc27723e1376131953dc53b4248f5",
     "grade": false,
     "grade_id": "c-007",
     "locked": true,
     "schema_version": 3,
     "solution": false,
     "task": false
    }
   },
   "source": [
    "#  OpenMP超概説\n",
    "```\n",
    "#pragma omp parallel\n",
    "  S /* Cの文 */\n",
    "```\n",
    "を実行すると,\n",
    "* OMP_NUM_THREADS=.. で指定された数のスレッドが出来る\n",
    "* 各スレッドがSを実行する\n",
    "\n",
    "という動作をする\n",
    "\n",
    "* コンパイルの際には `-fopenmp` というオプションを指定する\n",
    "* 注意1 放っておくと同じSを複数のスレッドが重複して実行することになってしまうので, 大概の場合, スレッド数と自分の番号に応じて「担当」を決める必要がある\n",
    "* 注意2 複数のスレッドで実行されるのは #pragma omp parallel の直後の1文のみで, それ以降は再び1スレッドの実行に戻る(上述のomp_helloの実行を参照). 複数の文をスレッドに実行させたければ複合文 { ... } を用いればよい\n",
    "\n",
    "* スレッド数はOMP_NUM_THREADSで指定する代わりにプログラム内で以下のように指定することも可能.\n",
    "```\n",
    "#pragma omp parallel num_threads(n)\n",
    "  S\n",
    "```\n",
    "* Sの実行中に以下の関数を呼び出すと, \n",
    "  * omp_get_num_threads() --- Sを実行しているスレッド数(OMP_NUM_THREADSやnum_threadsで指定した数)を返す\n",
    "  * omp_get_thread_num() --- その中での呼び出したスレッドの番号を返す(0, 1, ..., スレッド数-1)\n",
    "\n",
    "* 以下は上述した競合状態を持つプログラムをOpenMPで書き直したもの"
   ]
  },
  {
   "cell_type": "code",
   "execution_count": null,
   "metadata": {
    "deletable": false,
    "kernel": "Python 3 (ipykernel)",
    "nbgrader": {
     "cell_type": "code",
     "checksum": "92c05c1759a24bb9cde75c22b10d0265",
     "grade": true,
     "grade_id": "p-007",
     "locked": false,
     "points": 1,
     "schema_version": 3,
     "solution": true,
     "task": false
    }
   },
   "outputs": [],
   "source": [
    "\n",
    "%%writefile race_increment_omp.c\n",
    "#include <assert.h>\n",
    "#include <err.h>\n",
    "#include <stdio.h>\n",
    "#include <stdlib.h>\n",
    "#include <unistd.h>\n",
    "#include <pthread.h>\n",
    "\n",
    "\n",
    "/* 大域変数 */\n",
    "volatile int g = 0;\n",
    "\n",
    "\n",
    "\n",
    "int main(int argc, char ** argv) {\n",
    "  long n = (argc > 1 ? atol(argv[1]) : 1000000);\n",
    "  g = 0;\n",
    "#pragma omp parallel\n",
    "  {\n",
    "    for (long i = 0; i < n; i++) {\n",
    "      g++;\n",
    "    }\n",
    "  }\n",
    "  printf(\"g = %d\\n\", g);\n",
    "  return 0;\n",
    "}"
   ]
  },
  {
   "cell_type": "code",
   "execution_count": null,
   "metadata": {
    "deletable": false,
    "kernel": "Bash",
    "nbgrader": {
     "cell_type": "code",
     "checksum": "027e67a5008d3684c74ac8527c79958e",
     "grade": true,
     "grade_id": "p-008",
     "locked": false,
     "points": 1,
     "schema_version": 3,
     "solution": true,
     "task": false
    }
   },
   "outputs": [],
   "source": [
    "\n",
    "gcc -Wall -fopenmp -o race_increment_omp race_increment_omp.c"
   ]
  },
  {
   "cell_type": "markdown",
   "metadata": {
    "deletable": false,
    "editable": false,
    "kernel": "SoS",
    "nbgrader": {
     "cell_type": "markdown",
     "checksum": "32de1a06e2620422ac6a831dc17bc2d0",
     "grade": false,
     "grade_id": "c-008",
     "locked": true,
     "schema_version": 3,
     "solution": false,
     "task": false
    }
   },
   "source": [
    "以下を何度も実行して見よ"
   ]
  },
  {
   "cell_type": "code",
   "execution_count": null,
   "metadata": {
    "deletable": false,
    "kernel": "Bash",
    "nbgrader": {
     "cell_type": "code",
     "checksum": "a71c883c2eead91ea7c823eaf0cb6cd2",
     "grade": true,
     "grade_id": "p-009",
     "locked": false,
     "points": 1,
     "schema_version": 3,
     "solution": true,
     "task": false
    }
   },
   "outputs": [],
   "source": [
    "\n",
    "OMP_NUM_THREADS=3 ./race_increment_omp 1000000"
   ]
  },
  {
   "cell_type": "markdown",
   "metadata": {
    "deletable": false,
    "editable": false,
    "kernel": "SoS",
    "nbgrader": {
     "cell_type": "markdown",
     "checksum": "b7327afc7fef52888fcb9d5033b6ea6c",
     "grade": false,
     "grade_id": "c-009",
     "locked": true,
     "schema_version": 3,
     "solution": false,
     "task": false
    }
   },
   "source": [
    "* 上記は「各スレッドが」n回の更新を行う. 並列処理でしばしば必要なのは合計n個の仕事をスレッドで分け合うというもので, そのための構文が `#pragma omp for`\n",
    "* 詳しいことは省略して,\n",
    "\n",
    "```\n",
    "#pragma omp parallel\n",
    "{\n",
    "  ...\n",
    "#pragma omp for\n",
    "  for (int i = 0; i < n; i++) {\n",
    "    T;\n",
    "  }\n",
    "}\n",
    "```\n",
    "\n",
    "と書くと, for文のn回の繰り返しが `#pragma omp parallel` で作られたスレッド間で分け合って実行されるということだけ覚えれば良い.\n",
    "\n",
    "* 以下は上述したプログラムを, 全スレッド合計で与えられた回数更新するようにしたもの"
   ]
  },
  {
   "cell_type": "code",
   "execution_count": null,
   "metadata": {
    "deletable": false,
    "kernel": "Python 3 (ipykernel)",
    "nbgrader": {
     "cell_type": "code",
     "checksum": "3e681a67ab05e6f0d22fcade2b738270",
     "grade": true,
     "grade_id": "p-010",
     "locked": false,
     "points": 1,
     "schema_version": 3,
     "solution": true,
     "task": false
    }
   },
   "outputs": [],
   "source": [
    "\n",
    "%%writefile race_increment_n.c\n",
    "#include <assert.h>\n",
    "#include <err.h>\n",
    "#include <stdio.h>\n",
    "#include <stdlib.h>\n",
    "#include <unistd.h>\n",
    "#include <pthread.h>\n",
    "\n",
    "\n",
    "/* 大域変数 */\n",
    "volatile int g = 0;\n",
    "\n",
    "\n",
    "\n",
    "int main(int argc, char ** argv) {\n",
    "  long n = (argc > 1 ? atol(argv[1]) : 1000000);\n",
    "  g = 0;\n",
    "#pragma omp parallel\n",
    "  {\n",
    "#pragma omp for\n",
    "    for (long i = 0; i < n; i++) {\n",
    "      g++;\n",
    "    }\n",
    "  }\n",
    "  printf(\"g = %d\\n\", g);\n",
    "  return 0;\n",
    "}"
   ]
  },
  {
   "cell_type": "code",
   "execution_count": null,
   "metadata": {
    "deletable": false,
    "kernel": "Bash",
    "nbgrader": {
     "cell_type": "code",
     "checksum": "751fb8f83c08338493e3aac3ed211f4e",
     "grade": true,
     "grade_id": "p-011",
     "locked": false,
     "points": 1,
     "schema_version": 3,
     "solution": true,
     "task": false
    }
   },
   "outputs": [],
   "source": [
    "\n",
    "gcc -Wall -fopenmp -o race_increment_n race_increment_n.c"
   ]
  },
  {
   "cell_type": "markdown",
   "metadata": {
    "deletable": false,
    "editable": false,
    "kernel": "SoS",
    "nbgrader": {
     "cell_type": "markdown",
     "checksum": "a48df73bf33cdb1e84f0949bc64bd448",
     "grade": false,
     "grade_id": "c-010",
     "locked": true,
     "schema_version": 3,
     "solution": false,
     "task": false
    }
   },
   "source": [
    "以下を何度も実行して見よ"
   ]
  },
  {
   "cell_type": "code",
   "execution_count": null,
   "metadata": {
    "deletable": false,
    "kernel": "Bash",
    "nbgrader": {
     "cell_type": "code",
     "checksum": "a1c2e910a692cb3b3170529701d63575",
     "grade": true,
     "grade_id": "p-012",
     "locked": false,
     "points": 1,
     "schema_version": 3,
     "solution": true,
     "task": false
    }
   },
   "outputs": [],
   "source": [
    "\n",
    "OMP_NUM_THREADS=3 ./race_increment_n 1000000"
   ]
  },
  {
   "cell_type": "markdown",
   "metadata": {
    "deletable": false,
    "editable": false,
    "kernel": "SoS",
    "nbgrader": {
     "cell_type": "markdown",
     "checksum": "5edafb77d643885861593faa9b21a7fa",
     "grade": false,
     "grade_id": "c-011",
     "locked": true,
     "schema_version": 3,
     "solution": false,
     "task": false
    }
   },
   "source": [
    "# 3. 課題前の準備\n",
    "* 以下の課題に取り掛かる前に, しくじったときのリカバリーの仕方を覚える必要がある\n",
    "* 「しくじり」とは何らかの理由でプログラムが終了しないケース\n",
    "  * そうなるとセルの左が [*] となったまま数字にならず, 他のセルでSHIFT + ENTERしても反応しなくなる\n",
    "* 同期を伴うプログラムで間違うとそういうことになる\n",
    "* リカバリー(走っているプログラムの強制終了)の仕方\n",
    "  * まず, 仕様上は画面上部の停止■ボタンで停止することにはなっているが停止しないこともしばしば\n",
    "  * ■で停止しなかった場合は, \n",
    "  * 左上の「Jupyter」メニューでJupyterのトップページに戻る\n",
    "  * File -&gt; New -&gt; Terminal を選択してターミナルを開く\n",
    "  * コマンドラインプロンプトが現れたら以下のコマンドを実行\n",
    "    * やりかた1\n",
    "```\n",
    "ps auxww | grep 実行しているプログラム名\n",
    "```\n",
    "または\n",
    "```\n",
    "pgrep -fa 実行しているプログラム名\n",
    "```\n",
    "どちらかによってプロセスIDを突き止めたら\n",
    "```\n",
    "kill プロセスID\n",
    "```\n",
    "    * やりかた2\n",
    "1をなんどか経験して, 誤爆の心配がないとわかったら\n",
    "```\n",
    "killall 実行しているプログラム名\n",
    "```\n",
    "    * やりかた3\n",
    "```\n",
    "top\n",
    "```\n",
    "を実行. 'u'で自分のユーザIDを持つプロセスだけを表示. killしたいプロセスが見つかったら'k' (キャンセルは ESC)\n",
    "\n",
    "* Jupyterのターミナルの代わりに直接SSHでログインしてもよい(推奨)\n",
    "* 懸命な諸君はお気づきだろうが, プログラミング自体をSSHでログインしてコマンドラインや好きなエディタで行っても良い(Jupyter上よりもvimやEmacsでプログラムが書く方がよいという人はそうしてもよい)\n",
    "* エディタなど複雑な画面表示を行うプログラムはJupyterターミナルでの実行は推奨しない\n",
    "* そうすれば, GDBなどデバッグ用のツールも使える\n",
    "* ただし, <font color=\"red\">課題部分はJupyter上にコードと, 実行記録を残す</font>こと\n",
    "* プロセスを殺すこともなぜかできない場合, Jupyterカーネルのリセットやサーバの再起動が最後の手段. [Jupyter環境の使い方](https://www.eidos.ic.i.u-tokyo.ac.jp/~tau/lecture/operating_systems/html/jupyter.html) ページの「おかしなことになったら」の節を参照\n",
    "\n",
    "#  練習\n",
    "以下を実行し, 1234秒以内にJupyterターミナルまたはSSHログインし, そのプロセスを発見し, killして終了させよ"
   ]
  },
  {
   "cell_type": "code",
   "execution_count": null,
   "metadata": {
    "deletable": false,
    "kernel": "Bash",
    "nbgrader": {
     "cell_type": "code",
     "checksum": "f14c52ea62331ff6013c39bcfa1f9b26",
     "grade": true,
     "grade_id": "p-013",
     "locked": false,
     "points": 1,
     "schema_version": 3,
     "solution": true,
     "task": false
    }
   },
   "outputs": [],
   "source": [
    "\n",
    "sleep 1234"
   ]
  },
  {
   "cell_type": "markdown",
   "metadata": {
    "deletable": false,
    "editable": false,
    "kernel": "SoS",
    "nbgrader": {
     "cell_type": "markdown",
     "checksum": "16b22e259e196d73aa2e6496283dc899",
     "grade": false,
     "grade_id": "c-012",
     "locked": true,
     "schema_version": 3,
     "solution": false,
     "task": false
    }
   },
   "source": [
    "# 4. 排他制御 (mutual exclusion, mutex)\n",
    "* 排他制御は文字通り, ある一連の処理を「排他的に」実行するためのAPI\n",
    "```\n",
    "lock(m);\n",
    "  何か\n",
    "unlock(m);\n",
    "```\n",
    "を複数のスレッドが実行しても, 「何か」の部分が時間的に重なることがないことを保証する\n",
    "\n",
    "* PthreadのAPIは以下\n",
    "  * [pthread_mutex_init](https://linux.die.net/man/3/pthread_mutex_init)\n",
    "  * [pthread_mutex_lock](https://linux.die.net/man/3/pthread_mutex_lock)\n",
    "  * [pthread_mutex_unlock](https://linux.die.net/man/3/pthread_mutex_unlock)\n",
    "  * [pthread_mutex_trylock](https://linux.die.net/man/3/pthread_mutex_trylock)"
   ]
  },
  {
   "cell_type": "markdown",
   "metadata": {
    "deletable": false,
    "editable": false,
    "kernel": "SoS",
    "nbgrader": {
     "cell_type": "markdown",
     "checksum": "69aef306f4f6978dd7661b8892c5a130",
     "grade": false,
     "grade_id": "c-013",
     "locked": true,
     "schema_version": 3,
     "solution": false,
     "task": false
    }
   },
   "source": [
    "# <font color=\"green\"> Problem 1 :  排他制御の練習</font>\n",
    "* 以下に排他制御(mutex)を導入し, 結果が常に正しく(gの値が$n$に)なるようにせよ\n",
    "* 注: 実はOpenMPにはOpenMPの排他制御APIがあるのだが気にせずPthreadのものを使えば良い"
   ]
  },
  {
   "cell_type": "code",
   "execution_count": null,
   "metadata": {
    "deletable": false,
    "kernel": "Python 3 (ipykernel)",
    "nbgrader": {
     "cell_type": "code",
     "checksum": "e7c80b0a7d457afabbe317bb1751cb7a",
     "grade": true,
     "grade_id": "p-014",
     "locked": false,
     "points": 1,
     "schema_version": 3,
     "solution": true,
     "task": false
    }
   },
   "outputs": [],
   "source": [
    "\n",
    "%%writefile race_increment_n.c\n",
    "#include <assert.h>\n",
    "#include <err.h>\n",
    "#include <stdio.h>\n",
    "#include <stdlib.h>\n",
    "#include <unistd.h>\n",
    "#include <pthread.h>\n",
    "\n",
    "\n",
    "/* 大域変数 */\n",
    "volatile int g = 0;\n",
    "\n",
    "\n",
    "\n",
    "int main(int argc, char ** argv) {\n",
    "  long n = (argc > 1 ? atol(argv[1]) : 1000000);\n",
    "  g = 0;\n",
    "#pragma omp parallel\n",
    "  {\n",
    "#pragma omp for\n",
    "    for (long i = 0; i < n; i++) {\n",
    "      g++;\n",
    "    }\n",
    "  }\n",
    "  printf(\"g = %d\\n\", g);\n",
    "  return 0;\n",
    "}"
   ]
  },
  {
   "cell_type": "code",
   "execution_count": null,
   "metadata": {
    "deletable": false,
    "kernel": "Bash",
    "nbgrader": {
     "cell_type": "code",
     "checksum": "48cf29c9c2633af8fd8fcf0cbb4cdbf5",
     "grade": true,
     "grade_id": "p-015",
     "locked": false,
     "points": 1,
     "schema_version": 3,
     "solution": true,
     "task": false
    }
   },
   "outputs": [],
   "source": [
    "\n",
    "gcc -Wall -fopenmp -o race_increment_n race_increment_n.c"
   ]
  },
  {
   "cell_type": "markdown",
   "metadata": {
    "deletable": false,
    "editable": false,
    "kernel": "SoS",
    "nbgrader": {
     "cell_type": "markdown",
     "checksum": "7376d0ee35b9fadb51b56447e69660cc",
     "grade": false,
     "grade_id": "c-014",
     "locked": true,
     "schema_version": 3,
     "solution": false,
     "task": false
    }
   },
   "source": [
    "* nやスレッド数を変えて実行せよ(`g = 1000000` が表示されたら成功)"
   ]
  },
  {
   "cell_type": "code",
   "execution_count": null,
   "metadata": {
    "deletable": false,
    "kernel": "Bash",
    "nbgrader": {
     "cell_type": "code",
     "checksum": "b0e01c7ef13c9f010e7c7d48916f9c4a",
     "grade": true,
     "grade_id": "p-016",
     "locked": false,
     "points": 1,
     "schema_version": 3,
     "solution": true,
     "task": false
    }
   },
   "outputs": [],
   "source": [
    "\n",
    "OMP_NUM_THREADS=3  ./race_increment_n 1000000\n",
    "OMP_NUM_THREADS=20 ./race_increment_n 1000000"
   ]
  },
  {
   "cell_type": "markdown",
   "metadata": {
    "deletable": false,
    "editable": false,
    "kernel": "SoS",
    "nbgrader": {
     "cell_type": "markdown",
     "checksum": "5f6bfee86cbd8d9e1a188f8c3ce423a0",
     "grade": false,
     "grade_id": "c-015",
     "locked": true,
     "schema_version": 3,
     "solution": false,
     "task": false
    }
   },
   "source": [
    "# <font color=\"green\"> Problem 2 :  排他制御の応用</font>\n",
    "* 以下は素数を数えるプログラムをOpenMPで書いたもの\n",
    "* これに排他制御(mutex)を導入し, 結果が正しくなるようにせよ\n",
    "* なお, 正しい結果を知りたければ1スレッド (OMP_NUM_THREADS=1) で実行した結果を信じればよいだろう\n",
    "* 注: OpenMPにはOpenMPの排他制御APIがあるのだが気にせずPthreadのものを使えば良い"
   ]
  },
  {
   "cell_type": "code",
   "execution_count": null,
   "metadata": {
    "deletable": false,
    "kernel": "Python 3 (ipykernel)",
    "nbgrader": {
     "cell_type": "code",
     "checksum": "02483f326f34fb3c1f4de4e67defc840",
     "grade": true,
     "grade_id": "p-017",
     "locked": false,
     "points": 1,
     "schema_version": 3,
     "solution": true,
     "task": false
    }
   },
   "outputs": [],
   "source": [
    "\n",
    "%%writefile count_prime_omp.c\n",
    "#include <err.h>\n",
    "#include <stdio.h>\n",
    "#include <stdlib.h>\n",
    "#include <time.h>\n",
    "#include <unistd.h>\n",
    "#include <pthread.h>\n",
    "#include <omp.h>\n",
    "\n",
    "int check_prime(long n) {\n",
    "  for (long d = 2; d * d <= n; d++) {\n",
    "    if (n % d == 0) return 0;\n",
    "  }\n",
    "  return n > 1;\n",
    "}\n",
    "\n",
    "void count_primes(long a, long b, long * s) {\n",
    "#pragma omp for\n",
    "  for (long n = a; n < b; n++) {\n",
    "    if (check_prime(n)) {\n",
    "      *s += 1;\n",
    "    }\n",
    "  }\n",
    "}\n",
    "\n",
    "\n",
    "double cur_time() {\n",
    "  struct timespec ts[1];\n",
    "  clock_gettime(CLOCK_REALTIME, ts);\n",
    "  return ts->tv_nsec * 1.0E-9 + ts->tv_sec;\n",
    "}\n",
    "\n",
    "int main(int argc, char ** argv) {\n",
    "  long i = 1;\n",
    "  long a = (argc > i ? atol(argv[i]) : 1000000); i++;\n",
    "  long b = (argc > i ? atol(argv[i]) : 2000000); i++;\n",
    "  long s = 0;\n",
    "  double t0 = cur_time();\n",
    "#pragma omp parallel            \n",
    "  {\n",
    "    /* 起動時に環境変数OMP_NUM_THREADS=xxx で指定した\n",
    "       個数のスレッドが作られ, 各々が以下の文 { ... }\n",
    "       を実行する.\n",
    "       関数内のpragma omp for 下のfor文をそれらのスレッドが\n",
    "       分割して実行する */\n",
    "    count_primes(a, b, &s);\n",
    "  }\n",
    "  double t1 = cur_time();\n",
    "  printf(\"%ld primes in [%ld,%ld)\\n\", s, a, b);\n",
    "  printf(\"%f sec\\n\", t1 - t0);\n",
    "  return 0;\n",
    "}"
   ]
  },
  {
   "cell_type": "code",
   "execution_count": null,
   "metadata": {
    "deletable": false,
    "kernel": "Bash",
    "nbgrader": {
     "cell_type": "code",
     "checksum": "2eef83f3f004fa64d2c45cc207229283",
     "grade": true,
     "grade_id": "p-018",
     "locked": false,
     "points": 1,
     "schema_version": 3,
     "solution": true,
     "task": false
    }
   },
   "outputs": [],
   "source": [
    "\n",
    "gcc -Wall -fopenmp -o count_prime_omp count_prime_omp.c"
   ]
  },
  {
   "cell_type": "code",
   "execution_count": null,
   "metadata": {
    "deletable": false,
    "kernel": "Bash",
    "nbgrader": {
     "cell_type": "code",
     "checksum": "867447899fc6bf6cc7467c2a643c3ac3",
     "grade": true,
     "grade_id": "p-019",
     "locked": false,
     "points": 1,
     "schema_version": 3,
     "solution": true,
     "task": false
    }
   },
   "outputs": [],
   "source": [
    "\n",
    "if OMP_NUM_THREADS=4  ./count_prime_omp       0 1000000 | grep 78498 ; then echo OK ; else echo NG ; fi\n",
    "if OMP_NUM_THREADS=4  ./count_prime_omp 1000000 2000000 | grep 70435 ; then echo OK ; else echo NG ; fi\n",
    "if OMP_NUM_THREADS=4  ./count_prime_omp 2000000 3000000 | grep 67883 ; then echo OK ; else echo NG ; fi\n",
    "if OMP_NUM_THREADS=20 ./count_prime_omp 2000000 3000000 | grep 67883 ; then echo OK ; else echo NG ; fi"
   ]
  },
  {
   "cell_type": "markdown",
   "metadata": {
    "deletable": false,
    "editable": false,
    "kernel": "SoS",
    "nbgrader": {
     "cell_type": "markdown",
     "checksum": "c0f00db72f1023873970a2558df29747",
     "grade": false,
     "grade_id": "c-016",
     "locked": true,
     "schema_version": 3,
     "solution": false,
     "task": false
    }
   },
   "source": [
    "# 5. 同期を隠蔽した(スレッドセーフな)データ構造\n",
    "* ある変数をスレッドで更新・参照するたびに排他制御を導入するとプログラムは汚く, 見通しが悪くなる\n",
    "* そこで通常, 「データとそれを守る排他制御」をセットにしたデータ構造と, それを操作する関数を作る. スレッドがそれを呼び出すだけで安全に動作するようにする\n",
    "* その練習として, 値を足していくカウンタを作り, 素数を数えるプログラムに適用する\n",
    "* 以下をカウンタのインターフェスとする\n",
    "```\n",
    "typedef struct { ... } counter_t;\n",
    "/* 0 にする */\n",
    "void counter_init(counter_t * c);\n",
    "/* +1 する (返り値: 深い意味はないが, 元の値を返すとする) */\n",
    "long counter_inc(counter_t * c);\n",
    "/* 今の値を返す */\n",
    "long counter_get(counter_t * c);\n",
    "```"
   ]
  },
  {
   "cell_type": "markdown",
   "metadata": {
    "deletable": false,
    "editable": false,
    "kernel": "SoS",
    "nbgrader": {
     "cell_type": "markdown",
     "checksum": "4f7050074dfed9854e960e2f5bc5e3a1",
     "grade": false,
     "grade_id": "c-017",
     "locked": true,
     "schema_version": 3,
     "solution": false,
     "task": false
    }
   },
   "source": [
    "# <font color=\"green\"> Problem 3 :  スレッドセーフなカウンタ</font>\n",
    "* 上記インターフェースを持つデータ構造と関数を作り, 素数を数えるプログラムに適用せよ\n",
    "* 以下のコード中の所定のデータ構造や関数の中身を書き足して正しく動くようにせよ"
   ]
  },
  {
   "cell_type": "code",
   "execution_count": null,
   "metadata": {
    "deletable": false,
    "kernel": "Python 3 (ipykernel)",
    "nbgrader": {
     "cell_type": "code",
     "checksum": "39e5e2ddb2e28d675fd9d74589dc18eb",
     "grade": true,
     "grade_id": "p-020",
     "locked": false,
     "points": 1,
     "schema_version": 3,
     "solution": true,
     "task": false
    }
   },
   "outputs": [],
   "source": [
    "\n",
    "%%writefile count_prime_counter.c\n",
    "#include <err.h>\n",
    "#include <stdio.h>\n",
    "#include <stdlib.h>\n",
    "#include <time.h>\n",
    "#include <unistd.h>\n",
    "#include <pthread.h>\n",
    "#include <omp.h>\n",
    "\n",
    "int check_prime(long n) {\n",
    "  for (long d = 2; d * d <= n; d++) {\n",
    "    if (n % d == 0) return 0;\n",
    "  }\n",
    "  return n > 1;\n",
    "}\n",
    "\n",
    "/* 以下のstruct, 関数の中身を埋めよ */\n",
    "typedef struct {\n",
    "} counter_t;\n",
    "\n",
    "void counter_init(counter_t * c) {\n",
    "  /* 0 にする \n",
    "     (void)cは変数を使っていないという警告を消すためのもの.\n",
    "     修正後は消して良い */\n",
    "  (void)c;\n",
    "}\n",
    "\n",
    "long counter_inc(counter_t * c) {\n",
    "  /* +1 する (返り値: 深い意味はなく, 元の値を返すとする) */\n",
    "  (void)c;\n",
    "  return -1;\n",
    "}\n",
    "\n",
    "long counter_get(counter_t * c) {\n",
    "  /* 今の値を返す */\n",
    "  (void)c;\n",
    "  return -1;\n",
    "}\n",
    "\n",
    "void count_primes(long a, long b, counter_t * c) {\n",
    "#pragma omp for\n",
    "  for (long n = a; n < b; n++) {\n",
    "    if (check_prime(n)) {\n",
    "      counter_inc(c);\n",
    "    }\n",
    "  }\n",
    "}\n",
    "\n",
    "\n",
    "double cur_time() {\n",
    "  struct timespec ts[1];\n",
    "  clock_gettime(CLOCK_REALTIME, ts);\n",
    "  return ts->tv_nsec * 1.0E-9 + ts->tv_sec;\n",
    "}\n",
    "\n",
    "int main(int argc, char ** argv) {\n",
    "  long i = 1;\n",
    "  long a = (argc > i ? atol(argv[i]) : 1000000); i++;\n",
    "  long b = (argc > i ? atol(argv[i]) : 2000000); i++;\n",
    "  counter_t c[1];\n",
    "  counter_init(c);\n",
    "  double t0 = cur_time();\n",
    "#pragma omp parallel            \n",
    "  {\n",
    "    /* 起動時に環境変数OMP_NUM_THREADS=xxx で指定した\n",
    "       個数のスレッドが作られ, 各々が以下の文 { ... }\n",
    "       を実行する.\n",
    "       関数内のpragma omp for 下のfor文をそれらのスレッドが\n",
    "       分割して実行する */\n",
    "    count_primes(a, b, c);\n",
    "  }\n",
    "  double t1 = cur_time();\n",
    "  printf(\"%ld primes in [%ld,%ld)\\n\", counter_get(c), a, b);\n",
    "  printf(\"%f sec\\n\", t1 - t0);\n",
    "  return 0;\n",
    "}"
   ]
  },
  {
   "cell_type": "code",
   "execution_count": null,
   "metadata": {
    "deletable": false,
    "kernel": "Bash",
    "nbgrader": {
     "cell_type": "code",
     "checksum": "c1bcfa86c4bacbbe0493d2adef91ba22",
     "grade": true,
     "grade_id": "p-021",
     "locked": false,
     "points": 1,
     "schema_version": 3,
     "solution": true,
     "task": false
    }
   },
   "outputs": [],
   "source": [
    "\n",
    "gcc -Wall -fopenmp -o count_prime_counter count_prime_counter.c"
   ]
  },
  {
   "cell_type": "code",
   "execution_count": null,
   "metadata": {
    "deletable": false,
    "kernel": "Bash",
    "nbgrader": {
     "cell_type": "code",
     "checksum": "ccf56d4fea643b98511d14108b20bc74",
     "grade": true,
     "grade_id": "p-022",
     "locked": false,
     "points": 1,
     "schema_version": 3,
     "solution": true,
     "task": false
    }
   },
   "outputs": [],
   "source": [
    "\n",
    "if OMP_NUM_THREADS=4  ./count_prime_counter       0 1000000 | grep 78498 ; then echo OK ; else echo NG ; fi\n",
    "if OMP_NUM_THREADS=4  ./count_prime_counter 1000000 2000000 | grep 70435 ; then echo OK ; else echo NG ; fi\n",
    "if OMP_NUM_THREADS=4  ./count_prime_counter 2000000 3000000 | grep 67883 ; then echo OK ; else echo NG ; fi\n",
    "if OMP_NUM_THREADS=20 ./count_prime_counter 2000000 3000000 | grep 67883 ; then echo OK ; else echo NG ; fi"
   ]
  }
 ],
 "metadata": {
  "kernelspec": {
   "display_name": "SoS",
   "language": "sos",
   "name": "sos"
  },
  "language_info": {
   "codemirror_mode": "sos",
   "file_extension": ".sos",
   "mimetype": "text/x-sos",
   "name": "sos",
   "nbconvert_exporter": "sos_notebook.converter.SoS_Exporter",
   "pygments_lexer": "sos"
  },
  "sos": {
   "kernels": [
    [
     "Bash",
     "bash",
     "bash",
     "",
     "shell"
    ],
    [
     "C",
     "c_kernel",
     "c",
     "",
     ""
    ],
    [
     "Go",
     "gophernotes",
     "go",
     "",
     ""
    ],
    [
     "Julia 1.4.1",
     "julia-1.4",
     "julia",
     "",
     ""
    ],
    [
     "OCaml default",
     "ocaml-jupyter",
     "OCaml",
     "",
     "text/x-ocaml"
    ],
    [
     "Python 3 (ipykernel)",
     "python3",
     "python3",
     "",
     {
      "name": "ipython",
      "version": 3
     }
    ],
    [
     "Rust",
     "rust",
     "rust",
     "",
     ""
    ]
   ],
   "panel": {
    "displayed": true,
    "height": 0
   },
   "version": "0.23.3"
  }
 },
 "nbformat": 4,
 "nbformat_minor": 4
}
