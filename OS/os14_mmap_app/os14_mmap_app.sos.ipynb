{
 "cells": [
  {
   "cell_type": "markdown",
   "metadata": {
    "deletable": false,
    "editable": false,
    "kernel": "SoS",
    "nbgrader": {
     "cell_type": "markdown",
     "checksum": "8666c7e0c011897988d4512d06446cab",
     "grade": false,
     "grade_id": "c-001",
     "locked": true,
     "schema_version": 3,
     "solution": false,
     "task": false
    }
   },
   "source": [
    "# 1. オペレーティングシステム 演習 14\n",
    "#  mmapの課題"
   ]
  },
  {
   "cell_type": "markdown",
   "metadata": {
    "kernel": "SoS",
    "nbgrader": {
     "grade": false,
     "grade_id": "c-002",
     "locked": false,
     "schema_version": 3,
     "solution": false,
     "task": false
    }
   },
   "source": [
    "名前と学生証番号を書け. Enter your name and student ID.\n",
    "\n",
    " * 名前 Name:\n",
    " * 学生証番号 Student ID:"
   ]
  },
  {
   "cell_type": "markdown",
   "metadata": {
    "deletable": false,
    "editable": false,
    "kernel": "SoS",
    "nbgrader": {
     "cell_type": "markdown",
     "checksum": "ef9261fd7b83676bd766684111e34f09",
     "grade": false,
     "grade_id": "c-003",
     "locked": true,
     "schema_version": 3,
     "solution": false,
     "task": false
    }
   },
   "source": [
    "# 2. mmapを利用した高速な検索\n",
    "* 整列された配列の2分探索をするbsearchというライブラリ関数がある(man bsearch参照)\n",
    "* 以下は使用例 (配列aが昇順に整列されていることに注意)"
   ]
  },
  {
   "cell_type": "code",
   "execution_count": null,
   "metadata": {
    "kernel": "Python 3 (ipykernel)",
    "nbgrader": {
     "grade": false,
     "grade_id": "c-004",
     "locked": false,
     "schema_version": 3,
     "solution": false,
     "task": false
    }
   },
   "outputs": [],
   "source": [
    "%%writefile bsearch.c\n",
    "#include <stdio.h>\n",
    "#include <stdlib.h>\n",
    "\n",
    "int compare_int(const void * a_, const void * b_) {\n",
    "  const int * a = a_;\n",
    "  const int * b = b_;\n",
    "  return *a - *b;\n",
    "}\n",
    "\n",
    "int main(int argc, char ** argv) {\n",
    "  int key = (argc > 1 ? atoi(argv[1]) : 100);\n",
    "  int a[] = { 100, 200, 300, 400, 500 };\n",
    "  int n = sizeof(a) / sizeof(a[0]);\n",
    "  int * found = bsearch(&key, a, n, sizeof(int), compare_int);\n",
    "  if (found) {\n",
    "    printf(\"%d found at %ld-th element\\n\", key, found - a);\n",
    "  } else {\n",
    "    printf(\"%d not found\\n\", key);\n",
    "  }\n",
    "  return 0;\n",
    "}"
   ]
  },
  {
   "cell_type": "code",
   "execution_count": null,
   "metadata": {
    "kernel": "Bash",
    "nbgrader": {
     "grade": false,
     "grade_id": "c-005",
     "locked": false,
     "schema_version": 3,
     "solution": false,
     "task": false
    }
   },
   "outputs": [],
   "source": [
    "gcc -o bsearch -O3 -Wall bsearch.c"
   ]
  },
  {
   "cell_type": "markdown",
   "metadata": {
    "deletable": false,
    "editable": false,
    "kernel": "SoS",
    "nbgrader": {
     "cell_type": "markdown",
     "checksum": "be0df905b26e9e373351e2593f310045",
     "grade": false,
     "grade_id": "c-006",
     "locked": true,
     "schema_version": 3,
     "solution": false,
     "task": false
    }
   },
   "source": [
    "* 実行例"
   ]
  },
  {
   "cell_type": "code",
   "execution_count": null,
   "metadata": {
    "kernel": "Bash",
    "nbgrader": {
     "grade": false,
     "grade_id": "c-007",
     "locked": false,
     "schema_version": 3,
     "solution": false,
     "task": false
    }
   },
   "outputs": [],
   "source": [
    "./bsearch 100\n",
    "./bsearch 200\n",
    "./bsearch 400\n",
    "./bsearch 390"
   ]
  },
  {
   "cell_type": "markdown",
   "metadata": {
    "deletable": false,
    "editable": false,
    "kernel": "SoS",
    "nbgrader": {
     "cell_type": "markdown",
     "checksum": "93dfe51f5713e27e3de003a5f7afb2db",
     "grade": false,
     "grade_id": "c-008",
     "locked": true,
     "schema_version": 3,
     "solution": false,
     "task": false
    }
   },
   "source": [
    "* 以下で, 多数の32 bit整数が隙間なく, 128M個, 昇順に整列されたファイルを作る (512MB)"
   ]
  },
  {
   "cell_type": "code",
   "execution_count": null,
   "metadata": {
    "kernel": "Python 3 (ipykernel)",
    "nbgrader": {
     "grade": false,
     "grade_id": "c-009",
     "locked": false,
     "schema_version": 3,
     "solution": false,
     "task": false
    }
   },
   "outputs": [],
   "source": [
    "#!/usr/bin/python3\n",
    "import os\n",
    "import sys\n",
    "import getpass\n",
    "import numpy as np\n",
    "\n",
    "def mk_sorted_file(filename, size):\n",
    "    assert(size <= 128 * 1024 * 1024), \"don't make it > 512MB\"\n",
    "    rg = np.random.RandomState()\n",
    "    rg.seed(1234)\n",
    "    gap = 1024 * 1024 * 1024 / size\n",
    "    a = rg.randint(0, gap, size=size, dtype=np.uint32)\n",
    "    s = 0\n",
    "    for i in range(size):\n",
    "        s += a[i]\n",
    "        a[i] = s\n",
    "    dirname = os.path.dirname(filename)\n",
    "    if dirname == \"\":\n",
    "        dirname = \".\"\n",
    "    os.makedirs(dirname, exist_ok=True)\n",
    "    with open(filename, \"wb\") as wp:\n",
    "        a.tofile(wp)\n",
    "\n",
    "def main():\n",
    "    filename = sys.argv[1]\n",
    "    sz = int(sys.argv[2])\n",
    "    mk_sorted_file(filename, sz)\n",
    "        \n",
    "if sys.argv[0].endswith(\"mk_sorted_file.py\"):\n",
    "    main()\n"
   ]
  },
  {
   "cell_type": "markdown",
   "metadata": {
    "deletable": false,
    "editable": false,
    "kernel": "SoS",
    "nbgrader": {
     "cell_type": "markdown",
     "checksum": "d93170da1740dd4913fc783f64c4116a",
     "grade": false,
     "grade_id": "c-010",
     "locked": true,
     "schema_version": 3,
     "solution": false,
     "task": false
    }
   },
   "source": [
    "* 多少(20秒くらい)かかるが気長に待つ"
   ]
  },
  {
   "cell_type": "code",
   "execution_count": null,
   "metadata": {
    "kernel": "Python 3 (ipykernel)",
    "nbgrader": {
     "grade": false,
     "grade_id": "c-011",
     "locked": false,
     "schema_version": 3,
     "solution": false,
     "task": false
    }
   },
   "outputs": [],
   "source": [
    "n = 128 * 1024 * 1024\n",
    "mk_sorted_file(\"sorted.bin\", n)"
   ]
  },
  {
   "cell_type": "markdown",
   "metadata": {
    "deletable": false,
    "editable": false,
    "kernel": "SoS",
    "nbgrader": {
     "cell_type": "markdown",
     "checksum": "5f96328cf222a7336a245b8de74dca8a",
     "grade": false,
     "grade_id": "c-012",
     "locked": true,
     "schema_version": 3,
     "solution": false,
     "task": false
    }
   },
   "source": [
    "* 確認"
   ]
  },
  {
   "cell_type": "code",
   "execution_count": null,
   "metadata": {
    "kernel": "Bash",
    "nbgrader": {
     "grade": false,
     "grade_id": "c-013",
     "locked": false,
     "schema_version": 3,
     "solution": false,
     "task": false
    }
   },
   "outputs": [],
   "source": [
    "ls -l sorted.bin"
   ]
  },
  {
   "cell_type": "markdown",
   "metadata": {
    "deletable": false,
    "editable": false,
    "kernel": "SoS",
    "nbgrader": {
     "cell_type": "markdown",
     "checksum": "5f93699086831069a321be7b7c409fa4",
     "grade": false,
     "grade_id": "c-014",
     "locked": true,
     "schema_version": 3,
     "solution": false,
     "task": false
    }
   },
   "source": [
    "# <font color=\"green\"> Problem 1 :  mmapの有効な利用</font>"
   ]
  },
  {
   "cell_type": "markdown",
   "metadata": {
    "deletable": false,
    "editable": false,
    "kernel": "SoS",
    "nbgrader": {
     "cell_type": "markdown",
     "checksum": "6aeae3a387324f5be373476ec2777434",
     "grade": false,
     "grade_id": "c-015",
     "locked": true,
     "schema_version": 3,
     "solution": false,
     "task": false
    }
   },
   "source": [
    "* ファイル名と検索したい整数Kを与えられ, その整数がファイル中にあれば,\n",
    "```\n",
    "193659 found at 25850-th element\n",
    "```\n",
    "のように, その数(193659)がファイル中の何番目(最初の数を0-th elementとする)であるかを表示し, なければ,\n",
    "```\n",
    "19365 not found\n",
    "```\n",
    "のように, ないと答えるプログラムを, mmapを有効に用いて書け\n",
    "* マニュアルページなどを参照しながら必要な ヘッダファイルを #include して, 一から書いてみよ"
   ]
  },
  {
   "cell_type": "code",
   "execution_count": null,
   "metadata": {
    "deletable": false,
    "kernel": "Python 3 (ipykernel)",
    "nbgrader": {
     "cell_type": "code",
     "checksum": "c0be8362155c64826259af941745e8bf",
     "grade": true,
     "grade_id": "p-001",
     "locked": false,
     "points": 1,
     "schema_version": 3,
     "solution": true,
     "task": false
    }
   },
   "outputs": [],
   "source": [
    "\n",
    "%%writefile mmap_bsearch.c\n",
    "\n",
    "int main() {\n",
    "\n",
    "\n",
    "\n",
    "  return 0;\n",
    "}"
   ]
  },
  {
   "cell_type": "code",
   "execution_count": null,
   "metadata": {
    "kernel": "Bash",
    "nbgrader": {
     "grade": false,
     "grade_id": "c-016",
     "locked": false,
     "schema_version": 3,
     "solution": false,
     "task": false
    }
   },
   "outputs": [],
   "source": [
    "gcc -o mmap_bsearch -Wall mmap_bsearch.c"
   ]
  },
  {
   "cell_type": "markdown",
   "metadata": {
    "deletable": false,
    "editable": false,
    "kernel": "SoS",
    "nbgrader": {
     "cell_type": "markdown",
     "checksum": "d3869c321e5cb34c6701d2853b8f94c8",
     "grade": false,
     "grade_id": "c-017",
     "locked": true,
     "schema_version": 3,
     "solution": false,
     "task": false
    }
   },
   "source": [
    "* テスト"
   ]
  },
  {
   "cell_type": "code",
   "execution_count": null,
   "metadata": {
    "kernel": "Bash",
    "nbgrader": {
     "grade": false,
     "grade_id": "c-018",
     "locked": false,
     "schema_version": 3,
     "solution": false,
     "task": false
    }
   },
   "outputs": [],
   "source": [
    "data=sorted.bin\n",
    "if /usr/bin/time ./mmap_bsearch ${data} 26127088  | grep \"26127088 found at 7466042-th element\" ; then echo OK ; else echo NG ; fi\n",
    "if /usr/bin/time ./mmap_bsearch ${data} 173640831 | grep \"173640831 found at 49610854-th element\" ; then echo OK ; else echo NG ; fi\n",
    "if /usr/bin/time ./mmap_bsearch ${data} 33502494  | grep \"33502494 found at 9572459-th element\" ; then echo OK ; else echo NG ; fi\n",
    "if /usr/bin/time ./mmap_bsearch ${data} 413005234 | grep \"413005234 found at 118006295-th element\" ; then echo OK ; else echo NG ; fi\n",
    "if /usr/bin/time ./mmap_bsearch ${data} 261784903 | grep \"261784903 found at 74798397-th element\" ; then echo OK ; else echo NG ; fi\n",
    "if /usr/bin/time ./mmap_bsearch ${data} 88660114  | grep \"88660114 not found\" ; then echo OK ; else echo NG ; fi\n",
    "if /usr/bin/time ./mmap_bsearch ${data} 347238073 | grep \"347238073 not found\" ; then echo OK ; else echo NG ; fi\n",
    "if /usr/bin/time ./mmap_bsearch ${data} 417070716 | grep \"417070716 not found\" ; then echo OK ; else echo NG ; fi\n",
    "if /usr/bin/time ./mmap_bsearch ${data} 389200408 | grep \"389200408 not found\" ; then echo OK ; else echo NG ; fi\n",
    "if /usr/bin/time ./mmap_bsearch ${data} 225789696 | grep \"225789696 not found\" ; then echo OK ; else echo NG ; fi"
   ]
  },
  {
   "cell_type": "markdown",
   "metadata": {
    "deletable": false,
    "editable": false,
    "kernel": "SoS",
    "nbgrader": {
     "cell_type": "markdown",
     "checksum": "f21c01ee67ef7bada0698a8e48216773",
     "grade": false,
     "grade_id": "c-019",
     "locked": true,
     "schema_version": 3,
     "solution": false,
     "task": false
    }
   },
   "source": [
    "# <font color=\"green\"> Problem 2 :  readとの比較</font>"
   ]
  },
  {
   "cell_type": "markdown",
   "metadata": {
    "deletable": false,
    "editable": false,
    "kernel": "SoS",
    "nbgrader": {
     "cell_type": "markdown",
     "checksum": "67d6a792897e0d8a5df92a912bfe2756",
     "grade": false,
     "grade_id": "c-020",
     "locked": true,
     "schema_version": 3,
     "solution": false,
     "task": false
    }
   },
   "source": [
    "同じ仕様のプログラムを, 以下の二つの方法でも実装せよ\n",
    "\n",
    "1. read関数でファイルを大きな配列に全て読み込み, bsearchを使う"
   ]
  },
  {
   "cell_type": "code",
   "execution_count": null,
   "metadata": {
    "deletable": false,
    "kernel": "Python 3 (ipykernel)",
    "nbgrader": {
     "cell_type": "code",
     "checksum": "e593f61ff86d24a507aa17ef6d47954d",
     "grade": true,
     "grade_id": "p-002",
     "locked": false,
     "points": 1,
     "schema_version": 3,
     "solution": true,
     "task": false
    }
   },
   "outputs": [],
   "source": [
    "\n",
    "%%writefile read_bsearch.c\n",
    "\n",
    "int main() {\n",
    "\n",
    "\n",
    "\n",
    "  return 0;\n",
    "}"
   ]
  },
  {
   "cell_type": "code",
   "execution_count": null,
   "metadata": {
    "kernel": "Bash",
    "nbgrader": {
     "grade": false,
     "grade_id": "c-021",
     "locked": false,
     "schema_version": 3,
     "solution": false,
     "task": false
    }
   },
   "outputs": [],
   "source": [
    "gcc -o read_bsearch -Wall -O3 read_bsearch.c"
   ]
  },
  {
   "cell_type": "code",
   "execution_count": null,
   "metadata": {
    "kernel": "Bash",
    "nbgrader": {
     "grade": false,
     "grade_id": "c-022",
     "locked": false,
     "schema_version": 3,
     "solution": false,
     "task": false
    }
   },
   "outputs": [],
   "source": [
    "data=sorted.bin\n",
    "if /usr/bin/time ./read_bsearch ${data} 26127088  | grep \"26127088 found at 7466042-th element\" ; then echo OK ; else echo NG ; fi\n",
    "if /usr/bin/time ./read_bsearch ${data} 173640831 | grep \"173640831 found at 49610854-th element\" ; then echo OK ; else echo NG ; fi\n",
    "if /usr/bin/time ./read_bsearch ${data} 33502494  | grep \"33502494 found at 9572459-th element\" ; then echo OK ; else echo NG ; fi\n",
    "if /usr/bin/time ./read_bsearch ${data} 413005234 | grep \"413005234 found at 118006295-th element\" ; then echo OK ; else echo NG ; fi\n",
    "if /usr/bin/time ./read_bsearch ${data} 261784903 | grep \"261784903 found at 74798397-th element\" ; then echo OK ; else echo NG ; fi\n",
    "if /usr/bin/time ./read_bsearch ${data} 88660114  | grep \"88660114 not found\" ; then echo OK ; else echo NG ; fi\n",
    "if /usr/bin/time ./read_bsearch ${data} 347238073 | grep \"347238073 not found\" ; then echo OK ; else echo NG ; fi\n",
    "if /usr/bin/time ./read_bsearch ${data} 417070716 | grep \"417070716 not found\" ; then echo OK ; else echo NG ; fi\n",
    "if /usr/bin/time ./read_bsearch ${data} 389200408 | grep \"389200408 not found\" ; then echo OK ; else echo NG ; fi\n",
    "if /usr/bin/time ./read_bsearch ${data} 225789696 | grep \"225789696 not found\" ; then echo OK ; else echo NG ; fi"
   ]
  },
  {
   "cell_type": "markdown",
   "metadata": {
    "deletable": false,
    "editable": false,
    "kernel": "SoS",
    "nbgrader": {
     "cell_type": "markdown",
     "checksum": "3a4086eb26d34a8c556717ce181d7314",
     "grade": false,
     "grade_id": "c-023",
     "locked": true,
     "schema_version": 3,
     "solution": false,
     "task": false
    }
   },
   "source": [
    "2\\. read関数でファイルを先頭から一定数読んでは, 与えられた値と比較する"
   ]
  },
  {
   "cell_type": "code",
   "execution_count": null,
   "metadata": {
    "deletable": false,
    "kernel": "Python 3 (ipykernel)",
    "nbgrader": {
     "cell_type": "code",
     "checksum": "567159d011ead2652c6ec746919d25a1",
     "grade": true,
     "grade_id": "p-003",
     "locked": false,
     "points": 1,
     "schema_version": 3,
     "solution": true,
     "task": false
    }
   },
   "outputs": [],
   "source": [
    "\n",
    "%%writefile linear_search.c\n",
    "\n",
    "int main() {\n",
    "\n",
    "\n",
    "\n",
    "  return 0;\n",
    "}"
   ]
  },
  {
   "cell_type": "code",
   "execution_count": null,
   "metadata": {
    "kernel": "Bash",
    "nbgrader": {
     "grade": false,
     "grade_id": "c-024",
     "locked": false,
     "schema_version": 3,
     "solution": false,
     "task": false
    }
   },
   "outputs": [],
   "source": [
    "gcc -o linear_search -Wall -O3 linear_search.c"
   ]
  },
  {
   "cell_type": "code",
   "execution_count": null,
   "metadata": {
    "kernel": "Bash",
    "nbgrader": {
     "grade": false,
     "grade_id": "c-025",
     "locked": false,
     "schema_version": 3,
     "solution": false,
     "task": false
    }
   },
   "outputs": [],
   "source": [
    "data=sorted.bin\n",
    "if /usr/bin/time ./linear_search ${data} 26127088  | grep \"26127088 found at 7466042-th element\" ; then echo OK ; else echo NG ; fi\n",
    "if /usr/bin/time ./linear_search ${data} 173640831 | grep \"173640831 found at 49610854-th element\" ; then echo OK ; else echo NG ; fi\n",
    "if /usr/bin/time ./linear_search ${data} 33502494  | grep \"33502494 found at 9572459-th element\" ; then echo OK ; else echo NG ; fi\n",
    "if /usr/bin/time ./linear_search ${data} 413005234 | grep \"413005234 found at 118006295-th element\" ; then echo OK ; else echo NG ; fi\n",
    "if /usr/bin/time ./linear_search ${data} 261784903 | grep \"261784903 found at 74798397-th element\" ; then echo OK ; else echo NG ; fi\n",
    "if /usr/bin/time ./linear_search ${data} 88660114  | grep \"88660114 not found\" ; then echo OK ; else echo NG ; fi\n",
    "if /usr/bin/time ./linear_search ${data} 347238073 | grep \"347238073 not found\" ; then echo OK ; else echo NG ; fi\n",
    "if /usr/bin/time ./linear_search ${data} 417070716 | grep \"417070716 not found\" ; then echo OK ; else echo NG ; fi\n",
    "if /usr/bin/time ./linear_search ${data} 389200408 | grep \"389200408 not found\" ; then echo OK ; else echo NG ; fi\n",
    "if /usr/bin/time ./linear_search ${data} 225789696 | grep \"225789696 not found\" ; then echo OK ; else echo NG ; fi"
   ]
  }
 ],
 "metadata": {
  "kernelspec": {
   "display_name": "SoS",
   "language": "sos",
   "name": "sos"
  },
  "language_info": {
   "codemirror_mode": "sos",
   "file_extension": ".sos",
   "mimetype": "text/x-sos",
   "name": "sos",
   "nbconvert_exporter": "sos_notebook.converter.SoS_Exporter",
   "pygments_lexer": "sos"
  },
  "sos": {
   "kernels": [
    [
     "Bash",
     "bash",
     "bash",
     "",
     "shell"
    ],
    [
     "C",
     "c_kernel",
     "c",
     "",
     ""
    ],
    [
     "Go",
     "gophernotes",
     "go",
     "",
     ""
    ],
    [
     "Julia 1.4.1",
     "julia-1.4",
     "julia",
     "",
     ""
    ],
    [
     "OCaml default",
     "ocaml-jupyter",
     "OCaml",
     "",
     "text/x-ocaml"
    ],
    [
     "Python 3 (ipykernel)",
     "python3",
     "python3",
     "",
     {
      "name": "ipython",
      "version": 3
     }
    ],
    [
     "Rust",
     "rust",
     "rust",
     "",
     ""
    ]
   ],
   "panel": {
    "displayed": true,
    "height": 0
   },
   "version": "0.23.3"
  }
 },
 "nbformat": 4,
 "nbformat_minor": 4
}
