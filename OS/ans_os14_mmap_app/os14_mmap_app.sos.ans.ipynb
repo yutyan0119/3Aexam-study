{
 "cells": [
  {
   "cell_type": "markdown",
   "metadata": {
    "deletable": false,
    "editable": false,
    "kernel": "SoS",
    "nbgrader": {
     "cell_type": "markdown",
     "checksum": "acf45a1bc7be419e22e30a55ddcf3399",
     "grade": false,
     "grade_id": "c-001",
     "locked": true,
     "schema_version": 3,
     "solution": false,
     "task": false
    }
   },
   "source": [
    "* 以下で, 多数の32 bit整数が隙間なく, 128M個, 昇順に整列されたファイルを作る (512MB)"
   ]
  },
  {
   "cell_type": "code",
   "execution_count": 1,
   "metadata": {
    "kernel": "Python 3 (ipykernel)",
    "nbgrader": {
     "grade": false,
     "grade_id": "c-002",
     "locked": false,
     "schema_version": 3,
     "solution": false,
     "task": false
    }
   },
   "outputs": [],
   "source": [
    "#!/usr/bin/python3\n",
    "import os\n",
    "import sys\n",
    "import getpass\n",
    "import numpy as np\n",
    "\n",
    "def mk_sorted_file(filename, size):\n",
    "    assert(size <= 128 * 1024 * 1024), \"don't make it > 512MB\"\n",
    "    rg = np.random.RandomState()\n",
    "    rg.seed(1234)\n",
    "    gap = 1024 * 1024 * 1024 / size\n",
    "    a = rg.randint(0, gap, size=size, dtype=np.uint32)\n",
    "    s = 0\n",
    "    for i in range(size):\n",
    "        s += a[i]\n",
    "        a[i] = s\n",
    "    dirname = os.path.dirname(filename)\n",
    "    if dirname == \"\":\n",
    "        dirname = \".\"\n",
    "    os.makedirs(dirname, exist_ok=True)\n",
    "    with open(filename, \"wb\") as wp:\n",
    "        a.tofile(wp)\n",
    "\n",
    "def main():\n",
    "    filename = sys.argv[1]\n",
    "    sz = int(sys.argv[2])\n",
    "    mk_sorted_file(filename, sz)\n",
    "        \n",
    "if sys.argv[0].endswith(\"mk_sorted_file.py\"):\n",
    "    main()\n"
   ]
  },
  {
   "cell_type": "markdown",
   "metadata": {
    "deletable": false,
    "editable": false,
    "kernel": "SoS",
    "nbgrader": {
     "cell_type": "markdown",
     "checksum": "d51d1caf2b67c765b86cb06cfa5ac1b2",
     "grade": false,
     "grade_id": "c-003",
     "locked": true,
     "schema_version": 3,
     "solution": false,
     "task": false
    }
   },
   "source": [
    "* 多少(20秒くらい)かかるが気長に待つ"
   ]
  },
  {
   "cell_type": "code",
   "execution_count": 2,
   "metadata": {
    "kernel": "Python 3 (ipykernel)",
    "nbgrader": {
     "grade": false,
     "grade_id": "c-004",
     "locked": false,
     "schema_version": 3,
     "solution": false,
     "task": false
    }
   },
   "outputs": [
    {
     "ename": "KeyboardInterrupt",
     "evalue": "",
     "output_type": "error",
     "traceback": [
      "\u001b[0;31m---------------------------------------------------------------------------\u001b[0m",
      "\u001b[0;31mKeyboardInterrupt\u001b[0m                         Traceback (most recent call last)",
      "\u001b[0;32m<ipython-input-2-722f50c18580>\u001b[0m in \u001b[0;36m<module>\u001b[0;34m\u001b[0m\n\u001b[1;32m      1\u001b[0m \u001b[0mn\u001b[0m \u001b[0;34m=\u001b[0m \u001b[0;36m128\u001b[0m \u001b[0;34m*\u001b[0m \u001b[0;36m1024\u001b[0m \u001b[0;34m*\u001b[0m \u001b[0;36m1024\u001b[0m\u001b[0;34m\u001b[0m\u001b[0;34m\u001b[0m\u001b[0m\n\u001b[0;32m----> 2\u001b[0;31m \u001b[0mmk_sorted_file\u001b[0m\u001b[0;34m(\u001b[0m\u001b[0;34m\"sorted.bin\"\u001b[0m\u001b[0;34m,\u001b[0m \u001b[0mn\u001b[0m\u001b[0;34m)\u001b[0m\u001b[0;34m\u001b[0m\u001b[0;34m\u001b[0m\u001b[0m\n\u001b[0m",
      "\u001b[0;32m<ipython-input-1-c9de96563e5e>\u001b[0m in \u001b[0;36mmk_sorted_file\u001b[0;34m(filename, size)\u001b[0m\n\u001b[1;32m     13\u001b[0m     \u001b[0ms\u001b[0m \u001b[0;34m=\u001b[0m \u001b[0;36m0\u001b[0m\u001b[0;34m\u001b[0m\u001b[0;34m\u001b[0m\u001b[0m\n\u001b[1;32m     14\u001b[0m     \u001b[0;32mfor\u001b[0m \u001b[0mi\u001b[0m \u001b[0;32min\u001b[0m \u001b[0mrange\u001b[0m\u001b[0;34m(\u001b[0m\u001b[0msize\u001b[0m\u001b[0;34m)\u001b[0m\u001b[0;34m:\u001b[0m\u001b[0;34m\u001b[0m\u001b[0;34m\u001b[0m\u001b[0m\n\u001b[0;32m---> 15\u001b[0;31m         \u001b[0ms\u001b[0m \u001b[0;34m+=\u001b[0m \u001b[0ma\u001b[0m\u001b[0;34m[\u001b[0m\u001b[0mi\u001b[0m\u001b[0;34m]\u001b[0m\u001b[0;34m\u001b[0m\u001b[0;34m\u001b[0m\u001b[0m\n\u001b[0m\u001b[1;32m     16\u001b[0m         \u001b[0ma\u001b[0m\u001b[0;34m[\u001b[0m\u001b[0mi\u001b[0m\u001b[0;34m]\u001b[0m \u001b[0;34m=\u001b[0m \u001b[0ms\u001b[0m\u001b[0;34m\u001b[0m\u001b[0;34m\u001b[0m\u001b[0m\n\u001b[1;32m     17\u001b[0m     \u001b[0mdirname\u001b[0m \u001b[0;34m=\u001b[0m \u001b[0mos\u001b[0m\u001b[0;34m.\u001b[0m\u001b[0mpath\u001b[0m\u001b[0;34m.\u001b[0m\u001b[0mdirname\u001b[0m\u001b[0;34m(\u001b[0m\u001b[0mfilename\u001b[0m\u001b[0;34m)\u001b[0m\u001b[0;34m\u001b[0m\u001b[0;34m\u001b[0m\u001b[0m\n",
      "\u001b[0;31mKeyboardInterrupt\u001b[0m: "
     ]
    }
   ],
   "source": [
    "n = 128 * 1024 * 1024\n",
    "mk_sorted_file(\"sorted.bin\", n)"
   ]
  },
  {
   "cell_type": "markdown",
   "metadata": {
    "deletable": false,
    "editable": false,
    "kernel": "SoS",
    "nbgrader": {
     "cell_type": "markdown",
     "checksum": "34d9040fd5613e3faef6313f1d58a5a5",
     "grade": false,
     "grade_id": "c-005",
     "locked": true,
     "schema_version": 3,
     "solution": false,
     "task": false
    }
   },
   "source": [
    "# <font color=\"green\"> Problem 1 :  mmapの有効な利用</font>"
   ]
  },
  {
   "cell_type": "code",
   "execution_count": null,
   "metadata": {
    "deletable": false,
    "editable": false,
    "kernel": "Python 3 (ipykernel)",
    "nbgrader": {
     "cell_type": "code",
     "checksum": "c01956dcf09cb7400f73fd2720de9167",
     "grade": false,
     "grade_id": "c-006",
     "locked": true,
     "schema_version": 3,
     "solution": false,
     "task": false
    }
   },
   "outputs": [],
   "source": [
    "%%writefile mmap_bsearch_ans.c\n",
    "\n",
    "#include <assert.h>\n",
    "#include <err.h>\n",
    "#include <fcntl.h>\n",
    "#include <stdio.h>\n",
    "#include <stdlib.h>\n",
    "#include <sys/mman.h>\n",
    "#include <sys/stat.h>\n",
    "#include <sys/types.h>\n",
    "#include <unistd.h>\n",
    "\n",
    "int compare_int(const void * a_, const void * b_) {\n",
    "  const int * a = a_;\n",
    "  const int * b = b_;\n",
    "  return *a - *b;\n",
    "}\n",
    "\n",
    "int main(int argc, char ** argv) {\n",
    "  int i = 1;\n",
    "  char * filename = (argc > i ? argv[i] : \"sorted.bin\"); i++;\n",
    "  int key         = (argc > i ? atoi(argv[i]) : 100); i++;\n",
    "  /* ファイルを開く */\n",
    "  int fd = open(filename, O_RDONLY);\n",
    "  if (fd == -1) err(1, \"open\");\n",
    "  /* ファイルのサイズ */\n",
    "  struct stat sb[1];\n",
    "  if (fstat(fd, sb) == -1) err(1, \"fstat\");\n",
    "  /* mmap (読み出しのみ) */\n",
    "  long sz = sb->st_size;\n",
    "  int * a = mmap(0, sz, PROT_READ, MAP_PRIVATE, fd, 0);\n",
    "  if (a == MAP_FAILED) err(1, \"mmap\");\n",
    "  const long n = sz / sizeof(int);\n",
    "  int * found = bsearch(&key, a, n, sizeof(int), compare_int);\n",
    "  if (found) {\n",
    "    printf(\"%d found at %ld-th element\\n\", key, found - a);\n",
    "  } else {\n",
    "    printf(\"%d not found\\n\", key);\n",
    "  }\n",
    "  if (munmap(a, sz) == -1) err(1, \"mumap\");\n",
    "  if (close(fd) == -1) err(1, \"close\");\n",
    "  return 0;\n",
    "}"
   ]
  },
  {
   "cell_type": "code",
   "execution_count": null,
   "metadata": {
    "kernel": "Bash",
    "nbgrader": {
     "grade": false,
     "grade_id": "c-007",
     "locked": false,
     "schema_version": 3,
     "solution": false,
     "task": false
    }
   },
   "outputs": [],
   "source": [
    "gcc -o mmap_bsearch_ans -Wall mmap_bsearch_ans.c"
   ]
  },
  {
   "cell_type": "code",
   "execution_count": null,
   "metadata": {
    "kernel": "Bash",
    "nbgrader": {
     "grade": false,
     "grade_id": "c-008",
     "locked": false,
     "schema_version": 3,
     "solution": false,
     "task": false
    }
   },
   "outputs": [],
   "source": [
    "data=sorted.bin\n",
    "if /usr/bin/time ./mmap_bsearch_ans ${data} 26127088  | grep \"26127088 found at 7466042-th element\" ; then echo OK ; else echo NG ; fi\n",
    "if /usr/bin/time ./mmap_bsearch_ans ${data} 173640831 | grep \"173640831 found at 49610854-th element\" ; then echo OK ; else echo NG ; fi\n",
    "if /usr/bin/time ./mmap_bsearch_ans ${data} 33502494  | grep \"33502494 found at 9572459-th element\" ; then echo OK ; else echo NG ; fi\n",
    "if /usr/bin/time ./mmap_bsearch_ans ${data} 413005234 | grep \"413005234 found at 118006295-th element\" ; then echo OK ; else echo NG ; fi\n",
    "if /usr/bin/time ./mmap_bsearch_ans ${data} 261784903 | grep \"261784903 found at 74798397-th element\" ; then echo OK ; else echo NG ; fi\n",
    "if /usr/bin/time ./mmap_bsearch_ans ${data} 88660114  | grep \"88660114 not found\" ; then echo OK ; else echo NG ; fi\n",
    "if /usr/bin/time ./mmap_bsearch_ans ${data} 347238073 | grep \"347238073 not found\" ; then echo OK ; else echo NG ; fi\n",
    "if /usr/bin/time ./mmap_bsearch_ans ${data} 417070716 | grep \"417070716 not found\" ; then echo OK ; else echo NG ; fi\n",
    "if /usr/bin/time ./mmap_bsearch_ans ${data} 389200408 | grep \"389200408 not found\" ; then echo OK ; else echo NG ; fi\n",
    "if /usr/bin/time ./mmap_bsearch_ans ${data} 225789696 | grep \"225789696 not found\" ; then echo OK ; else echo NG ; fi"
   ]
  },
  {
   "cell_type": "markdown",
   "metadata": {
    "deletable": false,
    "editable": false,
    "kernel": "SoS",
    "nbgrader": {
     "cell_type": "markdown",
     "checksum": "cac4376214f59e4137cd2e104edb2495",
     "grade": false,
     "grade_id": "c-009",
     "locked": true,
     "schema_version": 3,
     "solution": false,
     "task": false
    }
   },
   "source": [
    "# <font color=\"green\"> Problem 2 :  readとの比較</font>"
   ]
  },
  {
   "cell_type": "code",
   "execution_count": null,
   "metadata": {
    "deletable": false,
    "editable": false,
    "kernel": "Python 3 (ipykernel)",
    "nbgrader": {
     "cell_type": "code",
     "checksum": "65269e304c12a84b1cbf70be7da8234a",
     "grade": false,
     "grade_id": "c-010",
     "locked": true,
     "schema_version": 3,
     "solution": false,
     "task": false
    }
   },
   "outputs": [],
   "source": [
    "%%writefile read_bsearch_ans.c\n",
    "\n",
    "#include <assert.h>\n",
    "#include <err.h>\n",
    "#include <fcntl.h>\n",
    "#include <stdio.h>\n",
    "#include <stdlib.h>\n",
    "#include <sys/types.h>\n",
    "#include <sys/stat.h>\n",
    "#include <unistd.h>\n",
    "\n",
    "int compare_int(const void * a_, const void * b_) {\n",
    "  const int * a = a_;\n",
    "  const int * b = b_;\n",
    "  return *a - *b;\n",
    "}\n",
    "\n",
    "/* szバイトぴったり読む. その前にEOFになったらエラー */\n",
    "void read_sz(int fd, void * buf, size_t sz) {\n",
    "  size_t rd = 0;\n",
    "  while (rd < sz) {\n",
    "    ssize_t x = read(fd, buf + rd, sz - rd);\n",
    "    if (x == -1) err(1, \"read\");\n",
    "    assert(x > 0);\n",
    "    rd += x;\n",
    "  }\n",
    "  assert(rd == sz);\n",
    "}\n",
    "\n",
    "int main(int argc, char ** argv) {\n",
    "  int i = 1;\n",
    "  char * filename = (argc > i ? argv[i] : \"sorted.bin\"); i++;\n",
    "  int key         = (argc > i ? atoi(argv[i]) : 100); i++;\n",
    "  /* ファイルを開く */\n",
    "  int fd = open(filename, O_RDONLY);\n",
    "  if (fd == -1) err(1, \"open\");\n",
    "  /* ファイルのサイズ */\n",
    "  struct stat sb[1];\n",
    "  if (fstat(fd, sb) == -1) err(1, \"fstat\");\n",
    "  /* mmap (読み出しのみ) */\n",
    "  long sz = sb->st_size;\n",
    "  int * a = malloc(sz);\n",
    "  if (!a) err(1, \"malloc\");\n",
    "  read_sz(fd, a, sz);\n",
    "  const long n = sz / sizeof(int);\n",
    "  int * found = bsearch(&key, a, n, sizeof(int), compare_int);\n",
    "  if (found) {\n",
    "    printf(\"%d found at %ld-th element\\n\", key, found - a);\n",
    "  } else {\n",
    "    printf(\"%d not found\\n\", key);\n",
    "  }\n",
    "  free(a);\n",
    "  if (close(fd) == -1) err(1, \"close\");\n",
    "  return 0;\n",
    "}"
   ]
  },
  {
   "cell_type": "code",
   "execution_count": null,
   "metadata": {
    "kernel": "Bash",
    "nbgrader": {
     "grade": false,
     "grade_id": "c-011",
     "locked": false,
     "schema_version": 3,
     "solution": false,
     "task": false
    }
   },
   "outputs": [],
   "source": [
    "gcc -o read_bsearch_ans -Wall -O3 read_bsearch_ans.c"
   ]
  },
  {
   "cell_type": "code",
   "execution_count": null,
   "metadata": {
    "kernel": "Bash",
    "nbgrader": {
     "grade": false,
     "grade_id": "c-012",
     "locked": false,
     "schema_version": 3,
     "solution": false,
     "task": false
    }
   },
   "outputs": [],
   "source": [
    "data=sorted.bin\n",
    "if /usr/bin/time ./read_bsearch_ans ${data} 26127088  | grep \"26127088 found at 7466042-th element\" ; then echo OK ; else echo NG ; fi\n",
    "if /usr/bin/time ./read_bsearch_ans ${data} 173640831 | grep \"173640831 found at 49610854-th element\" ; then echo OK ; else echo NG ; fi\n",
    "if /usr/bin/time ./read_bsearch_ans ${data} 33502494  | grep \"33502494 found at 9572459-th element\" ; then echo OK ; else echo NG ; fi\n",
    "if /usr/bin/time ./read_bsearch_ans ${data} 413005234 | grep \"413005234 found at 118006295-th element\" ; then echo OK ; else echo NG ; fi\n",
    "if /usr/bin/time ./read_bsearch_ans ${data} 261784903 | grep \"261784903 found at 74798397-th element\" ; then echo OK ; else echo NG ; fi\n",
    "if /usr/bin/time ./read_bsearch_ans ${data} 88660114  | grep \"88660114 not found\" ; then echo OK ; else echo NG ; fi\n",
    "if /usr/bin/time ./read_bsearch_ans ${data} 347238073 | grep \"347238073 not found\" ; then echo OK ; else echo NG ; fi\n",
    "if /usr/bin/time ./read_bsearch_ans ${data} 417070716 | grep \"417070716 not found\" ; then echo OK ; else echo NG ; fi\n",
    "if /usr/bin/time ./read_bsearch_ans ${data} 389200408 | grep \"389200408 not found\" ; then echo OK ; else echo NG ; fi\n",
    "if /usr/bin/time ./read_bsearch_ans ${data} 225789696 | grep \"225789696 not found\" ; then echo OK ; else echo NG ; fi"
   ]
  },
  {
   "cell_type": "code",
   "execution_count": null,
   "metadata": {
    "deletable": false,
    "editable": false,
    "kernel": "Python 3 (ipykernel)",
    "nbgrader": {
     "cell_type": "code",
     "checksum": "e90c32b803bd91d8276bb04ee2a5e180",
     "grade": false,
     "grade_id": "c-013",
     "locked": true,
     "schema_version": 3,
     "solution": false,
     "task": false
    }
   },
   "outputs": [],
   "source": [
    "%%writefile linear_search_ans.c\n",
    "\n",
    "#include <assert.h>\n",
    "#include <err.h>\n",
    "#include <fcntl.h>\n",
    "#include <stdio.h>\n",
    "#include <stdlib.h>\n",
    "#include <sys/mman.h>\n",
    "#include <sys/stat.h>\n",
    "#include <sys/types.h>\n",
    "#include <unistd.h>\n",
    "\n",
    "int compare_int(const void * a_, const void * b_) {\n",
    "  const int * a = a_;\n",
    "  const int * b = b_;\n",
    "  return *a - *b;\n",
    "}\n",
    "\n",
    "/* szバイトぴったり読む. その前にEOFになったらエラー */\n",
    "void read_sz(int fd, void * buf, size_t sz) {\n",
    "  size_t rd = 0;\n",
    "  while (rd < sz) {\n",
    "    ssize_t x = read(fd, buf + rd, sz - rd);\n",
    "    if (x == -1) err(1, \"read\");\n",
    "    assert(x > 0);\n",
    "    rd += x;\n",
    "  }\n",
    "  assert(rd == sz);\n",
    "}\n",
    "\n",
    "int main(int argc, char ** argv) {\n",
    "  int i = 1;\n",
    "  char * filename = (argc > i ? argv[i] : \"sorted.bin\"); i++;\n",
    "  int key         = (argc > i ? atoi(argv[i]) : 100); i++;\n",
    "  /* ファイルを開く */\n",
    "  int fd = open(filename, O_RDONLY);\n",
    "  if (fd == -1) err(1, \"open\");\n",
    "  /* ファイルのサイズ */\n",
    "  struct stat sb[1];\n",
    "  if (fstat(fd, sb) == -1) err(1, \"fstat\");\n",
    "  /* mmap (読み出しのみ) */\n",
    "  long sz = sb->st_size;\n",
    "  const long n = sz / sizeof(int);\n",
    "  const long buf_sz = 1024;\n",
    "  int a[buf_sz];\n",
    "  int done = 0;\n",
    "  for (long i = 0; i < n && !done; i += buf_sz) {\n",
    "    long m = (buf_sz < n - i ? buf_sz : n - i);\n",
    "    read_sz(fd, a, m * sizeof(int));\n",
    "    for (long j = 0; j < m; j++) {\n",
    "      if (a[j] == key) {\n",
    "        done = 1;\n",
    "        printf(\"%d found at %ld-th element\\n\", key, i + j);\n",
    "        break;\n",
    "      } else if (a[j] > key) {\n",
    "        done = 1;\n",
    "        printf(\"%d not found\\n\", key);\n",
    "        break;\n",
    "      }\n",
    "    }\n",
    "  }\n",
    "  if (!done) {\n",
    "    printf(\"%d not found\\n\", key);\n",
    "  }\n",
    "  if (close(fd) == -1) err(1, \"close\");\n",
    "  return 0;\n",
    "}"
   ]
  },
  {
   "cell_type": "code",
   "execution_count": null,
   "metadata": {
    "kernel": "Bash",
    "nbgrader": {
     "grade": false,
     "grade_id": "c-014",
     "locked": false,
     "schema_version": 3,
     "solution": false,
     "task": false
    }
   },
   "outputs": [],
   "source": [
    "gcc -o linear_search_ans -Wall -O3 linear_search_ans.c"
   ]
  },
  {
   "cell_type": "code",
   "execution_count": null,
   "metadata": {
    "kernel": "Bash",
    "nbgrader": {
     "grade": false,
     "grade_id": "c-015",
     "locked": false,
     "schema_version": 3,
     "solution": false,
     "task": false
    }
   },
   "outputs": [],
   "source": [
    "data=sorted.bin\n",
    "if /usr/bin/time ./linear_search_ans ${data} 26127088  | grep \"26127088 found at 7466042-th element\" ; then echo OK ; else echo NG ; fi\n",
    "if /usr/bin/time ./linear_search_ans ${data} 173640831 | grep \"173640831 found at 49610854-th element\" ; then echo OK ; else echo NG ; fi\n",
    "if /usr/bin/time ./linear_search_ans ${data} 33502494  | grep \"33502494 found at 9572459-th element\" ; then echo OK ; else echo NG ; fi\n",
    "if /usr/bin/time ./linear_search_ans ${data} 413005234 | grep \"413005234 found at 118006295-th element\" ; then echo OK ; else echo NG ; fi\n",
    "if /usr/bin/time ./linear_search_ans ${data} 261784903 | grep \"261784903 found at 74798397-th element\" ; then echo OK ; else echo NG ; fi\n",
    "if /usr/bin/time ./linear_search_ans ${data} 88660114  | grep \"88660114 not found\" ; then echo OK ; else echo NG ; fi\n",
    "if /usr/bin/time ./linear_search_ans ${data} 347238073 | grep \"347238073 not found\" ; then echo OK ; else echo NG ; fi\n",
    "if /usr/bin/time ./linear_search_ans ${data} 417070716 | grep \"417070716 not found\" ; then echo OK ; else echo NG ; fi\n",
    "if /usr/bin/time ./linear_search_ans ${data} 389200408 | grep \"389200408 not found\" ; then echo OK ; else echo NG ; fi\n",
    "if /usr/bin/time ./linear_search_ans ${data} 225789696 | grep \"225789696 not found\" ; then echo OK ; else echo NG ; fi"
   ]
  },
  {
   "cell_type": "code",
   "execution_count": null,
   "metadata": {
    "kernel": "Bash"
   },
   "outputs": [],
   "source": []
  }
 ],
 "metadata": {
  "kernelspec": {
   "display_name": "Python 3",
   "language": "python",
   "name": "python3"
  },
  "language_info": {
   "codemirror_mode": {
    "name": "ipython",
    "version": 3
   },
   "file_extension": ".py",
   "mimetype": "text/x-python",
   "name": "python",
   "nbconvert_exporter": "python",
   "pygments_lexer": "ipython3",
   "version": "3.8.10"
  },
  "sos": {
   "kernels": [
    [
     "Bash",
     "bash",
     "bash",
     "",
     "shell"
    ],
    [
     "C",
     "c_kernel",
     "c",
     "",
     ""
    ],
    [
     "Go",
     "gophernotes",
     "go",
     "",
     ""
    ],
    [
     "Julia 1.4.1",
     "julia-1.4",
     "julia",
     "",
     ""
    ],
    [
     "OCaml default",
     "ocaml-jupyter",
     "OCaml",
     "",
     "text/x-ocaml"
    ],
    [
     "Python 3 (ipykernel)",
     "python3",
     "python3",
     "",
     {
      "name": "ipython",
      "version": 3
     }
    ],
    [
     "Rust",
     "rust",
     "rust",
     "",
     ""
    ]
   ],
   "panel": {
    "displayed": true,
    "height": 0
   },
   "version": "0.23.4"
  },
  "vscode": {
   "interpreter": {
    "hash": "916dbcbb3f70747c44a77c7bcd40155683ae19c65e1c03b4aa3499c5328201f1"
   }
  }
 },
 "nbformat": 4,
 "nbformat_minor": 4
}
