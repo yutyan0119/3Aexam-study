{
 "cells": [
  {
   "cell_type": "markdown",
   "metadata": {
    "deletable": false,
    "editable": false,
    "kernel": "SoS",
    "nbgrader": {
     "cell_type": "markdown",
     "checksum": "eb78ad6fa10b1d1a42108bfcd0d9a01e",
     "grade": false,
     "grade_id": "c-001",
     "locked": true,
     "schema_version": 3,
     "solution": false,
     "task": false
    }
   },
   "source": [
    "# <font color=\"green\"> Problem 1 :  fork, exec, waitの練習</font>\n",
    "以下を行うプログラムを書け\n",
    "\n",
    "1. 時刻をナノ秒単位で取得($t_0$とする)\n",
    "2. 以下を多数回($n$回)繰り返す\n",
    " * 子プロセスをforkする\n",
    "  * 子プロセスはただちに ./do_nothing という, 何もしないプログラムをexecする\n",
    "  * 親プロセスはただちに子プロセスの終了をwaitする\n",
    "3. 時刻をナノ秒単位で取得($t_1$とする)\n",
    "4. 1回あたりの時間($(t_1 - t_0)/n$) をナノ秒単位で出力\n",
    "\n",
    "* do_nothingは以下のような, 何もしないプログラム"
   ]
  },
  {
   "cell_type": "code",
   "execution_count": null,
   "metadata": {
    "kernel": "Python 3 (ipykernel)",
    "nbgrader": {
     "grade": false,
     "grade_id": "c-002",
     "locked": false,
     "schema_version": 3,
     "solution": false,
     "task": false
    }
   },
   "outputs": [],
   "source": [
    "%%writefile do_nothing.c\n",
    "int main() {\n",
    "  return 0;\n",
    "}"
   ]
  },
  {
   "cell_type": "code",
   "execution_count": null,
   "metadata": {
    "kernel": "Bash",
    "nbgrader": {
     "grade": false,
     "grade_id": "c-003",
     "locked": false,
     "schema_version": 3,
     "solution": false,
     "task": false
    }
   },
   "outputs": [],
   "source": [
    "gcc -Wall do_nothing.c -o do_nothing"
   ]
  },
  {
   "cell_type": "markdown",
   "metadata": {
    "deletable": false,
    "editable": false,
    "kernel": "SoS",
    "nbgrader": {
     "cell_type": "markdown",
     "checksum": "5f8b43451512a2ca237946644c8b34a2",
     "grade": false,
     "grade_id": "c-004",
     "locked": true,
     "schema_version": 3,
     "solution": false,
     "task": false
    }
   },
   "source": [
    "* $n$はコマンドラインから取得できるようにする\n",
    "* 以下のコードを修正して上記を達成せよ"
   ]
  },
  {
   "cell_type": "code",
   "execution_count": null,
   "metadata": {
    "kernel": "Python 3 (ipykernel)",
    "nbgrader": {
     "grade": false,
     "grade_id": "c-005",
     "locked": false,
     "schema_version": 3,
     "solution": false,
     "task": false
    }
   },
   "outputs": [],
   "source": [
    "%%writefile time_fork_exec_wait_ans.c\n",
    "#include <err.h>\n",
    "#include <stdio.h>\n",
    "#include <stdlib.h>\n",
    "#include <unistd.h>\n",
    "#include <time.h>\n",
    "#include <sys/types.h>\n",
    "#include <sys/wait.h>\n",
    "\n",
    "long cur_time() {\n",
    "  struct timespec ts[1];\n",
    "  clock_gettime(CLOCK_REALTIME, ts);\n",
    "  return ts->tv_sec * 1000000000L + ts->tv_nsec;\n",
    "}\n",
    "\n",
    "int main(int argc, char ** argv) {\n",
    "  int n = (argc > 1 ? atoi(argv[1]) : 5);\n",
    "  long t0 = cur_time();\n",
    "  for (int i = 0; i < n; i++) {\n",
    "    pid_t pid = fork();           /* 現プロセスをコピー */\n",
    "    if (pid == -1) {\n",
    "      err(1, \"fork\");\n",
    "    } else if (pid == 0) {        /* 新しいプロセス(子プロセス) */\n",
    "      char * const argv[] = { \"./do_nothing\", 0 };\n",
    "      execvp(argv[0], argv);\n",
    "      err(1, \"execve\");\n",
    "    } else {\n",
    "      int ws;\n",
    "      pid_t cid = waitpid(pid, &ws, 0);\n",
    "      if (cid == -1) err(1, \"waitpid\");\n",
    "    }\n",
    "  }\n",
    "  long t1 = cur_time();\n",
    "  long dt = t1 - t0;\n",
    "  printf(\"%ld nsec to fork-exec-wait %d processes (%ld nsec/proc)\\n\",\n",
    "         dt, n, dt / n);\n",
    "  return 0;\n",
    "}"
   ]
  },
  {
   "cell_type": "code",
   "execution_count": null,
   "metadata": {
    "kernel": "Bash",
    "nbgrader": {
     "grade": false,
     "grade_id": "c-006",
     "locked": false,
     "schema_version": 3,
     "solution": false,
     "task": false
    }
   },
   "outputs": [],
   "source": [
    "gcc -Wall time_fork_exec_wait_ans.c -o time_fork_exec_wait_ans"
   ]
  },
  {
   "cell_type": "markdown",
   "metadata": {
    "deletable": false,
    "editable": false,
    "kernel": "SoS",
    "nbgrader": {
     "cell_type": "markdown",
     "checksum": "5cfeab8bc3e595b4e68dc4b265cb14b2",
     "grade": false,
     "grade_id": "c-007",
     "locked": true,
     "schema_version": 3,
     "solution": false,
     "task": false
    }
   },
   "source": [
    "* 以下のコマンドラインを色々変更して, 1回あたりの時間を計測せよ\n",
    "* これは概ね, fork + exec + exit + wait の時間 (プログラムを起動して終了するまでにかかる最小の時間)を計測していることに相当する\n",
    "* 正しく動いているかを確認するために, do_nothingで何かをprintするとか, time_fork_exec_wait中でwaitpidの結果を表示するようにせよ\n",
    "* 時間を計測するときはそれらの表示を消すこと(消さないと, 測っているのは出力時間が大半を占めることになる)"
   ]
  },
  {
   "cell_type": "code",
   "execution_count": null,
   "metadata": {
    "kernel": "Bash",
    "nbgrader": {
     "grade": false,
     "grade_id": "c-008",
     "locked": false,
     "schema_version": 3,
     "solution": false,
     "task": false
    }
   },
   "outputs": [],
   "source": [
    "./time_fork_exec_wait_ans 10"
   ]
  },
  {
   "cell_type": "markdown",
   "metadata": {
    "deletable": false,
    "editable": false,
    "kernel": "SoS",
    "nbgrader": {
     "cell_type": "markdown",
     "checksum": "98f870501fb76ec2c0c81318d3b1c397",
     "grade": false,
     "grade_id": "c-009",
     "locked": true,
     "schema_version": 3,
     "solution": false,
     "task": false
    }
   },
   "source": [
    "* 子プロセスが do_nothing を exec する代わりに, 直ちにexit した場合の時間(fork + wait の時間)も計測せよ"
   ]
  },
  {
   "cell_type": "code",
   "execution_count": null,
   "metadata": {
    "kernel": "Python 3 (ipykernel)",
    "nbgrader": {
     "grade": false,
     "grade_id": "c-010",
     "locked": false,
     "schema_version": 3,
     "solution": false,
     "task": false
    }
   },
   "outputs": [],
   "source": [
    "%%writefile time_fork_exit_wait_ans.c\n",
    "#include <err.h>\n",
    "#include <stdio.h>\n",
    "#include <stdlib.h>\n",
    "#include <unistd.h>\n",
    "#include <time.h>\n",
    "#include <sys/types.h>\n",
    "#include <sys/wait.h>\n",
    "\n",
    "long cur_time() {\n",
    "  struct timespec ts[1];\n",
    "  clock_gettime(CLOCK_REALTIME, ts);\n",
    "  return ts->tv_sec * 1000000000L + ts->tv_nsec;\n",
    "}\n",
    "\n",
    "int main(int argc, char ** argv) {\n",
    "  int n = (argc > 1 ? atoi(argv[1]) : 5);\n",
    "  long t0 = cur_time();\n",
    "  for (int i = 0; i < n; i++) {\n",
    "    pid_t pid = fork();           /* 現プロセスをコピー */\n",
    "    if (pid == -1) {\n",
    "      err(1, \"fork\");\n",
    "    } else if (pid == 0) {        /* 新しいプロセス(子プロセス) */\n",
    "      exit(0);\n",
    "    } else {\n",
    "      int ws;\n",
    "      pid_t cid = waitpid(pid, &ws, 0);\n",
    "      if (cid == -1) err(1, \"waitpid\");\n",
    "    }\n",
    "  }\n",
    "  long t1 = cur_time();\n",
    "  long dt = t1 - t0;\n",
    "  printf(\"%ld nsec to fork-wait %d processes (%ld nsec/proc)\\n\",\n",
    "         dt, n, dt / n);\n",
    "  return 0;\n",
    "}"
   ]
  },
  {
   "cell_type": "code",
   "execution_count": null,
   "metadata": {
    "kernel": "Bash",
    "nbgrader": {
     "grade": false,
     "grade_id": "c-011",
     "locked": false,
     "schema_version": 3,
     "solution": false,
     "task": false
    }
   },
   "outputs": [],
   "source": [
    "gcc -Wall time_fork_exit_wait_ans.c -o time_fork_exit_wait_ans"
   ]
  },
  {
   "cell_type": "code",
   "execution_count": null,
   "metadata": {
    "kernel": "Bash",
    "nbgrader": {
     "grade": false,
     "grade_id": "c-012",
     "locked": false,
     "schema_version": 3,
     "solution": false,
     "task": false
    }
   },
   "outputs": [],
   "source": [
    "./time_fork_exit_wait_ans 10"
   ]
  }
 ],
 "metadata": {
  "kernelspec": {
   "display_name": "SoS",
   "language": "sos",
   "name": "sos"
  },
  "language_info": {
   "codemirror_mode": "sos",
   "file_extension": ".sos",
   "mimetype": "text/x-sos",
   "name": "sos",
   "nbconvert_exporter": "sos_notebook.converter.SoS_Exporter",
   "pygments_lexer": "sos"
  },
  "sos": {
   "kernels": [
    [
     "Bash",
     "bash",
     "bash",
     "",
     "shell"
    ],
    [
     "C",
     "c_kernel",
     "c",
     "",
     ""
    ],
    [
     "Go",
     "gophernotes",
     "go",
     "",
     ""
    ],
    [
     "Julia 1.4.1",
     "julia-1.4",
     "julia",
     "",
     ""
    ],
    [
     "OCaml default",
     "ocaml-jupyter",
     "OCaml",
     "",
     "text/x-ocaml"
    ],
    [
     "Python 3 (ipykernel)",
     "python3",
     "python3",
     "",
     {
      "name": "ipython",
      "version": 3
     }
    ],
    [
     "Rust",
     "rust",
     "rust",
     "",
     ""
    ]
   ],
   "panel": {
    "displayed": true,
    "height": 0
   },
   "version": "0.23.3"
  }
 },
 "nbformat": 4,
 "nbformat_minor": 4
}
