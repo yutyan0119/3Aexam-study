{
 "cells": [
  {
   "cell_type": "markdown",
   "metadata": {
    "deletable": false,
    "editable": false,
    "kernel": "SoS",
    "nbgrader": {
     "cell_type": "markdown",
     "checksum": "ffa42b155cf8078908f24d76e7f17ed2",
     "grade": false,
     "grade_id": "c-001",
     "locked": true,
     "schema_version": 3,
     "solution": false,
     "task": false
    }
   },
   "source": [
    "\n",
    "#  オペレーティングシステム 演習環境\n",
    "#  Operating Systems Hands-on Environment"
   ]
  },
  {
   "cell_type": "markdown",
   "metadata": {
    "kernel": "SoS",
    "nbgrader": {
     "grade": false,
     "grade_id": "c-002",
     "locked": false,
     "schema_version": 3,
     "solution": false,
     "task": false
    }
   },
   "source": [
    "\n",
    "名前と学生証番号を書け. Enter your name and student ID.\n",
    "\n",
    " * 名前 Name:\n",
    " * 学生証番号 Student ID:\n"
   ]
  },
  {
   "cell_type": "markdown",
   "metadata": {
    "deletable": false,
    "editable": false,
    "kernel": "SoS",
    "nbgrader": {
     "cell_type": "markdown",
     "checksum": "bb2c51cf6895d3123a7c0ef38f0a89b6",
     "grade": false,
     "grade_id": "c-003",
     "locked": true,
     "schema_version": 3,
     "solution": false,
     "task": false
    }
   },
   "source": [
    "\n",
    "# 1. このnotebookの使い方 / How this notebook works"
   ]
  },
  {
   "cell_type": "markdown",
   "metadata": {
    "deletable": false,
    "editable": false,
    "kernel": "SoS",
    "nbgrader": {
     "cell_type": "markdown",
     "checksum": "ed8461bb1e46cd045163e30dd9a33547",
     "grade": false,
     "grade_id": "c-004",
     "locked": true,
     "schema_version": 3,
     "solution": false,
     "task": false
    }
   },
   "source": [
    "\n",
    "## 1-1. Pythonプログラムのセル\n",
    "* SHIFT + Enter で実行\n",
    "\n",
    "\n",
    "* Execute by SHIFT + Enter\n"
   ]
  },
  {
   "cell_type": "code",
   "execution_count": null,
   "metadata": {
    "kernel": "Python 3 (ipykernel)",
    "nbgrader": {
     "grade": false,
     "grade_id": "c-005",
     "locked": false,
     "schema_version": 3,
     "solution": false,
     "task": false
    }
   },
   "outputs": [],
   "source": [
    "# a Python cell\n",
    "def f(x):\n",
    "    return x + 1\n",
    "\n",
    "f(10)"
   ]
  },
  {
   "cell_type": "markdown",
   "metadata": {
    "deletable": false,
    "editable": false,
    "kernel": "SoS",
    "nbgrader": {
     "cell_type": "markdown",
     "checksum": "0438fa9c7f260f45a10f20859c25e89a",
     "grade": false,
     "grade_id": "c-006",
     "locked": true,
     "schema_version": 3,
     "solution": false,
     "task": false
    }
   },
   "source": [
    "## 1-2. Cプログラムのセル\n",
    "* `%%writefile ファイル名`  で始まる\n",
    "* Python のセルだがCプログラム(実際は任意の文字列)が書かれている\n",
    "* SHIFT + Enter で, 内容がファイルに保存される(実行はされない)\n",
    "\n",
    "\n",
    "* begins with `%%writefile filename`\n",
    "* it is a Python code cell, but in fact has a C program (any string, for that matter)\n",
    "* SHIFT + Enter saves the contents into the specified file (does not execute it)"
   ]
  },
  {
   "cell_type": "code",
   "execution_count": null,
   "metadata": {
    "kernel": "Python 3 (ipykernel)",
    "nbgrader": {
     "grade": false,
     "grade_id": "c-007",
     "locked": false,
     "schema_version": 3,
     "solution": false,
     "task": false
    }
   },
   "outputs": [],
   "source": [
    "%%writefile hello.c\n",
    "/* a C cell */\n",
    "#include <stdio.h>\n",
    "int main() {\n",
    "    printf(\"hello\\n\");\n",
    "    return 0;\n",
    "}"
   ]
  },
  {
   "cell_type": "markdown",
   "metadata": {
    "deletable": false,
    "editable": false,
    "kernel": "SoS",
    "nbgrader": {
     "cell_type": "markdown",
     "checksum": "00c65053180866e068d39a70b9531810",
     "grade": false,
     "grade_id": "c-008",
     "locked": true,
     "schema_version": 3,
     "solution": false,
     "task": false
    }
   },
   "source": [
    "## 1-3. bash (コマンド) のセル\n",
    "* Linuxのコマンドを実行できる\n",
    "* ただしバグがあって, 出力が正しく出ないことがある(おかしいなと思ったら何度か実行してみてください)\n",
    "\n",
    "\n",
    "* can run any Linux command\n",
    "* it seems to have a bug that drops the output (when in doubt, execute it again)\n"
   ]
  },
  {
   "cell_type": "code",
   "execution_count": null,
   "metadata": {
    "kernel": "Bash",
    "nbgrader": {
     "grade": false,
     "grade_id": "c-009",
     "locked": false,
     "schema_version": 3,
     "solution": false,
     "task": false
    }
   },
   "outputs": [],
   "source": [
    "ls"
   ]
  },
  {
   "cell_type": "markdown",
   "metadata": {
    "deletable": false,
    "editable": false,
    "kernel": "SoS",
    "nbgrader": {
     "cell_type": "markdown",
     "checksum": "d04fc5439cf17f13ebc9aeef72713e0b",
     "grade": false,
     "grade_id": "c-010",
     "locked": true,
     "schema_version": 3,
     "solution": false,
     "task": false
    }
   },
   "source": [
    "\n",
    "# 2. Jupyter 端末環境 / Jupyter Terminals\n",
    "* Jupyterの典型的な環境はプログラムを書いてそれを実行するというものだが, 任意のコマンドを実行できる環境(端末)も用意されている\n",
    "\n",
    "\n",
    "* A typical Jupyter environment executes programs of a programming language.  There is, however, an environment to execute arbitrary commands (terminal)\n",
    "\n",
    "\n",
    "* メニュー直下の「+」アイコンをクリックしてlauncherを表示\n",
    "* Terminal を選ぶとコマンドラインが開く\n",
    "* 使いたくなるかも知れない場面\n",
    "  * man pageを閲覧する\n",
    "  * 暴走して, reset ボタンを押しても止まらないプログラムを kill コマンドで殺す\n",
    "* ただしそれをやりたいなら SSH ログインをマスターする方がきっと良い\n",
    "* SSHログインのやり方は, [Jupyter環境の使い方](https://www.eidos.ic.i.u-tokyo.ac.jp/~tau/lecture/operating_systems/html/jupyter.html)を参照\n",
    "\n",
    "* click the \"+\" icon right below the menu to show the launcher page\n",
    "* select \"Terminal\" to open the command line terminal\n",
    "* some circumstances in which you want to use it\n",
    "  * you browse a man page\n",
    "  * use kill command to terminate a program that does not stop with the reset button\n",
    "* to do them, however, you probably want to master SSH login described below instead\n",
    "* see [How to access Jupyter environment](https://www.eidos.ic.i.u-tokyo.ac.jp/~tau/lecture/operating_systems/html/jupyter.html?lang=en) for how to set up SSH"
   ]
  }
 ],
 "metadata": {
  "kernelspec": {
   "display_name": "SoS",
   "language": "sos",
   "name": "sos"
  },
  "language_info": {
   "codemirror_mode": "sos",
   "file_extension": ".sos",
   "mimetype": "text/x-sos",
   "name": "sos",
   "nbconvert_exporter": "sos_notebook.converter.SoS_Exporter",
   "pygments_lexer": "sos"
  },
  "sos": {
   "kernels": [
    [
     "Bash",
     "bash",
     "bash",
     "",
     "shell"
    ],
    [
     "C",
     "c_kernel",
     "c",
     "",
     ""
    ],
    [
     "Go",
     "gophernotes",
     "go",
     "",
     ""
    ],
    [
     "Julia 1.4.1",
     "julia-1.4",
     "julia",
     "",
     ""
    ],
    [
     "OCaml default",
     "ocaml-jupyter",
     "OCaml",
     "",
     "text/x-ocaml"
    ],
    [
     "Python 3 (ipykernel)",
     "python3",
     "python3",
     "",
     {
      "name": "ipython",
      "version": 3
     }
    ],
    [
     "Rust",
     "rust",
     "rust",
     "",
     ""
    ]
   ],
   "panel": {
    "displayed": true,
    "height": 0
   },
   "version": "0.23.3"
  }
 },
 "nbformat": 4,
 "nbformat_minor": 4
}
